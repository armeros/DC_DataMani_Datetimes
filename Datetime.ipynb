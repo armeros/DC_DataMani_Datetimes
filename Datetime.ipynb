{
  "nbformat": 4,
  "nbformat_minor": 0,
  "metadata": {
    "colab": {
      "name": "Datetime",
      "provenance": []
    },
    "kernelspec": {
      "name": "python3",
      "display_name": "Python 3"
    },
    "language_info": {
      "name": "python"
    }
  },
  "cells": [
    {
      "cell_type": "markdown",
      "metadata": {
        "id": "4Zr3eWiHR5hq"
      },
      "source": [
        "# **Create Date Object**\n",
        "\n",
        "## **Which day of the week?**\n",
        "\n",
        "0 = Monday\n",
        "1 = Tuesday\n",
        "...\n",
        "6 = Sunday"
      ]
    },
    {
      "cell_type": "code",
      "metadata": {
        "colab": {
          "base_uri": "https://localhost:8080/"
        },
        "id": "QhjQu2EHmAs3",
        "outputId": "75e2a248-b0f0-43f2-a437-a163836de419"
      },
      "source": [
        "# Import date from datetime\n",
        "from datetime import date\n",
        "\n",
        "# Create a date object\n",
        "hurricane_andrew = date(1992, 8, 24)\n",
        "\n",
        "# Which day of the week is the date?\n",
        "print(hurricane_andrew.weekday())"
      ],
      "execution_count": null,
      "outputs": [
        {
          "output_type": "stream",
          "name": "stdout",
          "text": [
            "0\n"
          ]
        }
      ]
    },
    {
      "cell_type": "markdown",
      "metadata": {
        "id": "FsA964g-TM2m"
      },
      "source": [
        "## **How many hurricanes come early?**\n",
        "\n",
        "Atlantic hurricane season officially begins on June 1. How many hurricanes since 1950 have made landfall in Florida before the official start of hurricane season?\n",
        "\n",
        "* Complete the for loop to iterate through `florida_hurricane_dates`.\n",
        "* Complete the `if` statement to increment the counter (`early_hurricanes`) if the hurricane made landfall before June."
      ]
    },
    {
      "cell_type": "code",
      "metadata": {
        "colab": {
          "base_uri": "https://localhost:8080/",
          "height": 187
        },
        "id": "WgUZ9pSLS2a8",
        "outputId": "22074555-c46b-4dbf-c9b6-daf969765220"
      },
      "source": [
        "import pandas as pd\n",
        "\n",
        "florida_hurricane_dates = pd.read_pickle(\"florida_hurricane_dates.pkl\")\n",
        "florida_hurricane_dates = sorted(florida_hurricane_dates)\n",
        "print(\"florida_hurricane_dates[:5]\\n\")\n",
        "display(florida_hurricane_dates[:5])\n",
        "\n",
        "# Counter for how many before June 1\n",
        "early_hurricanes = 0\n",
        "\n",
        "# We loop over the dates\n",
        "for hurricane in florida_hurricane_dates:\n",
        "  # Check if the month is before June (month number 6)\n",
        "  if hurricane.month < 6:\n",
        "    early_hurricanes = early_hurricanes + 1\n",
        "    \n",
        "print(\"\\n\\nearly_hurricanes = \", early_hurricanes)"
      ],
      "execution_count": 2,
      "outputs": [
        {
          "output_type": "stream",
          "name": "stdout",
          "text": [
            "florida_hurricane_dates[:5]\n",
            "\n"
          ]
        },
        {
          "output_type": "display_data",
          "data": {
            "text/plain": [
              "[datetime.date(1950, 8, 31),\n",
              " datetime.date(1950, 9, 5),\n",
              " datetime.date(1950, 10, 18),\n",
              " datetime.date(1950, 10, 21),\n",
              " datetime.date(1951, 5, 18)]"
            ]
          },
          "metadata": {}
        },
        {
          "output_type": "stream",
          "name": "stdout",
          "text": [
            "\n",
            "\n",
            "early_hurricanes =  10\n"
          ]
        }
      ]
    },
    {
      "cell_type": "markdown",
      "metadata": {
        "id": "rdeY6mBXdgpZ"
      },
      "source": [
        "# **Subtracting dates**\n",
        "Python date objects let us treat calendar dates as something similar to numbers: we can compare them, sort them, add, and even subtract them. This lets us do math with dates in a way that would be a pain to do by hand.\n",
        "\n",
        "The 2007 Florida hurricane season was one of the busiest on record, with 8 hurricanes in one year. The first one hit on May 9th, 2007, and the last one hit on December 13th, 2007. How many days elapsed between the first and last hurricane in 2007?\n",
        "\n",
        "\n",
        "* Create a `date` object for May 9th, 2007, and assign it to the `start` variable.\n",
        "* Create a `date` object for December 13th, 2007, and assign it to the `end` variable.\n",
        "* Subtract `start` from `end`, to print the number of days in the resulting `timedelta` object."
      ]
    },
    {
      "cell_type": "code",
      "metadata": {
        "id": "aKnWt7RJTy3v",
        "colab": {
          "base_uri": "https://localhost:8080/"
        },
        "outputId": "05001aeb-36d6-4d44-9a47-97eac47315c9"
      },
      "source": [
        "# Import date\n",
        "from datetime import date\n",
        "\n",
        "# Create a date object for May 9th, 2007\n",
        "start = date(2007, 5, 9)\n",
        "print(\"start = \", start)\n",
        "\n",
        "# Create a date object for December 13th, 2007\n",
        "end = date(2007, 12, 13)\n",
        "print(\"end = \", end)\n",
        "\n",
        "# Subtract the two dates and print the number of days\n",
        "print(f\"(end - start).days = {(end - start).days}\")"
      ],
      "execution_count": 5,
      "outputs": [
        {
          "output_type": "stream",
          "name": "stdout",
          "text": [
            "start =  2007-05-09\n",
            "end =  2007-12-13\n",
            "(end - start).days = 218\n"
          ]
        }
      ]
    },
    {
      "cell_type": "markdown",
      "metadata": {
        "id": "kD4yrn2ehABi"
      },
      "source": [
        "Be careful using this technique for historical dates hundreds of years in the past. Our calendar systems have changed over time, and not every date from then would be the same day and month today.\n",
        "\n",
        "# **Counting events per calendar month**\n",
        "\n",
        "Hurricanes can make landfall in Florida throughout the year. As we've already discussed, some months are more hurricane-prone than others.\n",
        "\n",
        "Using `florida_hurricane_dates`, let's see how hurricanes in Florida were distributed across months throughout the year.\n",
        "\n",
        "We've created a dictionary called `hurricanes_each_month` to hold your counts and set the initial counts to zero. You will loop over the list of hurricanes, incrementing the correct month in hurricanes_each_month as you go, and then print the result.\n",
        "\n",
        "Within the for loop:\n",
        "* Assign `month` to be the month of that hurricane.\n",
        "* Increment `hurricanes_each_month` for the relevant month by `1`.\n"
      ]
    },
    {
      "cell_type": "code",
      "metadata": {
        "colab": {
          "base_uri": "https://localhost:8080/"
        },
        "id": "INKOSii-fIWO",
        "outputId": "2b6d0b16-6d87-4c84-9dda-eb601fbb898d"
      },
      "source": [
        "import pandas as pd\n",
        "\n",
        "florida_hurricane_dates = pd.read_pickle(\"florida_hurricane_dates.pkl\")\n",
        "\n",
        "# A dictionary to count hurricanes per calendar month\n",
        "hurricanes_each_month = {1: 0, 2: 0, 3: 0, 4: 0, 5: 0, 6:0, 7: 0, 8:0, 9:0, 10:0, 11:0, 12:0}\n",
        "\n",
        "# Loop over all hurricanes\n",
        "for hurricane in florida_hurricane_dates:\n",
        "    # Pull out the month\n",
        "    month = hurricane.month\n",
        "    # Increment the count in your dictionary by one\n",
        "    hurricanes_each_month[month] += 1\n",
        "  \n",
        "print(hurricanes_each_month)"
      ],
      "execution_count": 1,
      "outputs": [
        {
          "output_type": "stream",
          "name": "stdout",
          "text": [
            "{1: 0, 2: 1, 3: 0, 4: 1, 5: 8, 6: 32, 7: 21, 8: 49, 9: 70, 10: 43, 11: 9, 12: 1}\n"
          ]
        }
      ]
    },
    {
      "cell_type": "markdown",
      "metadata": {
        "id": "-X1XgGzGisvo"
      },
      "source": [
        "# **Putting a list of dates in order**\n",
        "\n",
        "Much like numbers and strings, `date` objects in Python can be put in order. Earlier dates come before later ones, and so we can sort a list of date objects from earliest to latest.\n",
        "\n",
        "What if our Florida hurricane dates had been scrambled? We've gone ahead and shuffled them so they're in random order and saved the results as `florida_hurricane_dates`. Your job is to put them back in chronological order, and then print the first and last dates from this sorted list.\n",
        "\n",
        "* Print the first and last dates in `florida_hurricane_dates`.\n",
        "\n",
        "* Sort `florida_hurricane_dates` using Python's built-in `sorted()` method, and save the results to `florida_hurricane_dates_ordered`.\n",
        "* Print the first and last dates in `florida_hurricane_dates_ordered`."
      ]
    },
    {
      "cell_type": "code",
      "metadata": {
        "colab": {
          "base_uri": "https://localhost:8080/"
        },
        "id": "Hnf88jMYiTIF",
        "outputId": "556a8a51-b4a8-4ced-af96-1627db80962c"
      },
      "source": [
        "import pandas as pd\n",
        "\n",
        "florida_hurricane_dates = pd.read_pickle(\"florida_hurricane_dates.pkl\")\n",
        "\n",
        "for d in florida_hurricane_dates[:5]:\n",
        "    print(d)\n",
        "\n",
        "# Put the dates in order\n",
        "dates_ordered = sorted(florida_hurricane_dates)\n",
        "\n",
        "# Print the first and last ordered dates\n",
        "print(\"\\n\\nAfter sorting\\n\")\n",
        "for d in dates_ordered[:5]:\n",
        "    print(d)"
      ],
      "execution_count": 9,
      "outputs": [
        {
          "output_type": "stream",
          "name": "stdout",
          "text": [
            "1988-08-04\n",
            "1990-10-12\n",
            "2003-04-20\n",
            "1971-09-01\n",
            "1988-08-23\n",
            "\n",
            "\n",
            "After sorting\n",
            "\n",
            "1950-08-31\n",
            "1950-09-05\n",
            "1950-10-18\n",
            "1950-10-21\n",
            "1951-05-18\n"
          ]
        }
      ]
    },
    {
      "cell_type": "markdown",
      "metadata": {
        "id": "AIhJrA7SpZiC"
      },
      "source": [
        "# **Printing dates in a friendly format**\n",
        "\n",
        "Because people may want to see dates in many different formats, Python comes with very flexible functions for turning date objects into strings.\n",
        "\n",
        "Let's see what event was recorded first in the Florida hurricane data set. In this exercise, you will format the earliest date in the `florida_hurriance_dates` list in two ways so you can decide which one you want to use: either the ISO standard or the typical US style.\n",
        "\n",
        "* Assign the earliest date in `florida_hurricane_dates` to `first_date`.\n",
        "* Print `first_date` in the ISO standard. For example, December 1st, 2000 would be `\"2000-12-01\"`.\n",
        "* Print `first_date` in the US style, using `.strftime()`. For example, December 1st, 2000 would be `\"12/1/2000\"` ."
      ]
    },
    {
      "cell_type": "code",
      "metadata": {
        "colab": {
          "base_uri": "https://localhost:8080/"
        },
        "id": "voyX45LCioiN",
        "outputId": "e28859ae-1428-4461-ab2f-85de1494eff6"
      },
      "source": [
        "# Assign the earliest date to first_date\n",
        "first_date = min(florida_hurricane_dates)\n",
        "\n",
        "# Convert to ISO and US formats\n",
        "iso = \"Our earliest hurricane date: \" + first_date.isoformat()\n",
        "us = \" Our earliest hurricane date: \" + first_date.strftime(\"%m/%d/%Y\")\n",
        "\n",
        "print(\"ISO: \" + iso)\n",
        "print(\"US: \" + us)"
      ],
      "execution_count": 11,
      "outputs": [
        {
          "output_type": "stream",
          "name": "stdout",
          "text": [
            "ISO: Our earliest hurricane date: 1950-08-31\n",
            "US:  Our earliest hurricane date: 08/31/1950\n"
          ]
        }
      ]
    },
    {
      "cell_type": "markdown",
      "metadata": {
        "id": "pCH498tNqcsZ"
      },
      "source": [
        "# **Representing dates in different ways**\n",
        "\n",
        "`date` objects in Python have a great number of ways they can be printed out as strings. In some cases, you want to know the date in a clear, language-agnostic format. In other cases, you want something which can fit into a paragraph and flow naturally.\n",
        "\n",
        "Let's try printing out the same date, August 26, 1992, in a number of different ways, to practice using the .`strftime()` method.\n",
        "\n",
        "* Print andrew in the format `'YYYY-MM'`.\n",
        "\n",
        "* Print andrew in the format `'MONTH (YYYY)'`, using `%B` for the month's full name, which in this case will be August.\n",
        "\n",
        "* Print andrew in the format `'YYYY-DDD'` (where DDD is the day of the year) using `%j`."
      ]
    },
    {
      "cell_type": "code",
      "metadata": {
        "colab": {
          "base_uri": "https://localhost:8080/"
        },
        "id": "8U6GoN8WqTfw",
        "outputId": "7ea5ca44-4e1b-4368-b382-33c043b06304"
      },
      "source": [
        "# Import date\n",
        "from datetime import date\n",
        "\n",
        "# Create a date object\n",
        "andrew = date(1992, 8, 26)\n",
        "\n",
        "print(\"andrew.strftme('%Y-%m')\")\n",
        "print(andrew.strftime('%Y-%m'))\n",
        "\n",
        "# Print the date in the format 'MONTH (YYYY)'\n",
        "print(\"\\nandrew.strftime('%B (%Y)')\")\n",
        "print(andrew.strftime('%B (%Y)'))\n",
        "\n",
        "# Print the date in the format 'YYYY-DDD'\n",
        "print(\"\\nandrew.strftime('%Y-%j')\")\n",
        "print(andrew.strftime('%Y-%j'))"
      ],
      "execution_count": 18,
      "outputs": [
        {
          "output_type": "stream",
          "name": "stdout",
          "text": [
            "andrew.strftme('%Y-%m')\n",
            "1992-08\n",
            "\n",
            "andrew.strftime('%B (%Y)')\n",
            "August (1992)\n",
            "\n",
            "andrew.strftime('%Y-%j')\n",
            "1992-239\n"
          ]
        }
      ]
    },
    {
      "cell_type": "markdown",
      "metadata": {
        "id": "NkUUDs-RxTyU"
      },
      "source": [
        "# **Creating datetimes by hand**\n",
        "\n",
        "Often you create `datetime` objects based on outside data. Sometimes though, you want to create a `datetime` object from scratch.\n",
        "\n",
        "You're going to create a few different `datetime` objects from scratch to get the hang of that process. \n",
        "\n",
        "\n",
        "* Create a `datetime` for October 1, 2017 at 15:26:26.\n",
        "* Print the results in ISO format.\n",
        "\n",
        "* Create a `datetime` for December 31, 2017 at 15:19:13.\n",
        "* Print the results in ISO format.\n",
        "\n",
        "* Create a new `datetime` by replacing the year in `dt` with 1917 (instead of 2017)"
      ]
    },
    {
      "cell_type": "code",
      "metadata": {
        "colab": {
          "base_uri": "https://localhost:8080/"
        },
        "id": "D49lsILerZKg",
        "outputId": "e7f90175-7cda-48ab-ebff-2af2e6e8572f"
      },
      "source": [
        "# Import datetime\n",
        "from datetime import datetime\n",
        "\n",
        "# Create a datetime object\n",
        "dt = datetime(2017, 10, 1, 15, 26, 26)\n",
        "\n",
        "# Print the results in ISO 8601 format\n",
        "print(\"datetime(2017, 10, 1, 15, 26, 26).isoformat()\")\n",
        "print(dt.isoformat())\n",
        "\n",
        "# Create a datetime object\n",
        "dt = datetime(2017, 12, 31, 15, 19, 13)\n",
        "\n",
        "# Print the results in ISO 8601 format\n",
        "print(\"\\ndatetime(2017, 12, 31, 15, 19, 13)\")\n",
        "print(dt.isoformat())\n",
        "\n",
        "# Replace the year with 1917\n",
        "dt_old = dt.replace(year=1917)\n",
        "\n",
        "# Print the results in ISO 8601 format\n",
        "print(\"\\n\\ndatetime(2017, 12, 31, 15, 19, 13).replace(year=1917)\")\n",
        "print(dt_old)"
      ],
      "execution_count": 22,
      "outputs": [
        {
          "output_type": "stream",
          "name": "stdout",
          "text": [
            "datetime(2017, 10, 1, 15, 26, 26).isoformat()\n",
            "2017-10-01T15:26:26\n",
            "\n",
            "datetime(2017, 12, 31, 15, 19, 13)\n",
            "2017-12-31T15:19:13\n",
            "\n",
            "\n",
            "datetime(2017, 12, 31, 15, 19, 13).replace(year=1917)\n",
            "1917-12-31 15:19:13\n"
          ]
        }
      ]
    },
    {
      "cell_type": "markdown",
      "metadata": {
        "id": "1j5oCKy8y4O5"
      },
      "source": [
        "# **Counting events before and after noon**\n",
        "\n",
        "In this chapter, you will be working with a list of all bike trips for one Capital Bikeshare bike, W20529, from October 1, 2017 to December 31, 2017. This list has been loaded as `onebike_datetimes`.\n",
        "\n",
        "Each element of the list is a dictionary with two entries: `start` is a datetime object corresponding to the start of a trip (when a bike is removed from the dock) and `end` is a datetime object corresponding to the end of a trip (when a bike is put back into a dock).\n",
        "\n",
        "* Within the `for` loop, complete the `if` statement to check if the trip started before noon.\n",
        "* Within the for loop, increment `trip_counts['AM']` if the trip started before noon, and `trip_counts['PM']` if it started after noon."
      ]
    },
    {
      "cell_type": "code",
      "metadata": {
        "colab": {
          "base_uri": "https://localhost:8080/"
        },
        "id": "DCi5ZE1zyLPr",
        "outputId": "99a250f5-5736-4486-8759-94ff4e7738b6"
      },
      "source": [
        "import pandas as pd\n",
        "\n",
        "df = pd.read_csv(\"capital-onebike.csv\")[[\"End date\", \"Start date\"]].rename(columns={\"End date\":\"end\", \"Start date\":\"start\"})\n",
        "df[\"end\"] = pd.to_datetime(df[\"end\"])\n",
        "df[\"start\"] = pd.to_datetime(df[\"start\"])\n",
        "onebike_datetimes = df.to_dict(\"records\")\n",
        "\n",
        "print(\"onebike_datetimes\")\n",
        "print(onebike_datetimes[:2])\n",
        "\n",
        "\n",
        "\n",
        "# Create dictionary to hold results\n",
        "trip_counts = {'AM': 0, 'PM': 0}\n",
        "  \n",
        "# Loop over all trips\n",
        "for trip in onebike_datetimes:\n",
        "    # Check to see if the trip starts before noon\n",
        "    if trip['start'].hour < 12:\n",
        "        # Increment the counter for before noon\n",
        "        trip_counts['AM'] += 1\n",
        "    else:\n",
        "        # Increment the counter for after noon\n",
        "        trip_counts['PM'] += 1\n",
        "  \n",
        "print(\"\\n\\n\", trip_counts)"
      ],
      "execution_count": 39,
      "outputs": [
        {
          "output_type": "stream",
          "name": "stdout",
          "text": [
            "onebike_datetimes\n",
            "[{'end': Timestamp('2017-10-01 15:26:26'), 'start': Timestamp('2017-10-01 15:23:25')}, {'end': Timestamp('2017-10-01 17:49:59'), 'start': Timestamp('2017-10-01 15:42:57')}]\n",
            "\n",
            "\n",
            " {'AM': 94, 'PM': 196}\n"
          ]
        }
      ]
    },
    {
      "cell_type": "markdown",
      "metadata": {
        "id": "0QYOqzc72r0z"
      },
      "source": [
        "# **Printing and parsing datetimes**\n",
        "\n",
        "## **Turning strings into datetimes**\n",
        "\n",
        "When you download data from the Internet, dates and times usually come to you as strings. Often the first step is to turn those strings into `datetime` objects.\n",
        "\n",
        "![image.png](data:image/png;base64,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)\n",
        "\n",
        "* Determine the format needed to convert `s` to datetime and assign it to `fmt`.\n",
        "* Convert the string `s` to datetime using `fmt`.\n"
      ]
    },
    {
      "cell_type": "code",
      "metadata": {
        "colab": {
          "base_uri": "https://localhost:8080/"
        },
        "id": "_ollQA7Gzuhv",
        "outputId": "e81e11d1-f8b7-46ec-e24b-16fa264ca250"
      },
      "source": [
        "# Import the datetime class\n",
        "from datetime import datetime\n",
        "\n",
        "# Starting string, in YYYY-MM-DD HH:MM:SS format\n",
        "s = '2017-02-03 00:00:01'\n",
        "\n",
        "# Write a format string to parse s\n",
        "fmt = '%Y-%m-%d %H:%M:%S'\n",
        "\n",
        "# Create a datetime object d\n",
        "d = datetime.strptime(s, fmt)\n",
        "\n",
        "# Print d\n",
        "print(\"datetime.strptime('2017-02-03 00:00:01', '%Y-%m-%d %H:%M:%S')\")\n",
        "print(d)\n",
        "\n",
        "# Starting string, in YYYY-MM-DD format\n",
        "s = '2030-10-15'\n",
        "\n",
        "# Write a format string to parse s\n",
        "fmt = '%Y-%m-%d'\n",
        "\n",
        "# Create a datetime object d\n",
        "d = datetime.strptime('2030-10-15', '%Y-%m-%d')\n",
        "\n",
        "print(\"\\n\\ndatetime.strptime('2030-10-15', '%Y-%m-%d')\")\n",
        "print(d)\n",
        "\n",
        "# Starting string, in MM/DD/YYYY HH:MM:SS format\n",
        "s = '12/15/1986 08:00:00'\n",
        "\n",
        "# Write a format string to parse s\n",
        "fmt = '%m/%d/%Y %H:%M:%S'\n",
        "\n",
        "# Create a datetime object d\n",
        "d = datetime.strptime(s, fmt)\n",
        "\n",
        "# Print d\n",
        "print(\"\\n\\ndatetime.strptime('12/15/1986 08:00:00', '%m/%d/%Y %H:%M:%S')\")\n",
        "print(d)"
      ],
      "execution_count": 46,
      "outputs": [
        {
          "output_type": "stream",
          "name": "stdout",
          "text": [
            "datetime.strptime('2017-02-03 00:00:01', '%Y-%m-%d %H:%M:%S')\n",
            "2017-02-03 00:00:01\n",
            "\n",
            "\n",
            "datetime.strptime('2030-10-15', '%Y-%m-%d')\n",
            "2030-10-15 00:00:00\n",
            "\n",
            "\n",
            "datetime.strptime('12/15/1986 08:00:00', '%m/%d/%Y %H:%M:%S')\n",
            "1986-12-15 08:00:00\n"
          ]
        }
      ]
    },
    {
      "cell_type": "markdown",
      "metadata": {
        "id": "HhdYQu1c7GDj"
      },
      "source": [
        "# **Parsing pairs of strings as datetimes**\n",
        "\n",
        "Up until now, you've been working with a pre-processed list of `datetime`s for W20529's trips. For this exercise, you're going to go one step back in the data cleaning pipeline and work with the strings that the data started as.\n",
        "\n",
        "* Outside the `for` loop, fill out the `fmt` string with the correct parsing format for the data.\n",
        "* Within the `for` loop, parse the `start` and `end` strings into the `trip` dictionary with `start` and `end` keys and `datetime` objects for values."
      ]
    },
    {
      "cell_type": "code",
      "metadata": {
        "colab": {
          "base_uri": "https://localhost:8080/"
        },
        "id": "RUaKAwKx5TlP",
        "outputId": "35f4e5e3-753c-4eb0-b864-da482d943cb7"
      },
      "source": [
        "import pandas as pd \n",
        "\n",
        "df = pd.read_csv(\"capital-onebike.csv\")[[\"Start date\", \"End date\"]].rename(columns={\"End date\":\"end\", \"Start date\":\"start\"})\n",
        "onebike_datetime_strings = []\n",
        "for i in df.values: \n",
        "    onebike_datetime_strings.append(tuple(i))\n",
        "\n",
        "print(\"onebike_datetime_strings\")\n",
        "print(onebike_datetime_strings[0:2])\n",
        "\n",
        "# Write down the format string\n",
        "fmt = \"%Y-%m-%d %H:%M:%S\"\n",
        "\n",
        "# Initialize a list for holding the pairs of datetime objects\n",
        "onebike_datetimes = []\n",
        "\n",
        "# Loop over all trips\n",
        "for (start, end) in onebike_datetime_strings:\n",
        "    trip = {'start': datetime.strptime(start, fmt),\n",
        "            'end': datetime.strptime(end, fmt)}\n",
        "    \n",
        "    # Append the trip\n",
        "    onebike_datetimes.append(trip)\n",
        "print(\"\\n\\nonebike_datetimes.append(trip)\")\n",
        "print(onebike_datetimes)"
      ],
      "execution_count": 59,
      "outputs": [
        {
          "output_type": "stream",
          "name": "stdout",
          "text": [
            "onebike_datetime_strings\n",
            "[('2017-10-01 15:23:25', '2017-10-01 15:26:26'), ('2017-10-01 15:42:57', '2017-10-01 17:49:59')]\n",
            "\n",
            "\n",
            "onebike_datetimes.append(trip)\n",
            "[{'start': datetime.datetime(2017, 10, 1, 15, 23, 25), 'end': datetime.datetime(2017, 10, 1, 15, 26, 26)}, {'start': datetime.datetime(2017, 10, 1, 15, 42, 57), 'end': datetime.datetime(2017, 10, 1, 17, 49, 59)}, {'start': datetime.datetime(2017, 10, 2, 6, 37, 10), 'end': datetime.datetime(2017, 10, 2, 6, 42, 53)}, {'start': datetime.datetime(2017, 10, 2, 8, 56, 45), 'end': datetime.datetime(2017, 10, 2, 9, 18, 3)}, {'start': datetime.datetime(2017, 10, 2, 18, 23, 48), 'end': datetime.datetime(2017, 10, 2, 18, 45, 5)}, {'start': datetime.datetime(2017, 10, 2, 18, 48, 8), 'end': datetime.datetime(2017, 10, 2, 19, 10, 54)}, {'start': datetime.datetime(2017, 10, 2, 19, 18, 10), 'end': datetime.datetime(2017, 10, 2, 19, 31, 45)}, {'start': datetime.datetime(2017, 10, 2, 19, 37, 32), 'end': datetime.datetime(2017, 10, 2, 19, 46, 37)}, {'start': datetime.datetime(2017, 10, 3, 8, 24, 16), 'end': datetime.datetime(2017, 10, 3, 8, 32, 27)}, {'start': datetime.datetime(2017, 10, 3, 18, 17, 7), 'end': datetime.datetime(2017, 10, 3, 18, 27, 46)}, {'start': datetime.datetime(2017, 10, 3, 19, 24, 10), 'end': datetime.datetime(2017, 10, 3, 19, 52, 8)}, {'start': datetime.datetime(2017, 10, 3, 20, 17, 6), 'end': datetime.datetime(2017, 10, 3, 20, 23, 52)}, {'start': datetime.datetime(2017, 10, 3, 20, 45, 21), 'end': datetime.datetime(2017, 10, 3, 20, 57, 10)}, {'start': datetime.datetime(2017, 10, 4, 7, 4, 57), 'end': datetime.datetime(2017, 10, 4, 7, 13, 31)}, {'start': datetime.datetime(2017, 10, 4, 7, 13, 42), 'end': datetime.datetime(2017, 10, 4, 7, 21, 54)}, {'start': datetime.datetime(2017, 10, 4, 14, 22, 12), 'end': datetime.datetime(2017, 10, 4, 14, 50)}, {'start': datetime.datetime(2017, 10, 4, 15, 7, 27), 'end': datetime.datetime(2017, 10, 4, 15, 44, 49)}, {'start': datetime.datetime(2017, 10, 4, 15, 46, 41), 'end': datetime.datetime(2017, 10, 4, 16, 32, 33)}, {'start': datetime.datetime(2017, 10, 4, 16, 34, 44), 'end': datetime.datetime(2017, 10, 4, 16, 46, 59)}, {'start': datetime.datetime(2017, 10, 4, 17, 26, 6), 'end': datetime.datetime(2017, 10, 4, 17, 31, 36)}, {'start': datetime.datetime(2017, 10, 4, 17, 42, 3), 'end': datetime.datetime(2017, 10, 4, 17, 50, 41)}, {'start': datetime.datetime(2017, 10, 5, 7, 49, 2), 'end': datetime.datetime(2017, 10, 5, 8, 12, 55)}, {'start': datetime.datetime(2017, 10, 5, 8, 26, 21), 'end': datetime.datetime(2017, 10, 5, 8, 29, 45)}, {'start': datetime.datetime(2017, 10, 5, 8, 33, 27), 'end': datetime.datetime(2017, 10, 5, 8, 38, 31)}, {'start': datetime.datetime(2017, 10, 5, 16, 35, 35), 'end': datetime.datetime(2017, 10, 5, 16, 51, 52)}, {'start': datetime.datetime(2017, 10, 5, 17, 53, 31), 'end': datetime.datetime(2017, 10, 5, 18, 16, 50)}, {'start': datetime.datetime(2017, 10, 6, 8, 17, 17), 'end': datetime.datetime(2017, 10, 6, 8, 38, 1)}, {'start': datetime.datetime(2017, 10, 6, 11, 39, 40), 'end': datetime.datetime(2017, 10, 6, 11, 50, 38)}, {'start': datetime.datetime(2017, 10, 6, 12, 59, 54), 'end': datetime.datetime(2017, 10, 6, 13, 13, 14)}, {'start': datetime.datetime(2017, 10, 6, 13, 43, 5), 'end': datetime.datetime(2017, 10, 6, 14, 14, 56)}, {'start': datetime.datetime(2017, 10, 6, 14, 28, 15), 'end': datetime.datetime(2017, 10, 6, 15, 9, 26)}, {'start': datetime.datetime(2017, 10, 6, 15, 50, 10), 'end': datetime.datetime(2017, 10, 6, 16, 12, 34)}, {'start': datetime.datetime(2017, 10, 6, 16, 32, 16), 'end': datetime.datetime(2017, 10, 6, 16, 39, 31)}, {'start': datetime.datetime(2017, 10, 6, 16, 44, 8), 'end': datetime.datetime(2017, 10, 6, 16, 48, 39)}, {'start': datetime.datetime(2017, 10, 6, 16, 53, 43), 'end': datetime.datetime(2017, 10, 6, 17, 9, 3)}, {'start': datetime.datetime(2017, 10, 7, 11, 38, 55), 'end': datetime.datetime(2017, 10, 7, 11, 53, 6)}, {'start': datetime.datetime(2017, 10, 7, 14, 3, 36), 'end': datetime.datetime(2017, 10, 7, 14, 7, 5)}, {'start': datetime.datetime(2017, 10, 7, 14, 20, 3), 'end': datetime.datetime(2017, 10, 7, 14, 27, 36)}, {'start': datetime.datetime(2017, 10, 7, 14, 30, 50), 'end': datetime.datetime(2017, 10, 7, 14, 44, 51)}, {'start': datetime.datetime(2017, 10, 8, 0, 28, 26), 'end': datetime.datetime(2017, 10, 8, 0, 30, 48)}, {'start': datetime.datetime(2017, 10, 8, 11, 16, 21), 'end': datetime.datetime(2017, 10, 8, 11, 33, 24)}, {'start': datetime.datetime(2017, 10, 8, 12, 37, 3), 'end': datetime.datetime(2017, 10, 8, 13, 1, 29)}, {'start': datetime.datetime(2017, 10, 8, 13, 30, 37), 'end': datetime.datetime(2017, 10, 8, 13, 57, 53)}, {'start': datetime.datetime(2017, 10, 8, 14, 16, 40), 'end': datetime.datetime(2017, 10, 8, 15, 7, 19)}, {'start': datetime.datetime(2017, 10, 8, 15, 23, 50), 'end': datetime.datetime(2017, 10, 8, 15, 50, 1)}, {'start': datetime.datetime(2017, 10, 8, 15, 54, 12), 'end': datetime.datetime(2017, 10, 8, 16, 17, 42)}, {'start': datetime.datetime(2017, 10, 8, 16, 28, 52), 'end': datetime.datetime(2017, 10, 8, 16, 35, 18)}, {'start': datetime.datetime(2017, 10, 8, 23, 8, 14), 'end': datetime.datetime(2017, 10, 8, 23, 33, 41)}, {'start': datetime.datetime(2017, 10, 8, 23, 34, 49), 'end': datetime.datetime(2017, 10, 8, 23, 45, 11)}, {'start': datetime.datetime(2017, 10, 8, 23, 46, 47), 'end': datetime.datetime(2017, 10, 9, 0, 10, 57)}, {'start': datetime.datetime(2017, 10, 9, 0, 12, 58), 'end': datetime.datetime(2017, 10, 9, 0, 36, 40)}, {'start': datetime.datetime(2017, 10, 9, 0, 37, 2), 'end': datetime.datetime(2017, 10, 9, 0, 53, 33)}, {'start': datetime.datetime(2017, 10, 9, 1, 23, 29), 'end': datetime.datetime(2017, 10, 9, 1, 48, 13)}, {'start': datetime.datetime(2017, 10, 9, 1, 49, 25), 'end': datetime.datetime(2017, 10, 9, 2, 13, 35)}, {'start': datetime.datetime(2017, 10, 9, 2, 14, 11), 'end': datetime.datetime(2017, 10, 9, 2, 29, 40)}, {'start': datetime.datetime(2017, 10, 9, 13, 4, 32), 'end': datetime.datetime(2017, 10, 9, 13, 13, 25)}, {'start': datetime.datetime(2017, 10, 9, 14, 30, 10), 'end': datetime.datetime(2017, 10, 9, 14, 38, 55)}, {'start': datetime.datetime(2017, 10, 9, 15, 6, 47), 'end': datetime.datetime(2017, 10, 9, 15, 11, 30)}, {'start': datetime.datetime(2017, 10, 9, 16, 43, 25), 'end': datetime.datetime(2017, 10, 9, 16, 45, 38)}, {'start': datetime.datetime(2017, 10, 10, 15, 32, 58), 'end': datetime.datetime(2017, 10, 10, 15, 51, 24)}, {'start': datetime.datetime(2017, 10, 10, 16, 47, 55), 'end': datetime.datetime(2017, 10, 10, 17, 3, 47)}, {'start': datetime.datetime(2017, 10, 10, 17, 51, 5), 'end': datetime.datetime(2017, 10, 10, 18, 0, 18)}, {'start': datetime.datetime(2017, 10, 10, 18, 8, 12), 'end': datetime.datetime(2017, 10, 10, 18, 19, 11)}, {'start': datetime.datetime(2017, 10, 10, 19, 9, 35), 'end': datetime.datetime(2017, 10, 10, 19, 14, 32)}, {'start': datetime.datetime(2017, 10, 10, 19, 17, 11), 'end': datetime.datetime(2017, 10, 10, 19, 23, 8)}, {'start': datetime.datetime(2017, 10, 10, 19, 28, 11), 'end': datetime.datetime(2017, 10, 10, 19, 44, 40)}, {'start': datetime.datetime(2017, 10, 10, 19, 55, 35), 'end': datetime.datetime(2017, 10, 10, 20, 11, 54)}, {'start': datetime.datetime(2017, 10, 10, 22, 20, 43), 'end': datetime.datetime(2017, 10, 10, 22, 33, 23)}, {'start': datetime.datetime(2017, 10, 11, 4, 40, 52), 'end': datetime.datetime(2017, 10, 11, 4, 59, 22)}, {'start': datetime.datetime(2017, 10, 11, 6, 28, 58), 'end': datetime.datetime(2017, 10, 11, 6, 40, 13)}, {'start': datetime.datetime(2017, 10, 11, 16, 41, 7), 'end': datetime.datetime(2017, 10, 11, 17, 1, 14)}, {'start': datetime.datetime(2017, 10, 12, 8, 8, 30), 'end': datetime.datetime(2017, 10, 12, 8, 35, 3)}, {'start': datetime.datetime(2017, 10, 12, 8, 47, 2), 'end': datetime.datetime(2017, 10, 12, 8, 59, 50)}, {'start': datetime.datetime(2017, 10, 12, 13, 13, 39), 'end': datetime.datetime(2017, 10, 12, 13, 37, 45)}, {'start': datetime.datetime(2017, 10, 12, 13, 40, 12), 'end': datetime.datetime(2017, 10, 12, 13, 48, 17)}, {'start': datetime.datetime(2017, 10, 12, 13, 49, 56), 'end': datetime.datetime(2017, 10, 12, 13, 53, 16)}, {'start': datetime.datetime(2017, 10, 12, 14, 33, 18), 'end': datetime.datetime(2017, 10, 12, 14, 39, 57)}, {'start': datetime.datetime(2017, 10, 13, 15, 55, 39), 'end': datetime.datetime(2017, 10, 13, 15, 59, 41)}, {'start': datetime.datetime(2017, 10, 17, 17, 58, 48), 'end': datetime.datetime(2017, 10, 17, 18, 1, 38)}, {'start': datetime.datetime(2017, 10, 19, 20, 21, 45), 'end': datetime.datetime(2017, 10, 19, 20, 29, 15)}, {'start': datetime.datetime(2017, 10, 19, 21, 11, 39), 'end': datetime.datetime(2017, 10, 19, 21, 29, 37)}, {'start': datetime.datetime(2017, 10, 19, 21, 30, 1), 'end': datetime.datetime(2017, 10, 19, 21, 47, 23)}, {'start': datetime.datetime(2017, 10, 19, 21, 47, 34), 'end': datetime.datetime(2017, 10, 19, 21, 57, 7)}, {'start': datetime.datetime(2017, 10, 19, 21, 57, 24), 'end': datetime.datetime(2017, 10, 19, 22, 9, 52)}, {'start': datetime.datetime(2017, 10, 21, 12, 24, 9), 'end': datetime.datetime(2017, 10, 21, 12, 36, 24)}, {'start': datetime.datetime(2017, 10, 21, 12, 36, 37), 'end': datetime.datetime(2017, 10, 21, 12, 42, 13)}, {'start': datetime.datetime(2017, 10, 21, 13, 47, 43), 'end': datetime.datetime(2017, 10, 22, 11, 9, 36)}, {'start': datetime.datetime(2017, 10, 22, 13, 28, 53), 'end': datetime.datetime(2017, 10, 22, 13, 31, 44)}, {'start': datetime.datetime(2017, 10, 22, 13, 47, 5), 'end': datetime.datetime(2017, 10, 22, 13, 56, 33)}, {'start': datetime.datetime(2017, 10, 22, 14, 26, 41), 'end': datetime.datetime(2017, 10, 22, 14, 32, 39)}, {'start': datetime.datetime(2017, 10, 22, 14, 54, 41), 'end': datetime.datetime(2017, 10, 22, 15, 9, 58)}, {'start': datetime.datetime(2017, 10, 22, 16, 40, 29), 'end': datetime.datetime(2017, 10, 22, 16, 51, 40)}, {'start': datetime.datetime(2017, 10, 22, 17, 58, 46), 'end': datetime.datetime(2017, 10, 22, 18, 28, 37)}, {'start': datetime.datetime(2017, 10, 22, 18, 45, 16), 'end': datetime.datetime(2017, 10, 22, 18, 50, 34)}, {'start': datetime.datetime(2017, 10, 22, 18, 56, 22), 'end': datetime.datetime(2017, 10, 22, 19, 11, 10)}, {'start': datetime.datetime(2017, 10, 23, 10, 14, 8), 'end': datetime.datetime(2017, 10, 23, 10, 35, 32)}, {'start': datetime.datetime(2017, 10, 23, 11, 29, 36), 'end': datetime.datetime(2017, 10, 23, 14, 38, 34)}, {'start': datetime.datetime(2017, 10, 23, 15, 4, 52), 'end': datetime.datetime(2017, 10, 23, 15, 32, 58)}, {'start': datetime.datetime(2017, 10, 23, 15, 33, 48), 'end': datetime.datetime(2017, 10, 23, 17, 6, 47)}, {'start': datetime.datetime(2017, 10, 23, 17, 13, 16), 'end': datetime.datetime(2017, 10, 23, 19, 31, 26)}, {'start': datetime.datetime(2017, 10, 23, 19, 55, 3), 'end': datetime.datetime(2017, 10, 23, 20, 25, 53)}, {'start': datetime.datetime(2017, 10, 23, 21, 47, 54), 'end': datetime.datetime(2017, 10, 23, 22, 18, 4)}, {'start': datetime.datetime(2017, 10, 23, 22, 34, 12), 'end': datetime.datetime(2017, 10, 23, 22, 48, 42)}, {'start': datetime.datetime(2017, 10, 24, 6, 55, 1), 'end': datetime.datetime(2017, 10, 24, 7, 2, 17)}, {'start': datetime.datetime(2017, 10, 24, 14, 56, 7), 'end': datetime.datetime(2017, 10, 24, 15, 3, 16)}, {'start': datetime.datetime(2017, 10, 24, 15, 51, 36), 'end': datetime.datetime(2017, 10, 24, 15, 59, 50)}, {'start': datetime.datetime(2017, 10, 24, 16, 31, 10), 'end': datetime.datetime(2017, 10, 24, 16, 55, 9)}, {'start': datetime.datetime(2017, 10, 28, 14, 26, 14), 'end': datetime.datetime(2017, 10, 28, 14, 32, 34)}, {'start': datetime.datetime(2017, 11, 1, 9, 41, 54), 'end': datetime.datetime(2017, 11, 1, 9, 52, 23)}, {'start': datetime.datetime(2017, 11, 1, 20, 16, 11), 'end': datetime.datetime(2017, 11, 1, 20, 32, 13)}, {'start': datetime.datetime(2017, 11, 2, 19, 44, 29), 'end': datetime.datetime(2017, 11, 2, 19, 50, 56)}, {'start': datetime.datetime(2017, 11, 2, 20, 14, 37), 'end': datetime.datetime(2017, 11, 2, 20, 30, 29)}, {'start': datetime.datetime(2017, 11, 2, 21, 35, 47), 'end': datetime.datetime(2017, 11, 2, 21, 38, 57)}, {'start': datetime.datetime(2017, 11, 3, 9, 59, 27), 'end': datetime.datetime(2017, 11, 3, 10, 11, 46)}, {'start': datetime.datetime(2017, 11, 3, 10, 13, 22), 'end': datetime.datetime(2017, 11, 3, 10, 32, 2)}, {'start': datetime.datetime(2017, 11, 3, 10, 44, 25), 'end': datetime.datetime(2017, 11, 3, 10, 50, 34)}, {'start': datetime.datetime(2017, 11, 3, 16, 6, 43), 'end': datetime.datetime(2017, 11, 3, 16, 44, 38)}, {'start': datetime.datetime(2017, 11, 3, 16, 45, 54), 'end': datetime.datetime(2017, 11, 3, 17, 0, 27)}, {'start': datetime.datetime(2017, 11, 3, 17, 7, 15), 'end': datetime.datetime(2017, 11, 3, 17, 35, 5)}, {'start': datetime.datetime(2017, 11, 3, 17, 36, 5), 'end': datetime.datetime(2017, 11, 3, 17, 46, 48)}, {'start': datetime.datetime(2017, 11, 3, 17, 50, 31), 'end': datetime.datetime(2017, 11, 3, 18, 0, 3)}, {'start': datetime.datetime(2017, 11, 3, 19, 22, 56), 'end': datetime.datetime(2017, 11, 3, 19, 45, 51)}, {'start': datetime.datetime(2017, 11, 4, 13, 14, 10), 'end': datetime.datetime(2017, 11, 4, 13, 26, 15)}, {'start': datetime.datetime(2017, 11, 4, 14, 18, 37), 'end': datetime.datetime(2017, 11, 4, 14, 30, 5)}, {'start': datetime.datetime(2017, 11, 4, 14, 45, 59), 'end': datetime.datetime(2017, 11, 4, 15, 3, 20)}, {'start': datetime.datetime(2017, 11, 4, 15, 16, 3), 'end': datetime.datetime(2017, 11, 4, 15, 44, 30)}, {'start': datetime.datetime(2017, 11, 4, 16, 37, 46), 'end': datetime.datetime(2017, 11, 4, 16, 58, 22)}, {'start': datetime.datetime(2017, 11, 4, 17, 13, 19), 'end': datetime.datetime(2017, 11, 4, 17, 34, 50)}, {'start': datetime.datetime(2017, 11, 4, 18, 10, 34), 'end': datetime.datetime(2017, 11, 4, 18, 58, 44)}, {'start': datetime.datetime(2017, 11, 5, 1, 56, 50), 'end': datetime.datetime(2017, 11, 5, 1, 1, 4)}, {'start': datetime.datetime(2017, 11, 5, 8, 33, 33), 'end': datetime.datetime(2017, 11, 5, 8, 53, 46)}, {'start': datetime.datetime(2017, 11, 5, 8, 58, 8), 'end': datetime.datetime(2017, 11, 5, 9, 3, 39)}, {'start': datetime.datetime(2017, 11, 5, 11, 5, 8), 'end': datetime.datetime(2017, 11, 5, 11, 30, 5)}, {'start': datetime.datetime(2017, 11, 6, 8, 50, 18), 'end': datetime.datetime(2017, 11, 6, 8, 59, 5)}, {'start': datetime.datetime(2017, 11, 6, 9, 4, 3), 'end': datetime.datetime(2017, 11, 6, 9, 13, 47)}, {'start': datetime.datetime(2017, 11, 6, 16, 19, 36), 'end': datetime.datetime(2017, 11, 6, 17, 2, 55)}, {'start': datetime.datetime(2017, 11, 6, 17, 21, 27), 'end': datetime.datetime(2017, 11, 6, 17, 34, 6)}, {'start': datetime.datetime(2017, 11, 6, 17, 36, 1), 'end': datetime.datetime(2017, 11, 6, 17, 57, 32)}, {'start': datetime.datetime(2017, 11, 6, 17, 59, 52), 'end': datetime.datetime(2017, 11, 6, 18, 15, 8)}, {'start': datetime.datetime(2017, 11, 6, 18, 18, 36), 'end': datetime.datetime(2017, 11, 6, 18, 21, 17)}, {'start': datetime.datetime(2017, 11, 6, 19, 24, 31), 'end': datetime.datetime(2017, 11, 6, 19, 37, 57)}, {'start': datetime.datetime(2017, 11, 6, 19, 49, 16), 'end': datetime.datetime(2017, 11, 6, 20, 3, 14)}, {'start': datetime.datetime(2017, 11, 7, 7, 50, 48), 'end': datetime.datetime(2017, 11, 7, 8, 1, 32)}, {'start': datetime.datetime(2017, 11, 8, 13, 11, 51), 'end': datetime.datetime(2017, 11, 8, 13, 18, 5)}, {'start': datetime.datetime(2017, 11, 8, 21, 34, 47), 'end': datetime.datetime(2017, 11, 8, 21, 46, 5)}, {'start': datetime.datetime(2017, 11, 8, 22, 2, 30), 'end': datetime.datetime(2017, 11, 8, 22, 4, 47)}, {'start': datetime.datetime(2017, 11, 9, 7, 1, 11), 'end': datetime.datetime(2017, 11, 9, 7, 12, 10)}, {'start': datetime.datetime(2017, 11, 9, 8, 2, 2), 'end': datetime.datetime(2017, 11, 9, 8, 8, 28)}, {'start': datetime.datetime(2017, 11, 9, 8, 19, 59), 'end': datetime.datetime(2017, 11, 9, 8, 32, 24)}, {'start': datetime.datetime(2017, 11, 9, 8, 41, 31), 'end': datetime.datetime(2017, 11, 9, 8, 48, 59)}, {'start': datetime.datetime(2017, 11, 9, 9, 0, 6), 'end': datetime.datetime(2017, 11, 9, 9, 9, 24)}, {'start': datetime.datetime(2017, 11, 9, 9, 9, 37), 'end': datetime.datetime(2017, 11, 9, 9, 24, 25)}, {'start': datetime.datetime(2017, 11, 9, 13, 14, 37), 'end': datetime.datetime(2017, 11, 9, 13, 25, 39)}, {'start': datetime.datetime(2017, 11, 9, 15, 20, 7), 'end': datetime.datetime(2017, 11, 9, 15, 31, 10)}, {'start': datetime.datetime(2017, 11, 9, 18, 47, 8), 'end': datetime.datetime(2017, 11, 9, 18, 53, 10)}, {'start': datetime.datetime(2017, 11, 9, 23, 35, 2), 'end': datetime.datetime(2017, 11, 9, 23, 43, 35)}, {'start': datetime.datetime(2017, 11, 10, 7, 51, 33), 'end': datetime.datetime(2017, 11, 10, 8, 2, 28)}, {'start': datetime.datetime(2017, 11, 10, 8, 38, 28), 'end': datetime.datetime(2017, 11, 10, 8, 42, 9)}, {'start': datetime.datetime(2017, 11, 11, 18, 5, 25), 'end': datetime.datetime(2017, 11, 11, 18, 13, 14)}, {'start': datetime.datetime(2017, 11, 11, 19, 39, 12), 'end': datetime.datetime(2017, 11, 11, 19, 46, 22)}, {'start': datetime.datetime(2017, 11, 11, 21, 13, 19), 'end': datetime.datetime(2017, 11, 11, 21, 16, 31)}, {'start': datetime.datetime(2017, 11, 12, 9, 46, 19), 'end': datetime.datetime(2017, 11, 12, 9, 51, 43)}, {'start': datetime.datetime(2017, 11, 13, 13, 33, 42), 'end': datetime.datetime(2017, 11, 13, 13, 54, 15)}, {'start': datetime.datetime(2017, 11, 14, 8, 40, 29), 'end': datetime.datetime(2017, 11, 14, 8, 55, 52)}, {'start': datetime.datetime(2017, 11, 15, 6, 14, 5), 'end': datetime.datetime(2017, 11, 15, 6, 30, 6)}, {'start': datetime.datetime(2017, 11, 15, 8, 14, 59), 'end': datetime.datetime(2017, 11, 15, 8, 23, 44)}, {'start': datetime.datetime(2017, 11, 15, 10, 16, 44), 'end': datetime.datetime(2017, 11, 15, 10, 33, 41)}, {'start': datetime.datetime(2017, 11, 15, 10, 33, 58), 'end': datetime.datetime(2017, 11, 15, 10, 54, 14)}, {'start': datetime.datetime(2017, 11, 15, 11, 2, 15), 'end': datetime.datetime(2017, 11, 15, 11, 14, 42)}, {'start': datetime.datetime(2017, 11, 16, 9, 27, 41), 'end': datetime.datetime(2017, 11, 16, 9, 38, 49)}, {'start': datetime.datetime(2017, 11, 16, 9, 57, 41), 'end': datetime.datetime(2017, 11, 16, 10, 18)}, {'start': datetime.datetime(2017, 11, 16, 17, 25, 5), 'end': datetime.datetime(2017, 11, 16, 17, 44, 47)}, {'start': datetime.datetime(2017, 11, 17, 13, 45, 54), 'end': datetime.datetime(2017, 11, 17, 16, 36, 56)}, {'start': datetime.datetime(2017, 11, 17, 19, 12, 49), 'end': datetime.datetime(2017, 11, 17, 19, 31, 15)}, {'start': datetime.datetime(2017, 11, 18, 10, 49, 6), 'end': datetime.datetime(2017, 11, 18, 10, 55, 45)}, {'start': datetime.datetime(2017, 11, 18, 11, 32, 12), 'end': datetime.datetime(2017, 11, 18, 11, 44, 16)}, {'start': datetime.datetime(2017, 11, 18, 18, 9, 1), 'end': datetime.datetime(2017, 11, 18, 18, 14, 31)}, {'start': datetime.datetime(2017, 11, 18, 18, 53, 10), 'end': datetime.datetime(2017, 11, 18, 19, 1, 29)}, {'start': datetime.datetime(2017, 11, 19, 14, 15, 41), 'end': datetime.datetime(2017, 11, 19, 14, 31, 49)}, {'start': datetime.datetime(2017, 11, 20, 21, 19, 19), 'end': datetime.datetime(2017, 11, 20, 21, 41, 9)}, {'start': datetime.datetime(2017, 11, 20, 22, 39, 48), 'end': datetime.datetime(2017, 11, 20, 23, 23, 37)}, {'start': datetime.datetime(2017, 11, 21, 17, 44, 25), 'end': datetime.datetime(2017, 11, 21, 17, 51, 32)}, {'start': datetime.datetime(2017, 11, 21, 18, 20, 52), 'end': datetime.datetime(2017, 11, 21, 18, 34, 51)}, {'start': datetime.datetime(2017, 11, 21, 18, 47, 32), 'end': datetime.datetime(2017, 11, 21, 18, 51, 50)}, {'start': datetime.datetime(2017, 11, 21, 19, 7, 57), 'end': datetime.datetime(2017, 11, 21, 19, 14, 33)}, {'start': datetime.datetime(2017, 11, 21, 20, 4, 56), 'end': datetime.datetime(2017, 11, 21, 20, 8, 54)}, {'start': datetime.datetime(2017, 11, 21, 21, 55, 47), 'end': datetime.datetime(2017, 11, 21, 22, 8, 12)}, {'start': datetime.datetime(2017, 11, 23, 23, 47, 43), 'end': datetime.datetime(2017, 11, 23, 23, 57, 56)}, {'start': datetime.datetime(2017, 11, 24, 6, 41, 25), 'end': datetime.datetime(2017, 11, 24, 6, 53, 15)}, {'start': datetime.datetime(2017, 11, 24, 6, 58, 56), 'end': datetime.datetime(2017, 11, 24, 7, 33, 24)}, {'start': datetime.datetime(2017, 11, 26, 12, 25, 49), 'end': datetime.datetime(2017, 11, 26, 12, 41, 36)}, {'start': datetime.datetime(2017, 11, 27, 5, 29, 4), 'end': datetime.datetime(2017, 11, 27, 5, 54, 13)}, {'start': datetime.datetime(2017, 11, 27, 6, 6, 47), 'end': datetime.datetime(2017, 11, 27, 6, 11, 1)}, {'start': datetime.datetime(2017, 11, 27, 6, 45, 14), 'end': datetime.datetime(2017, 11, 27, 6, 55, 39)}, {'start': datetime.datetime(2017, 11, 27, 9, 39, 44), 'end': datetime.datetime(2017, 11, 27, 9, 47, 43)}, {'start': datetime.datetime(2017, 11, 27, 11, 9, 18), 'end': datetime.datetime(2017, 11, 27, 11, 20, 46)}, {'start': datetime.datetime(2017, 11, 27, 11, 31, 46), 'end': datetime.datetime(2017, 11, 27, 11, 35, 44)}, {'start': datetime.datetime(2017, 11, 27, 12, 7, 14), 'end': datetime.datetime(2017, 11, 27, 12, 12, 36)}, {'start': datetime.datetime(2017, 11, 27, 12, 21, 40), 'end': datetime.datetime(2017, 11, 27, 12, 26, 44)}, {'start': datetime.datetime(2017, 11, 27, 17, 26, 31), 'end': datetime.datetime(2017, 11, 27, 17, 36, 7)}, {'start': datetime.datetime(2017, 11, 27, 18, 11, 49), 'end': datetime.datetime(2017, 11, 27, 18, 29, 4)}, {'start': datetime.datetime(2017, 11, 27, 19, 36, 16), 'end': datetime.datetime(2017, 11, 27, 19, 47, 17)}, {'start': datetime.datetime(2017, 11, 27, 20, 12, 57), 'end': datetime.datetime(2017, 11, 27, 20, 17, 33)}, {'start': datetime.datetime(2017, 11, 28, 8, 18, 6), 'end': datetime.datetime(2017, 11, 28, 8, 41, 53)}, {'start': datetime.datetime(2017, 11, 28, 19, 17, 23), 'end': datetime.datetime(2017, 11, 28, 19, 34, 1)}, {'start': datetime.datetime(2017, 11, 28, 19, 34, 15), 'end': datetime.datetime(2017, 11, 28, 19, 46, 24)}, {'start': datetime.datetime(2017, 11, 28, 21, 27, 29), 'end': datetime.datetime(2017, 11, 28, 21, 39, 32)}, {'start': datetime.datetime(2017, 11, 29, 7, 47, 38), 'end': datetime.datetime(2017, 11, 29, 7, 51, 18)}, {'start': datetime.datetime(2017, 11, 29, 9, 50, 12), 'end': datetime.datetime(2017, 11, 29, 9, 53, 44)}, {'start': datetime.datetime(2017, 11, 29, 17, 3, 42), 'end': datetime.datetime(2017, 11, 29, 17, 16, 21)}, {'start': datetime.datetime(2017, 11, 29, 18, 19, 15), 'end': datetime.datetime(2017, 11, 29, 18, 23, 43)}, {'start': datetime.datetime(2017, 12, 1, 17, 3, 58), 'end': datetime.datetime(2017, 12, 1, 17, 10, 12)}, {'start': datetime.datetime(2017, 12, 2, 7, 55, 56), 'end': datetime.datetime(2017, 12, 2, 8, 1, 1)}, {'start': datetime.datetime(2017, 12, 2, 9, 16, 14), 'end': datetime.datetime(2017, 12, 2, 9, 21, 18)}, {'start': datetime.datetime(2017, 12, 2, 19, 48, 29), 'end': datetime.datetime(2017, 12, 2, 19, 53, 18)}, {'start': datetime.datetime(2017, 12, 3, 14, 36, 29), 'end': datetime.datetime(2017, 12, 3, 15, 20, 9)}, {'start': datetime.datetime(2017, 12, 3, 16, 4, 2), 'end': datetime.datetime(2017, 12, 3, 16, 25, 30)}, {'start': datetime.datetime(2017, 12, 3, 16, 40, 26), 'end': datetime.datetime(2017, 12, 3, 16, 43, 58)}, {'start': datetime.datetime(2017, 12, 3, 17, 20, 17), 'end': datetime.datetime(2017, 12, 3, 18, 4, 33)}, {'start': datetime.datetime(2017, 12, 4, 8, 34, 24), 'end': datetime.datetime(2017, 12, 4, 8, 51)}, {'start': datetime.datetime(2017, 12, 4, 17, 49, 26), 'end': datetime.datetime(2017, 12, 4, 17, 53, 57)}, {'start': datetime.datetime(2017, 12, 4, 18, 38, 52), 'end': datetime.datetime(2017, 12, 4, 18, 50, 33)}, {'start': datetime.datetime(2017, 12, 4, 21, 39, 20), 'end': datetime.datetime(2017, 12, 4, 21, 46, 58)}, {'start': datetime.datetime(2017, 12, 4, 21, 54, 21), 'end': datetime.datetime(2017, 12, 4, 21, 56, 17)}, {'start': datetime.datetime(2017, 12, 5, 8, 50, 50), 'end': datetime.datetime(2017, 12, 5, 8, 52, 54)}, {'start': datetime.datetime(2017, 12, 6, 8, 19, 38), 'end': datetime.datetime(2017, 12, 6, 8, 24, 14)}, {'start': datetime.datetime(2017, 12, 6, 18, 19, 19), 'end': datetime.datetime(2017, 12, 6, 18, 28, 11)}, {'start': datetime.datetime(2017, 12, 6, 18, 28, 55), 'end': datetime.datetime(2017, 12, 6, 18, 33, 12)}, {'start': datetime.datetime(2017, 12, 6, 20, 3, 29), 'end': datetime.datetime(2017, 12, 6, 20, 21, 38)}, {'start': datetime.datetime(2017, 12, 6, 20, 36, 42), 'end': datetime.datetime(2017, 12, 6, 20, 39, 57)}, {'start': datetime.datetime(2017, 12, 7, 5, 54, 51), 'end': datetime.datetime(2017, 12, 7, 6, 1, 15)}, {'start': datetime.datetime(2017, 12, 8, 16, 47, 18), 'end': datetime.datetime(2017, 12, 8, 16, 55, 49)}, {'start': datetime.datetime(2017, 12, 8, 19, 15, 2), 'end': datetime.datetime(2017, 12, 8, 19, 29, 12)}, {'start': datetime.datetime(2017, 12, 9, 22, 39, 37), 'end': datetime.datetime(2017, 12, 9, 22, 47, 19)}, {'start': datetime.datetime(2017, 12, 9, 23, 0, 10), 'end': datetime.datetime(2017, 12, 9, 23, 5, 32)}, {'start': datetime.datetime(2017, 12, 10, 0, 39, 24), 'end': datetime.datetime(2017, 12, 10, 0, 56, 2)}, {'start': datetime.datetime(2017, 12, 10, 1, 2, 42), 'end': datetime.datetime(2017, 12, 10, 1, 8, 9)}, {'start': datetime.datetime(2017, 12, 10, 1, 8, 57), 'end': datetime.datetime(2017, 12, 10, 1, 11, 30)}, {'start': datetime.datetime(2017, 12, 10, 13, 49, 9), 'end': datetime.datetime(2017, 12, 10, 13, 51, 41)}, {'start': datetime.datetime(2017, 12, 10, 15, 14, 29), 'end': datetime.datetime(2017, 12, 10, 15, 18, 19)}, {'start': datetime.datetime(2017, 12, 10, 15, 31, 7), 'end': datetime.datetime(2017, 12, 10, 15, 36, 28)}, {'start': datetime.datetime(2017, 12, 10, 16, 20, 6), 'end': datetime.datetime(2017, 12, 10, 16, 30, 31)}, {'start': datetime.datetime(2017, 12, 10, 17, 7, 54), 'end': datetime.datetime(2017, 12, 10, 17, 14, 25)}, {'start': datetime.datetime(2017, 12, 10, 17, 23, 47), 'end': datetime.datetime(2017, 12, 10, 17, 45, 25)}, {'start': datetime.datetime(2017, 12, 11, 6, 17, 6), 'end': datetime.datetime(2017, 12, 11, 6, 34, 4)}, {'start': datetime.datetime(2017, 12, 11, 9, 8, 41), 'end': datetime.datetime(2017, 12, 11, 9, 12, 21)}, {'start': datetime.datetime(2017, 12, 11, 9, 15, 41), 'end': datetime.datetime(2017, 12, 11, 9, 20, 18)}, {'start': datetime.datetime(2017, 12, 12, 8, 55, 53), 'end': datetime.datetime(2017, 12, 12, 8, 59, 34)}, {'start': datetime.datetime(2017, 12, 13, 17, 14, 56), 'end': datetime.datetime(2017, 12, 13, 17, 18, 32)}, {'start': datetime.datetime(2017, 12, 13, 18, 52, 16), 'end': datetime.datetime(2017, 12, 13, 19, 0, 45)}, {'start': datetime.datetime(2017, 12, 14, 9, 1, 10), 'end': datetime.datetime(2017, 12, 14, 9, 11, 6)}, {'start': datetime.datetime(2017, 12, 14, 9, 12, 59), 'end': datetime.datetime(2017, 12, 14, 9, 19, 6)}, {'start': datetime.datetime(2017, 12, 14, 11, 54, 33), 'end': datetime.datetime(2017, 12, 14, 12, 2)}, {'start': datetime.datetime(2017, 12, 14, 14, 40, 23), 'end': datetime.datetime(2017, 12, 14, 14, 44, 40)}, {'start': datetime.datetime(2017, 12, 14, 15, 8, 55), 'end': datetime.datetime(2017, 12, 14, 15, 26, 24)}, {'start': datetime.datetime(2017, 12, 14, 17, 46, 17), 'end': datetime.datetime(2017, 12, 14, 18, 9, 4)}, {'start': datetime.datetime(2017, 12, 15, 9, 8, 12), 'end': datetime.datetime(2017, 12, 15, 9, 23, 45)}, {'start': datetime.datetime(2017, 12, 16, 9, 33, 46), 'end': datetime.datetime(2017, 12, 16, 9, 36, 17)}, {'start': datetime.datetime(2017, 12, 16, 11, 2, 31), 'end': datetime.datetime(2017, 12, 16, 11, 5, 4)}, {'start': datetime.datetime(2017, 12, 17, 10, 9, 47), 'end': datetime.datetime(2017, 12, 17, 10, 32, 3)}, {'start': datetime.datetime(2017, 12, 18, 8, 2, 36), 'end': datetime.datetime(2017, 12, 18, 8, 7, 34)}, {'start': datetime.datetime(2017, 12, 18, 16, 3), 'end': datetime.datetime(2017, 12, 18, 16, 9, 20)}, {'start': datetime.datetime(2017, 12, 18, 16, 30, 7), 'end': datetime.datetime(2017, 12, 18, 16, 53, 12)}, {'start': datetime.datetime(2017, 12, 18, 19, 18, 23), 'end': datetime.datetime(2017, 12, 18, 19, 22, 8)}, {'start': datetime.datetime(2017, 12, 18, 20, 14, 46), 'end': datetime.datetime(2017, 12, 18, 20, 17, 47)}, {'start': datetime.datetime(2017, 12, 19, 19, 14, 8), 'end': datetime.datetime(2017, 12, 19, 19, 23, 49)}, {'start': datetime.datetime(2017, 12, 19, 19, 39, 36), 'end': datetime.datetime(2017, 12, 19, 19, 43, 46)}, {'start': datetime.datetime(2017, 12, 20, 8, 5, 14), 'end': datetime.datetime(2017, 12, 20, 8, 10, 46)}, {'start': datetime.datetime(2017, 12, 20, 8, 15, 45), 'end': datetime.datetime(2017, 12, 20, 8, 29, 50)}, {'start': datetime.datetime(2017, 12, 20, 8, 33, 32), 'end': datetime.datetime(2017, 12, 20, 8, 38, 9)}, {'start': datetime.datetime(2017, 12, 20, 13, 43, 36), 'end': datetime.datetime(2017, 12, 20, 13, 54, 39)}, {'start': datetime.datetime(2017, 12, 20, 18, 57, 53), 'end': datetime.datetime(2017, 12, 20, 19, 6, 54)}, {'start': datetime.datetime(2017, 12, 21, 7, 21, 11), 'end': datetime.datetime(2017, 12, 21, 7, 32, 3)}, {'start': datetime.datetime(2017, 12, 21, 8, 1, 58), 'end': datetime.datetime(2017, 12, 21, 8, 6, 15)}, {'start': datetime.datetime(2017, 12, 21, 13, 20, 54), 'end': datetime.datetime(2017, 12, 21, 13, 33, 49)}, {'start': datetime.datetime(2017, 12, 21, 15, 26, 8), 'end': datetime.datetime(2017, 12, 21, 15, 34, 27)}, {'start': datetime.datetime(2017, 12, 21, 18, 9, 46), 'end': datetime.datetime(2017, 12, 21, 18, 38, 50)}, {'start': datetime.datetime(2017, 12, 22, 16, 14, 21), 'end': datetime.datetime(2017, 12, 22, 16, 21, 46)}, {'start': datetime.datetime(2017, 12, 22, 16, 29, 17), 'end': datetime.datetime(2017, 12, 22, 16, 34, 14)}, {'start': datetime.datetime(2017, 12, 25, 12, 49, 51), 'end': datetime.datetime(2017, 12, 25, 13, 18, 27)}, {'start': datetime.datetime(2017, 12, 25, 13, 46, 44), 'end': datetime.datetime(2017, 12, 25, 14, 20, 50)}, {'start': datetime.datetime(2017, 12, 26, 10, 40, 16), 'end': datetime.datetime(2017, 12, 26, 10, 53, 45)}, {'start': datetime.datetime(2017, 12, 27, 16, 56, 12), 'end': datetime.datetime(2017, 12, 27, 17, 17, 39)}, {'start': datetime.datetime(2017, 12, 29, 6, 2, 34), 'end': datetime.datetime(2017, 12, 29, 6, 12, 30)}, {'start': datetime.datetime(2017, 12, 29, 12, 21, 3), 'end': datetime.datetime(2017, 12, 29, 12, 46, 16)}, {'start': datetime.datetime(2017, 12, 29, 14, 32, 55), 'end': datetime.datetime(2017, 12, 29, 14, 43, 46)}, {'start': datetime.datetime(2017, 12, 29, 15, 8, 26), 'end': datetime.datetime(2017, 12, 29, 15, 18, 51)}, {'start': datetime.datetime(2017, 12, 29, 20, 33, 34), 'end': datetime.datetime(2017, 12, 29, 20, 38, 13)}, {'start': datetime.datetime(2017, 12, 30, 13, 51, 3), 'end': datetime.datetime(2017, 12, 30, 13, 54, 33)}, {'start': datetime.datetime(2017, 12, 30, 15, 9, 3), 'end': datetime.datetime(2017, 12, 30, 15, 19, 13)}]\n"
          ]
        }
      ]
    },
    {
      "cell_type": "markdown",
      "metadata": {
        "id": "_uA5sTy2-F9l"
      },
      "source": [
        "# **Recreating ISO format with `strftime()`**\n",
        "\n",
        "* You used `strftime()` to create strings from date objects. Re-create the `.isoformat()` method, using `.strftime()`, and print the first trip start in our data set.\n",
        "\n",
        "* Complete `fmt` to match the format of ISO 8601.\n",
        "* Print `first_start` with both `.isoformat()` and `.strftime()`; they should match."
      ]
    },
    {
      "cell_type": "code",
      "metadata": {
        "colab": {
          "base_uri": "https://localhost:8080/"
        },
        "id": "GgOffCvN7_mD",
        "outputId": "2b47e302-796e-4ff5-ea1b-3e159ea412f6"
      },
      "source": [
        "# Import datetime\n",
        "from datetime import datetime\n",
        "\n",
        "# Pull out the start of the first trip\n",
        "first_start = onebike_datetimes[0]['start']\n",
        "\n",
        "# Format to feed to strftime()\n",
        "fmt = \"%Y-%m-%dT%H:%M:%S\"\n",
        "\n",
        "# Print out date with .isoformat(), then with .strftime() to compare\n",
        "print(first_start.isoformat())\n",
        "print(first_start.strftime(fmt))"
      ],
      "execution_count": 60,
      "outputs": [
        {
          "output_type": "stream",
          "name": "stdout",
          "text": [
            "2017-10-01T15:23:25\n",
            "2017-10-01T15:23:25\n"
          ]
        }
      ]
    },
    {
      "cell_type": "markdown",
      "metadata": {
        "id": "7xZuuGac-76k"
      },
      "source": [
        "# **Unix timestamps**\n",
        "\n",
        "Datetimes are sometimes stored as Unix timestamps: ***the number of seconds since January 1, 1970***. This is especially common with computer infrastructure, like the log files that websites keep when they get visitors.\n",
        "\n",
        "* Complete the `for` loop to loop over `timestamps`.\n",
        "* Complete the code to turn each `timestamp` ts into a `datetime`."
      ]
    },
    {
      "cell_type": "code",
      "metadata": {
        "colab": {
          "base_uri": "https://localhost:8080/"
        },
        "id": "EQ9A16VX-3jN",
        "outputId": "25bc036a-8261-427d-d4ee-9eda388f5f2a"
      },
      "source": [
        "# Import datetime\n",
        "from datetime import datetime\n",
        "\n",
        "# Starting timestamps\n",
        "timestamps = [1514665153, 1514664543]\n",
        "\n",
        "# Datetime objects\n",
        "dts = []\n",
        "\n",
        "# Loop\n",
        "for ts in timestamps:\n",
        "  dts.append(datetime.fromtimestamp(ts).strftime(\"%Y-%m-%d %H:%M:%S\"))\n",
        "  \n",
        "# Print results\n",
        "print(dts)"
      ],
      "execution_count": 62,
      "outputs": [
        {
          "output_type": "stream",
          "name": "stdout",
          "text": [
            "['2017-12-30 20:19:13', '2017-12-30 20:09:03']\n"
          ]
        }
      ]
    },
    {
      "cell_type": "markdown",
      "metadata": {
        "id": "UQeYJNB2dhde"
      },
      "source": [
        "# **Turning pairs of datetimes into durations**\n",
        "\n",
        "When working with timestamps, we often want to know how much time has elapsed between events. Thankfully, we can use `datetime` arithmetic to ask Python to do the heavy lifting for us so we don't need to worry about day, month, or year boundaries. Let's calculate the number of seconds that the bike was out of the dock for each trip.\n",
        "\n",
        "Continuing our work from a previous coding exercise, the bike trip data has been loaded as the list `onebike_datetimes`. Each element of the list consists of two datetime objects, corresponding to the `start` and `end` of a trip, respectively.\n",
        "\n",
        "Within the loop:\n",
        "* Use arithmetic on the `start` and `end` elements to find the length of the trip\n",
        "* Save the results to `trip_duration`.\n",
        "* Calculate `trip_length_seconds` from `trip_duration`."
      ]
    },
    {
      "cell_type": "code",
      "metadata": {
        "colab": {
          "base_uri": "https://localhost:8080/",
          "height": 323
        },
        "id": "9CjFsP6J_nKz",
        "outputId": "d2c69404-81bb-42f9-b91d-d4c39b984022"
      },
      "source": [
        "import pandas as pd\n",
        "\n",
        "df = pd.read_csv(\"capital-onebike.csv\")[[\"End date\", \"Start date\"]].rename(columns={\"End date\":\"end\", \"Start date\":\"start\"})\n",
        "df[\"end\"] = pd.to_datetime(df[\"end\"])\n",
        "df[\"start\"] = pd.to_datetime(df[\"start\"])\n",
        "onebike_datetimes = df.to_dict(\"records\")\n",
        "\n",
        "print(\"onebike_datetimes\")\n",
        "display(onebike_datetimes[:5])\n",
        "\n",
        "# Initialize a list for all the trip durations\n",
        "onebike_durations = []\n",
        "seconds = []\n",
        "\n",
        "for trip in onebike_datetimes:\n",
        "    # Create a timedelta object corresponding to the length of the trip\n",
        "    trip_duration = trip['end'] - trip['start']\n",
        "    \n",
        "    # Get the total elapsed seconds in trip_duration\n",
        "    trip_length_seconds = trip_duration.total_seconds()\n",
        "    second = trip_duration.seconds\n",
        "    \n",
        "    # Append the results to our list\n",
        "    onebike_durations.append(trip_length_seconds)\n",
        "    seconds.append(second)\n",
        "\n",
        "print(\"\\n\\nonebike_durations\")\n",
        "display(onebike_durations[84:88])\n",
        "print(\"\\nseconds\")\n",
        "display(seconds[84:88])\n",
        "\n",
        "# display(max(onebike_durations))\n",
        "# display(max(seconds))\n",
        "\n"
      ],
      "execution_count": 19,
      "outputs": [
        {
          "output_type": "stream",
          "name": "stdout",
          "text": [
            "onebike_datetimes\n"
          ]
        },
        {
          "output_type": "display_data",
          "data": {
            "text/plain": [
              "[{'end': Timestamp('2017-10-01 15:26:26'),\n",
              "  'start': Timestamp('2017-10-01 15:23:25')},\n",
              " {'end': Timestamp('2017-10-01 17:49:59'),\n",
              "  'start': Timestamp('2017-10-01 15:42:57')},\n",
              " {'end': Timestamp('2017-10-02 06:42:53'),\n",
              "  'start': Timestamp('2017-10-02 06:37:10')},\n",
              " {'end': Timestamp('2017-10-02 09:18:03'),\n",
              "  'start': Timestamp('2017-10-02 08:56:45')},\n",
              " {'end': Timestamp('2017-10-02 18:45:05'),\n",
              "  'start': Timestamp('2017-10-02 18:23:48')}]"
            ]
          },
          "metadata": {}
        },
        {
          "output_type": "stream",
          "name": "stdout",
          "text": [
            "\n",
            "\n",
            "onebike_durations\n"
          ]
        },
        {
          "output_type": "display_data",
          "data": {
            "text/plain": [
              "[735.0, 336.0, 76913.0, 171.0]"
            ]
          },
          "metadata": {}
        },
        {
          "output_type": "stream",
          "name": "stdout",
          "text": [
            "\n",
            "seconds\n"
          ]
        },
        {
          "output_type": "display_data",
          "data": {
            "text/plain": [
              "[735, 336, 76913, 171]"
            ]
          },
          "metadata": {}
        }
      ]
    },
    {
      "cell_type": "code",
      "metadata": {
        "colab": {
          "base_uri": "https://localhost:8080/"
        },
        "id": "7sbQ7quEk7Kz",
        "outputId": "4c01c860-7817-4a09-8fa5-5879f19987f2"
      },
      "source": [
        "import datetime\n",
        "a = datetime.datetime(2021, 10, 5, 10, 0, 0)\n",
        "b = datetime.datetime(2021, 10, 6, 10, 0, 5)\n",
        "c = b-a\n",
        "print(c)\n",
        "print(c.total_seconds())\n",
        "print(c.seconds)\n",
        "\n"
      ],
      "execution_count": 40,
      "outputs": [
        {
          "output_type": "stream",
          "name": "stdout",
          "text": [
            "1 day, 0:00:05\n",
            "86405.0\n",
            "5\n"
          ]
        }
      ]
    },
    {
      "cell_type": "markdown",
      "metadata": {
        "id": "im0KCcoXlqQ-"
      },
      "source": [
        "From the above cell, be careful not to use `.seconds` on a timedelta object, since you'll just get the number of seconds without the days!\n",
        "\n",
        "# **Average trip time**\n",
        "\n",
        "W20529 took 291 trips in our data set. How long were the trips on average? We can use the built-in Python functions `sum()` and `len()` to make this calculation.\n",
        "\n",
        "Based on your last coding exercise, the data has been loaded as `onebike_durations`. Each entry is a number of seconds that the bike was out of the dock.\n",
        "\n",
        "* Calculate `total_elapsed_time` across all trips in `onebike_durations`.\n",
        "* Calculate `number_of_trips` for `onebike_durations`.\n",
        "* Divide `total_elapsed_time` by `number_of_trips` to get the average trip length."
      ]
    },
    {
      "cell_type": "code",
      "metadata": {
        "colab": {
          "base_uri": "https://localhost:8080/"
        },
        "id": "0ycJMPxAlE5e",
        "outputId": "a591cd12-f983-4fc0-80fe-c2e6435f387a"
      },
      "source": [
        "# What was the total duration of all trips?\n",
        "total_elapsed_time = sum(onebike_durations)\n",
        "\n",
        "# What was the total number of trips?\n",
        "number_of_trips = len(onebike_durations)\n",
        "  \n",
        "# Divide the total duration by the number of trips\n",
        "print(f\"{total_elapsed_time / number_of_trips:.2f} seconds = {divmod(total_elapsed_time/number_of_trips, 60)[0]} minutes {divmod(total_elapsed_time/number_of_trips, 60)[1]:.2f} seconds\")"
      ],
      "execution_count": 51,
      "outputs": [
        {
          "output_type": "stream",
          "name": "stdout",
          "text": [
            "1178.93 seconds = 19.0 minutes 38.93 seconds\n"
          ]
        }
      ]
    },
    {
      "cell_type": "markdown",
      "metadata": {
        "id": "2KRPY0JbpMh5"
      },
      "source": [
        "# **The long and the short of why time is hard**\n",
        "\n",
        "Out of 291 trips taken by W20529, how long was the longest? How short was the shortest? Does anything look fishy?\n",
        "\n",
        "* Calculate `shortest_trip` from `onebike_durations`.\n",
        "* Calculate `longest_trip` from `onebike_durations`.\n",
        "* Print the results, turning `shortest_trip` and `longest_trip` into strings so they can print."
      ]
    },
    {
      "cell_type": "code",
      "metadata": {
        "colab": {
          "base_uri": "https://localhost:8080/"
        },
        "id": "GnOlEEEnmyxO",
        "outputId": "b18c319b-68b7-4023-a32b-3d68504f376c"
      },
      "source": [
        "# Calculate shortest and longest trips\n",
        "shortest_trip = min(onebike_durations)\n",
        "longest_trip = max(onebike_durations)\n",
        "\n",
        "# Print out the results\n",
        "print(\"The shortest trip was \" + str(shortest_trip) + \" seconds\")\n",
        "print(\"The longest trip was \" + str(longest_trip) + \" seconds\")"
      ],
      "execution_count": 52,
      "outputs": [
        {
          "output_type": "stream",
          "name": "stdout",
          "text": [
            "The shortest trip was -3346.0 seconds\n",
            "The longest trip was 76913.0 seconds\n"
          ]
        }
      ]
    },
    {
      "cell_type": "markdown",
      "metadata": {
        "id": "KoruZBsgqEpV"
      },
      "source": [
        "For at least one trip, the bike returned before it left. Why could that be? Here's a hint: it happened in early November, around 2AM local time. What happens to clocks around that time each year?  It seems like Daylight saving time 2017 in United States began at 02:00 on Sunday, March 12 and ended at 02:00 on Sunday, November 5."
      ]
    },
    {
      "cell_type": "markdown",
      "metadata": {
        "id": "IVlk5t4EzQp1"
      },
      "source": [
        "# **Creating timezone aware datetimes**\n",
        "\n",
        "* Set the `tzinfo` to UTC, without using `timedelta`.\n",
        "* Set `pst` to be a timezone set for UTC-8.\n",
        "* Set `dt`'s timezone to be `pst`.\n",
        "* Set `tz` to be a timezone set for UTC+11.\n",
        "* Set `dt`'s timezone to be `tz`."
      ]
    },
    {
      "cell_type": "code",
      "metadata": {
        "colab": {
          "base_uri": "https://localhost:8080/"
        },
        "id": "jj5qb35vqoMY",
        "outputId": "8399c5fb-4824-49ca-d87b-51569e5772d1"
      },
      "source": [
        "from datetime import datetime, timedelta, timezone\n",
        "\n",
        "# October 1, 2017 at 15:26:26, UTC\n",
        "dt = datetime(2017, 10, 1, 15, 26, 26, tzinfo=timezone.utc)\n",
        "\n",
        "# Print results\n",
        "print(\"datetime(2017, 10, 1, 15, 26, 26, tzinfo=timezone.utc)\")\n",
        "print(dt.isoformat())\n",
        "\n",
        "# Create a timezone for Pacific Standard Time, or UTC-8\n",
        "pst = timezone(timedelta(hours=-8))\n",
        "\n",
        "# October 1, 2017 at 15:26:26, UTC-8\n",
        "dt = datetime(2017, 10, 1, 15, 26, 26, tzinfo=pst)\n",
        "\n",
        "# Print results\n",
        "print(\"\\ndatetime(2017, 10, 1, 15, 26, 26, tzinfo=timezone(timedelta(hours=-8)))\")\n",
        "print(dt.isoformat())\n",
        "\n",
        "# Create a timezone for Australian Eastern Daylight Time, or UTC+11\n",
        "aedt = timezone(timedelta(hours=11))\n",
        "\n",
        "# October 1, 2017 at 15:26:26, UTC+11\n",
        "dt = datetime(2017, 10, 1, 15, 26, 26, tzinfo=aedt)\n",
        "\n",
        "# Print results\n",
        "print(\"\\ndatetime(2017, 10, 1, 15, 26, 26, tzinfo=timezone(timedelta(hours=11)))\")\n",
        "print(dt.isoformat())"
      ],
      "execution_count": 70,
      "outputs": [
        {
          "output_type": "stream",
          "name": "stdout",
          "text": [
            "datetime(2017, 10, 1, 15, 26, 26, tzinfo=timezone.utc)\n",
            "2017-10-01T15:26:26+00:00\n",
            "\n",
            "datetime(2017, 10, 1, 15, 26, 26, tzinfo=timezone(timedelta(hours=-8)))\n",
            "2017-10-01T15:26:26-08:00\n",
            "\n",
            "datetime(2017, 10, 1, 15, 26, 26, tzinfo=timezone(timedelta(hours=11)))\n",
            "2017-10-01T15:26:26+11:00\n"
          ]
        }
      ]
    },
    {
      "cell_type": "markdown",
      "metadata": {
        "id": "60hayiw-18jx"
      },
      "source": [
        "# **Setting timezones**\n",
        "\n",
        "Now that you have the hang of setting timezones one at a time, let's look at setting them for the first ten trips that W20529 took.\n",
        "\n",
        "`timezone` and `timedelta` have already been imported. Make the change using `.replace()`\n",
        "\n",
        "* Create `edt`, a `timezone` object whose UTC offset is -4 hours.\n",
        "* Within the for loop:\n",
        "  * Set the `tzinfo` for `trip['start']`.\n",
        "  * Set the `tzinfo` for `trip['end']`."
      ]
    },
    {
      "cell_type": "code",
      "metadata": {
        "colab": {
          "base_uri": "https://localhost:8080/",
          "height": 663
        },
        "id": "XkdLxhXk0S_C",
        "outputId": "f0e4d0ea-ce3f-4a2f-b535-420c75f864b4"
      },
      "source": [
        "import pandas as pd\n",
        "\n",
        "df = pd.read_csv(\"capital-onebike.csv\")[[\"End date\", \"Start date\"]].rename(columns={\"End date\":\"end\", \"Start date\":\"start\"})\n",
        "df[\"end\"] = pd.to_datetime(df[\"end\"])\n",
        "df[\"start\"] = pd.to_datetime(df[\"start\"])\n",
        "onebike_datetimes = df.to_dict(\"records\")\n",
        "\n",
        "print(\"onebike_datetimes\\n\")\n",
        "display(onebike_datetimes[:5])\n",
        "\n",
        "# Create a timezone object corresponding to UTC-4\n",
        "edt = timezone(timedelta(hours=-4))\n",
        "\n",
        "# Loop over trips, updating the start and end datetimes to be in UTC-4\n",
        "for trip in onebike_datetimes[:10]:\n",
        "    # Update trip['start'] and trip['end']\n",
        "    trip['start'] = trip['start'].replace(tzinfo=edt)\n",
        "    trip['end'] = trip['end'].replace(tzinfo=edt)\n",
        "\n",
        "print(\"\\n\")\n",
        "display(onebike_datetimes[:12])"
      ],
      "execution_count": 79,
      "outputs": [
        {
          "output_type": "stream",
          "name": "stdout",
          "text": [
            "onebike_datetimes\n",
            "\n"
          ]
        },
        {
          "output_type": "display_data",
          "data": {
            "text/plain": [
              "[{'end': Timestamp('2017-10-01 15:26:26'),\n",
              "  'start': Timestamp('2017-10-01 15:23:25')},\n",
              " {'end': Timestamp('2017-10-01 17:49:59'),\n",
              "  'start': Timestamp('2017-10-01 15:42:57')},\n",
              " {'end': Timestamp('2017-10-02 06:42:53'),\n",
              "  'start': Timestamp('2017-10-02 06:37:10')},\n",
              " {'end': Timestamp('2017-10-02 09:18:03'),\n",
              "  'start': Timestamp('2017-10-02 08:56:45')},\n",
              " {'end': Timestamp('2017-10-02 18:45:05'),\n",
              "  'start': Timestamp('2017-10-02 18:23:48')}]"
            ]
          },
          "metadata": {}
        },
        {
          "output_type": "stream",
          "name": "stdout",
          "text": [
            "\n",
            "\n"
          ]
        },
        {
          "output_type": "display_data",
          "data": {
            "text/plain": [
              "[{'end': Timestamp('2017-10-01 15:26:26-0400', tz='UTC-04:00'),\n",
              "  'start': Timestamp('2017-10-01 15:23:25-0400', tz='UTC-04:00')},\n",
              " {'end': Timestamp('2017-10-01 17:49:59-0400', tz='UTC-04:00'),\n",
              "  'start': Timestamp('2017-10-01 15:42:57-0400', tz='UTC-04:00')},\n",
              " {'end': Timestamp('2017-10-02 06:42:53-0400', tz='UTC-04:00'),\n",
              "  'start': Timestamp('2017-10-02 06:37:10-0400', tz='UTC-04:00')},\n",
              " {'end': Timestamp('2017-10-02 09:18:03-0400', tz='UTC-04:00'),\n",
              "  'start': Timestamp('2017-10-02 08:56:45-0400', tz='UTC-04:00')},\n",
              " {'end': Timestamp('2017-10-02 18:45:05-0400', tz='UTC-04:00'),\n",
              "  'start': Timestamp('2017-10-02 18:23:48-0400', tz='UTC-04:00')},\n",
              " {'end': Timestamp('2017-10-02 19:10:54-0400', tz='UTC-04:00'),\n",
              "  'start': Timestamp('2017-10-02 18:48:08-0400', tz='UTC-04:00')},\n",
              " {'end': Timestamp('2017-10-02 19:31:45-0400', tz='UTC-04:00'),\n",
              "  'start': Timestamp('2017-10-02 19:18:10-0400', tz='UTC-04:00')},\n",
              " {'end': Timestamp('2017-10-02 19:46:37-0400', tz='UTC-04:00'),\n",
              "  'start': Timestamp('2017-10-02 19:37:32-0400', tz='UTC-04:00')},\n",
              " {'end': Timestamp('2017-10-03 08:32:27-0400', tz='UTC-04:00'),\n",
              "  'start': Timestamp('2017-10-03 08:24:16-0400', tz='UTC-04:00')},\n",
              " {'end': Timestamp('2017-10-03 18:27:46-0400', tz='UTC-04:00'),\n",
              "  'start': Timestamp('2017-10-03 18:17:07-0400', tz='UTC-04:00')},\n",
              " {'end': Timestamp('2017-10-03 19:52:08'),\n",
              "  'start': Timestamp('2017-10-03 19:24:10')},\n",
              " {'end': Timestamp('2017-10-03 20:23:52'),\n",
              "  'start': Timestamp('2017-10-03 20:17:06')}]"
            ]
          },
          "metadata": {}
        }
      ]
    },
    {
      "cell_type": "markdown",
      "metadata": {
        "id": "2XHdt1sp3v-G"
      },
      "source": [
        "# **What time did the bike leave in UTC?**\n",
        "\n",
        "Having set the timezone for the first ten rides that W20529 took, let's see what time the bike left in UTC. We've already loaded the results of the previous exercise into memory.\n",
        "\n",
        "\n",
        "Within the `for` loop, move `dt` to be in UTC. Use `timezone.utc` as a convenient shortcut for UTC."
      ]
    },
    {
      "cell_type": "code",
      "metadata": {
        "colab": {
          "base_uri": "https://localhost:8080/"
        },
        "id": "ov1mBj9l2g4q",
        "outputId": "e67273ab-7ecd-42df-8396-415b22d45cea"
      },
      "source": [
        "# Loop over the trips\n",
        "for trip in onebike_datetimes[:10]:\n",
        "    # Pull out the start\n",
        "    dt = trip['start']\n",
        "    # Move dt to be in UTC\n",
        "    dt = dt.astimezone(timezone.utc)\n",
        "    \n",
        "    # Print the start time in UTC\n",
        "    print('Original:', trip['start'], '| UTC:', dt.isoformat())"
      ],
      "execution_count": 80,
      "outputs": [
        {
          "output_type": "stream",
          "name": "stdout",
          "text": [
            "Original: 2017-10-01 15:23:25-04:00 | UTC: 2017-10-01T19:23:25+00:00\n",
            "Original: 2017-10-01 15:42:57-04:00 | UTC: 2017-10-01T19:42:57+00:00\n",
            "Original: 2017-10-02 06:37:10-04:00 | UTC: 2017-10-02T10:37:10+00:00\n",
            "Original: 2017-10-02 08:56:45-04:00 | UTC: 2017-10-02T12:56:45+00:00\n",
            "Original: 2017-10-02 18:23:48-04:00 | UTC: 2017-10-02T22:23:48+00:00\n",
            "Original: 2017-10-02 18:48:08-04:00 | UTC: 2017-10-02T22:48:08+00:00\n",
            "Original: 2017-10-02 19:18:10-04:00 | UTC: 2017-10-02T23:18:10+00:00\n",
            "Original: 2017-10-02 19:37:32-04:00 | UTC: 2017-10-02T23:37:32+00:00\n",
            "Original: 2017-10-03 08:24:16-04:00 | UTC: 2017-10-03T12:24:16+00:00\n",
            "Original: 2017-10-03 18:17:07-04:00 | UTC: 2017-10-03T22:17:07+00:00\n"
          ]
        }
      ]
    },
    {
      "cell_type": "markdown",
      "metadata": {
        "id": "65dw5gVF6MnQ"
      },
      "source": [
        "# **Putting the bike trips into the right time zone**\n",
        "\n",
        "Instead of setting the timezones for W20529 by hand, let's assign them to their IANA timezone: 'America/New_York'. Since we know their political jurisdiction, we don't need to look up their UTC offset. Python will do that for us.\n",
        "\n",
        "* Import `tz` from `dateutil`.\n",
        "* Assign `et` to be the timezone `'America/New_York'`.\n",
        "* Within the `for` loop, set `start` and `end` to have `et` as their timezone (use `.replace()`)."
      ]
    },
    {
      "cell_type": "code",
      "metadata": {
        "colab": {
          "base_uri": "https://localhost:8080/",
          "height": 765
        },
        "id": "YWZZR4we4tyS",
        "outputId": "d91b6917-08d0-424b-b445-9dc894300a3b"
      },
      "source": [
        "import pandas as pd\n",
        "from dateutil import tz\n",
        "\n",
        "df = pd.read_csv(\"capital-onebike.csv\")[[\"End date\", \"Start date\"]].rename(columns={\"End date\":\"end\", \"Start date\":\"start\"})\n",
        "df[\"end\"] = pd.to_datetime(df[\"end\"])\n",
        "df[\"start\"] = pd.to_datetime(df[\"start\"])\n",
        "onebike_datetimes = df.to_dict(\"records\")\n",
        "print(\"onebike_datetimes[:10]\")\n",
        "display(onebike_datetimes[:10])\n",
        "# Import tz\n",
        "from dateutil import tz\n",
        "\n",
        "# Create a timezone object for Eastern Time\n",
        "et = tz.gettz('America/New_York')\n",
        "\n",
        "# Loop over trips, updating the datetimes to be in Eastern Time\n",
        "for trip in onebike_datetimes[:10]:\n",
        "    # Update trip['start'] and trip['end']\n",
        "    trip['start'] = trip['start'].replace(tzinfo=et)\n",
        "    trip['end'] = trip['end'].replace(tzinfo=et)\n",
        "\n",
        "print(\"\\n\\n\")\n",
        "display(onebike_datetimes[:10])"
      ],
      "execution_count": 81,
      "outputs": [
        {
          "output_type": "stream",
          "name": "stdout",
          "text": [
            "onebike_datetimes[:10]\n"
          ]
        },
        {
          "output_type": "display_data",
          "data": {
            "text/plain": [
              "[{'end': Timestamp('2017-10-01 15:26:26'),\n",
              "  'start': Timestamp('2017-10-01 15:23:25')},\n",
              " {'end': Timestamp('2017-10-01 17:49:59'),\n",
              "  'start': Timestamp('2017-10-01 15:42:57')},\n",
              " {'end': Timestamp('2017-10-02 06:42:53'),\n",
              "  'start': Timestamp('2017-10-02 06:37:10')},\n",
              " {'end': Timestamp('2017-10-02 09:18:03'),\n",
              "  'start': Timestamp('2017-10-02 08:56:45')},\n",
              " {'end': Timestamp('2017-10-02 18:45:05'),\n",
              "  'start': Timestamp('2017-10-02 18:23:48')},\n",
              " {'end': Timestamp('2017-10-02 19:10:54'),\n",
              "  'start': Timestamp('2017-10-02 18:48:08')},\n",
              " {'end': Timestamp('2017-10-02 19:31:45'),\n",
              "  'start': Timestamp('2017-10-02 19:18:10')},\n",
              " {'end': Timestamp('2017-10-02 19:46:37'),\n",
              "  'start': Timestamp('2017-10-02 19:37:32')},\n",
              " {'end': Timestamp('2017-10-03 08:32:27'),\n",
              "  'start': Timestamp('2017-10-03 08:24:16')},\n",
              " {'end': Timestamp('2017-10-03 18:27:46'),\n",
              "  'start': Timestamp('2017-10-03 18:17:07')}]"
            ]
          },
          "metadata": {}
        },
        {
          "output_type": "stream",
          "name": "stdout",
          "text": [
            "\n",
            "\n",
            "\n"
          ]
        },
        {
          "output_type": "display_data",
          "data": {
            "text/plain": [
              "[{'end': Timestamp('2017-10-01 15:26:26-0400', tz='dateutil//usr/share/zoneinfo/America/New_York'),\n",
              "  'start': Timestamp('2017-10-01 15:23:25-0400', tz='dateutil//usr/share/zoneinfo/America/New_York')},\n",
              " {'end': Timestamp('2017-10-01 17:49:59-0400', tz='dateutil//usr/share/zoneinfo/America/New_York'),\n",
              "  'start': Timestamp('2017-10-01 15:42:57-0400', tz='dateutil//usr/share/zoneinfo/America/New_York')},\n",
              " {'end': Timestamp('2017-10-02 06:42:53-0400', tz='dateutil//usr/share/zoneinfo/America/New_York'),\n",
              "  'start': Timestamp('2017-10-02 06:37:10-0400', tz='dateutil//usr/share/zoneinfo/America/New_York')},\n",
              " {'end': Timestamp('2017-10-02 09:18:03-0400', tz='dateutil//usr/share/zoneinfo/America/New_York'),\n",
              "  'start': Timestamp('2017-10-02 08:56:45-0400', tz='dateutil//usr/share/zoneinfo/America/New_York')},\n",
              " {'end': Timestamp('2017-10-02 18:45:05-0400', tz='dateutil//usr/share/zoneinfo/America/New_York'),\n",
              "  'start': Timestamp('2017-10-02 18:23:48-0400', tz='dateutil//usr/share/zoneinfo/America/New_York')},\n",
              " {'end': Timestamp('2017-10-02 19:10:54-0400', tz='dateutil//usr/share/zoneinfo/America/New_York'),\n",
              "  'start': Timestamp('2017-10-02 18:48:08-0400', tz='dateutil//usr/share/zoneinfo/America/New_York')},\n",
              " {'end': Timestamp('2017-10-02 19:31:45-0400', tz='dateutil//usr/share/zoneinfo/America/New_York'),\n",
              "  'start': Timestamp('2017-10-02 19:18:10-0400', tz='dateutil//usr/share/zoneinfo/America/New_York')},\n",
              " {'end': Timestamp('2017-10-02 19:46:37-0400', tz='dateutil//usr/share/zoneinfo/America/New_York'),\n",
              "  'start': Timestamp('2017-10-02 19:37:32-0400', tz='dateutil//usr/share/zoneinfo/America/New_York')},\n",
              " {'end': Timestamp('2017-10-03 08:32:27-0400', tz='dateutil//usr/share/zoneinfo/America/New_York'),\n",
              "  'start': Timestamp('2017-10-03 08:24:16-0400', tz='dateutil//usr/share/zoneinfo/America/New_York')},\n",
              " {'end': Timestamp('2017-10-03 18:27:46-0400', tz='dateutil//usr/share/zoneinfo/America/New_York'),\n",
              "  'start': Timestamp('2017-10-03 18:17:07-0400', tz='dateutil//usr/share/zoneinfo/America/New_York')}]"
            ]
          },
          "metadata": {}
        }
      ]
    },
    {
      "cell_type": "markdown",
      "metadata": {
        "id": "orqn2u0S8DZU"
      },
      "source": [
        "# **What time did the bike leave? (Global edition)**\n",
        "\n",
        "When you need to move a `datetime` from one timezone into another, use `.astimezone()` and `tz`. Often you will be moving things into UTC, but for fun let's try moving things from 'America/New_York' into a few different time zones.\n",
        "\n",
        "* Set `uk` to be the timezone for the UK: 'Europe/London'.\n",
        "* Change `local` to be in the `uk` timezone and assign it to `notlocal`.\n",
        "* Set `ist` to be the timezone for India: 'Asia/Kolkata'.\n",
        "* Change `local` to be in the `ist` timezone and assign it to `notlocal`.\n",
        "* Set `sm` to be the timezone for Samoa: 'Pacific/Apia'.\n",
        "* Change `local` to be in the `sm` timezone and assign it to `notlocal`."
      ]
    },
    {
      "cell_type": "code",
      "metadata": {
        "colab": {
          "base_uri": "https://localhost:8080/",
          "height": 476
        },
        "id": "7fM-fqkd7nvC",
        "outputId": "a29f153c-aec3-4aee-d72f-51806d2686d5"
      },
      "source": [
        "from dateutil import tz\n",
        "import pandas as pd\n",
        "\n",
        "\n",
        "df = pd.read_csv(\"capital-onebike.csv\")[[\"End date\", \"Start date\"]].rename(columns={\"End date\":\"end\", \"Start date\":\"start\"})\n",
        "df[\"end\"] = pd.to_datetime(df[\"end\"])\n",
        "df[\"start\"] = pd.to_datetime(df[\"start\"])\n",
        "onebike_datetimes = df.to_dict(\"records\")\n",
        "\n",
        "for trip in onebike_datetimes:\n",
        "    # Update trip['start'] and trip['end']\n",
        "    trip['start'] = trip['start'].replace(tzinfo=et)\n",
        "    trip['end'] = trip['end'].replace(tzinfo=et)\n",
        "\n",
        "display(onebike_datetimes[:5])\n",
        "\n",
        "# Create the timezone object\n",
        "uk = tz.gettz('Europe/London')\n",
        "\n",
        "# Pull out the start of the first trip\n",
        "local = onebike_datetimes[0]['start']\n",
        "\n",
        "# What time was it in the UK?\n",
        "notlocal = local.astimezone(uk)\n",
        "\n",
        "# Print them out and see the difference\n",
        "print(\"\\n\\nonebike_datetimes[0]['start'], local.astimezone(tz.gettz('Europe/London'))\" )\n",
        "print(\"You cannot do this if you have not made data timezone awared.\\n\")\n",
        "print(local.isoformat())\n",
        "print(notlocal.isoformat())\n",
        "\n",
        "\n",
        "# Create the timezone object\n",
        "ist = tz.gettz('Asia/Kolkata')\n",
        "\n",
        "# Pull out the start of the first trip\n",
        "local = onebike_datetimes[0]['start']\n",
        "\n",
        "# What time was it in India?\n",
        "notlocal = local.astimezone(ist)\n",
        "\n",
        "# Print them out and see the difference\n",
        "print(\"\\n\\nonebike_datetimes[0]['start'], local.astimezone(tz.gettz('Asia/Kolkata'))\" )\n",
        "print(local.isoformat())\n",
        "print(notlocal.isoformat())\n",
        "\n",
        "# Create the timezone object\n",
        "sm = tz.gettz('Pacific/Apia')\n",
        "\n",
        "# Pull out the start of the first trip\n",
        "local = onebike_datetimes[0]['start']\n",
        "\n",
        "# What time was it in Samoa?\n",
        "notlocal = local.astimezone(sm)\n",
        "\n",
        "# Print them out and see the difference\n",
        "print(\"\\n\\nonebike_datetimes[0]['start'], local.astimezone(tz.gettz('Pacific/Apia'))\" )\n",
        "print(local.isoformat())\n",
        "print(notlocal.isoformat())"
      ],
      "execution_count": 94,
      "outputs": [
        {
          "output_type": "display_data",
          "data": {
            "text/plain": [
              "[{'end': Timestamp('2017-10-01 15:26:26-0400', tz='dateutil//usr/share/zoneinfo/America/New_York'),\n",
              "  'start': Timestamp('2017-10-01 15:23:25-0400', tz='dateutil//usr/share/zoneinfo/America/New_York')},\n",
              " {'end': Timestamp('2017-10-01 17:49:59-0400', tz='dateutil//usr/share/zoneinfo/America/New_York'),\n",
              "  'start': Timestamp('2017-10-01 15:42:57-0400', tz='dateutil//usr/share/zoneinfo/America/New_York')},\n",
              " {'end': Timestamp('2017-10-02 06:42:53-0400', tz='dateutil//usr/share/zoneinfo/America/New_York'),\n",
              "  'start': Timestamp('2017-10-02 06:37:10-0400', tz='dateutil//usr/share/zoneinfo/America/New_York')},\n",
              " {'end': Timestamp('2017-10-02 09:18:03-0400', tz='dateutil//usr/share/zoneinfo/America/New_York'),\n",
              "  'start': Timestamp('2017-10-02 08:56:45-0400', tz='dateutil//usr/share/zoneinfo/America/New_York')},\n",
              " {'end': Timestamp('2017-10-02 18:45:05-0400', tz='dateutil//usr/share/zoneinfo/America/New_York'),\n",
              "  'start': Timestamp('2017-10-02 18:23:48-0400', tz='dateutil//usr/share/zoneinfo/America/New_York')}]"
            ]
          },
          "metadata": {}
        },
        {
          "output_type": "stream",
          "name": "stdout",
          "text": [
            "\n",
            "\n",
            "onebike_datetimes[0]['start'], local.astimezone(tz.gettz('Europe/London'))\n",
            "You cannot do this if you have not made data timezone awared.\n",
            "\n",
            "2017-10-01T15:23:25-04:00\n",
            "2017-10-01T20:23:25+01:00\n",
            "\n",
            "\n",
            "onebike_datetimes[0]['start'], local.astimezone(tz.gettz('Asia/Kolkata'))\n",
            "2017-10-01T15:23:25-04:00\n",
            "2017-10-02T00:53:25+05:30\n",
            "\n",
            "\n",
            "onebike_datetimes[0]['start'], local.astimezone(tz.gettz('Pacific/Apia'))\n",
            "2017-10-01T15:23:25-04:00\n",
            "2017-10-02T09:23:25+14:00\n"
          ]
        }
      ]
    },
    {
      "cell_type": "markdown",
      "metadata": {
        "id": "Q-u2QtPeFuFk"
      },
      "source": [
        "# **Starting daylight saving time**\n",
        "\n",
        "![image.png](data:image/png;base64,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)\n",
        "\n",
        "![image.png](data:image/png;base64,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)"
      ]
    },
    {
      "cell_type": "code",
      "metadata": {
        "colab": {
          "base_uri": "https://localhost:8080/",
          "height": 155
        },
        "id": "BDazy9Wk-wed",
        "outputId": "f2e1128c-0bc1-469d-c544-3e09ba754046"
      },
      "source": [
        "from datetime import datetime\n",
        "\n",
        "spring_ahead_159am = datetime(2017, 3, 12, 1, 59, 59)\n",
        "print(\"datetime(2017, 3, 12, 1, 59, 59)\")\n",
        "display(spring_ahead_159am.isoformat())\n",
        "\n",
        "spring_ahead_3am = datetime(2017, 3, 12, 3, 0, 0)\n",
        "print(\"\\ndatetime(2017, 3, 12, 3, 0, 0)\")\n",
        "display(spring_ahead_3am.isoformat())\n",
        "\n",
        "print(\"\\n(spring_ahead_3am - spring_ahead_159am).total_seconds()\")\n",
        "print((spring_ahead_3am - spring_ahead_159am).total_seconds())"
      ],
      "execution_count": 3,
      "outputs": [
        {
          "output_type": "stream",
          "name": "stdout",
          "text": [
            "datetime(2017, 3, 12, 1, 59, 59)\n"
          ]
        },
        {
          "output_type": "display_data",
          "data": {
            "application/vnd.google.colaboratory.intrinsic+json": {
              "type": "string"
            },
            "text/plain": [
              "'2017-03-12T01:59:59'"
            ]
          },
          "metadata": {}
        },
        {
          "output_type": "stream",
          "name": "stdout",
          "text": [
            "\n",
            "datetime(2017, 3, 12, 3, 0, 0)\n"
          ]
        },
        {
          "output_type": "display_data",
          "data": {
            "application/vnd.google.colaboratory.intrinsic+json": {
              "type": "string"
            },
            "text/plain": [
              "'2017-03-12T03:00:00'"
            ]
          },
          "metadata": {}
        },
        {
          "output_type": "stream",
          "name": "stdout",
          "text": [
            "\n",
            "(spring_ahead_3am - spring_ahead_159am).total_seconds()\n",
            "3601.0\n"
          ]
        }
      ]
    },
    {
      "cell_type": "markdown",
      "metadata": {
        "id": "nK594UaYH5JX"
      },
      "source": [
        "This is not correct as we have not accounted for timezone.  We must do the following."
      ]
    },
    {
      "cell_type": "code",
      "metadata": {
        "colab": {
          "base_uri": "https://localhost:8080/",
          "height": 155
        },
        "id": "zxNGBk-vGs6G",
        "outputId": "96c3f5c5-2142-4717-ea3e-344c076d9a37"
      },
      "source": [
        "from datetime import datetime, timezone, timedelta\n",
        "\n",
        "EST = timezone(timedelta(hours=-5)) # Eastern Standard Time\n",
        "EDT = timezone(timedelta(hours=-4)) # Eastern Daylight Time\n",
        "\n",
        "spring_ahead_159am = datetime(2017, 3, 12, 1, 59, 59).replace(tzinfo = EST)\n",
        "print(\"datetime(2017, 3, 12, 1, 59, 59)\")\n",
        "display(spring_ahead_159am.isoformat())\n",
        "\n",
        "spring_ahead_3am = datetime(2017, 3, 12, 3, 0, 0).replace(tzinfo = EDT)\n",
        "print(\"\\ndatetime(2017, 3, 12, 3, 0, 0)\")\n",
        "display(spring_ahead_3am.isoformat())\n",
        "\n",
        "print(\"\\n(spring_ahead_3am - spring_ahead_159am).total_seconds()\")\n",
        "print((spring_ahead_3am - spring_ahead_159am).total_seconds())"
      ],
      "execution_count": 4,
      "outputs": [
        {
          "output_type": "stream",
          "name": "stdout",
          "text": [
            "datetime(2017, 3, 12, 1, 59, 59)\n"
          ]
        },
        {
          "output_type": "display_data",
          "data": {
            "application/vnd.google.colaboratory.intrinsic+json": {
              "type": "string"
            },
            "text/plain": [
              "'2017-03-12T01:59:59-05:00'"
            ]
          },
          "metadata": {}
        },
        {
          "output_type": "stream",
          "name": "stdout",
          "text": [
            "\n",
            "datetime(2017, 3, 12, 3, 0, 0)\n"
          ]
        },
        {
          "output_type": "display_data",
          "data": {
            "application/vnd.google.colaboratory.intrinsic+json": {
              "type": "string"
            },
            "text/plain": [
              "'2017-03-12T03:00:00-04:00'"
            ]
          },
          "metadata": {}
        },
        {
          "output_type": "stream",
          "name": "stdout",
          "text": [
            "\n",
            "(spring_ahead_3am - spring_ahead_159am).total_seconds()\n",
            "1.0\n"
          ]
        }
      ]
    },
    {
      "cell_type": "markdown",
      "metadata": {
        "id": "ipXN-_okIg8O"
      },
      "source": [
        "However, using `dateutil` makes it much easier."
      ]
    },
    {
      "cell_type": "code",
      "metadata": {
        "colab": {
          "base_uri": "https://localhost:8080/",
          "height": 153
        },
        "id": "6bU0SS-XISMh",
        "outputId": "76b18f32-14f2-4fd5-f19e-4b9630da9027"
      },
      "source": [
        "from dateutil import tz\n",
        "from datetime import datetime\n",
        "\n",
        "# Create eastern timezone\n",
        "eastern = tz.gettz('America/New_York')\n",
        "# 2017-03-12 01:59:59 in Eastern Time (EST)\n",
        "spring_ahead_159am = datetime(2017, 3, 12, 1, 59, 59, tzinfo = eastern)\n",
        "\n",
        "print(\"datetime(2017, 3, 12, 1, 59, 59, tzinfo = eastern)\")\n",
        "display(datetime(2017, 3, 12, 1, 59, 59, tzinfo = eastern))\n",
        "\n",
        "# 2017-03-12 03:00:00 in Eastern Time (EDT)\n",
        "spring_ahead_3am = datetime(2017, 3, 12, 3, 0, 0, tzinfo = eastern)\n",
        "print(\"\\ndatetime(2017, 3, 12, 3, 0, 0, tzinfo = eastern)\")\n",
        "display(datetime(2017, 3, 12, 3, 0, 0, tzinfo = eastern))\n",
        "\n",
        "print(\"\\n(spring_ahead_3am - spring_ahead_159am).total_seconds()\")\n",
        "print((spring_ahead_3am - spring_ahead_159am).total_seconds(), \". This should be 1 ???????\")\n"
      ],
      "execution_count": 4,
      "outputs": [
        {
          "output_type": "stream",
          "name": "stdout",
          "text": [
            "datetime(2017, 3, 12, 1, 59, 59, tzinfo = eastern)\n"
          ]
        },
        {
          "output_type": "display_data",
          "data": {
            "text/plain": [
              "datetime.datetime(2017, 3, 12, 1, 59, 59, tzinfo=tzfile('/usr/share/zoneinfo/America/New_York'))"
            ]
          },
          "metadata": {}
        },
        {
          "output_type": "stream",
          "name": "stdout",
          "text": [
            "\n",
            "datetime(2017, 3, 12, 3, 0, 0, tzinfo = eastern)\n"
          ]
        },
        {
          "output_type": "display_data",
          "data": {
            "text/plain": [
              "datetime.datetime(2017, 3, 12, 3, 0, tzinfo=tzfile('/usr/share/zoneinfo/America/New_York'))"
            ]
          },
          "metadata": {}
        },
        {
          "output_type": "stream",
          "name": "stdout",
          "text": [
            "\n",
            "(spring_ahead_3am - spring_ahead_159am).total_seconds()\n",
            "3601.0 . This should be 1 ???????\n"
          ]
        }
      ]
    },
    {
      "cell_type": "markdown",
      "metadata": {
        "id": "RS64LkjUJml7"
      },
      "source": [
        "### ไม่รู้เหมือนกันว่า ทำไมใช้ไม่ได้ ??????????????????\n",
        "\n",
        "# **How many hours elapsed around daylight saving?**\n",
        "\n",
        "Since our bike data takes place in the fall, you'll have to do something else to learn about the start of daylight savings time.\n",
        "\n",
        "Let's look at March 12, 2017, in the Eastern United States, when Daylight Saving kicked in at 2 AM.\n",
        "\n",
        "If you create a `datetime` for midnight that night, and add 6 hours to it, how much time will have elapsed?\n",
        "\n",
        "* You already have a `datetime` called `start`, set for March 12, 2017 at midnight, set to the timezone `'America/New_York'`.\n",
        "\n",
        "* Add six hours to `start` and assign it to `end`. Look at the UTC offset for the two results."
      ]
    },
    {
      "cell_type": "code",
      "metadata": {
        "colab": {
          "base_uri": "https://localhost:8080/"
        },
        "id": "xV4tm_BFI4Cc",
        "outputId": "cfb15ba9-3c9c-4bbb-a0cb-bcdc5f0f877a"
      },
      "source": [
        "# Import datetime, timedelta, tz, timezone\n",
        "from datetime import datetime, timedelta, timezone\n",
        "from dateutil import tz\n",
        "\n",
        "# Start on March 12, 2017, midnight, then add 6 hours\n",
        "start = datetime(2017, 3, 12, tzinfo = tz.gettz('America/New_York'))\n",
        "end = start + timedelta(hours=6)\n",
        "print(start.isoformat() + \" to \" + end.isoformat())"
      ],
      "execution_count": 5,
      "outputs": [
        {
          "output_type": "stream",
          "name": "stdout",
          "text": [
            "2017-03-12T00:00:00-05:00 to 2017-03-12T06:00:00-04:00\n"
          ]
        }
      ]
    },
    {
      "cell_type": "markdown",
      "metadata": {
        "id": "81N09RGrLEb6"
      },
      "source": [
        "You added 6 hours, and got 6 AM, despite the fact that the clocks springing forward means only 5 hours would have actually elapsed!\n",
        "\n",
        "* Calculate the time between `start` and `end`. How much time does Python think has elapsed?"
      ]
    },
    {
      "cell_type": "code",
      "metadata": {
        "colab": {
          "base_uri": "https://localhost:8080/"
        },
        "id": "xWOVxyeGK5Xo",
        "outputId": "cef17013-cc29-45a1-deec-bfdeb349fd9c"
      },
      "source": [
        "# How many hours have elapsed?\n",
        "print((end - start).total_seconds()/(60*60))"
      ],
      "execution_count": 6,
      "outputs": [
        {
          "output_type": "stream",
          "name": "stdout",
          "text": [
            "6.0\n"
          ]
        }
      ]
    },
    {
      "cell_type": "markdown",
      "metadata": {
        "id": "XDFVr53jL0Y3"
      },
      "source": [
        "Move your `datetime objects into UTC and calculate the elapsed time again.\n",
        "\n",
        "Once you're in UTC, what result do you get?"
      ]
    },
    {
      "cell_type": "code",
      "metadata": {
        "colab": {
          "base_uri": "https://localhost:8080/"
        },
        "id": "SD25VuVFLxKn",
        "outputId": "fab05275-dc15-4292-cce4-960346ca2f40"
      },
      "source": [
        "# What if we move to UTC?\n",
        "print((end.astimezone(timezone.utc) - start.astimezone(timezone.utc)).total_seconds()/(60*60))"
      ],
      "execution_count": 7,
      "outputs": [
        {
          "output_type": "stream",
          "name": "stdout",
          "text": [
            "5.0\n"
          ]
        }
      ]
    },
    {
      "cell_type": "markdown",
      "metadata": {
        "id": "L5I5CrFRMnUX"
      },
      "source": [
        "When we compare times in local time zones, everything gets converted into clock time. Remember if you want to get absolute time differences, <ins>always move to UTC!</ins>"
      ]
    },
    {
      "cell_type": "markdown",
      "metadata": {
        "id": "0AjdygPCMt_W"
      },
      "source": [
        "# **March 29, throughout a decade**\n",
        "\n",
        "Daylight Saving rules are complicated: they're different in different places, they change over time, and they usually start on a Sunday (and so they move around the calendar).\n",
        "\n",
        "For example, in the United Kingdom, as of the time this lesson was written, Daylight Saving begins on the last Sunday in March. Let's look at the UTC offset for March 29, at midnight, for the years 2000 to 2010.\n",
        "\n",
        "* Using `tz`, set the timezone for `dt` to be 'Europe/London'.\n",
        "* Within the for loop:\n",
        "  * Use the `.replace()` method to change the year for `dt` to be `y`.\n",
        "  * Call `.isoformat()` on the result to observe the results."
      ]
    },
    {
      "cell_type": "code",
      "metadata": {
        "colab": {
          "base_uri": "https://localhost:8080/"
        },
        "id": "BO1U8AMgMf_i",
        "outputId": "da9d87e3-40fb-43f7-beb3-b0ff4fd10f3a"
      },
      "source": [
        "# Import datetime and tz\n",
        "from datetime import datetime\n",
        "from dateutil import tz\n",
        "\n",
        "# Create starting date\n",
        "dt = datetime(2000, 3, 29, tzinfo=tz.gettz('Europe/London'))\n",
        "\n",
        "# Loop over the dates, replacing the year, and print the ISO timestamp\n",
        "for y in range(2000, 2011):\n",
        "    print(dt.replace(year=y).isoformat())"
      ],
      "execution_count": 8,
      "outputs": [
        {
          "output_type": "stream",
          "name": "stdout",
          "text": [
            "2000-03-29T00:00:00+01:00\n",
            "2001-03-29T00:00:00+01:00\n",
            "2002-03-29T00:00:00+00:00\n",
            "2003-03-29T00:00:00+00:00\n",
            "2004-03-29T00:00:00+01:00\n",
            "2005-03-29T00:00:00+01:00\n",
            "2006-03-29T00:00:00+01:00\n",
            "2007-03-29T00:00:00+01:00\n",
            "2008-03-29T00:00:00+00:00\n",
            "2009-03-29T00:00:00+00:00\n",
            "2010-03-29T00:00:00+01:00\n"
          ]
        }
      ]
    },
    {
      "cell_type": "markdown",
      "metadata": {
        "id": "MAO3f93JN4pM"
      },
      "source": [
        "The rules for Daylight Saving varies from year to year. When in doubt, always use `tz` instead of hand-rolling timezones, so it will catch the Daylight Saving rules (and rule changes!) for you."
      ]
    },
    {
      "cell_type": "markdown",
      "metadata": {
        "id": "Xa4RNOsEeXf_"
      },
      "source": [
        "# **Ending daylight saving time**\n",
        "\n",
        "![image.png](data:image/png;base64,iVBORw0KGgoAAAANSUhEUgAABCkAAAIZCAYAAACLXGXwAAAgAElEQVR4AezdB7SsRZUv8LfWzJqwJqc342TM4c2MGIegCCaQnLkgICA5I0FQcs4ZEVRQcpQoIIgoCAKCJElKECSJCCiKCeutX71X+k3b3eece889t8+5/1qrT/fp/ir9v72r9v7Xrvr+V0kKAkEgCASBIBAEgkAQCAJBIAgEgSAQBILACCDwv0agDWlCEAgCQSAIBIEgEASCQBAIAkEgCASBIBAESkiKCEEQCAJBIAgEgSAQBIJAEAgCQSAIBIEgMBIIhKQYiduQRgSBIBAEgkAQCAJBIAgEgSAQBIJAEAgCISkiA0EgCASBIBAEgkAQCAJBIAgEgSAQBILASCAQkmIkbkMaEQSCQBAIAkEgCASBIBAEgkAQCAJBIAiEpIgMBIEgEASCQBAIAkEgCASBIBAEgkAQCAIjgUBIipG4DWlEEAgCQSAIBIEgEASCQBAIAkEgCASBIBCSIjIQBIJAEAgCQSAIBIEgEASCQBAIAkEgCIwEAiEpRuI2pBFBIAgEgSAQBIJAEAgCQSAIBIEgEASCQEiKyEAQCAJBIAgEgSAQBIJAEAgCQSAIBIEgMBIIhKQYiduQRgSBIBAEgkAQCAJBIAgEgSAQBIJAEAgCISkiA0EgCASBIBAEgkAQCAJBIAgEgSAQBILASCAQkmIkbkMaEQSCQBAIAkEgCASBIBAEgkAQCAJBIAiEpIgMBIEgEASCQBAIAkEgCASBIBAEgkAQCAIjgUBIipG4DWlEEAgCQSAIBIEgEASCQBAIAkEgCASBIBCSIjIQBIJAEAgCQSAIBIEgEASCQBAIAkEgCIwEAiEpRuI2pBFBIAgEgSAQBIJAEAgCQSAIBIEgEASCQEiKyEAQCAJBIAgEgSAQBIJAEAgCQSAIBIEgMBIIhKQYiduQRgSBIBAEJgeBX//61+Wll16qL5+9koJAEBhdBLo6+6tf/eo3uju6LZ43LWs4ZUybN/hP51rJzHjlxnX08Je//GV9H2++qcBnIv2Ym+1p7RglbOZmf1P2vEEgJMW8wT21BoEgEATmCgKMq5/+9KflJz/5SXnxxReroRVDYq5AnUKDwJgI0D2k4TAdpLN09bnnnitPPvlkefbZZ8vPfvazMfONWXnPBeNpS0+W2u6x2t+bZ279Dye4/PznPx+K59yqP+VOTwTIfSMdyPKw5Fpz5w9+8IPy/e9/v/zwhz+sujlMf4eVN+y3ierjRPoxrN45/Q2GCBx66AXbuYHPnLYz+ac/AiEppv89TA+CQBCYiwg0w4Djz4lgvDBcfvzjH9cJepjRI+8vfvGLeu3TTz9dnnjiifLUU09VJ0R548n7/PPPV8floYcequ/K6yYGwo9+9KP623e/+93y7W9/u3zrW98qd955Z7nrrrvKo48+WkkLdc2JISEvw+SFF16odT322GO1L+rWhn5JHvXqq/4//vjj5Xvf+17FT1mzm5TLWVG3cjl2cHV/+jkwrocbLLXhwQcfLPfff3/FSnv0SXtclzQzEHAv3VMOxzPPPPMbGRkPAUBmyVHTPTJCj8ia8obJSsurHnkeeeSRqvfGi6YnTR7JL3n8zne+U3X1lltuKddff3259dZb63fGmZZndu+KuvSFbtBZcq8/bfwZJPP62HRd++SBRz/9Gk/b1AMbZIx+GQtho//uT2tPtyzX0/OG5X333VfuuOOOcs899xRjne/nFJ9uffk8dxBoMkh+zJ/uPQLA/+7vIBnsygwZaTJDjpXTT2a6PZC/zT0PPPBAHe/lMxd069QG5ZNx15k7b7rppnLdddeVm2+++X/Mod3yJ/q5yTP5744N9Mxv/ZJ20kVYtbnr4Ycfrvo8J7Lf9BsebXyDr3GiF592H2DpvrFFmo1BF90PfdCeLq79+pPvgsBEEAhJMRG0cm0QCALzHQImXhMw4/6aa64pF110UbnsssuqI2FyHmRkmazlZfwwdM4///zy6U9/upx66qnlyiuvLAxuk36/1IwCjjdD6TOf+UzZeeedy+c+97nqjHfzMF5uvPHG8tnPfrbsvffe5aMf/WjZddddy8c//vGy/fbbl5NPPrk65ZyDQYZQt7xBn5uhxIBT19FHH11OOeWU8vWvf72SBf3y6b8+Ik70/xOf+EQ58sgjyxVXXFEdjH55xvMdR4mRd8MNN5RzzjmnnHTSSeW0006r94eh1XWkYKntHMxrr722HH/88WXHHXcsm2yySdlss83KUUcdVW6//fY5NvrG0+5cM3UIuOcMcMb0xRdfXHWHvF511VXVOUY2DNIHMku+vva1r1XdO+yww8ohhxxSzj777OrAKFf5/ZJyORNf+tKXysEHH1xfZPO2226rBIc85JOxT3foBH0lk94POOCActBBB5Vjjjmm1o/cmN3UxhE68dWvfrXWtdVWW9V3OjkMA44UQkDbd9lll9oe+oYQ5MRMNBkL1Icg/MIXvlA++clP1r7qv/G033joPiAjjJcHHnhg2Wabbcrmm29edtppp3LooYeWq6++ujpvE21Lrp86BNr4SwbJT5sH6RL9QlTRh36JzPiNzJCRE044ocrBscceW+dhczIZUUdv8p285Oq8884re+65Z/nYxz5WLr/88jou0N+WTxsuvfTSOjeRLfK+1157VTmTz/jBMR9UV2/dg/4n/wgBbTCmGB/olzHK/Nwv0TU2BPJS/7Xr8MMPrzaF9sxuUqYx6YILLqj9Nr4p/ytf+UrV8a5dY5xsWJ555pm1DebPjTbaqNobp59+eiVZERzuWVIQmCwEQlJMFpIpJwgEgRmHgMkZUYBkOOuss6pxsN9++1UDmfP/5S9/uTokJvBm8ABBvmZgIzYYVZyQjTfeuHASkAkMH4ZCNynDJI94sKLDmeewrL/++mXxxRcvu+++ezXau3mU0a7bcsstq/O93XbblfXWW68stthi1dCyMqvM2TEg5OEocRYYSpyLddZZp6y11lrVWOlHOOg/o4thanUYMbP11luXddddt2KAbOGkTTQp1+rpvffeWy655JJyxBFHVCIGro1w4Fh1+8oY5TQyiI877rjq6MyaNausssoqZc011yz7779/+cY3vjHH0R0T7UuunzsI0CGGPfniFCEm3GOk3W677VZlgJPQzykmK6IbRA64hnyRrdVWW62suuqqtQwkJQe/16kwBiAvRC+RzT322KMsueSSZY011qjOCPlrhAMHAMGJyNhnn32q48355oR/5CMfKZtuumnZYostqkNH3ieaYKAv9KD1hUNEZxdccMGy7bbbVmKuS1LIQ78Qsgga5ChSVf/f9ra31XeYaPdESIp2P4xTdPPcc8+t2Hz4wx8uq6++etlwww0rBt1xRB54agfnVNvb9WuvvXbFhrPmt9nBZ6J45vrZR4CMWfk3VyKIzX1IAHJvLkGemWO7c2iTRTJDnxAb8nGKyYz5hy4rk2NMblvyWVnItG9+85t17qFT73vf+8pSSy1VSXvzUpekoM/GCSQheaeHyH7zhPoQaWTX2NCtq9U51nuL1EDwIwWQJSussEL54Ac/WIk6URtw6iY61sYi4wQSQb+XX375Ol4g7tp40s031mfjlvnQ2Ijc1xY6ZXyjY5/61KcqadKdQ7UDRtru3pnHzZ/wYc8oB+ExGZFfY7U/v89fCISkmL/ud3obBILABBBgXDCEGEQmcGQBAx/hwJFAWIhiMDkzeqRmlFsxQWwweBgkHBbvK664YjWW5LWC002NEGCYMegY8O9+97vLoosuWt7znvdUwkK53cSY0IYLL7ywrgZpLzIBMSIv4sKK7eyGRiNbkAKcC5EZ73//+8trXvOa2h+rvRz8XmOJkciZsWoNO4bVm9/85pp3hx12qKtgvQRNt0+DPjOw1IdssJKz3HLLlaWXXrriiZBxT774xS/+hjhSjrZpx7777lvvBSOL88XBEVlhFcv96xrJg+rP96OPAB1yP8mJqIQPfehD1ZBGGiArmpNkRVB0TTdx0O++++4aMUFOkRNNvryTORFEDPxemUdQcOzpBIKQzr7yla+sZSDlhEU3YqOtjtIr0QBkVplWc5WvbuPG5z//+dlywmGgLxwrDha9WGaZZcrCCy9c9ZBOIkG7jlpz7pAaVkY5aSuvvHJ5y1veUhZYYIFKDCA79Vv5402uNfbIawUYNsbBlVZaqTpHHCRkIYeVYylpV4t8oq/GXU7tGWecUaOl3FtjJGeL3iaNLgKIJvMggp0cItBFxZBBMm6eIxvmgzaHkkVzr+9dax6kiwg/RBtd9D95QEZ2iQM6RnaQXqIPOd8I/oUWWqjmEVVhfDBPt0TuzAUcf5EE5lOfRVWo01w6JyQFEgZJKYqQrGsLvSLXFjuMDfrbTXSGjPtd/9/73veWRRZZpOqNMUwbZyeSwrzMVqBPjWxAOMDUfKpsCyuNyNEmkSyiJxG97qG5VBkwo4t+197Mod07mM+TgUBIislAMWUEgSAwIxEw6TIuhBYzqkzsHGSrGlZBrH5yLBhizVhmaIk64HhYAbQiyrlhnHGUrPgzUhhoHAWJkWW1woqTiZ9hwji3UvHOd76zrgIhSfpt92CUtT2i2uFl+4LVDSsvDArGzkScC+1RLkKEMcRpUY62f+ADHyivetWrqkFjhauF6zZyhtGofkYMp8RKy7LLLlve8IY3VEOIwcew6XXyhgmQsttqDoPX6g/sETAMSe+MLBgxQjlaDDirUz5z1JqzKqS1GcUMw66jNqwN+W16IMAptrrKqeD4Wh1FHIjmoVeMcHpFpxnsEnknL4xtMo3MQBRYgaWHSEl6TGeNAXSbUY5s8C7s3Hdkm2NkxdfKLT3ZYIMNKhHBUWlOmDaSTY6ZNnC2lWOsaQ4csgLZiGwYb1Iu0lI/OFttpZTs00G6ixwwhnFCpNYW7bCi2w3n5qAtscQS1aEydil3IvpCb+k5fWsr1XQV2SkSwlYr+ovANb40AlYeEVgcWI4UZ87YZxwzDmiDdned0/FilOumFgGyLfqIPJNt99SKvDnUvbWdAons3rcIHTIs6oAsNt2jV/RSZKF5jUN94okn1nzkwViOnGhzD/3mUJP3tkBApzngvTpF3sy92kAPzWn0h0zSeXMO2TdGdMmNQUi6hnwiQxAQCHH9R/zRRYT6m970pmoTiJKgi/re7ICmv7Z5InfIv/HkHe94R7Ul6JIxp9kcg9rR/d61iFRkKOyNbV6Ih9ZPuNLztr3FGEXfYCESEqHofthiCSs2gnbr63hw6bYnn4PAeBAISTEelHJNEAgC8yUCjAZGCwMGoeAdCSBagbHNGWFICR03YUsmdmHRjAsOEcfIJG/VFJngelERnGwhlBIDQvmMOUY7Y4FRxoATfspAYOQIjWXAdZM2qlu9ylGmOkVqcKgYhBykiRgSDA9kA+NKGzj/CArOHuKFwWRFlFOjbgaKF4OGY8X5gA3jirHIuGQo+p9Rpj3NIO32ZdBnZSMbmgPJsEKcCDGFm/vhO5jBl4HL8OR4WRFjnIrmgImoEsaa+mNYDUJ8+n7vnnJaOCLuP4OfQU0vOCjkkYNDrlskE1ngKJAjRrpoKau0wsXlQ9SRK8Z9M+LJEHnnOCNDODPkG4GGKOOQcUY4JhyKrrxpI73VTjpLVjlY9ulzBNShzu7q8njuCF1Ul6gn7TGOIFc5dk0/9JsTwoGS1A8njiJCRx/0n+OCdNEWuo7cs+I8Xp1xnTEHrsgSZSItjY0IJGOh+2JPvugsuCF3JeMDUgK52/pAj429vSvONUP+jCwC5IuuuHfur3uOuDB+u7f0oznFrpWM6cgMsufsBhFFxnT6St/ologE17iW3NMfDrh5Erkm+oC+GvM51vTAVgay5/puIqfkSv3mUXMEIs/8SQds96TrdHY8SXkIDXVpD1vBogb9QniY45F/2tZsB3mMBy2SyVxmqwkiAVlBP/wvOkw/9Vee8SbErcUBERHmQ3OyyC/4ebkH2gMz45dxxPijPfRXJIdxEy7waOdPjHc8GG87c10Q6CIQkqKLRj4HgSAQBHoQaM5Ec3xM6JxlqzTIA448w4uBwzEyqTMqOAkMFAYPo9vvyuKkC70WYcAB8r3ffc+IZ5xYZWTMWP21gsuoQGAou9fA0lyGgnI4HiIxGGRIEu0Uvs7wGm9SFmdEu22LYFgxFhEUjEUGC0eG08PA0id5kDm2TnDutN8KNIOH8cMwYlSKJrHSpQ/jNfha3xA9HCxlc2AYgPBWjtUqjph26rP//ea+WOFuBp53xrHvtEObx9uO8eKX60YDAXLj3iIHyALnhpNCbultNyrJ7+SdI05v6CFDHCFI75GTIqYY6Bwkjjad5WiTJdfTOQSeVU5bOBAXQtP9xikblpAEynEGBmceyUh21a0f40lNBxEtyuEI0RWERYs+0jdjisgGfZYQJPpKR/3uZfyiJ/Cgw5w152w0YmM87eFAITrhChfOVluRboSqNiBRbYGj2xxZiQNmtZYDCw+/aYsDN91H2LuvSdMDgaaL9BFhgfwzNyLkyJYIIrJiXqBz/jdWmwvJh3mGzMhPNhAHojDIKeIDIWBuRHhZGCBr7YBmcuN/5CQijoz1kx1tVL/fm77Qo94oj/Egrq3GBltOkAr6YtwwN5rH6JT5UNuMDfpl/kYKICCMGeZPumickkf79VlUILthIlEdykfwKIsuaYtIR/M8PUXQICzUYYHBnM3OMT/qB/IUoeQFV/gYD9tigPLHO06NB79cEwQaAiEpGhJ5DwJBIAiMgQADyeTMGbYywuGxmm+SN1EzcKz4MUw45FYkGF8MgTaJW81llDO+GRtWJBjeVoXkEcLKiZCPcSI8FFHBkWDUq6df4myI1mCoCTHXRv8zflrd/fL1fqetHHgOHeeCQagdyvKOuGBAMZYYiMqWx8oLggBZYBWWoSOPFxxEVmgT42ci7eGo6Zt+2TurbCREM1q1Xx0w55RxIDmVjDjOTIvsEJECS+2AJyNZm5WfNHMRaCQgJ5uRLSqAQ47kIkMS5wC5QP84JuSc7DTZYKiTbTLvJaIJscChYPhzNhB45JIsck7oDaKAY2LcGJZsbeCQWfFFAvqfzI830Sdt5fAgIRCL2mVsUrf2kv8W7t7Cy5XPadR2ug4XDqK+ieSwskqnYNMlNsbTLrgbR5SpDI4RR8iKtPZyCGFsbHBfOG7qlfRd/fIaT+CIGHV/OKbGwongM5725pqpQYCO0BckvTkUmceBbmQisoFMiNxD/HGEza9tziCvdMtYbk4wT9JjUQIIDzKL8KeznHD6hCwUkdHI635zqPLpiuhAukBf6BCyUNta/eNByXhiDCG/5hlEoX6Z++giR9+WJ/1sxB95Nh+ZN81xcGEX0GntNi7RE/3R5/G2x3XGBrqoTraBemEOV4muaq85FBGLZGXLsDf0BdGofmSLscW9M46yVdq9G297xoNfrgkCDYGQFA2JvAeBIBAEBiBgEmesmLwZ24xlhoTVCAZ/W0ngFHBihFKa7BnabcVSGSZ8kRe2T8jfVoEYIiIgOAsMcP8zsBAejCUriiIiGBvNGFCnVSfGj+sYDEgAER7CQrWBs96uH9C13/laufrKWdFfBgqDhTGifVZ5GHwiO5qxJA+HwwqZlSdGIgKG0yG/lWFOGCKmOSK/U/GAL6zmMFQZbcK/kSRdzNXN4UScMKKQEnBmWDL8YKwvDDNGLZxgb8UI5rB2b5JmFgLkwn11/8ktfRB2zemllxwSMuJFtjk+HCOOBdnl+DTd4SyQF7LP4fA/54LToSwv5ATC0aovR1o9HBSRDb1btDjqZBqhJmIB2Sn8mxOifuUj2folY4AxRfv6jQfGD2OMsYhOqpseKxsJ4vsu2emz71xDf+mDuukRPOgtfTYm9OoJfLTB90gH7w0zZYgOMSYZM62Iw6uV0fSaTnKejBHGE8k16tMezhPHDfkimosj6h6MRfz0wy7fzTsEyCHdsCovsgFhRufImd/oKwKCHJonEFuNJPAbuSJjtm/RK7KJOKSH5IWeIwfJKn0mX+YahIiIDWWax7o6I5/r6JuyOOJ0BKmBQCGbLdqgyXVDsI0v2uTVLZdOIRyMC+Yec7fv9J++G0cQFeafRrYhDOirtphDkSXaRh+Re/LQE3rk+35JG9SjPW1hxPhGryyO6Jsy1NswV466Lb64J+yXFmUIH3pMFxGy8BXNZHyjh+bSRmqqJykITDYCISkmG9GUFwSCwIxCgDHC+bACwjm3EtG2eTAq2uTsOgYWQ4CD4rPJvf3OMbEiwsBm+JvgOduMn2bwMBZc71pGjmtFXDDyGWddQ8l1jC6ODsPDAZuvfvWr6yMGnZ7P4GK4KbvVIY86GDGMDy+fGSOua4mB41rfe/c/woMBY3WLI2Xlqq2Kyid/c1jkk4eBxfiDm1BSxAZDtLWnXd+vPc3oUy8yiFFnlYwD1ow05biOQSc6AvaMPN9Jfm99UYcXTBh6yA5ts0LcDMXW/7xPbwTcd3KLrKK3nCKh0lbrGeu+J69ejHp66TeOD0KDfCmjvRjoyiB/DHx622RcPV5NXhn4bdsE+VI2PesmzpMICyuS9no7VPZlL3tZ3QZGLhEYjSRpetX0VtvoBN2nf+rWTqn127XaQ97pmygS4eVIvN5xRB7X6o93+qJOzp5DBxGynCy/N8za9dqoPZwgmMDVdcqkU5w8ERAIHjjAWhmSsQGJob+w5yS1VWX5W7+V1/rOITIectiMrUmjj4B7SaZENpjPrMR7MgfSsDnvTSbcU3MLElnEAL0z9yrDiyybd8wFiHsOM2e71UFWvNQnH5lDbImeQ3LJ303kkS7RRfrhMMuXv/zl5Y1vfGM91wKhQE7Je6uDvpFHukfu/U72tcN1Uvfa7thgnjKGsA+MM4hNOtrydGVePv8jNpyHY/40j3aJDb+39iiH/iBotIf++Y2Oqkd9tnoox/gCp1ava2zhYNv0kjn60uppumgMsTACH9ghE5WRFAQmG4GQFJONaMoLAkFgxiDA2OFQdEM0GVBW5UUwMAxM4pKJnNHEIGIIOJ+BoeB7STkMBUYTox250IzyekHnD2PfCqItF+pj7DM8Wl0ubYaYVVBGu9UiT7gQRWFFhPHAkWGoeHHOOWiMNddbqWK0CG3VH8Ya46tbh3qakcLQcb2zNpANjCHXD0tt1YvTpl7GDMNQexiRDM7WHv3UJthpu1UoDpB6Ga4MNCtvjDQGogR/7YA7ggKZ4740zPu1jaEKB5gqF5k06D70y5/vRhsB8sqY5vCQUzJBNsg5x5seNLklJ+RB9AG5cx29bPLF6fAZMcbZJqNIsK6z3dBQL53kSBsDbFHwuUVstOu8N9m3Iux8GgfpihLSBgQa543Rrx9Wco0FIg0Qj5w70Qk+G08aodEtv33mOIky4kwgG+iPcWhYgo06EYOiL+zx52DCit4ahzhbzozQfiHiHC84c6boq/7RXSuunqSiXnranD31cyCNQ/LLh9wZy9ERleXAYXmUlzT6CJgDm5OMoEAukF3jrnmOzrQ5xxxkfkSEIzQasdV0y5xq3DYXIMzp7SCZMfchwcy15hV6TR+6iX6R07a44HGl9NGhm2TTvG8hwnXGARFWxhByTVeNB2SfHnDajTldm6Bbl8/yIkLlIcvGhkZs9F7rf/12HZ2nXw0TpKd8CBJRF8YGxA290FcYij5CcBjf2Ah0TDlICN+3et0f/dInpCl8kS/D5lD1moddi2TURmNiUhCYbARCUkw2oikvCASBGYGASZxhIhyVAWACt4pndZQBxFDoGlgmdYa9FVvXu8bvvlcW54ahwWFn4Pt/kIHF2GEAWHERccFYYkw1Y64BrPy2KitkXISGPIyWroHFcEIQCH0V8o7MeNvb3lbe+ta31pVcedue817jxP/6ilDg6DCyOE2Mkt72tHb5Xj5GJcPUKjSDkfPD0eEIMXQYXdrDMFx00UXL29/+9rLUUkvVehhV+qYM7WY06pd2tLoZYIwlBhaDsRse3NrS+y4PbJAjDDYruL5Lmv4IkDvyxbEQIk3XkAuMd6HKHFs65xrySX843cgEjhPnn8PCcJfov4gmZzJw2DkmdLOf3NNxcskZslKM8OAMdMeIhjCnRxtFOBgvbNGSjw4y+G2LoHNe6kdW2vblMaIIDa926CC9Mjb0S/qmDlvPtL1FMvW7tn2nLO2gS8Y7OkJXJXrL4WyHWnLqPJnDy9Nz6Dp9VC8HlAODNFUG3YcbPPTLdaKfjFk+d6PSWlvau3vlntFbW+WEmiObkkYXAfeanCO4kOCcZ7ro3pFx8kAX6Y37K7kWASHih5ONtDB3kRm6hQigo2QZceh3dfRLyLs2b7RzXnrn2yaPCLJWr3aSfVEcSHYEtjoQCmwB5AgZNGeJgvJYXzpsnkYuGjNaf1q7/K8MpKKxAUmhbDLdbyyRz/ewMS6YcxEM6kcgKMtLfS1SxJM3PHWLLjovgq1BX+iuOZM9gaiFBSK/1W1MVEcjc+CKZByUtEse4455l27Dyv1JCgKTjUBIislGNOUFgSAwIxBgZDPWGSVW70QRcKqtSnCeGS8mZgaUxBDhCCEzrBxyUBhFDHKGAkPANhErrIxyjjEjpF+yssEosY0DKcJpYax1E2PBd1abEBMMfkYZ54zxoo3q1z71cAK03cqLfjDEvIR5ag+jkeHTazRxTDgEohWsglnlYvT4flBSJ2ON8SKqw4uB1SJLmtEJo9YeRpT2cIA4ivrlen33nTMpGFgMXGWrX35GGqOWI9cND+5tm365R/qC7IBvlwDqvT7/Tz8E3F8GNpmiE4iCdoaB1X96wRGiC2SLXpAlRBidJUeM7+ZoMObJnGgCck8XjQv9kjzkURSQlVj1M+Z79UleRAA55sQj/jhd2mZMoIf6oG1exhlOlLGFs0dfvZAPdEp/BumicaSRL6IpWiRTv/a375Cr9I3TRkcQr63P9NZnRAWiUtSHMwa8YGMckd+4aNWaTsNCP41H+qNvojvouugRdaFWlHQAACAASURBVNB1Y5n71y8ZQ+U3biE93AsOatLoIuB+Gms5vc4LEoHHESa35iGy6R5y/t1fskV2OL5IRfJEJ8gS3XK9MV6UknKQEGRMvn5JtJz5EyFgPKCL5rdukpfuiHBo0U+IPGUj2pSvH65rMkiH9KnpIpk0N9JR+ttvDjXW0FMyj0AwZ7EJBsm7NtIV+eiWMzKQDsaXhpU2qc8hu2yL1h7Xa49IRHjSN/qqX7ZVsREQn9rpRWeRi8gfY4TFE3X0S20ONf+38cFcCpNeAqhf/nwXBCaKQEiKiSKW64NAEJjRCDAcrDIwVBhFjGyr+6INrLqb1BEBnAzGNkOLIyGP7xgTVi4ZPowsBoLPvkMkMMAYG4yQ3sQI8D2DR/SBFVYOO2Op16BxnVUVqyWID6stjBNOhLa4vusg+V8ehgnDjPHl5XO7vrc9/mcoCau1NcIqE2eOUyHPoKRMBhLjiaNoRVufunm0jaHVrz2+85trOG3wFvkgQsUKGyMLrgxe5XP03Bur3PKqR7vh1l5wYag6yJBBhnDh7HFQY2ANupPT53uy4l4zsq0YrrzyyvUJACJsGO7t0DckhMgJMoQscO/JKjKCM8VBJ9+cIjJFD8kYh5sMD5IVxAddtbKoHPpCdnuTdqpPdAZ9Ml5wIFqIda/eur6rt013m942PenWI49ytBdBKCLCKjTHq6uD3TztM73izHBcOCB0ny61pFx1Kkcbui/ftfZzdIxHCAVkIKcJphwczhrnEU70Gk6tzZxSjisHjM7C1ThqLEG4cPJaREtrU95HBwH3kXy4b8gBJKHIPREEiGYOPh308jvyEBHNmSafficvZM89J4+cYFEIyEILBnSRzAySfd/TKVuN6Jh5mgz7vpvIKLJA1J7xgsy3+YDO6YuX1OSzq4tt/jTn+L7JfrcOn7WV3WDBA3GCDCDjw5JxxnxmXEJSIGbg09ojr/q67Wm62OZAv/usj+wE0YjIBW0x/rFxkEKelOI+0dFGtCgLOWSMpIe+RxSyXbTfYgxszcfun+uTgsBkIxCSYrIRTXlBIAhMawQYHhwGDqxw5gUXXLC8/vWvrwdTWsUTds3oRwyY2K1MWFU0mSMsGOZWSkzgjALGBScaQeF/hIVJv2tsNMAYHMrhlHOO5BMdwJjqvd53jDfOTjsQy6qK7yczIWAYjtrOSbB6ysnqNfi6dTIItY0xw7BknDGK9G+iibHGOLJSxMCDKyMW2dMcSI4hg4uDwzBjUHHQGMBeyCNOGqIIOcHQ5Rz63r0Y1peJtjfXzxsE3EMywBHiEL32ta+terv44ovXrRp0SaQEXUFciHhwPWeBQ8XY9j254gQj1ug5fWfYk2e6MEiGEWCcJw5+26NOl7upOTocL0SZrU7GmbZC2r12Tj6rB2HA6RCtYOwh600/hpVtlZteeXEkG/E3LE+/39TP4dM/mMAdMaHfwuXpMkIIAdHGLA4Vksm94KAaKxFMSCf3AV6w5XAhpJJGDwHjrzGbHLnn9O8Vr3hFPRzW1gj33tyJvGpzJF10343FopeQg+ZWCwPmT3OIQx2Rhcg/YztZ7pfop/mH3BgHjPOiGHzfO4c2kt/8QddbxI8+TGbixBsbjCPmUeQMUmZYMi7RX+OZsctcal6baNIX+kUX6Q7sRXnBhY6LcIGz+dW8jmxgA9F795CumTvpI+LI9izzp6hQ/xu7kBmZQyd6Z3L9eBAISTEelHJNEAgC8w0CJnQrFlb77DtdeOGF6x5w+8HXWGONavQzsE3WnBoGjtV5RofJ2qTNMOfkcIqsFoqIYAhYzTX5D1p18L3fGQVWdRhqDAXGe29SFyeCscGIY7ypu9+1vXkn8j9jicGnr4wShhNnbZghxzmzqozAYRghNvRrdgwZhqU+Wf0WGg5XuDAqGVgIISQRR7OVz/hEToi0QOKIiGHsIigYV/ILJ2aUDXI6J4JRrp33CLj3tme5z86P8LSbxRZbrHjSjVBu954Mc3g5zXTUCivDn8MrL0eAE8GBEplEVsgcp4ke9Do53V5zrpBgLVSd09UbdSE/eVOXMUE7kZra0GS3W+bsflaWum0HseKp7wiZ8dShbfJwCH0eD7HRr53GB/1C7rQoFc4WvW2EbZdYVAbnSOSGcYZzhtyEv/GWk8qptQo8noiQfm3Kd3MfAfedzLjv9Mg5CYssskg9v2GVVVapcm8Mpyf00PgtkoG+IBe8kBB0yfypDPe/bfNoZOEgWW6LDOYsUZBkqF9EEyQsKiBIzKHaZE6YHSJgLFQRceZBJAVizrjTOzb0lmFuMjbQA2MSm2AsYqO3jPa/cYfOmIdhzl6g384IYZ/Any5qk2thiHS1QGKcZOOIYnQvRDIZF/XHnGzsHDYutjbkPQjMDgIhKWYHteQJAkFgxiJgBdDEi3gwmVv5Y+gwYDjDwpUZGYwqK6IOwOIUy8cBQR743sqDlRnbIxgBJnQRAUiQQQ6+3xANnGuGifxCpPs50ogABgTDH2GCVHGtdkxm4vwr26qYEFrGCyNmmGHCoXMtQ4bjNx5iY1ib4QVjkSLug/vBeLP6w2j1GyKjtYmRbD+0/fQMK2QGo4yDCjMEBtJkrH4Ma1N+Gy0EyIh7SkfJK9nzjhh0v+kr3RLR48UJYPSTG/rlsxVPTjAZQ24x6skXJ2csvaJ7Io04IuSdDvTqrTbScWOBw/ZEapFR8tt77Zygq62IRE6G6AUOhr4NGne6dXFWEKrywWt220UXYasdyjQewtT2DuQqx80423U2tbutpCOb6K5xhyNrPHEvOJFdXe+2PZ/nPQLuu3tqi4GIGHrY5kDnRCC+3Pumi+SS3rbVeHnNba4RcUCHzSH0WDSA38hkG+t7e4zkQD7Qq0ZGi9Dol4wDHHCOOiLP+RJzg6Qg/6IX4EAnYTPWeCL6w/ym/8YjxM1YxEa/PrbvLIAgKuBvXBPZwS5xT+DV8He9e2AOdY9cgyiEETzNuyIr2TjDIstavXkPAnOCQEiKOUEveYNAEJhxCDDkTeiMJ6sXIgIYx5waBlBzakzk7dU1/n1mfDMyGCSMAAbXeIxr9aoHEcIos+2DA9MtvwGuLcrmsFup1E7Gz+w6Fa3c3nfOG8LGyhRDqWvM9F7b/td/4eVWoL0jNjhngwzLlm/Yu34pF5b6bZWYEdWM1m5e12pnW5VlKIum4CgxdJtxNSft6daXz/MeAfeSTtAfhARjnMPLQUFGkYmmr97pVPf+++w6RKIzKci6/OORd72ne8hFMk/e6XKv3vrf92QYccBxoR90TJsmKzX554Rpj20TxpFufwfVBT+rvUgB5Mx48gwqy/faon9IQ1FhcOUs9SNrYWCcdP+0G6lh3BFyLj/HaTJxGtbu/DZnCHCo2xkk7jlHmH726mE/XXSN/GTRGC4/WfTdWPefXJEvhDYZMncPcu7pumgFcoYMMKfQ98lOZNeZGsg5OJDj3rGht06LA9qDNKU34yE2esvo/k+P1UkXjW/KRDTAypjU1fN2LaIVoWo8EKmpD+6H+xKCv4tuPs8tBEJSzC1kU24QCALTEoE2QZu4OcVejBwrH2MZFq3DzRlhlMnPcGJcdQ2Bdm333e9IEEYMY4LBpN5++RhyDHpGD6fI57lhOGi3Pii/GYn92tPthzz6jgzwrk/jxa5bTvezOpULS+1Rrv72w7Vd6xrOGUOM0QfT8d6Lbt35PD0QIGNkzT0mq3S4n3wM6g25oW/kquUfr9zKR96RZuodlE8dyrZ6zNin43TZ95OVmvzrh/aQe+0bT4IfYkdfxptnWLmtLcrVby/l9uuv72Dh/qmfk2TcgdFkjCHD2pnfJhcB8k/+zGXu+UTuHzloutzyk5lBOtVtuWtcKx/Z9z4onzaRM3OEFzkzXkx2Mh7QKXrYcOgn/9169UF7uvbHWHm6+Qd9bnOoe+L+DNJF+emiNtBB+OgDPPVhMtoyqI35Pgg0BEJSNCTyHgSCQBDoQcBE3F49P43r35Z3ohP6ePK5hoHBAPLyeZAxNq7GDrloPO3pzT47eXrL6Pd/t1yfh6V2LVza57HyDCsvv00PBNq9nt3Wzm7+8eZzHWdhIgTKVPZlvP2YaJvGW267rvs+0bpy/Wgg0O7h7LZmdvO3fN6Hpe51Y107rJyxfmv1jHVd9/eWZ7LbNZFyu9e2z9025nMQmJsIhKSYm+im7CAQBILAXEYghsNcBjjFB4EgEASCQBAIAkEgCEwpAiEpphTuVBYEgkAQCAJBIAgEgSAQBIJAEAgCQSAIDEIgJMUgZPJ9EAgCQSAIBIEgEASCQBAIAkEgCASBIDClCISkmFK4U1kQCAJBIAgEgSAQBIJAEAgCQSAIBIEgMAiBkBSDkMn3QSAIBIEgEASCQBAIAkEgCASBIBAEgsCUIhCSYkrhTmVBIAgEgSAQBIJAEAgCQSAIBIEgEASCwCAEQlIMQibfB4EgEASCQBAIAkEgCASBIBAEgkAQCAJTikBIiimFO5UFgSAQBIJAEAgCQSAIBIEgEASCQBAIAoMQCEkxCJl8HwSCQBAIAkEgCASBIBAEgkAQCAJBIAhMKQIhKaYU7lQWBIJAEAgCQSAIBIEgEASCQBAIAkEgCAxCICTFIGTyfRAIAkEgCASBIBAEgkAQCAJBIAgEgSAwpQiEpJhSuFNZEAgCQSAIBIEgEASCQBAIAkEgCASBIDAIgZAUg5DJ90EgCASBIBAEgkAQCAJBIAgEgSAQBILAlCIQkmJK4U5lQSAIBIEgEASCQBAIAkEgCMwLBH7961/Pi2pTZxAIAhNEICTFBAHL5UEgCASBIBAEgkAQCAJBIAiMPgJIiZdeeqn87Gc/Kz/84Q/LU089VX7wgx+UH//4x+WXv/zl6HcgLQwC8ykCISnm0xufbgeBIDD1CDCWfvWrX5UXX3yx/OQnP6lG0gsvvFD/Zyz1rvA04+rnP/95+dGPflQNrGeeeaZ4Pffcc9Xo6s0zrFet/l/84hflpz/9aa1fuT77jiHXW15rg/Zpt/Yy7rSf0dev3cPa4LfespSpLNj01t/K8ptrurhp9+zU38rMexAYDwL0gn6Qf7L//PPPV33s6k2/cshyV9bJOV1W3kSScpr8K0P9XtpCJwaV53v10ZmWh77rxzBd69e2hoE+K6MXg3562+1/Fzft0a5+efrVne+CAATIyyCZJpe9Mu36NnciJR555JFy5513lptuuqnceuut5YEHHqg6NEh/+qHeT6bpQpPpfmV12930QJ7xzHu9beiW1R0Lunrdm8f/Xdya/mpDP9z65c93QWBeIBCSYl6gnjqDQBCY7xBgXDCinnzyyfL1r3+9XHzxxeXMM88sn//858tXv/rV8tBDD1WHowsMA8vKzze/+c1yyimnlAMOOKB87GMfK3vuuWc5/vjjq7HFUBlv4jAp79577y1f+tKXyjnnnFPOOOOM8sUvfrF85zvfqcSHNnaT/9XBwPva175WLrjggtruL3zhC+W2224rjz/+eDUEu3kGfW4GljzXX399ueiii8rZZ59dsbjxxhvLE088UZ263vzyPf300xWHyy+/vOY577zzyjXXXFMefvjhamj1Mw57y8n/QWB2EOBY0E96euqpp5ZPfvKT5aSTTipXX311efDBB/s6Ok3fv/e971VZp+dk9vbbb69O/njltZWDmLzlllvKhRdeWE444YRy4oknVj24+eabf6O3ru0mTshdd91VLrvssvLpT3+6jhmf/exny1e+8pU6DiE4evN087fPrlEWp8648bnPfa6WBYs2dnF2umX57Du6ft1115XTTjut5jn55JMLHf7Wt75VcevmafXlPQj0Q8BcRBfvueeeKtNkiS6QLTJt/kAmNpnyGSnh90MOOaTss88+5eCDD66fd9999yqPTQ7Hq49k+rHHHqtz+Omnn17Hgk996lO1PeZViwe9c2ibx82X5ly6q93GhG984xs1ssPcPFbSL2U/++yzdRxhQ9DrhoH52fzumoZBK9Mcft9995Urr7yywI39oN1XXXVV7Q/icrwYtDLzHgTmNgIhKeY2wik/CASB+RoBxoLJ30oL44ZRf/TRR5ePfvSjZbPNNivbbbddNZp8b4VDanmaY8Ko2GKLLcoKK6xQ3vOe95Tll1++bL311uWSSy6pRtFYACuPoWQ1CeGBGNh7773L5ptvXjbaaKNqvF1xxRXV4eK4tDYw8hhd999/f3UsDj300NreTTbZpOy6667VYeM4MRyHpdYf1z366KPVuTviiCPKTjvtVPu14447lk984hO1bYzAbmI8Cc+94YYbqkG222671XZvueWW5aCDDirXXntt7VciKrqo5fNkIECm6C0Cj6PP0fnwhz9cVl111bLuuusW+oAo65JrXVn/7ne/W2X9uOOOKx//+MfLHnvsUegZwm088qos+ojYtPrLqaAra665Zpk1a1ahh8YGOtV1zpTNkbnjjjuqg0Zn1l577druD37wg+Woo46qzhviodeh6sVNWcYljiFSkaP3oQ99qKyyyip17DCWNR1sTo4y4YZAhM9hhx1Wr1199dXL+uuvX/baa69KtuhXy9Nbb/4PAg0BekCmOOBIN/MXmSZLa6yxRtlggw2qjCEkyF2TKbqDSETsk386Y94wly655JJlww03rL+bF8n5sKR+cxOZ/vKXv1yOOeaYsvHGG1edoo/mU8S93821knZoA6IOmfiZz3ym1q8d8uywww5VfxElbd4d1AYY0HFjhygQROEuu+xS+0Wv1ltvvWKcQaaq3/WSdtNzBAqStKu/8plDlWe8GAuDQW3L90FgbiEQkmJuIZtyg0AQCAL/n3BgXHB0GBacjLXWWqsaNwwsxj7HwaokY0lqxo2Vl/32268aNgwSjr3IB+QEUqNrEA0Dm6HCUOJMKINxtuKKK5YPfOADZamllqpGHsfF7wwaSR7tQUJYqWHccc6WW265SpZwVHbeeee6GtTaPagN+sNw4jQx7hAs+r7aaqsVhhLSRZv0iyHajEzlwU2fGaXqlEfbGZkcxbPOOqtGeTDymmE2qB35PghMBAEEHQeCjG2//fZVbxGFdID8ItnorRXK5mTQG7LO8OfA0xFEJFJPBAZnhY51Zbxfm8gypwGxacUVwYFQ5Gyts846ZeWVVy6LL754/b7V38qkj1ZMkSqISOMLp0jb3/ve91bnRnQD8s/YNCy1MYCDtc0221RHTzl0Vjs4gPBBlOi7hNT49re//Rvc1L3SSitVXafD+mG8EYXS2jysDflt/kaAXIkEILOcajJND7zoobnA/CSSABHeZIr+3H333VV/zj333Bqxh2ykh+SRY4/EaNEHw1Am0xz9888/v8q8ucc8tOyyy9Z5kW4o15zdiHbvIqlEDtF/sk9vzWHajvAU0WHeHRYRaSyAwfe///1KhCBEEJTKoNvKtHjBRkDUqLdhYKyBCwJj2223rToLszYWfOQjH6mRlPS3kSvDcMhvQWAqEQhJMZVop64gEATmOwTa6gvjiKPNMLHyw6gSTcGAZ2AceeSRdcUUQPJYhRUaitDwYmSIJhBdwZjgXDBcxnLMGWqcLVtMGFFWb6xAeTHSGCw+M6Js5eCUMHAYTQwu20wYP+16ZAIDiaPB6BIBYSV5WGI4ChVn4DHmODcwQFYwnBh6HD91WV3VZhEUjDLOFkdIfeq2CiYCRR7GmdBZq7za2wyzYW3Jb0FgLATIEdJBBJFVW0Qhudt0002r/JJb+svAp7cICfIqcQqQBkLByanVVo4IJ98KLL127Xj0li5wzISoq1t5xgzbvtS/0EILVf2xhcQKsjFB/f5HBrpGPu20Rcz/iEn/W/XVlkGOScOA0yNaQx84h150lh57KUvoODKxjUk+I1as2hrvvBA1ymhjnsgSDmQjNsa6J/l9/kXAKj85tMWKDJsLyJ2IHPK09NJL17nM1gXXNpkiwyIPyKM5ymeRGHSTXsgrQqlLbPSirAw6YkHA/Igk2WqrrWp+40AbC+jC/vvvX/W1lWdhwPYoY4RxwBzqOrJPF/RDOy699NLfRFH21u9//dF2bVWWPOZgczkdUybCEjauMd/TRe1ArMANyWr8oLvmenkQFfrCzjCHsjuSgsAoIRCSYpTuRtoSBILAjEOAccTR2XfffasRYw8pw8VeVFEKjB5GlpDo5uxzTuw3tXpq1YWBL0x8dlY7rABxmjhJylEPwsSZEM6iECXB0GG4iFhADDDKGFiMOcbggQceWENF7fsVwWFlyCoxsoEDpV3DkhBUUSScKy/74oWB6z/HzYq0iArOkJUnBpb6ERScLQaWdjNC4Wb1q0WYaL9yGKcMyqQgMKcIIBHIH50T+cSp4KDQGU4A+afHHH/yjDxEEkiIDU67PKIobNFw3oqoAbrluuZEDWsnB4NucErUoUz1IkQ4FPbZI+k4WnSCY0LXERT0mANnzEEWiN7gnAn35pwgS60sD3NMOCzGI/k5P1ZvRTohO/UXyUH3EIjayBmCm/7BjTMEA5Emxju40VNjoVVozh0SFCGZFASGIYCgMA+Q58MPP7zKLjkU5WQua8S1z43kVh4i0FyGwPbe5mKyrCyyiKgz3wwiDf1mYUC0A2IBYc+pRx7SK7JNxpVH58xNdJEukHdjhDEEma599IAOy0c/EP30Up5BCWFqDLFQgQihb7Ze0XsYtMUM87t2Gmf0mX4rW9vYEs7Aghs82RfGJ2OB9tsG2sawQe3I90FgqhEISTHViKe+IBAE5gsEOMwmfVscEBEcbSsaDAsONePH76IHOBu2YTCwJA4Sw4MDwKBHFLiOYSSMmtHUNe4ZWIwSjhDDBCkgIkIdLYKBo4OIcPAeY40RJZSc4yMaAlHBaBMCrh1CRBEDDB9GjNUojpPQWKQHg8fqkGsQC8prq1baoAz94zhxahhk+sM54jD5Xh/kFZaO8FCPNnGQODAIEG1mlDH+Wr/hw0lEbiBfGFiMvJAU84VqzfVO0h3GvsgjestBonfkkkyTb6QF+XQuBQeC/NENxJ9VTuSilUuyLYIIucc54EDQS4njZCygrxwekQXKoGcOqkXmcXDUrz30lsOC5ODkiLCiU3RF/XROu+gyYtEYQv/ppjzaydFC8BkH6LF8SEY6yeHhtBlL6BiSRN0IBfrWokDkca1+cfhcg5yBG2zopKgnYwPSRJ/g5l2ZVoKNK34bD2Ez1294KhhJBMwPdAHphVzjaIs6MBeRJ7JDbjnbIgKQ2uag3rnR/2SWnpBJ15tryJ95yPzpRX7pID1VB3k15yAbkOzmG/quTjpCF0VYqNf2JXMs8p2O02k6pt10znxKP40h6qQn7AJ6Qo/Uo690kY2gDdqjHnMyXTYWGE/U13QRBshTczHCEgkhn/LM7cYCOsp+0De4wQMW2msssF2LneK3pCAwSgiEpBilu5G2BIEgMGMQ4IBwNBhYHG1OukgEhk8zzF3DQLDlg6HPGJEYGYx5hg/jy7YM2yOUwXFhNDFeJMYV55zRIvJBHiupnB7GEKOJccPAs6pixZOhJB+jiSFjRRRJwgBk5FnpsWrDgNEuRlDbR8/YY6RpN6PNSjGHRts5QRwUq13qZXBx7hATjCirNs0YaoSCNrheKCxDjIGnLrjZc8vIU38jKPRZHivLVmutKDejVZ+SgsCcIsCxp0f0DVGBHCT35ItjQv7JqmgizjuZJv+cHvry7ne/uyy44ILlXe96V/3sHAhkI6cEYdcco6ZL9BYRwIHiPDTSgkNC/5GHyDvkRpNxUUXITSu7CALjgXYrg66JSqJ7HI+Wh366XjuMRQhCxIdVVaSG7+mqcQvxx4mhszBoY4Cy1AUDzhWiBgbq1g7kpXKsICNM4GK8M9YZW4xrxiO/Z7vHnErqzM5PT8gVgkDEAX0gY0i3Nn8gy2x7EO2DyOPot98aOq5v50mQO5EFdLo7F5NrcyYSQrQC/aGLdMhnekC3REM0mVYPXTWHmo+OPfbYShIgLsxfxgLRFQgC8zP9lcf8Rn+Q70hQUUnmNPlESFiU0EZRF8o3vhiPbJsy37rOONT02phC59kZ8ICBOdnig3FHXqQHPBs2xipY6Kv2w1mZSUFglBAISTFKdyNtCQJBYMYgwFBoTjtnHxFg9YSxLjEIOOQcFAYG554RL3ECGEccfYQDJ4FBw2lgvHAq5GX8MzoYP8pmYFlNUZeVW4aKcG0EgDZYoWGYtZUmzggnX9lWlrTXyq6VGoZfM2AYWK3d6uVoiArRHsQHo00Uh3BweazuMrwYhiIgGHBWr4S8crYYV17KlA9BwsjUL79b4dVvRpn+ukZfWz7OlTbLo3797DpwFcT8CQKziQDnmcFvtZ9Md+Wfw8MpINOIPKulDHwvxB0H3PkqDubrnt+gLKua9ILeIQqRkXSSXpB1uoMc8EIAIA7oLULBeCLRA3mVY4sUR0PdnBztopPN8aHrxgd6492YIDQeicBJQZIgKega8oJDpQ/0zdgjIgQRiRBBOLYxQD5lGQM4QhwreqsvyFAv45o62uqsd3oNLyu7HDrt1p+kINAPAeO6uQgZSA7JlDmyyTNdRKj7jcxz6pujTUfkJ5OINzKP8DMX0hmERCPrlUcOyXRbUDAfK5sM00tkufrNs434k4fzb+40HiDokA/mPf8jNug2gq+RnPKYv+gXEkO7ECb0V9nqoHeiL/RH/RYPEDTmVZ+VJSlLf40PzrfQL3aDcUU+5L8xSLsasdLmUHM9YpTOi76Aa7ML+t2LfBcE5gUCISnmBeqpMwgEgRmPAEOBccQIYMgzSpqhoPPIAAYNQ59jY7VUtIDEoeAQMIasunA2Wvhmi16wwsJAYagwtjg26uIMWflh+Fh1sgrlBHBOPePI9QwVye+MH86TlR8rNJwhq8SiO6ySMnrU0/JwsDg1ykOGMJC0jWPHwOKgMM6UZyWKsddIGkZgM7D0EQauURYniUHKcfEOM/1RF9wkbWBIaad2C6fnRDYDsF6UP0FgDhHg9N0ERAAAIABJREFUeFjNFKnDUeAMNflHICIIOAQtwoB8cgo4OHQNEcBBsEJpFZSe+cxhQapxfowPCD/OkpVWDoixgL7RKfmt3BoXOC/N+dIW9YlSsLpMR40FrjHeICo5dc0JA4W203s6aYsIpwvx4jttoO+IA6QL3fObPorUMDYhF+hdw0Ae7eJgaTuMjFEISeMGolS0F71Uh+R3+t8irdSJ2DAOJAWBfgiQaY48eW3OvmgACSlNh0RP0B1OvbnE9xIdMQea2xxM/apXvaq8/OUvL4suumgl4BF6jWwg1/Ipy/X0DhmAbEBykGfOPvnuRiPQCXUgE+mO35F5dN58ZhzoPSdDPcYXcyWijv74X3vlo1fmT/MfvdNO12mTuVwfzfcSG8HcS6+RFAh9Y4H50XgjgoKOsj0ayamvdM5Cg0OzLR6oR7uaftfC8ycIjAACISlG4CakCUEgCMw8BBjyyAJGPsOcccFob0Y5Z5xTwaHgpDMkmgHWRYPh0F4MIgYZ54hhwWFiKDEwEBCMFSuVHBSkAaNH3SI1hGRrk6QNnB2OhPKEtTOGGH3aaOWFs6VtzZFoxo1wUqu1nDQrqBww7bAiy6BjHHlpH+OL08R545RoE8NQ0uYWgqv/DDH54SL6g4HFUWMsNvJGX6042d/LOWOYcnxambXg/AkCc4gA54ij4EWGyZ3knQ5ZOW3nNJBpDobVSHJuRZczQZ84C4g48kuOOTOcEiSF7+g70o8e0hnyryyRC5wlEUacHOW0KAb1c6boM71F4tF9ZRpv6JL6EaCN2OCgiI4QJcHZsspLjyS6i2BRpzbTSeXRbedq6JP6JWMAvVUWfeWIifjwP8dJGZ4YgEjtOj7yGUf0nSOFjFEX4sJvSUGgHwJ0D0FBF8iu+ayN9WSazJP/RmLY9td0lW6RZXKKbENUeGQo4sD8ST+6JAUyjRyTYXOKMQDhIOIASUHfzb/mTcn12mC+RWaqR/vMn96RnCIiGkFAzr3kd56MPiFgEBv0TXtFfrATnGvTohvUqX/mUTrZFg20gf4YM4xHxgJzPT3Tb3gpH7njmoabdyQkslT0FhLDGNTskn73Id8FgXmFQEiKeYV86g0CQWBGI8AJ4AwwbhgRjAsGAmPAi/HD0RdlwNBnFDUDqB8wDByGvTwiGBhZDCJGmfK8y+/FkeDsICvsYbV1A/GAhJD87jNjSQgsZ4NByGER9snwc6CXvF1ig9MjdFUEA2dM+Qw1Bpv6/a5+7/5nLImGUL+V2RYyri+cGqs5HDfOmK0ejEQvbUVQwI8Rx9GTlM2Ig6dICsYmB8v3SUFgshCgq4x3RBi9JN9kln5whBBowsY53RwMjgFnBHnHWUHc0QH56JqxwFkyQsY5DXSN7voN+eBaL/+TZdEMCDiEAx1Rvt/oubLphbroJ8KOjnJqfI9YRH66TtnaLT8SpEUnIQGRJH7TxtYGdRijtJfztc4661RnihMjqZ++00HjkLGDQyXaS1na7dHAnDorur7zMhYgLThmtmiJAmljwWTds5Qz8xBockZuOOhkyLxBpsg8R5secMbJIbklo1KTVeQgeUS20Q95zGH0VlmuU17T1TZ/eacj5lxEvsUGOkZPJb8jFRAD9EQkBT1TjrmZrlscoJ8tj9/ovS2WzpgyjhhfjCt0pDse+Ox6hCSy1Hynj23rmTa3qEZRFsYdBIt5HUmCCNQmc6n2aK887AJjlbkTLsYl3yUFgVFEICTFKN6VtCkIBIFpjwAjigEgnFJoJ4edgc8gYcyILGhnLnD2GUQMlX7J9/Jy5Bk+VlUYNxyKZixxChgbvmPccBw4KgwiqzreGTAMFUQEg4ZxxwCyKmu1lGGkHk6O8NEuSaE8W0qs0iJekAuMRv3xm0gKZXT7ISqCoyWUnLHof+2VBxnBkOK0MLCUjYzgvHCQGFi+Z5hZMdI2/dM2mCIxOEWMzUG49cMy3wWBsRBoDjXnSOQQ+aJTPpN/8uyF5CP3dJF80ydOQSMV6CIHwXfKQjzQYc4FmSa7HLGmR9qFMOCY0HE6IDqKXtFLYwqZt6WL49ScFquw6hEqjohA4mmr+jlitmMgFThqiBW6Rmc5dcYlpIx+uFb9ylOv7ST62UgKv1uVpbf6wnESBeJ7qYWQG1PaqjZ995lOI0O1u237gmlSEBiEgCglBDZdQOSTcXrA0RdFYQ4SxUCmXes385uEGCDTfvM0GY68qAS6Rj9dS69db96R38v80whEck0/yTqSAmFBnhEbdIZeiwwi00gUOi0ZD3yHqFCn+U492kP29ce8R0/VRxcRHvpHH/3fyBP6hcwwtqjDnK7t2oxsoWvqol9tIaTpGyLCHE5n5dF2pD69NRb4HYlC35OCwCgiEJJiFO9K2hQEgsC0R4CzbsWw7dtm4DBIGBCMeYaK/ducbc4Ko8SLcdWcC0YSA4czwYASQWEfqTI5/H5HODCEOEmMEQaYMhgkftMGTg1jRR5EBSeF0SYaAhHAKdJe9SMDnPMgLNbKk/YyvhhPHDTOjnMnRFswrBhLDCdlWK3lHDWnRb8YclZ3kTKcJYaaMjlBoiysKClXHzkt2mylB8EDG6QEJ01d+qfvTizXNkaZurQ7KQhMFgJknXPOOaG3ZJP8iUDgeDDwEQKuQ5xxJKzQ0k/OFPkm582RQRJycsgs54oOcvzpLYJQucrhyNA/jgTnSnnqoa9010oux8JTb7SBM0TX5TG20Bt6jtygj1ZdtUXot7FGOzgldIwjRJ/8xvnRB983QkbbOHdw4DxpszbQVZFRnDNjSyM3Ya99oisQMnTdWIQ8RcxwKJEUnC3lIUOSgsAwBMiOeYbekDsOPnkTKUBukeW2L4nSM0d1SS//IxjMIaKeEGt0mK64jq55mTvMXxYSzFXknm7SK9fRYbIr6gApSaaNB7ZhmVd9b5uVuszbEj1pRIB5DiGPYEQqIO1tzaA/Fgp8r10iK5EWxhH9ph+tbeZAem1MMB753RjhegsdtlfRX/Vrs/bRRVEe7AxtkEe76KwoSeMYwrNhMuw+5LcgMK8QCEkxr5BPvUEgCMxoBBgMwroZGAwFhg6jgQPBuEEQMKA4FhwGicPN8eBIcGY4JwwzxgjDhpNh5cSqCUOE4yAKg1PAoeAAMGIQB4wx5SFE5GEUqZ/jI0RWG5ANDJhmlGkDI4fB1NpsZZYjZUWLUajdDEeOBgIFecKAYqwxfDhpbUXJihTjyfW2tcBAXxhqnBnGFadLH5QlwY0hyvDUZ46iKBDt5phx9rTfNhD9b6thNXP+BIFJQIBzz/GgM+SevJI5Mk4HbNngJJBzq5CcHI646+kUWUX+kV1RP8g4co8UaE4JvaMPHCj5rPByTMgz3abHnDM6gFCk28oyBtijrj5lcWS8rJQqQ7vl4STJg1REKtA1xB9nxbWcLY4bh8X19NZvxg3OG/3Wd2OLchCNMFAWHeTUGav0X/0SQoSuGteQidptHJEHbjDhBCJDjDNJQWAYAvSLnpk/RAsgzMxH3kVQmNc47shCpDy5bYkukFE65mW+aPNsu4aumXfoIrJcdEOXcFAeJx55Yf4iz6IabAPTHkQ+vaDXjeBTNsIRiUHe6WHTX2ODcyqUhdA3z9Fh8z0dE71ojlOedtGrhgHdpaf64lrXmcPptwWAFlGozW0O1W556K12GoforpcxDEaubfrbcMl7EBgVBEJSjMqdSDuCQBCYUQgwgBgYnHTGPgeek8O48uhAxoPVTg4Jx0Bi8FttYVxYKWJkITXkW3XVVWteBklzDhhDSA6Oi0PuGD9ICc47w4PBgijhNPmNYcMQYygpk5PCULFq1Aw8+az8iKbQbs6NtsvHoeFQ6VMzopApjCDOlgiHtq1EfzhdjDBPK2BMcVT02+qX9nK2EBSNbJBH/dqjXG3WN3m1wQoyQ0/UCAMvq7FVbPJnkhEgj3QT+UZeEYAOknUWS3N4EIF0hgzSQ9fTA/qNTEDCeZIGB50jxdlCDpBvURZIAfpIpjldLSrC78pEIhgD5KcDytUGJCECD5FCT1rSFtFQoiLoC72lb7NmzarOFCcH6WmMkU/kBYdPG5VpXKH3bSxSv+0krhEBYZuZ7R/6ZVwQKaE/bdzQDpiIpDJuKZPT5WW1FyYcM1iFWGx3Le/DECCL5BXBQAbNQXQBoWAuQrqTty5R1spDtCPY6BaC0DzYIvzaNcpHpCP8RBopEyHfjYrwu7Loj7nH3OUMCmOC8sl0i0Js5ZobRWCYQ+micYP+0AWfRYXQP/XLK0LDuGL+pCd0q/WJrrhGG/1mHKDX9FZbjBGNbGi66J1uKtcc28hVecz9FgZEWuhby9PanvcgMEoIhKQYpbuRtgSBIDBjEDD5M0IY5QwCxoTVDK8WuspZ4TBwTKQWScG4cR0Dp62EWPngNAjZtCKkbKtHVlAQFYwYDj/noruqhCgR7cCYYtQpF2nhfytQymr1a0MzcJAAyAVttXpkVUhUSCMV2kqo/jGqtE34KINJ/ZJy9U8bOXFWxDg42sBwtFqMxOCUNWPJu3y+V646Xa8NVrmQMBy0RpLUivInCEwiAmSWXHNW6BUdoDOIBauc9Jb+SWSVvJNJ8o+k4+ggJoRWixzgsNDDpjP0XNQCXSLPCDkOvt+b/FvhlI+jQW8Qipx/Dpu6+q2Aaje9VadtIvRdPuMJEoSzw+lRD/0xLiiPE4agaI6RfmmjVWSEpH4oi3PjM1y6K8cNenrM8VEuIpFjBzdt0SbjgDY2XW/58h4E+iFAt8irOU20ga0QdItckWkEBXnrR3qZbxB1HHvzBpKwl6RQPpmlT/RA1KL5q0ua+52sq8ucad5C3JnP6Q2Zdk030S8kgbma/rbFBuOIMULkFf2lB/RB/+iUedycZ+4zvvjdS/ltPjYWsAX0SbSGsszhbWxp7YAJ/VUenXW9sUAUpu0y+tTGsJYn70Fg1BAISTFqdyTtCQJBYEYhwMDgHCAEGCickua0NEOkddj/nCOOAcOmHZjFORJ+zbBQXjPyvTNGOBecHEZYc3Rama5hCHGKRGkwhBqZMchhaIYR44kD1Qw4ZfQ6R+rn8GiD9277tKHV38gSq8DawIBrBmZra/dduepihDHGGHucn14MunnyOQhMBgJklgNDpjnvdI8TwVHolX/1ud73Vket2CLfOAKcDd+TZde05DM99T2d7/29ldnGDg4ScoTO0KNeHeuWqyxjAV2RxztSBZGiTy21Nqjfq9+44Xpl2cah/8YCW8OMM92yWpnelWscMHbAzVgDQ05bbx3dfPkcBAYhQKbJFPnndNMH8+QwOSSvtkWIRERomEfMd72pnx70yrb/1U+/my6aw33nN2X0Jt9pn0hJBKExgT7QJ/rW8nhXRncs6K3fNfK0ORQ5okzjS69ed9vR2k1/6a6xgF5qN11MCgKjjkBIilG/Q2lfEAgC0xoBhgIDg5HOqOBk93NcdNK1DCmGDGeAceHFsJC/a9w0UBgwzeHpNW661zCYGDlWiZQ/iKDo5nENIkGbES39jMJmZGmD+v3fm3zPCNOHdpaGsnzX73r5W7kMKgapNgzCoLe+/B8EJgMB8klXkRVWK/vJf6uH/HMYXEvPvNPXQTrZ8g17pwPKUBY9HEtnlCVP0zV6Tmfo8ey2o2Gg/17DnKLWF1ios9tu3yUFgdlBoM0FdLHJNKJumEzTF6SGF5KOHgy7fqx2Nf1WjrK1Zazy/K6d5jBjgrz0aXZSr14rcywM1KPd2qrNczoWzE67kycIzAkCISnmBL3kDQJBIAiME4FmaDFcfB6U/NauZWB4jZVnUFnd77vlts/d3/t9bte1+v0/J0n+iZbV8rR8c1J/8gaBiSLQdKC9D8vfrmnvw66dyG+tPO/jTd08E8nXr/zZKWt28vSrO98FgYZAV6bad4PeXTuZ86d6uvX7PN7UzTfePIOum52yunkm0u5Bbcj3QWCqEAhJMVVIp54gEASCQBAIAkEgCASBIBAEgkAQCAJBYCgCISmGwpMfg0AQCAJBIAgEgSAQBIJAEAgCQSAIBIGpQiAkxVQhnXqCQBAIAkEgCASBIBAEgkAQCAJBIAgEgaEIhKQYCk9+DAJBIAgEgSAQBIJAEAgCQSAIBIEgEASmCoGQFFOFdOoJAkEgCASBIBAEgkAQCAJBIAgEgSAQBIYiEJJiKDz5MQgEgSAQBIJAEAgCQSAIBIEgEASCQBCYKgRCUkwV0qknCASBIBAEgkAQCAJBIAgEgSAQBIJAEBiKQEiKofDkxyAQBIJAEAgCQSAIBIEgEASCQBAIAkFgqhAISTFVSKeeIBAEgsA0QuDXv/51+fnPf15++tOf1nf/JwWBIDC6CNDRX/3qV+UXv/hF1dsXX3yx/h/dHd17lpbNXAR++ctflh//+MflhRdeKD5HD2fuvU7P5g4CISnmDq4pNQgEgSAwrRFgVD311FPlgQceKE8//XQ1sqZ1h9L4IDDDEXjppZcqOfGDH/ygPPzww+WRRx6pTpLvk4JAEJhaBJ5//vly9913l3vvvbc899xzISqmFv7UNgMQCEkxA25iuhAEgkAQmEwErPhY/bnhhhvKWWedVW666abC4IqzM5kop6wgMLkIiHx67LHHyi233FIuv/zycs0119T/EY5JQSAITB0C5lBE4RlnnFHOPvvsct9995Uf/ehHNbJp6lqRmoLA9EYgJMX0vn9pfRAIAkFg0hHg1DzxxBPl2GOPLWuvvXY54YQTqsH1s5/9LCGrk452CgwCk4MAYvHmm28uJ598ctlrr73K0UcfXe666666XWtyakgpQSAIjIUAggKhTxc322yzssUWW5TLLrusPProo9HFscDL70Ggg0BIig4Y+RgEgkAQmN8RYGA9++yz5dZbby277bZbWW655coxxxxTvvvd7+ZsivldONL/kUbghz/8YbngggvKrrvuWrbffvty3HHHlXvuuaeeUTHSDU/jgsAMQkBEky1XF198cVl55ZXLhz70oXLllVfW7ZPOi0kKAkFgfAiEpBgfTrkqCASBIDBfIGAFyDkU5513XnV01l133RqyyuhCYCQFgSAwmgg8+eSTNfqJU4SouOiii8r3vve9nCczmrcrrZqhCNgaeccdd9QIxJVWWqlsvfXW5c4776xkYebQGXrT0625gkBIirkCawoNAkEgCExPBDwd4MYbbywHHXRQJSmEjdvb7pTypCAQBEYPAY6Pp/CImthnn33KrFmzylFHHVVuu+22nCUzercrLZrhCCALL7zwwrLvvvuWzTffvOqiQ2xDUMzwG5/uTToCISkmHdIUGASCQBCYvgg4j+KSSy4pG220Udlxxx3roV/3339/cR5FUhAIAqOHAGLx+9//frn22msrsYikcFif7R9xjEbvfqVFMxuBBx98sBxxxBFl2223LQcffHD54he/WHVxZvc6vQsCk49ASIrJxzQlBoEgEASmJQL20nJsTj311LoaK4rCkz2eeeaZnEo+Le9oGj0/IEBvhZN/7nOfK7vsskvd6vGVr3ylPqFnfuh/+hgERgEBWyWR+d/85jfLRz/60bLxxhuX008/vT7ZQ6RTUhAIAhNDICTFxPDK1UEgCASBGYuAR6R9+9vfrgdlrrrqquXII4+sjzDMo0dn7C1Px2YAAhwgq7V77rlnfaoHktHWj0Q/zYCbmy5MGwREISL5v/zlL9dIxA9/+MO/2SqZiKZpcxvT0BFCICTFCN2MNCUIBIEgMC8R8AQPe2kPPPDAstNOO5Xzzz8/Yarz8oak7iAwBgIIxOeee65GP3GKnCVz/fXXl6effjrRT2Ngl5+DwGQi8JOf/KQ+8veMM84oO+ywQz0f5vbbb89jRycT5JQ1XyEQkmK+ut3pbBAIAkHgdxGwyuPlsaP77bdf2WOPPcqnPvWp+pz3F1544Xcz5JsgEARGAoEXX3yxPh7YQZlrrLFGfewostGjDrN6OxK3KI2YTxCwLfILX/hCOeSQQ8r+++9fn4r18MMPhyycT+5/ujn5CISkmHxMU2IQCAJBYFohwJkRqupZ7h5faD/tVVddVR9faL97UhAIAqOHAL19/PHHa3i56KetttqqnHPOOcXjgrNFa/TuV1o0cxGgix73e9xxx1U9PPbYY8vXv/71GokYXZy59z09m7sIhKSYu/hOqHQndAsXc0q3feEGvEEOQrvWKqdr/D/ZqybKUzZ2+LHHHiuPPvpoDSG1cjM36psQWLk4CASBSUPA3nWOjScCrLzyyvXgvW9961v1sYYxsCYN5hQUBCYVAXO0AzNPOOGEGlp+6KGH1id85HHBkwpzCgsCQxGgh+ziu+++u54JY9uVAzNFNJlbJ9s2H9qY/BgEZhACISlG6GYiHDy66PLLL697wg1yTz31VN8WIjMeeuih4tGArnFw1mQ6EwZV5bXHmp177rl1z+uXvvSlSp5Mdn19O5kvg0AQmBIEHPZlq4ctHk4ktxqElERGJgWBIDCaCJinr7nmmvqo4H322adcfPHF1YYYtLgxmr1Iq4LA9EZAFOITTzxRPFHH4bXbb799Pcj22WefnVS7fHqjlNYHgYkjEJJi4pjNlRyMDdEKjIy99967fPCDH6wHYHEU+iWHYjnNW2jnddddVw/rue+++4rVT48/uvHGG+v3DBjEwhVXXFEuvfTScskll9Q9c4gQJxALR3vggQcqyaENjZxwyr/y5BFGuuOOO9aD9Oy1O/PMM2veu+66q5IYBuikIBAEpi8CVnwQkYcffnjZd999y0UXXVQjqKZvj9LyIDCzEUAgWixw0K2VW/O0uZ9jFHJxZt/79G60EBAtwR4+66yz6lkURxxxRLnllluqfo5WS9OaIDC9EAhJMQL3qxEDTgG2F3zZZZctyy23XD18x5aPfgmx4BTvLbbYogjxPOmkk8qJJ55Y8+y8885lk002KWuuuWZZccUVy5JLLlkWWWSR8uY3v7ksuOCC5S1veUv9Xz1WTT1bHUGCbBA94cAt5SuP8fPe9763vP/976/EyVprrVXbt8EGG5SDDz64hpYiNJKCQBCYvggwsDg5CFInk992221169n07VFaHgRmNgLCy5988sly2mmn1XNkHJz5yCOP1HmcTZEUBILA1CAgCvrqq6+uJD89RByKdGZLJwWBIDD7CISkmH3sJi2n0ExbNqxerrbaapUUEC5moHMeRDcxPpAJVkwQFEsvvXT52Mc+Vo488sjqZOy222411Mxv6667bllsscXKa1/72kpQIBqUL0rDKeAIByTEpz/96RrarR3PP/983eN6yimnVAIDkbH22mtX8gQ7vOWWW5b//M//LIsuumjZbrvtalSGx58lBYEgMP0QMJ5Ydb3hhhvK5ptvXvVc9JXQ1RhY0+9+psXzDwK2YoqE/MQnPlG23nrrYs4WYZkUBILA1CFgDhW9JMLYY0ePP/748o1vfKPa7olomrr7kJpmJgIhKUbgviIGDGpCrd/1rneVlVZaqVxwwQV9D8406DmP4qtf/WolHBZeeOGyyy67VENFRIWX/eQiKwyWyIg3vvGNZb311isnn3xyuemmm4qIDayvMy9cry5OidBRYd/2pc+aNasstNBC9RA9+RzO5RrlvuENb6gRGQwjj1sKSTECQpQmBIHZQMB4YkXW1jFRV0hIURUIy6zGzgagyRIEpggBh2t/9rOfreHlHhtsC2fm4ikCP9UEgf+PgHkSYXj00UfX6GURyLZp5xHAEZEgMOcIhKSYcwznuATOv71sIhOWX375ysbaz4aM6D0M0943RIKzKJzCL5LCoIi0cMaEg3uuv/76+hkJ4XGC73znO+uJwzfffHNld23PsL3D+RXXXnttfXdw3ne+851KWHBU3ve+99WIC8SJtoj08HKK+Ote97qyxBJLlGOOOaZGdGhnUhAIAtMPgXYAr/FHhNXuu+9eD97rHXemX8/S4iAwsxEwL9NX0ZO2bIquzFw8s+95ejdaCCAo2NOe6uG8NpHJtkuKaMocOlr3Kq2ZngiEpJjH980ghxxwMvfqq69et1jYfoGI6BcqZkAUDWHfG5LC2RCICY8cs/rpZWXUoZccD78vs8wy5TOf+Uzdv6pMdRpAbRvB9nrZU+eAzZ122qkSEO9+97vrFhKDr7KRGPfee2/dUvLqV7+6RmgIC/fYwhycOY+FKNUHgdlEgDFl/BB9te2229boq8cff3w2S0u2IBAEpgIBczi9taXTodYiI+lttmhNBfqpIwj8PwTY0c6NYzu3A+YdNi86OikIBIE5RyAkxZxjONslGOCQA57Esemmm9aoCCfri4qwx40h0pucUeEJHVZPbOHYY4896vaNrnGCqPja175WT+lnxDhE01NDBoWCagOiRLiaSA5h3865MPByYpAQyAgrNwcccEB5+9vfXrbaaqsaFo4QCWPce5fyfxCYHgggQ63CGnfodp7qMT3uW1o5/yJgPjZn09UWeemgW99lLp5/5SI9n3oELPrZPm2LtIXGww47rNredDEpCASBOUcgJMWcYzjbJSATrH4wNkRFONjSHlOOg996E9LC1hCRFg65s/LpsydxtGgG1wj5PO+88+oqixBuDoiD8QaFgmrDlVdeWQ/ifNvb3lYJE0RI21enHUgKERy2eDjnQmgbBrkfkdLb7vwfBILAaCIgOsr44KBe0Va2hImcSgoCQWA0EXB2lO2ap556arUZPBHMkwQyF4/m/UqrZi4CFgdFMVnUs2Boi/U999xTo5lnbq/TsyAwdQiEpJg6rH+nJmzrrbfeWg+9XGWVVeqecAdR2lrRuyLCAPEdYwRj6ykdHhco2sGhPe36FvXgxG+PDl1//fXrqd+2fzjPojcpF/mgLOQDsgQRYaDtrswwjBAkDvj8/Oc/X08VjzPTi2b+DwLTCwErsJ4EtNFGG1Wy1CMM+xGk06tXaW0QmLkIWDAQfWmOX2eddeqB20iLpCAQBKYWAXPl+eefX6Oa99xzz7oFy2OB26Lh1LYT/P1AAAAgAElEQVQmtQWBmYdASIp5eE9t6bjsssvKrrvuWk8FtprpkWK2UPQmJEQjNURQeDSofeRWQkVItFUUxIFTv5EOtmU4BNOBmg697B04/S/vueeeW8mJFVZYoT4p5KqrrqpbQ1qZ2tJIEm2z306+Roz0tjX//xaB9vQE9wVu7qGJbSzs4I2lh7N8DXPfjZXX7+pQl3zOMUEyydu9p79t5W8/yYvManm12z0nK2PlbX1VlzytrfL6XzvIfF7zHgNEqK1cIqichbPmmmvWJ/WInrKlLPdo3t+j3IPcg34y8K277ymnn3lW2Wff/cuWW21dTjjhxPLtb38nOpu5JTIwxTLQDpN3gL2n7IlYRhhmDs3Y3W/s7v3OFnwv37OPJ2prs8/l985ub2cO/tai/91P7HE2uvq6PslYeZtP0s3LPxmPP6MV8vMvxvIjelsckqIXkSn8XwSEx3taxXQqsP1snrjhpvcmDp8oCo8LtfLpqR0YXGUQrpZs3UAyeFLIO97xjkpWiKIg/L3OLQFFaNi64VGma6+9dj1s0/kU/aIu1KEM9fWW1erP+/9EwOBh+44VawSU+ysihaIPU1YYcyJFtFg183If3W/3Zlhe8qMOdZk0hfDbEsQxNUANS9rFUb3jjjvKddddV88h0X6y0pWzfmXoKxm9//7767uJWlvVq35ROA57Q5rlNW8xQE5ceOGFVfeXWmqpeg7NJz/5yfooUuGruT/z9v4E/+A/SAZOP+PssuMue5UPb7JN2WSzbcqBBx9WLr74kuhs5pXIwBTLgEd3IycWWWSRekj9KaecUq644oq6BWSQ/ub7jO1kwIMHPF3Ry2f28cMPP1xJh7FsbYuIbG1PdGKne7f9ng0+Vl6kBh9PfZ4Eeeedd1Z/YayFZ+Wy6fkhou/5MxbJEXVj+ST8Fb4H30Q5w/yXXt8iJEUvIlP0v5tEqA4++OCy0korla233roSBBzCXkfStYTSgZquR1KIvnA4JsHqJk6tQ3wQHw7V4ngQon5CgfHlrIjgEHWB2CC443FIu3Xmc38EYI40ct9OOumkcuihh9Z7bEARsjtsMKH07qWtNUceeWQ54ogjqlPpaSsY0GEkkYHKNiJPd0FA2b5jMjUwIauGJYOQgcthivvtt1992oP22wagTcOSvtp+5JBW7wYzsvTggw/W+oUnC4n8+Mc/ntc8xsA+dlFWq666allwwQUrSWnMYHDl/kQ+IwOjJwO77rZH2WPvA8u2uxxQVtrg42Wp1bcsy6+8dllv/Q3LjjvuFL2dx2NqdGb0dGZu35Odd965iEB+zWteU5+K56w4c6szKuZ23Sl/esubM0wOOuig+mIXi4y3iMcHHMvWtqXIYpIzCdnp3i1IssEtaA9LbHkR/Mcff3yt+7TTTquLke0hCYPyKtcCpMUtD1mwqM4/QXIgPob5JH6zAMo3QVT080cH1RuSYhAyc/F7NwgRIYrBIz8XX3zxOqAR0H7OK2eWAIm6cMaE7R6cSALTG3VhxR2B4TpkhsgLoUT9EhaMoHJOhKtxojF52jYRIepXdr77f+FNSAWkkSexvOc976n3jpIbiIYNJkgpjr6J6AMf+EBZcskly+67715JJaTTsAGBrBg8yMkSSyxRyap26jTSYFjSLoe3brzxxmWhhRaqZ5+ceOKJlanVpmEJqWLwstXIO3k2mGJc1e/clTe+8Y3lta99bV7zGAOPEX7FK15R/umf/qn85V/+Zfmbv/mbssACC1RjK/cn8hkZGD0Z+D//9ZbylsVWKIuutGN514Ynl7eutGdZ4HVvLf/2bwsU+px7Nnr3LPdkZt8Teveyl72s/Omf/mn5u7/7u/Lyl7+86iLSIvd+Zt/7Ob2/b3rTm6ptz75/85vfXO1ji8qeojiWrW0BEKnh6Y3//d//Xc8mEsXD30AGDEsWST0u17mGiy22WPUTPWjBYmKvP9ktB3FiwZIf4riB973vfZWMQ3iI3B626Oo3RAbfZKyIjW6dPoek6EVkCv7nYGKUCONmm21W3vnOd9YICQJGOLsEgc/C5V2LeRMdgXUT4uOGN8FwnXKFmhFc20GQDti1QQKvTI8ydb3tJk4LV2bS5CDgnnDcsZzw9fQWUSue5jIWSUGRMaXujwEBibTXXnvVrTy9W3x6W+seIkLU5fBUkToiMURIiMIYlrTLYEcubReaNWtWJVnaI+6G5UV6idrwtIhjjz22DmhICsSZ+p19YDB+wxvekNc8xuD1r399NaL+7d/+rfzFX/xFJSoYWL7P/Yl8RgbmjQzQPw4Ox+fP//zPyz/8w8vKK1/z+vLKN7y9vPLNS5fXLrFZedPqR5XFt7m6vONDnyz/9fb3RWfn8VgaXZk3ujIvcKefyP1/+Id/qPr5B3/wB8ULSfGP//iPVXfnRbtS5/STwbe+9a3Vrmfbi2RnH59wwgk1CnqQz9bsbwvUIpMtftpq5F1EBH9jLJKCLS8i34MSLGKK4reoafvIMJJCFLatKfxP0UO2CVsQ53OOl6SwCK99wxZZWx/be0iKhsQUviMWrIY7O4JwERSr7f1utGsJXoui4LCKfuBMdsNm3HQr82eeeWaNzEBScFRFRgwSPNtFNt1008rCEbbLL7+8sl1TCMWMrgpJ4XwHW2pEFiAcEBacdkRD77aeLhhYS+dCGHhEJiAozjjjjHq2xVihVaIlRC94pKT7KhyMLIxnANMu++UMgKJ8DGa2imBZx9oqYvvSpZdeWs4+++z6ftddd1WCDeurfuztNttsUx+fKywyr3mHAb3fcMMNy3LLLVde+cpXVsLCk31E0CCocm/m3b0J9vMv9ptssslvDM9//ud/Lv+90MJl1rqbllmbH1iW3/rU8v7try7v3+XWsuwed5VZH7u4bLz1rtHVzCWRgSmQAfOiedMKNKfyX//1X8sf//Eflz/5kz8p//Iv/1LteBHMGb/n3/F7IveeLWx7rZfP7GM+2Hi2ZduqL4LBVvAdd9yxLgKy2/kbg/y95l+w5Z1nyLa3LQkxYgFzrKfS8C+dc8fHtBBp0dzCtsVuC+nDiAe/WXjlm3T91tamYe8hKYahM5d+c7MJihAbJIXoCA6oG82xbYkTa+Wb47fVVlvVR5R+5CMfqYJsC0f3Wswb4sIKtsgM7JjDTTi0LdqildveCTU2zcn+oi6QFiI8kiYPAfhjPWHL2XeIpT1h7tcwpXbvkVbOlrDtA6GFATU4IQu69763tX5Xh7rUKSLD4IIYG7bFRDnaZZAUgeNxuLZsaL+zKoaRKvLqKyLk9ttvr+8GPawp4kP9DgdyXoUtSHnNWwyQXyZFh+UKW/yP//iPevCXM0xMQrk/8/b+BP/5E3/bOO1TXnHlVcvLX/NfZZH3r1k+tMPxZaP9rizrHvjNsvL+D5aVD3q0rHfUI2W3z9xeTj3n8uhq5pPIwFyUAQ4d+/yoo46qziR7Xai+KMS//uu/Lv/+7/9e3vWud1VnkdOWsXv+HLsnet9FVLOxvXxmH1vQG4+tzdkXuSyinn8owsHh9MP8veYn8DMtILLtkSIWTfmOfL9hPklbXOeH8CksvvJPLE6y84f5JH5DTvBN+BHDrm3tbO8hKRoSU/juZnHaREfYBuBZ51aae0Px3VACYD+/8wGGPX2DQ0johOI4+8DKO8EbJnTCdJx14KwA0RkEbqwwoymEaUZUBX/EgHuJSRQhMV4lNSi43gDgRW7Gk9cA4Dp51dnyKm+swaG3vfJq/0TyaqdXy+O9iwEZy2veYmBC4xCJuBJJIVxUZAXywriR+zNv70/wnz/xZ3ieffY5Zb0NNy+veuPi5U3L7lxW3vUrZYOjHizrH/t4WeWQJ8taR36/7HTqM+XMa58rjzz54+hq5pPIwFyUAU6dUHgh8RYVHTSNoLC9w5lObHNRFsgMi0gZu+fPsXt27jv73Eve2bG1m1/R8rLfx2Pjs89b3jnxSSaSV7vGals/py8kRT9U5vJ3bixCQEi9wU2UhBXvFsXgRhI2K9pWNYUCLbPMMjXsX2iNKAqOXzdh4Bxw6BwCxIenSVjBHpawaA4/EebtwBYHqlCYbtIWDi8lMFhj8Hrr7l6fz0EgCIwuAsYV44/zb/bff/+6NcyBX/bAL7roonVrEIOsEUyj25O0LAjMPARuu+OucuhRnyyrb7xHectKe5aFNzitLL3rLWW1g79b1jjsybLCQU+V9T/xg3LIxc+XL935Ynn2hZdmHgjpURAYAQTMlexedvjpp59en4aFkLANy2HToihs87A3f5999qmr2b0LjSPQjTQhCExrBEJSzIPbx0kQYtPCxzzBwampjSDgIGC5hPjbA2dLRjvcxMEj/dgoof077LBDJT0OOOCAukUAoTAsISkc5oikGBRJgaAw8Hq0jVB+q6zanxQEgsD0Q8DYIiTQeIPMtCL0h3/4h/X1V3/1VzWyQjif8YeRlhQEgsDUIfDlr15fNt5m17LkBoeVJbb9Ulnio7eU9378rrLUXg+VZfZ7oiyz/1NlsxN/UE6+5sfl1od+Xl742W+3h05dK1NTEJj5CJgrLQiaK53V5EBbT8FySObv//7v13fnUjijwr5+21ybDT/z0UkPg8DUIBCSYmpw/h+1cPJFLTgs0zOVPdLFniIhPxwDZxE4LwLZsOKKK9aDeERUIAk4D92EsDCYOrfAto0NNtignHvuufXxpr3XdvP5bF+RAdZLXQbjxgS3aA7nGGjLWWedVdlke6DGIj9668n/QSAIjAYCjChjD1LSU1/sp3X4F6LCUz4cpGnVSGSWVaSkIBAEpg6Biy/5Qll6+dXK6xdZrfyfZXYvb9vgnEpULLXnQ2Xp/R4vyx7wZNnmpGfKBTf9pHznyV+WF38RkmLq7k5qmp8QYIuzoc2FIo2d3eb8pj/7sz8rv/d7v1fnTVs+bMNuj3DMAt78JCHp61QgEJJiKlDuqcN+IISDpyB4+sLOO+9cT2p1MquzJZAFwsfsF0dSOMzO4YWcht7VTQQFx8N+OQdmOl1YVIWtI34blhyOuOWWW5a11lqrbLvttvVwIHvVRWvYKiJ6wqmvDtgTpSE83CEtDnZJCgJBYHohgHj0eFokpm1mxosFFligrgj90R/9UQ1hXXjhhesBYA5zsr0rKQgEgbmPQFsUOOPMM8ub3/LW8pf/e4Hyv1+1WHnd0nuUd2x5VXnfrt8qS+/9cFlu/8fLjqc8U66+88Xy5LO/Kr/4VUiKuX93UsP8igC9tCgnulC0hKhjERW2enhE8N///d/XhUGHHrKZRR4nBYEgMHkIhKSYPCzHXZKBzAE7oh9EUsyaNaueN+EciWOOOaYSAsgJURH+92QIYWe9BIUKERSe5HDKKafUZ+46kwLz66BCA+yw5DqPxOSw2PYh/NsjbXx33HHH1cfMOA8DibHddttVttjBXllhHYZqfgsCo4eAscAqj/21SMd3vOMdNYrib//2b+sj1Nqj1Gz/cFK5w3qNK4jOscaR0ettWhQEphcC9MyqLRvgda9/ffnjP/mL8hd//4ryr29ZrfzXSoeURTb+fHnPTjeWZfZ+sHzs9GfKNx74WXnhxZfKS8On+OkFQlobBEYQAba0hTlPRPAUBo+EF3HosGnnU3jspMfF91tEHMHupElBYFohEJJiHtwuZINtFQY22yxst0BIbLHFFvUxo8KwV1hhhToYCs22h3wQQ6scURa2g3jG+uGHH16fCDKebmF+nY0hUsNjldSLsEBMKGv11Vf/v+yd95dcxZm//5HvL7v7i4/32F4fh7XXZndtgwPG4IDXJIPJBkzOwuQgBAIRBAIkgpAIyjnnnHOOM9KMJmvy9Mx0er/nKblEq90z0zPT4Xbfzz2nNa3ue29VPVV1u95PvfWWU45vuOEGZ7TwkPZLUrK5v84RAREIBgGEBgZRPCvYbvjSSy91UckJBMbrBz/4gX3/+9+3H/3oR27HH0QK4s9IpAhG/SkX5U2A33cmHHAbxwD67ve+Z/910U/s4stvtCtuGWnXPD7Vbn5lk905rsLeXtRix2qjFuvfUbK8gal0IpBnAvxmIlAg7iMg8vuJhzJB75nMw2v5kksucR7GeEFLzM9zhej2oSQgkaII1e4ffogEBMfEaECgQAxgi6MRI0a47QEREPyeuX09AHl4EsOCpRt4QAzGTZtrWdrBQ3fatGnOnQ2R46WXXnLLTV599VV3z0WLFjkV2YslfeWlCCiVpAiIQBYE6LMYQriu7tu3z+1xPX/+fLd8iyVcvPg/zw92GkKQHGjf7CyS1SkiIAJZEGDigv5ZWVnpPCxdX1y02JasWGcr1u+xNTsqbO2eBluxp822n+i25k55UWSBVaeIwJAJ0B9Z8ojXM2Ns3iNY4NXMcm1iujE5yJJoH8ttyInpQhEQgYwEJFJkxFKYD3ng4VLNeja2I33xxRedJwTxJXDL5sE3UFwJHqQYE9xn69atNpjlGBguDI7wjiD+BNGJWYIyZ84c9yJfbFWIUJLN8pHCUFMqIiACQyXgxQq/TzZ9n8EXL2Zy+ZwXzxWJkUOlrOtEYGgE+L2n//HbzwRCW1u79fRELRqLW6Q3Yc2dcWvpSlg0pnUeQyOsq0QgOwL8HhKLYsmSJUbA+GPHjp0fk9NPEfwRMOin/F7qEAERyD0BiRS5Z5r1HREI8GZABGAGBVdsAlei2vKAHEigICEMCc7DFQ1PB4yObK5LzSTnI5j4gRHBO3mRL+6nB3AqLb0XgdIn4MUKBloVFRVO5OQZImGi9OtWJShtAvwes6sWEw6MBZgg4CDEVCxhbpnHAOGmShuAci8CASCApzOx3h555BF74403nOcE/dKPr/24WRN4AagsZaFsCUikKHLVYhTwQrDgoceL94M1Fvx9BnudL37q9aTv8zDU+/n76q8IiEDwCPCcQQhldoh18PPmzXMGEf1ehwiIQHEIdPYk7VR9ty1dt8c++WKubdyyyzo6u4qTGaUqAiEkwG8g4j3x4Pwue4gULL/G4zD1N1Lj4xA2EBW5oAQkUhQUtxITAREQgeITYPYHTymWdxEs99FHH3WxKhAvdIiACBSHQFVT3BbtaLXH31hgf7z9BRs/eZ41NrUWJzNKVQRCSIDfRryaidN2zz33uKD2CPl+i1EJEyFsFCpy0QhIpCgaeiUsAiIgAsUhwECssbHRBcq85ppr7Pbbb3cBdCVSFKc+lGq4CcQTSYv0Jm3HyV57e36D/fGBifbDS2+118Z+YnX1TeGGo9KLQIEIIEAQ4404FE8//bTb6e6VV15x8d5YDqlDBESgsAQkUhSWt1ITAREQgaITIDifFymuvvpqu+222yRSFL1WlIGwEuiJJq2xPWELd0XsvgnV9sNrxti//+el9vKrb1htbV1YsajcIlBQAoj0/C6+8847dsUVV9jjjz/uduAjNoxisxW0KpSYCDgCEinUEERABEQgZAQIlMuOPsSiuP766+3uu+92kczlSRGyhqDiBoJAXWvc1hzotklrOuzFKTV22S2j7Rvf/V97ceQoq6mpDUQelQkRKHcCxJsggPyiRYvs5ZdftunTp7tg9gSQT41FUe4cVD4RCAoBiRRBqQnlQwREQAQKRIBdhdi2mO2Gb731VhfBfN++fecjlxcoG0pGBEJPgJ06Dp+J2vvL2mzsojb7dEW93fbQa/ad7//YXnrpJScmhh6SAIhAgQiwFPLkyZMuUCZ/+a1UHIoCwVcyIpBGQCJFGhD9VwREQATKnQADr1OnTrkZoxEjRhjrbgkWJk+Kcq95lS9IBBJJs55Y0vae6rV3l7TZxNUdtn5/i7365of2299d6dzO2fZQhwiIQGEI+N096Hd4Veg3sTDclYoIZCIgkSITFX0mAiIgAmVMgOUeZ86csQ0bNtj48eNtypQpVl1dLZfWMq5zFS14BAiY2dWbsANVUftsXact2R2xqoYumzd/oT355JM2c+ZMa2lpCV7GlSMRKCMCCBPEacKLAq8JXnwmD4oyqmQVpSQJSKQoyWpTpkVABERg6ASYHWKdLQHBDh48aMeOHXP/16Bs6Ex1pQgMlgCeFNF40s52xO1oTdTYgrSzO2aVp07Zlq1bnds5gqIOERCB/BHgt7CqqsptM4pQoUMERCAYBCRSBKMelAsREAERKCgBP1tE1HJECwkUBcWvxETgPAHEinjCLJEwI0YF/RFjSf3yPCK9EYGcE/C/gXgVrlq1ynbt2uWWeOi3MOeodUMRGBIBiRRDwqaLREAEREAEREAEREAEREAESpEAYgQi/bZt2+zFF1+0Tz/91C175DMJFaVYo8pzuRGQSFFuNaryiIAIiMAABBiAMUvLOlxcXSORiPv/AJfpaxEQgWEQwEsiFk9aRyRhZ87G7MzZuHX1sAb+q5vSN1niQdA+3y9lMH3FR+9EIFcE6FcIEnv37nVBamfMmOGWQEqkyBVh3UcEhkdAIsXw+OlqERABESg5AgQFY4ePs2fPWmVlpZs90lZrJVeNynCJESBQZkd3wo7XxWz+ji5bsDNiVWfjbqmHLwp9s7Gx0cWJqampkVDhweivCOSBAEIFgiC7XdXV1TmBkD6oQwREoPgEJFIUvw6UAxEQAREoKAE8KBoaGlzQzNWrV9vWrVutublZLq4FrQUlFjYCxJ7o6k3a6caYrdwXsZX7I1bTcqFIQSyKAwcO2Pz5812/RLDwuw6EjZfKKwKFIIBQgTDBS15LhSCuNEQgOwISKbLjpLNEQAREoGwIdHV1uZnaZcuWuS1IcXMleJhmkMqmilWQgBJwQkVP0qrPxqyqKfZPyz1Y6rF8+XK3Rp6tgSsqKpw3hfpmQCtU2RIBERABEcgLAYkUecGqm4qACIhAcAngSVFfX+9mbNeuXWs7duywlpYWzSIFt8qUszIiwLKPzp6EdXYnLBa/sGCsh0/3pKC/aob3Qk76nwgMhQD9iGWOeA9u2bLFLfFQ/xoKSV0jAvknIJEi/4yVggiIgAgEioB3b8UgYoAmd/JAVY8yU4YECI55YYDMC/+fWmT6JR4V9Eu5oKeS0XsRGDoBfvcIGH3w4EEbNWqUjRw50rZv3+5iUshTaehcdaUI5IuARIp8kdV9RUAEREAEREAEQk2A5R29saSd7UhYbUvc2iOJCwJlhhqOCi8CBSTAbjnHjh0zljfef//99swzz9ju3bvdcip5KhWwIpSUCGRJQCJFlqB0mgiIgAiUCwHvScHsETNLmq0tl5pVOYJEgJ1Fe/4hUBw+E7UdJ3ut+mzcovGUPUczZJj+iDcFfVPGUwZA+kgEBkmAfkQQ2gULFrh4L7fffrvzpDh8+LDra4O8nU4XAREoAAGJFAWArCREQAREIEgEMH6YVWptbXW7fBCPAtdyHSIgArkjgBcFu3dsPtZzbsvRHRE7ciZqPdG+RQqMqba2NhfIlrXzLPuQK3ru6kR3Ch8B+hS/b0ePHrVXX33Vbr31VnvuuefcDjpsO6r+Fb42oRKXBgGJFKVRT8qlCIiACOSMAHEo2IL0yJEjbk3uoUOH3LpczdrmDLFuFHICCBR4Ueyt7LXP1nXahBUdNnNzlx2qjlp3PyIFHhTHjx+3VatW2d69e93WwIoZE/LGpOIPiwCiPMLf5s2b3TKPa6+91iZOnOiWfiDW63dvWHh1sQjkjYBEiryh1Y1FQAREIJgEOjo6bN++fTZ37lx79913bfr06dqCNJhVpVyVKAHiUDS1J2zJ7oi9PKvVPlnV4ZZ7NLYnLJbou1Dd3d22cOFCe+KJJ+zTTz91ggVbBmu2t29m+kYE+iOANxLCH7939CteiIDNzc1uSVV/1+o7ERCB4hGQSFE89kpZBERABIpCgMHZmjVrbNy4cTZixAj39+TJkzKEilIbSrQcCZztiNueyl77fF2njZzZarO3dllNc9x6Y33v6gEHZnYnTZpkV111lVs7v3PnTrcsi9lgHSIgAoMngEhBwMxly5Y5D4qpU6e6/+NRqEMERCC4BCRSBLdulDMREAERyAsBAogtWrTIXn/9dXvqqafs448/tlOnTkmkyAtt3TSMBI7WRJ1A8f7SdrfcY/uJXmvvThrLQPo7ECm+/PJLu+GGG+z555+39evXu6VZLAPRIQIiMHgCCHx4DxJ/orKy0qqrq62zs1O/d4NHqStEoKAEJFIUFLcSEwEREIHiEyAeBa6vBBFjGzZmbquqqjRoK37VKAdlQuBEfcxmbumyWVu7bPPRHrerB0tABjoQKaZNm2a33HKLEylwS6+trdUOBAOB0/ci0A8B4k6wZMq/FIeiH1j6SgQCQkAiRUAqQtkQAREQgUIRqK+vt9mzZ9uoUaOcSDF58mSJFIWCr3RCQaCtK2HH66JW2Rizsx0J6+4d2IsCMKkiBTsQrFixwmpqarT7TihajQopAiIgAiLgCUik8CT0VwREQARCQoDlHosXL7a3337bRo8e7QJnYggpOF9IGoCKmXcCvfGktXcnrLM3YdG4DbjMw2eIwJnz58+3Bx980C3HWrdunXNT13IPT0h/RWBgAoh9LO8g1tKJEyesqalJ3kgDY9MZIhAoAhIpAlUdyowIiIAI5J8AgTPXrl1reFB8+OGHtmTJEsO7QiJF/tkrhfAQIP5EcuAVHhcAIcjfypUrbeTIkfbRRx/Ztm3bDFFRIsUFmPQfEeiXAL9nW7ZsccsaZ8yYYXv27HFeSv1epC9FQAQCRUAiRaCqQ5kRAREQgfwTYJapoqLC2Dlg69atduTIERdITOt0889eKZQngZ5Y0hrb49bQFrfOnqRF48lBCxSQQYxg5pdYFAgUxIpRkL/ybDMqVf4IIMQfOHDAVq9ebUuXLrXDhw8bXko6REAESoeARIrSqSvlVAREQARyQgAxgojn0WjUvXgvgSInaHWTkBJoiyRsf1XU9p7utbrWuEWyjEGRCRf9ke0R6Z/qm5kI6TMR6J+AX+5x9OhR27dvn+K69I9L34pAIAlIpAhktShTIiACIrWfTfUAACAASURBVCACIiACpULgbEfc7eKx8UiPVZ2NWVcPuwmUSu6VTxEoLwJ4JHV1dRkeFSyXYgtSLWcsrzpWacqfgESK8q9jlVAEREAELiDgPSkYyDFTy+BNnhQXINJ/RGBQBJra47bhcI+tP9xt1Wdjw/KkoD+qbw4Kv04OOQF+v+g3vFJ/0/xn+n0LeQNR8UuSgESKkqw2ZVoEREAEhk4AA6i1tdUaGhrcTBNr3hnY6RABERgaAZZ3nGmOuVdHd8Ji8cEHzSRljKn29narra11OxIwG0x/lZE1tHrRVeEgwO8XQWfxmGhpaXFxXPSbFo66VynLl4BEivKtW5VMBERABDISYL0uW7Pt3bvXBc3EIGKAJ0MoIy59KAIZCbBzh9+9g0082M1jKDt6pN4cw4pgmQTNJPAfuxQQ8E99M5WS3ovAhQQQ86qrq+3QoUO2a9cuFxia3zQdIiACpUtAIkXp1p1yLgIiIAJDIsBM0/r1623WrFm2bNkyZwwxAyVDaEg4dVEICSBOJBJJiyeGtotHX8gIlrljxw6bNGmSzZ8/3xldeD1pVrgvYvpcBMwFxly8eLFNmDDBxowZYwsXLnRegmIjAiJQugQkUpRu3SnnIiACIjAkAhg97CHPQG7NmjXOm0IixZBQ6qIQEkCg6ImyvCNuJ+qjRjyK3lhuxApEij179ti0adOcgMjuBG1tbRIpQtjOVOSBCRBzgp1w8Ap85ZVX7KGHHrLnnnvOCXwEzdQhAiJQugQkUpRu3SnnIiACIjAkAhhCDODq6urORz5n3bsOERCB/gkgUMTiSatvjdviXRH7dHWHbTnWY82dCYslzFj2MZwDowtRAtd1lnogHtJf5eU0HKq6tlwJ0DfwDMSL4rrrrrObbrrJZsyYYcePH3fLpMq13CqXCISBgESKMNSyyigCIiACaQQwehT5PA2K/isCAxBgeUdTe8J2VfTaJ6s6bOyiNttwuNuJFPEcbTmqvjlAJehrEfgHAbwCWR713nvv2VVXXeU8Kfg/4p6WSKmZiEBpE5BIUdr1p9yLgAiIgAiIgAgUiADLOg5URW3G5i57b2m7TVrTYftO9botR/Gy0CECIlA4AqdPn7aPPvrIHn74Ybv33ntt/PjxLvAsAry8jwpXD0pJBPJBQCJFPqjqniIgAiIQYALMMDHTxCwUUdHlTh7gylLWAkMAgaKxLW7L90Zs7OJ250mx5kC3i03BEpBcHBhW7ErAkg+2ImUnHm1Bmguyukc5EmAnnMmTJ9vo0aPtk08+sY0bN7q+U45lVZlEIGwEJFKErcZVXhEQgdATYEtDBnes22X7UbnGhr5JCMAABJAg2iMJO3Im6uJQPDWlxXlTVDfFXRDNXHlRMAPMGvvKyko7deqUixmDUMHnOkRABC4k0NjYaCtWrHBBoI8cOeKEPS3zuJCR/icCpUpAIkWp1pzyLQIiIAJDJMDAbtGiRfbZZ5+53T0wiBAu5B47RKC6rOwJIFK0dCXsUHXU5u/ocss8thztsbYuYrvkrvh4NR04cMBmzpxpc+fOta1bt7oAtwpsmzvGulP5EMAT8OTJk3bs2DEn7snrqHzqViURAYkUagMiIAIiEDICFRUVzj2WNbwffvih7dy5081ASaQIWUNQcbMm4ESKzoQdrYnajpO9tv1Er1WfPbf1aNY3yeJElnosX77cnn76aXvppZds+vTpxjakfK5DBETAnJjuf6v4i+cEL/+ZGImACJQHAYkU5VGPKoUIiIAIZE2AmaeXX37Z7rjjDnv//fdt+/btbh2vBnlZI9SJISTQHU3a2Y6E1bXG3RakHd1JS+QmFMV5mng0LV261EaMGGHPPvusTZkyxXBjl0hxHpHehJgAv1H0BTwoent7JUyEuC2o6OVPQCJF+dexSigCIiACFxCQSHEBDv1HBPokQKwJr0PwF1HCv3IVhyI1cYkUqTT0XgQuJMByjvr6ejtx4oT7S39RvJYLGel/IlAuBCRSlEtNqhwiIAIikCUBiRRZgtJpoSaACBFPJC2eOCdM5EOUSAcskSKdiP4vAl8R6OzsdHGUPv74Y+dxRDwlvCokVHzFSO9EoFwISKQol5pUOURABEQgSwIM7MaMGWP333+/22NeMSmyBKfTQkWALUdbOhNu29Gm9oSxvAPBIp8HruzsVsBSj5EjR9qMGTNcUEAt98gndd27VAiwExXLod566y2bPXu2i9fCZxIpSqUGlU8RyJ6ARIrsWelMERABESgLAtXV1S5g5gsvvGDTpk1zuwkw0FNMirKoXhUiRwQQKPZURm394R5bd6jHBc3s7vWLP3KUSNptWGe/ceNGZ4SNGzfOFi9e7LYj5XMdIhB2Aiz3OHPmjB08eNBt0dvW1mbsiKPfrrC3DJW/HAlIpCjHWlWZREAERKAfAmfPnrWVK1e6WdpNmzZZVVWVtiDth5e+CieB1q6E7TsVtY1Hemz94W4nUkTyLFJghBEoc+HChW7GePfu3dbQ0GB8rkMERMCc1wS7eeA9IXFCLUIEypeARIryrVuVTAREQAQyEmDmCaGirq7O7S2v4GMZMenDkBOIxpPWHjm3o0dDW9zaIom8L/fA6GLdPcJEU1OT2xpYuxiEvCGq+CIgAiIQQgISKUJY6SqyCIiACGAM+ZkozUapPYhAZgLngmeaIVgQjyK/iz3O5UF9M3Nd6NNwEmhtbbXjx4+7ZU8tLS1uC1L9ZoWzLajU4SIgkSJc9a3SioAIiIAIiIAIiIAIiEBJEGD50xdffGFz5851sSiam5u1/Kkkak6ZFIHhEZBIMTx+uloEREAESo4A69uZnWLJB9u3sb5XM1MlV43KcI4JxBJJIw5FfVvcvXiPB0UhD/ohyzsIZNve3u7+arlHIWtAaQWFAO0ezwmCxz788MP29ttv2759+4xgmfxm6RABEShvAhIpyrt+VToREAER+CcCkUjETp48aYcOHXJr39neUCLFP2HSByEjQFDME3VR23Gy13ZW9NqJ+ph19iSNJR+FOuiHGGHswHPq1Cm3kwFihbZYLFQNKJ2gEKAfHD161MaOHWuXXHKJPfbYY24nKsVQCkoNKR8ikF8CEinyy1d3FwEREIHAESAgH3vNz5gxw81M4VWh3QMCV03KUIEInIs7kbS61rgt2R2xL9Z32pqD3VZRHzOEi0KKFMwQI1Bs3rzZVq9ebVu2bHFCBcFudYhAmAgQh2LixIk2YsQIu+2222zChAmub/BbJVE9TC1BZQ0rAYkUYa15lVsERCC0BNhnftKkSfbmm2/a+vXrnTeFjKDQNofQFzyRNOcxcag6au8va7dRs1tt6Z6IVTfFrSeaLEiwTF8JGGDMHi9YsMCmTZvmXN1PnDjhloD4c/RXBMqZAAIEYt3GjRvtb3/7m91+++3nf6vwrtAhAiIQDgISKcJRzyqlCIiACJwnwHp31vZu3brVTp8+7eJSyJ38PB69CRkBhIhjNVFbtCti7y5ps/HL292SD2JSsKNHIQ/6IYEBmUVmORYCBevytQa/kLWgtIpJgFgUjY2NLlDmtddea/fee68tW7bMeVHwnQ4REIFwEJBIEY56VilFQARE4DwBZqqYscV7AuNHrrPn0ehNyAiwlKMtkrC1B7udOIFAsXBnl51uihU8aKZHj1BBv6SPqn96KvobFgLETKqqqrI5c+bYXXfdZa+++qqLoaRlHmFpASqnCJwjIJFCLUEEREAEREAERCB0BBAo2L2DWBSztnbZ6/PabMbmLjtYHbX2SMJYBqJDBESgsAQQI/D2I7jzypUrbceOHW6nm8LmQqmJgAgUm4BEimLXgNIXAREQgQITYKaW2Sq2H9XsVIHhK7nAEECk6I19FTBz4uoO23S0x5o78WQoTjb9enzc2tl1h7/ypihOXSjV4hGgH+Dpx2+UdvMoXj0oZREoJgGJFMWkr7RFQAREoAgEGPQRi4KZKgKRKR5FESpBSQaCAN4S3dGknWmO2fHaqDW2Jaw3ZgUNlpkKAuMMw4w1+XV1de4v/1cfTaWk92EgQF+g3avth6G2VUYR+GcCEin+mYk+EQEREIGyJtDQ0GDz58+3qVOn2rFjx9yMVVkXWIUTgX4IsKojFj/nVUGgzEJuOZqeLbwmampqnIs7O+9s377damtrtUVwOij9v2wIeO8hxDjaPrtPdXZ2KlZS2dSwCiICQyMgkWJo3HSVCIiACJQsgSNHjtgjjzxiN998s61YscIt/SjZwijjIpADAggVQQhBgYv73r17bfLkyfb222/bxIkT3f/xftIhAuVIAE8JljYRLHPp0qVu213esxRRhwiIQHgJSKQIb92r5CIgAiElwPajN910k1122WXOo4IZLB0iEAYCLO8gWCZxJ041xqyhLW6xeBDkiXP0ESl2795tEyZMsOeee85Gjx5tmzZtcktAwlA/KmP4CCBS8BvE8sO5c+fa7NmzraKiQiJF+JqCSiwCFxCQSHEBDv1HBERABMqfACLFjTfeaL/+9a9t3rx5MoDKv8pVwn8QQJDo6knYoeqoLdwVsZ0ne62zJzgiBbPHBw4ccJ4UTz/9tD377LO2evVq5/6uShSBciTAEieWdyBMLFmyxL3kSVGONa0yicDgCEikGBwvnS0CIiACJU9AIkXJV6EKMEQCXqQ4Whu1Ffu6bd/pXuvqDZ5I8dlnnxkiBa9Vq1a5LRmHWGRdJgKBJoAnBbvYnD171liKyKu1tVUBMwNda8qcCOSfgESK/DNWCiIgAiIQKAL79+/Xco9A1YgyUygCBMiM9CStqiluuyt7rbIhZj3RYIkUBw8etM8//9yeeeYZ95JIUajWoXSKQYDAmX4nDzyJtOVuMWpBaYpA8AhIpAhenShHIiACIpAXAgwEGQQiUjz++ON2xx13OFfySCSSl/R0UxEIGoFEgpgUZu2RhNW3xq21K2Hs6BGUg/7JjjuszX/rrbdc8MwtW7ZoSVZQKkj5yBkBfo+IwUJQWNo9/9chAiIgAp6ARApPQn9FQAREoMwJMAgkivrRo0ftvffeszFjxrggfbja6hCBciaA/YNAQeBM3rv//+NvkMrNLDLr8detW2fTpk2zGTNmGJ4V9FsdIlAuBFjigThRX19vp06dsubmZudBUS7lUzlEQASGT0AixfAZ6g4iIAIiUBIEvCcFA0K2Ody5c6c1NDRocFgStadMDoUAc7MIE73xpHV0J6yrJxkoz4n0MmG8tbe325kzZ5yYiFcFa/URL3SIQDkQ4HeImBOHDh2yqVOn2tixY50o19HRUQ7FUxlEQARyREAiRY5A6jYiIAIiUCoEvFiBiy1GkQ4RKFcC8cS53TzqWxN2rDZmp5vigYpBkYk7/ZN+iTDBS300EyV9VqoEaM/Hjx93XkJPPPGE3XXXXTZr1ixraWkp1SIp3yIgAnkgIJEiD1B1SxEQAREQAREQgeITwHPieG3M1h7stqkbO23l/m5r7pAwV/yaUQ7CSAABjjgUK1assEceecTuu+8+t+xw8+bN2mY3jA1CZRaBfghIpOgHjr4SAREQgXIj4L0ourq6XDA+BSwrtxpWeSBAzAkCYta1xt1Wo5+u6bAPlrfbkt0ROxtwkYKZZuLE0Ec7Ozvde/qtDhEodQIEaWYp08cff2xXXXWVPfroo7Zo0SI7ffq0a+elXj7lXwREIHcEJFLkjqXuJAIiIAKBJuAFCtb+EpyvsrLSrX+XO3mgq02ZGwIB4lCwteiRM1Ebv7zdRs9ts3nbu+zwmahFeoNr8NNHCShIHAoCCp48eVJBBYdQ/7okmAQQKJYvX24vvPCCXX311c6LgkDOiBf6HQpmnSlXIlAsAhIpikVe6YqACIhAgQlgALFLQE1Nja1du9ZWrlxp1dXVbvu3AmdFyYlAXgn0xJJW1RS31Qe67Y0FbTZ2cbttO97jvChiAY5BiaFGYFsMN7YexQ0eQREXeR0iUOoEEMZnz55to0ePtqeeesrmzJnj2rs8hUq9ZpV/Ecg9AYkUuWeqO4qACIhAIAkQhA8vigMHDtgHH3zgoqrv27dPbraBrC1lajgE2roStuFwj01c3WHvLmm3mVu6rLIhZr2xpFsKMpx75/Na+iiixIYNG5wBN3/+fCdYaAvSfFLXvQtFAO8g2vT06dNt8eLFdvjwYec5VKj0lY4IiEDpEJBIUTp1pZyKgAiIwLAIMEuLKzlG0LJly9xaYAaNxKXQIQLlRKC9O+k8J+Zs67JFuyK2q6LXWjoTbjvSIJeTPtrU1OSMt+3bt7ttgmtra9VHg1xpylvWBFjGhDDOFth+KZN+f7LGpxNFIFQEJFKEqrpVWBEQgbATwK2W2VrWABOYT4Ezw94iyrP83b1JO1EXs72nonaqMWZtkYTF4sGNRZFaCwgVLO/Ae4IAmvRXucOnEtL7UiVA26ZN8+K3h//rEAEREIFMBCRSZKKiz0RABERABERABEqWAIJES2fc6lvj1t6dsGj83I4fJVsgZVwESpCAF8URIyS0lWAFKssiUEQCEimKCF9Ji4AIiEChCTBQZMDoXxo4FroGlF6+CLBLJ7t64C/hXv7/peFAcR5Lah+VF8V5LHpTggRov3jsEQsJzyB57pVgJSrLIlAkAhIpigReyYqACIhAoQlg/DBQbGtrs4aGBrf2nRgVEioKXRNKL9cEECjYcrQ9kjCWeiBWlOJBX8QVnj7Kdo3EjGlpaXFLPkqxPMpzuAkQg4IdaoiBtG7dOhcElqWGOkRABERgIAISKQYipO9FQAREoEwIMKvV2tpqFRUVtmPHDtu9e7cTKvhchwiUMgFEiubOhFXUx6yhNR74XTz6Yo1Iwawz4sSmTZvcNsEEGES40CECpUYAoW3mzJn23nvv2eTJk12bbm9vL7ViKL8iIAJFICCRogjQlaQIiIAIFIMAhg6DRma0xo0b57YhPXjwoAygYlSG0swpgXgiacdqo7Z0T8S2n+i1xvbSFCpYhoWX09atW23ChAn22muv2fr1662zszOnvHQzESgEAQS3I0eO2K5du2z//v1WXV2t35tCgFcaIlAGBCRSlEElqggiIAIikA0BlnqcOHHC5syZYw899JA9+uijbmaLJR86RKCUCSBSHDoTtXnbu2zTkR6ra4275R94WJTSgVcThtzy5cvtmWeesbvvvtvmzZvnln+UUjmUVxGAAKJb6k41ikmhdiECIpAtAYkU2ZLSeSIgAiJQ4gQQIxApZs+ebQ888IA98sgjEilKvE6V/XMEECNauxJ2ujFuDW3xc3EpSnB3Q0SKqqoqW7p0qT311FN255132ty5cyVSqKGXLAGWMKW+SrYgyrgIiEBBCUikKChuJSYCIiACxSOASHH48GGbNm2a86R44oknbMuWLS6YZvFypZRFIDcEECoSia92+MjNXQt7F4kUheWt1HJLAM8JdvNobm52L5Z7yHsit4x1NxEICwGJFGGpaZVTBEQg9AQYPLI2+NNPP3VLPV544QXbuXOnRIrQtwwBCAoBiRRBqQnlYygEiHtE0Fd+V3gdP37cCJSJeKFDBERABAZDQCLFYGjpXBEQAREoYQKIFHv37rUpU6bYyJEjbezYsS6YmXYOKOFKDWnW8ZpoiyRcsMzKxph1dCcsljArtRgU6dWHSFFbW+uC277++uv25JNPuvgUzEjrEIEgE2BJB9vlrlixwsaPH28zZsxwQgXbkEqkCHLNKW8iEEwCEimCWS/KlQiIgAjknADLPZjZYs/6Dz/80L788kv3fwKb6RCBUiHgl3Ucr4va5LUdNndbl51ujJ2LQ1FigTLTmWPMNTU12Z49e1z/xNjbtm2bRSKR9FP1fxEIDAEECpZ1EE9lzJgxdv3119srr7xiGzZs0DbXgaklZUQESouARIrSqi/lVgREQASGTIBBJAbQ0aNHXSwK3HEbGxuN2VsdIlAqBCK9STtzNm6rD3bbmwta7csNnVbVFLPeWOl7UmDs4fHEVsEszdq8ebMz/CQklkrrDGc++Q2pqamxVatWGbGObrjhBudNcejQIcMLSJ4U4WwXKrUIDIeARIrh0NO1IiACIlBiBBgsMqDE6OGlwWOJVaCya00dcdt4pNsmre2wkbNabOrGTrejR4k7UZyvWYQK+iWiIn1UIuJ5NHoTUAJsb719+3a3hJBtcx988EG3Q01bW5vb2SOg2Va2REAEAkxAIkWAK0dZEwEREAEREAEROEcgkTTrjSXtaE3UCRRjF7fZF+s7bdvxHheTQpxEQAQKTwBBrbW11WbOnGn33HOPC8o8ceJEw4sC8UKHCIiACAyFgESKoVDTNSIgAiJQggT8DC0zs8zSMrjkMx0iUAoEYvGkC5a59XiPvTyr1UbPbbPNx3qssT1h0TJbsZTaV9VHS6F1hjeP/JawbJD4Kddcc42NGjXKBcxEuJAXUHjbhUouAsMlIJFiuAR1vQiIgAiUCAEGjGwHV19f79YPE5+CYJoygkqkAkOeze5o0qqb47b+cI9NWNHuYlGcrC+PgJmpVYt4yI477IpAX9Wa/lQ6eh80ArRX4qhs3brVPv/8c1u7dq1rt7Rh/bYErbaUHxEoHQISKUqnrpRTERABERgWAda3E9xs//79LigfATRZM8wgU4cIBJ0AATPZbnTb8V5buidiW471WEsn3kBBz/ng8oeYyG4e9NWKigprbm7WjPTgEOrsAhPgN8QL4Pym4F0hgaLAlaDkRKDMCEikKLMKVXFEQAREoC8CeE0cO3bMzXSxDemWLVusoaFBBlBfwPR5oAjEEklrjySsvjVhVU1xFyyTGBXldmDcYeR1dnY6EVHeTuVWw+VXHt9m8Z6QQFF+9asSiUAxCEikKAZ1pSkCIiACRSBAELOTJ0/apk2bbPXq1W7dMEs+tG64CJWhJIdEAK8JAmji/MPf8pMovsKC4edfX32qdyIQDAL8nrAkCc8JvPTUVoNRL8qFCJQLAYkU5VKTKocIiIAIDEAAMYL17QgTrHXHjVzrhgeApq9FQAREQAT+iUBdXZ2tW7fOLR30QTIRKnSIgAiIQC4ISKTIBUXdQwREQARKhACDSNYP89LMV4lUWkiziadEZ0/SGtsS1tAat+bOhPVE8S4IKRAVWwQCQMD/hrB0cPLkybZ48WK3bFDLPAJQOcqCCJQRAYkUZVSZKooIiIAIiIAIlAuBaDxppxpjtuloj6071GO7K3pdHApiU+gQAREoDgEEbpZ37Nmzx9544w2bOnWq4VWBp548KYpTJ0pVBMqRgESKcqxVlUkEREAEMhBgcMmuAS0tLefXEmu5RwZQ+igQBGLxpNU0x213Za9tO95jB6t6rakjYXFtRhOI+lEmwkkAIQKvicrKSluwYIGLcURcCgkU4WwPKrUI5IuARIp8kdV9RUAERCBgBJj9Ysbr8OHDduDAARdEk23jEC90iEDQCOAwwbajzR0Jq2uNW2N73P1fyz2CVlPKTxgJ8HvC70dXV5eCL4exAajMIpBnAhIp8gxYtxcBERCBoBBgMLl7926bO3euzZo1y9avX+8CaGp3j6DUkPKRSoBFHXhNEIeiqzfpBIpYvLx39Egtv96LQJAI+FgUqR4TvE/9f5Dyq7yIgAiUNgGJFKVdf8q9CIiACGRNgAjsCxcutFGjRrkXa4krKiqc627WN9GJIpBnAnhKuJedEyQQK/xneU5atxcBEeiDAB53LA/kJe+7PiDpYxEQgZwRkEiRM5S6kQiIgAgEmwBbjuJB8cwzz9jIkSNtxowZdurUKYkUwa62UOWuJ5Z0u3ic7YhbW1fCuqNJU5zMUDUBFTZgBPCUYGnH6dOnbfbs2TZz5kw7ceKEdXd3y4siYHWl7IhAORGQSFFOtamyiIAIiEA/BM6ePesisY8YMcKJFHPmzLGqqiqJFP0w01eFI4DHBNuMHqyKutfpxpi1dhEoU7t5FK4WlJIIXEiAIJkEW167dq3dc8897sV7gmXKo+JCVvqfCIhA7ghIpMgdS91JBERABAJNoKmpSSJFoGsovJljOQdixJGaqH22ttNmbO5yW47Wt8aNrUh1iIAIFIcAwTG3bdtm48ePtzvvvNOeeuop27lzp9spSvEoilMnSlUEwkBAIkUYalllFAEREAFmqf+x3OO5556zMWPGuPgUZ86cUWR2tY6iE+iNJZ3XxNqD3fb89BYbt6Tdth3vtYbWuLEVqQ4REIHCEkCAIKgy3naTJk2yRx991B5++GGbMGGC2xkKDwsdIiACIpAvAhIp8kVW9xUBERCBgBFgRmzVqlVuRuzzzz93u3s0NDRIpAhYPYUxOyzz2F3Za9M2ddpLM1vsi/WdVtlwbstRrfYIY4tQmYtNAIGC3wy8Jp588kn785//bG+88YZt3rzZLf/QUo9i15DSF4HyJiCRorzrV6UTAREQgfMEIpGIHTx40FauXGkbNmywI0eOaF3xeTp6UwwC55Z5mFU0xNwSjw+Wtdv4Fe225mC386yQD0UxakVpioC5WEX19fW2Zs0a50Vx++23u6CZNTU1LpCmGImACIhAPglIpMgnXd1bBERABAJEwM+MNTY2GkE0Ozo6FDQzQPUTxqwQhyLSm7QdJ3rt5dmt9vr8Vlt9oNtON8WNnT50iIAIFIcAO3qw+xOi9rhx4+y9996zXbt2WWdnp3b1KE6VKFURCBUBiRShqm4VVgREIOwEWGeMmy5/FfQs7K2h+OUn3ATbjB6oitqHK9ptysZOO14Xtc6epMUTxc+fciACYSVAzIm6ujrbu3ev86bYtGmT4UWhWBRhbREqtwgUloBEisLyVmoiIAIiIAIiIAL/IICvBDEnWth6tLrXCRQd3QhpZvKjUDMRgeIRQMTu7e11nhOtra0uPgX/l7hdvDpRyiIQJgISKcJU2yqrCIhAqAmw3IPBJuuM2feeGBV8pkMEik2AbUbbuhLWEUnIg6LYlaH0RSCFgPe6kziRAkVvRUAE8k5AIkXeESsBERABEQgGge7ubjt+5DEjPgAAIABJREFU/Lht377dBc0kNkVPT49mxoJRPaHPBR4VBNLUIQIiIAIiIAIiEG4CEinCXf8qvQiIQIgIEPBsx44dtmDBAtuyZYtVVVU5bwrNkIWoEQSgqAgRPdGkNbUnrKHt3DajEicCUDHKQugJtLW1OSGb3wm2Gq2srHRLPkIPRgBEQAQKTkAiRcGRK0EREAERKA4B9rxft26dffHFFy5i+4kTJ9x6Y+13X5z6CGOqiBGxRNJtL3qwOmp7T/U6sUJBMsPYGlTmoBFAuF66dKmNHz/e3nrrLRcwk98NHSIgAiJQaAISKQpNXOmJgAiIQJEIEPSMLeX27dtnFRUV1tzc7GbJ5ElRpAoJYbLei6KuNW7bjvfYpqM9VtsSVxyKELYFFTl4BIhZdOTIEduwYYOtWLHCvWeZoA4REAERKDQBiRSFJq70REAERKBIBBAjCJTJFnL8lQdFkSoixMkSdyLSm7QzzXHb+g+RAsFCnhQhbhQqemAI8LtAnCLEioaGBrejh4IrB6Z6lBERCBUBiRShqm4VVgREQAREQASKR8At94gnrbM74Two8KLo6kkqYGbxqkQpi8B5AgjZiNfRaNSJFfyVp915PHojAiJQQAISKQoIW0mJgAiIQDEJMPjEdbejo8P9ZYZMA9Bi1ki40kagSH3hVaEdPcLVBlTaYBHg+Y9nHb8LBFbmr/ew029DsOpKuRGBsBGQSBG2Gld5RUAEQkuAmBREaycmRXV1tXV1dZ0fkIYWigpeMAIIEvF40gkTBUtUCYmACPRJAIGCHT34PThw4ICLWcRyDx0iIAIiUGwCEimKXQNKXwREIFAEGLThaUBQycbGRjeAY9CWjdcB53FdTU2N296TNb3cayCXWWauEAzq6+vd9m/sutHS0uLSTIUTiUTcOuGTJ086oWHXrl1uS1G2izt06JCdPXvWzYqlXpP6nsHoqlWr7PPPP3fby1G+THkjPwgafI+ocfr0afeeWba+Ztf8jBzlJ0I8eTxz5sywdw+hPmDT1NTk7ss9eQ8LP+OXWkbec35tba0dPXrUdu/ebTt37nQD8Lq6ugtmCtOv0//zQ6A3lrS2SMLFoahoiNnZjrjF4smcJebbK32GvseLNkI76G89vW+znEdbp53TbjHY6CuZ+obPNNdyb/o31x07dswFo+U+9B1/cI5vj/RR+irb//Ki/x4+fNi11VwYhnBgNpy2f/DgQfdMgEN/5eAa+jXn0V/ID/2E+/THzpcv01/PBobUBUF6eY5wX3jRpzkn9fDPXVju2bPnPCMEVT4jP+nXpF6v90MjQOyJvXv3uiCZc+bMsW3btrk6GtrddJUIiIAI5I6ARIrcsdSdREAEyoAA261hcGzfvt3Wr19v+/fvdwYMRkR/g2S+Q2TACFmwYIFNmzbNbd+G0cPAvC+DGmQYEey6sXLlSnvvvffsgw8+cAN1jIfUAwN99erVNmHCBHvqqafsvvvus7/97W92991326uvvury3N9gnvxxf87/7LPPnPGQSXggPwgelP/TTz+1L7/80m1disGBMZHpoPykjeFF2T/++GNj0Ev5ud9QD9jBZuPGjTZjxgybN2+eE1hg0dd9MWoWLVrkttB75JFH7N5777Xnn3/eba2HocR1/dXlUPOq6zITaOlMGNuNLt4dsSkbOm3nyV7r6r3QSM18ZXafIgrQXhGkaB/z5893uxPQDvrrt77Nct7atWtdO6fdzpo1y4laGHB9tXcvPvCsoL2//fbb9sknn7j7INRxb39/2i/tkT5K3/vLX/5iN954o91///3uM75DJBhum6Ss9LeFCxfaSy+9ZKNGjXJ9hXL0JTjQF+gT9C/K8Nprr7l+grCQ/vzJrjbwljknzCDK8CzkGTJp0iT3fINX+vOQciNosKvElClT7LHHHnOM4PTEE0+4z2DYV11kmy+d988EaC8fffSRvfDCC/bKK6+4+qL96hABERCBYhOQSFHsGlD6IiACgSDAQB5BggE+IgF7xI8dO9YZ2xg9zDAyI5pqSPCeFwYGs/VTp061kSNH2kMPPeQEBAZ+DLqZoUydXaXAXIeBwKzn1q1b3UD+73//u918881ukI5AQHqpBwN80hgzZow999xz9vTTT9vDDz9sV111ld1+++3OOMN7o6/BPCLDyy+/bH/605+cWEG+UsuEkUNZmMnE8EIIue222+zFF19098ZQSBcGSAtxgrwtXrz4vCFGvhBTMFTSy55apr7eky9mtNetW+fu8+yzz9o999zjDDuMLwSddE8Q6pD0EEc45/HHHzdECoweDES8SBBqyE9qPfaVB30+PAJMlrPE40R91OZu77JPVnXYZ+s6bFdFbkQK2iLGLbPtXiig/1HX9GH6LW0ZASPdSKet01fwaMCApj/dddddduuttxr9EKECozld9PPeCl7YQPT761//ajfddJNrc8uWLTsvONDGyB/9jPvR90aMGGEPPPCAu4a+hWjx4YcfOq+jobRJrqE907cpy8SJE+3RRx+13/72t64sy5cvdzs1pIuk8KCvM4s+c+ZMJ+JdeeWVrhzTp093AiaMBnOQBtcgcJDuO++8455Pd9xxhxMK6ZP0Tdj5ZxR/6euIm4g81APiK3XBMwTRBOGJZ4G/ZjB50rmZCVD/tG3EKTjfeeedrr74P0K9DhEQAREoNgGJFMWuAaUvAiIQCAIYJG+88YZdf/319pOf/MQuvfRSu+GGG9z/MSYQGzBwGdx5Y4K/DMwRKJipv+KKK+wb3/iGff3rX7fvfe97dtFFF9ktt9ziZiaZPUw9uA+frVmzxp555hmXHtf+8Ic/dN4RfJ4uUuDCzUwvhsjSpUud1wbGOjOy1113nU2ePNnNpGbyjiBtDBmMuD/+8Y82btw4Z4SlihTMoGHUIdD8+te/tq997WuuPHgiIN5kMhS4HqMDzwzYfec737FvfvObdu2119r777/vxJ2hiBTkFdEDgxGO//7v/+7yQp5+9KMfOUMUHgy0vQFGHWI0YuT8+c9/tieffNIZrytWrHAzyricc35qHabWid7nlgACBcs6Nh3ptpdntdo7i9tt1YFuO90UM5aADPfwXk8IEvTXX/ziF24GHqMYQQtjnfaA+JhucGOg4y01evRo19Zpt9/61rfs29/+tv3mN78573mDkOHbF/nFUGY5E20T4462+S//8i/uL0Y4Rh5iGc8GXixBoV0ikM2dO9d5eOBSP3v2bGeAI1Lw3EEA9M+VwXAhP6TBcwADn2fQf/zHf7j+wjOBdNOfI9yfZwTPLYQE+irX/L//9/8cR/KJAEg/GcxBP+cZghDBcw82MOVZ+NOf/tTlDc8IuPv6YNkWfZ3nGs8lnrU8m+iz1BviJ15Tqc+pweRJ52YmQP3z3Eb0/v3vf+/EKS/8SgzKzEyfioAIFJaARIrC8lZqIiACASXAgA0hgtlODGOMeQbweEVcc801zqsCb4pUoxhDBy8IZmKZIWXpBS+uYbb0sssus9/97nfGzCQzqhx+II8YwAARIwmj+vLLL3eD+j/84Q/OVZtlI+nu1gzmN2zY4NLE8GEWlNli8ovHAEKCX86QCXMmkYLyYFhg8OOa/eabbzrjDsEBwQTjDY8NDAuML2+wcR2GFWLK+PHjndCCgYFhwjUIG+QNA2Mwg16MF8qA+/3rr7/uWMIUIQau//d//+eMSgxC8oSBhqFDXTCLDUtmBf2sLcHgqFvuiVHL7LsvQyZG+ix3BNojCTtRF7XZW7vspZmtzovi8Jmoi08RTww/HW/gslwCoQ+hEGEMI5flDrQbjGKEA87loP5pB3gdvPvuu65t03d4Pfjgg85IxjOC+9Fvab8Y67Rh+s/mzZudIId3EW0NrySEDQQSPAGOHz9+vt8iOmBcI27yOV4+3I/nCC72pEE79aLAYEQKniO0fZa48NziOcIzB6+qX/3qV66PINIgiHhBgDLQb3l2wIznG+ewrIJnFf2d9ywpQ0DNNj+cR5/CgwLxhX4LT/osf/HIwpuJvkvfpG/7+kA4xMuEcxBV4Mr3CKLkgfN4Dg5WMBl+6yrvOyC+IbTxe4cXEF5/3ust23ovb0IqnQiIQLEJSKQodg0ofREQgUAQYEDM+lw/c4fhzkAODwFmBRnMIRDwmTe6MYBZx8tAHFEDt2kMAM7hO2ZamZUlUCUGPodfe83sL7OeiBIM5pn5ZQCPoYVxlCmWA4YAxok3UJj5wiDA2ME4w+09XdhIhZtJpMBgI894Z5CHn//8584VHQMOl2s8Ksgrhlbq4JV74c2BcXHxxRe7Nfa4ZiNUILjgjcGgN1XUSc1LX+/hjgFJeVj6Qtn4P8tiMFwwyFjGQf4wPmGNOz+zrogliELUB8YbdYpRioEDu9T895W+Ps8dgaqzcVu4M2Ljl7fbmwvbbNneiBGfIi1m4pATpE6pX/oWxj9tlPaDIIBAhojAMijaKe2QgzaBYczM/dVXX20sI6J90Z75HKGL9o54QN9H4CIN+tWmTZuc+IHnAcsp6Kt4auC1g9cVSxxIJ7Wd8Z588syg3/I9wgF5o31joOOZwXeDOfxzhPR5hiCWIOLRH+kzCIsst6Jvk38ODH440YdY1oLnAnmAAUtkyBPGKn1nMPmhjPQxBEsMXp4jpMF9fJ1QZkQUnqV4SXiRgmcq5xOjg7z7+Bzcj/v612DY6NyBCdBH+M2iPqh/+gveM/DWIQIiIAJBICCRIgi1oDyIgAgUnQADeQb+vJh5ZHDNTD2GN7OLBJVDePCzexjHGDQYBszWsm4agwCjnwE2xg3u1xgPeEww08+98ZAg1gXXMIuJMc+AnnMZMOLJgNHE+dwn/WAQyewsO4BgaHEPZkSJ3UCeMl3j78H3rH8nz96I4DqWiWBwsTwC4wwjDe8Q/o9wgvjiRRbKj5CD1wbnUg4GudyX8/AowWgjWB4GEVyzGfhyDsYcg2cECLxDYI/R4r1D4EfwTMQfzsGLBU4MrqkrOOC6TPrE7cDtnM8xQL2h5lnob/4JnG6K27ztEZu2qdMImokXRXcOA2b6NkPdIiLw8h41GGC0c4xvljV48Q7xj7aPuIgxjyCI+IVRjsBBLBgEO5ZgEOcCAYF2jAFOG8f4p73Tb7/44gt3LsY37Z726L0WMtGl7xB7gf5G38L7gecBzwzafjYHZUbwwIuKZxL9j7Rp+wS4pbx4LfAc4fmEuOefCfRb0kZwRRBA4MSjg75EX8aLgX4LIy/EZpMn/0yAK14oeLEgSiAeemGGOiCvLG/BU8OLFDzrEBV5xvKs4TnIswcBEvY867Jlk01edc45AjxT8XqhTS9ZssTFTfF1IkYiIAIiEAQCEimCUAvKgwiIQCAIYAAwoMfowSuBARxeDsw2MrhHuOB7DHaWazCgZ2CNwcPAnu+84cQAm4E/1zIYRCDAWGbmlFlXZg/5HNdvrsWoYIYWbwCuTTXuvWHCgB+DgBlfvCgwmJgpxpjyAgXn9nXgHo7Rj5cChgJGFekhCGDQMfPKsg8MewwwykUZcL8mXQ4YMGOMEUfafM99CA7ITDP/x82esnlho6/8pH6OIeJnq4kpgLHDjCtGpzeYECnwSsHDA6OMmVrSQKTAKEJcYSbXe6iw5ISZZvKHIdgfm9S86H1uCJw5G7cluyO29mC3VTbGjOUfuVjmkSl3tB/aKP0J45slWggBPpYK/YlzMIoRFTCYEbEQFjHOaBuIFIgRiH+0G2aX6bM8C2hviBoY+CyLwuDHkGaJBwIf39N3SCf1oO3SrvGgoJ9zb9Km/+DhkSoipF7X13ueMdyPaxHjaOO+HAh8CBf0H8QHvzzNt3sEGM5HFKAf0X+8cIFoQRl8cFnSyfaAEUy8aMKzg+cEvCk/YgXPBsQdBBXee9EIsQUxkmcG5cG7g6Vm1CECKvfx/T/b/Oi8gQnQ5vkdoc3wu5D6ezPw1TpDBERABPJPQCJF/hkrBREQgRIigNHLMgVm85j1Y9YesYKZQO8yzswrwgBGPDO2CA8Y0xwMzDGIMWyYzWdW00fY53PujccBYgEGAvfiXAblLJVgNhSjm/v4g3TxzGA9PDO/nEu+MOQZ9CNYcO+BDmZ5MZQwTvwMMcY9+WPW1e+EgBFB3ikf4gz580YFhiADW87BMOEvhhYGGhyYyYUJwobnNVC++J5BM3nD4CI2ADOq5Id0vZGFSIEwhDhCnTDIpkzMtmIoMUtNnvBcgSNGF6IJ+WK9vGZls6mJ3J2DKHGyPmZVTecEimicXW1yd39/J/oK7QcBAi8l+gb9jpl9RAjarBf4mDVGJESYQ4zDQPNGMEIfbQXBkHZPf0O4wFCmnyBg0N5pS7R5BBAMbPoKohx91N+LvJEv2jR9He8MBA7iLuBd5T2muH9qX/dl6usv55IGnlTkFbGC/sjzh7/0WYRRhAL6RKrxSf6IQ4D4x3OIa4grg7iASIDg4pdo+T7XVz5SP+ca+j2iKf0Trl7U9M8cGJA3WNGvqQ8OmCMiUg76PnWGwAIf+jjPnv68U1LzoffZE6AN8ZvBMzW1jWR/B50pAiIgAvklIJEiv3x1dxEQgRIhwOCfwTBGDQIERgyzsQy+GSgzoPOzi3gNYHCw1IIZSb7HAOZg8MfAH0MAl3AEBYwnvmfgz/cYVBjfDNQRC5i9xPUbwwrDh4Fj6oEhRcwFDG8MMJY0sAMJa+oZ+GNApaaPOIDxg0svhgru6vzl/4gwlJOy+LxwLZ/xfwasCBbMtlJ2BBC/bIM8wYlzOJ+Xf08ZMXYw2ljLz9IYysj5/KUM3pvE54f/+/yQXwxADBQECrw6MAY9c/KGsYjhgjiDEcYMLUx5eeONPJEeRhJ5RzDhGhiRHvfRkT8CiBBeiOAvnhO8/Ge5TNnXO30To522g4GOpwSigO+XnEeboP2zXIjgkrQxRC6+4+AvfRHPIr5DdMDop6/SBmnn9Ff+8n/aIkIm8VHw4KH90x5ph/7gPMRNDG5iQFxyySUuqCxxXugriGr0da7hRT9EoKR/ICjwHOEvggj9h/R9frk3bd3niX6E8U9MCUQ8gnGmP0e4hvN5+b4ON5Z5wA0B1PcRvic/9EvShw35gRn5Iz1YkB9EBrw38DrD+4Ey8B0HzyK+R7zwS2Tg6r+n3LwnT77f8nxlCQreHXh8+Web56q/gydAPVGntBn+wp3PfHsa/B11hQiIgAjkl4BEivzy1d1FQARKhID3EGCgzlIMDB12CcBF2i858AM6jB+WR+BpgRjBoJyBHweDQAwWDBcMEWb1ET74nMMPDPmL0YD4gLGDmEF6qYKDu+Af9yQPeDwwcMcd+sorr3TB5lj/TfA5b+xgKLHOHSOLgb73bEBUwYUdF3UMHtImD95A8nnDWMDTg2UTCA4+Dgfn+cOXwf+fa5ihRbRhphQvCgwbjA4MDIwSPBxggmcDRhH5QYhgBpXZZgwfZrnxfoAFxiTCih9MUy6MOr4nHWKAYCj1dVAfGG0YR7xIB9GDvOrIDwHsfbYcjcXN2H4034c3umkXtHVEPvolSyqoewxszuFAyKAfIm7hscRyC9ocB+2Z/olHAKIWnjy0Rd/v3Ukp/3A+12J0s9wLUQ7jnfbOd/6g7dIP8MBgiccvf/lLJyzicYDXgn+20CYx5ikHead/IH6QD/4ictB/0j01fDoY+bRt763AM4F792fcw4XnAF4PCBsEzaTMPEcoA/0Njyu8NWDFc4f88FzkfM6FAdwQFwl8iUjB8g0+888L6oC+zFIPnj8Dxc7hOgQRnp2kR7+FjY7hEaC++Z2inSBEpdbR8O6sq0VABEQgPwQkUuSHq+4qAiJQIgQYFDNbiiHNgJwBPrOKeChg7DNY9wKELxIGEO7RxEZAkGDAx8Ce8zBsuA+eGBhOiAJ9ravmfAx6jBIEAQxvZjbTDWnyiCHCAB+jBXEEo4e84iXAbC0iC+eRFkYRggDGPEYUs5xcw5p6xAvSYODP+akH5WAgi2jC+nAEAS8UpJ6X+p57YADi5cFsMcYFxiAGEnkmX4g6GF8YOuQHIxF25B9RCOMQA4wYAFwPN0QPysL9GWBzDmngcYIQghHWn/HCNaSLpwsz7H7dPmXUkR8C3dGk1bTErfps3Noj58SKFJs9p4nS3zComXVHeEBYRKAg3kqmGCScy5IkzvWxShAQOGinGNyIgMSxQOxA+OO5kH6QLp8T7wGhjb5F28Lg57vUw+eRdsjzBM8sDHz6OcY3giTPC9ok/YQ0EfG4J+eyZScBJXmWkG/6LXlNP7ie5xBlR+Cj/yIu9tfWuQ/3Q/xAmOEZxLPKl5nnAOID/dYHtiQ/vGCN8IBnBcIM5yFq4uVFfVBuXnxHGizB4RrEQr7n2ZDOijLxGc9EDGnEVZ4RCC+w0TE8Avym8Fzmt4G2gXhEG8hUD8NLSVeLgAiIQG4ISKTIDUfdRQREoEQJMJBm5g7DAUOewTQDc29AZBrI4f3AwB2jCOOAQTfGNIYQxjQzrOzU4ZcsYCxkGgxybwQNRBGME2Y1U2d/PVIMbowHBAaMF9Jm8M7MK3EtUoUUBvR4JmDEs74bIx0jCqOIASpLIDCGiIVB+qkHhgl5wKMDQ45r+ay/g3zBj7Iym4qhhMGHsQET0sAYJE2/5pzlNPDGuCGveEQgSJBHrudF+XDP5z7w5f/MrBKkkGu5Ll3MSc0n6XoBCMONazCY+rsm9Xq9HzyBhra4Ld0Tsbnbu+zQmai1diXzEiiTvkTboq/RVonLQp9AjEJATO0PvhQIWng70N/o416A43tENvoF7QQvB2b8ETQytRXaI32H8xHZEBBYrpXJkCaPtDnaPeIEoiHGPZ/RJ7xAQf/mvvQb4mDQ1unrLP2iDSNC0t7JJ/dMPygbyztggNiJdxf3Su/fqdfRb+mTcEBAYXkMPL2wwXORGXeedSz/QkAkP7wnj7AkXfLOsxJBARY8j7zYACfywvIZPDXgwPOEazIdlI1nKM81BFXETESUTGwzXa/P+ibAMxSRG1EbLxjqz/9u9X2VvhEBERCB4hGQSFE89kpZBESgiAQYSGOE+Bl8ZlB/9rOfuWUUDNwZlDPAZmCHEMFgnZlDDAVmAxEiMDwwDnBx5j4Y+Lh+Y+hgMHCPTDOsFBujBOOcWU/WyGNcYLxkEjR8mgwwCbzHLCPGAIYE90kVQPg/g3qMFPKM4UHeMA7wiqBMeC9kmmnFEOI7PBWYJWYw29+SCsqBoUW5/WwpM758lnowGMZgIc/M5lFO/s+9MaTIP8YJ90FYIX2MJvKPhwtiBvdnrT2u7xiiXEv9YSjBBxa8+D/lxFUd4QSxxXteeNEjNW96nzsCje1xW74vYgt2dtmRmqi15mk3D9oTbRqxC4+fyy+/3Al99AsMYQQEjHvaDX2TtkabxOjGyMZgRhTEuKYvcx59nj5L+6KPICJkMqbpn9yTfo5xT7vE48p7IHiatGnaNkIAfQlxDREFA5w2ikHOK7Xvcm/aNYId6fPs4DP6NHlJPTc1Ha6hvyASsjSD/NGfMgka/jr6DEIIAg/XUGb6DWlxkBbXk1fyw4v88H/6XWp+eJYg2PDiPvRbRB5EDfoez0PSwMOFuuOAF2WkT5JX6ofnD89byoKnGJ5X/N9f4y7UP0MiwLORdopIhoBNn6AO+msjQ0pIF4mACIhAjghIpMgRSN1GBESgtAgwGMdrAWOGtdQXXXSRfetb37If/OAHRmA7trHE+MG9GeMYQQKjCEMbzwE/64+xw/IExAoG5BhNGDvpsSjS6TDYx60ZQxqXbrwHGLRnGjQijjADjJCBmMJAE9Eh07kYFxgQGDekwQCf9xhMXMN9WFKBYZY++Mf4Jw3cv3HNZgY3/Zz0clAGDEOMO4wxjECMjtTD54dBMffjL4YOdeANL/6PwcKsNDOyLGshryzx4D1iA0YLHhEYTFzLvWBDnXAtRigzhCwVwX2dAJvMxlIWjFo4+PRS86f3uSHQE0tafVvcalvi1tGdcLEpLlwAkZt0EOBoc/Tbb3zjG/Zv//Zv9p//+Z/205/+1MV9uOyyy5zYyBIEYiHQZhDHMOZZ0kD/xKuBPoc4way9D/yI4c79aY+Z2gptF48k+gn9nfgtCGmcn3pwLYYhoh/9GwMeUQQvD/pDpoP+TLumr3K/VCEg0/l8xvm0ezxKCKSLFwj5H+haBAc8xvD44lq/XWn6M4X/kx9e3DP9e/LA8xAOPAPodyzJ4hlD/AryxHMBsYZ8kl8OnnUsr0FQIm3YIHCy1AYhFpGC5xzCBWnrGB4B6o3nMs9J6p622Vc7HF5KuloEREAEckNAIkVuOOouIiACJUaAgS9GOzN/xJe4+OKLnThx7bXXurgJzLayvICZRox2ZkE5F2MXcQPDGE8DBuMMwr2rOIYTOwQwm8lgsK+BIDOHzGxhKLFsBFEDAybTwcwkA38G7vwlHxhc/R0YSakvzsXDAldtPDww2jDaUw8MONaVY2hgQFDWdOMr9XzeM4tK/AsMNoIBUqZMwkZqXniffjCIZuCM5wfCDcyZpWZ2HD4YeRgtzNBiKHKQDgYiBhBlQtDA8OIaygEv7kG55DKeTjz3/6dazwXOTOY1cCazwBjFCA30W170W0QpxCyMY4xdhEXaErPxtGXaDV48GMO0C4xqzqGPsySBtkO/9e0rEyGEP9oa3gH0XfpTqvHtr6Hf0McRDX71q185Twr6HG08U/v31w32L30AQx6hAUEOD4++niP+3qTPMww2iBR4LngviqHkjWcRzyiEWp6DsIQP9YOoiqBEnaWKhNQHIiTPVURE8k8fR0Ci7igH9+TemYQRXxb9zZ4AdQtL/g6lnrNPSWeKgAiIwPAJSKQYPkPdQQREoAQJIFJgXOD6yuCYeBQMqBm4M1OKMcwsPYN3Zu4Z+OMi7Wc4+cusPevHMXYQJzCsmbVlZpBz+5vNZPYRkQNDh1lZhId0DwSPFUOIdfTM9rLMBKOc+w/2YICKUcO1qQaDvw+zmsz6YrjM0y1+AAAgAElEQVRRfs4dyEBgiQblRqTAgwGDKV388Pcf6C8DZ4wS0saAYYYbrwqEIDw0qAuMPJ8njEnqACOI+mMG/Re/+IXdcMMNTmihLsgPAkVfYtFAedL3wSNAv8UDir5Kn0UkZJkQ3kHUN54EtBVmjREKEBbo77Qv2iaf0adYPkXfw5uC9uWFDN++MpWctoRHFcLZ5MmT3TMiU1/iPIRM+saPf/xjl08vDObSQOS5xBIShFFYEMMhGwGT6xBlEGi9QDrUfNG36JcIQDwPERxY3oL4gWjJ85PnZer9ef4haiCIXn/99c57AmGY5yHPN77n+dPfMzRT/egzERABERCB8iAgkaI86lGlEAERGCQBBr8YEhg1CAS4ebOEgwE/Bg7f4ZrMwDr1lZoMxj5r2jGYMFwwdDBMMBIGMooxEpi1Xb16tbsOYYOBfqYD44bBO4N/1nn7GdlM5w70mS9LpvPwiiAdjAcMPF/+TOf6zzBMYIfgQhkyBf7052bzF2OGeyBUMGNNXjBaWFaSzgfDk3OJP+G3ccXTBOOLuqBuMFD7MzqzyZPOyUwglkgacSgqG2PW1B63nmh+PSh8LqhT+i1LBKhnPCXwwEG88Mawb+f+r7+W/9M36eMIFSwv8u0L0Yvv+zsQJEgXw54YC331ddoqfYi+wTIlRBSWOGTTp/pLP/07WCCuILbSX/A+SO8n6ddQRq7Dwwjvo768n9KvG+j/iKw8/xCLECxZLoYg5Osk9Xq8zNj1hOcZYhMvnqHE/6FuqAv121Rig38PR36baKd4svCbNtDv0uBT0RUiIAIikB8CEinyw1V3FQERKAEC3mBhEI3xwV+MCAbHAxkrFC/1egwDrmcQmM21pMNMIYN1BIv+jGnvXYCIgHdHX4ZRNsjJW1/5Iw8MZlkGgwCQzcE1DIa9MZILw4L8wYc64UVe+uJKepyLUUNeePF+MHWRTTl1zoUEMOUjvUnbU9lry/ZEbP/pXmvrSlgsYda/mX/hfYbyP9oH7YF2QT2n9tts70e78df3177S70favt/252nk80jfINYL/Za2nOvDp0Ob78tDKlOalJ++gsiXK0HA5wWevt/29TzgXN/HSZ8Xz1Cu5Rq+1zF0AvBDLCKeDwFeEfJoi/DVIQIiIAKlQEAiRSnUkvIoAiJQdgQYiDNIx8BiQM/7vgbmfI+QwWswhoiHxn0x6jAEGKjilZApXgZ5wPAivb6MC39P/zf1mr7y78/V3/IggP3YFknYsdqozd3WZZ+s6rAtx3qsrYs17+VRxr5K4fsS7X6gPsK59CcEPGaxBzq/rzSz+Zx708ezTWMw5cgmfZ0THAK0OZbLEHuFWC0Ej8VDEE8X2ogOERABESgFAhIpSqGWlEcREIGyJYCxwKu/g+8xPnhlc376vbgGMQR3eFzcWdaSaUcCrhvq/blORzgIxBNJO90YsxX7um3c0nZ7Y0GbrT/cY+3dybx7UZQaYfqF77ellnfltzQJsMyIZYTEQ2GHKuJ+ELsHgULP6dKsU+VaBMJIQCJFGGtdZRYBEQgVAQamuHYTy4IAewTGJDgon+kQgcEQSCTPLfPAc+L9pe1OpJizvcuO1sasOyqhajAsda4I5JKAF8RYXoQwQTBhv5Uz3jwSKHJJW/cSARHINwGJFPkmrPuLgAiIQJEJMJOLqy+B7NiW87rrrrPp06f3uZtIkbOr5ANMoCeWtIa2hM3fHrEXprfaxNUdtvdU1Jo7ExYv86UeAa4WZU0EnMcOS/UIBsuOKbfeeqtb8kEQYpb66RABERCBUiIgkaKUakt5FQEREIEhEECkINgmUfwfe+wxu+qqq9zuBHymQwQGQ+BsR8J2V0RtysZOe3Nhmy3aFbHalrj1xlgqNJg76VwREIFcEmBJH0GP2VnlzjvvdFs4I0wPJ9ByLvOne4mACIjAYAhIpBgMLZ0rAiIgAiVIwIsU27dvd+6/11xzjTwpSrAeg5DlpnZEil5bsjtis7d12Z5TvdbVI3UiCHWjPISbAF4UxB1ia9m3337bCdH19fVa5hHuZqHSi0DJEpBIUbJVp4yLgAiIQHYEECnYanDLli02YsQI5wo8c+ZMLffIDp/OSiHAco+WzoTVNMftdFNMyzxS2OitCBSTAIExESqIP0FgZHb44P86REAERKAUCUikKMVaU55FQAREYBAEECnYvhRPildeecUeeughW7JkidsWcRC30aki4HbvYFkHOxlG40kXh0J+FGoYIhAMAgTH5OW3o1WwzGDUi3IhAiIweAISKQbPTFeIgAiIQEkR8CIFUd8nT55s48aNc4KFgqmVVDUGLrMSJwJXJcqQCIiACIiACJQFAYkUZVGNKoQIiIAI9E2A2bSOjg7n/rtt2zbbsGGDnT592qLRaN8X6RsRMLNoLGmtXQlrbI9bU3vcOrrPeU8IjgiIQHEJID53d3e7YJkHDhywffv2OY85vCh0iIAIiECpE5BIUeo1qPyLgAiIQBYEGNDGYjE3qGVgy3u5AmcBLuSnIEocrYna7spe21PZa6cbY9YTlQ9FyJuFih8AAjzDWcbHDh7vv/++85Dbv3+/scuHDhEQAREodQISKUq9BpV/ERABERABEcgTgc7upJ2sj9n+01H3qm5iu1GJFHnCrduKQNYEEJ47OztdkMy5c+fa7Nmz7eTJk/KQy5qgThQBEQgyAYkUQa4d5U0EREAEckQArwleDGx5yYsiR2DL/DaR3qTbyQOh4kRdzOpb424JSJkXW8UTgcAT4BnO0o729nY7duyYHT582FpaWtzzPfCZVwZFQAREYAACEikGAKSvRUAERKDUCTCYxQW4ra3Nzpw54+JR8F5rl0u9ZvOf/1giaR3dCbftKFuPdvUgdOU/XaUgAiIwMAH/bEecYOkHS/kkQA/MTWeIgAgEn4BEiuDXkXIoAiIgAsMiwKAVt+Dq6mq3q8emTZtcEE0FzhwW1rK9mC1GE0kz/rKww/31/9dKj8DWO/0c4ZF+zYv3hTRYScvHvkEUVdyb/DSV1Hr2dezZF7K+81M63VUEREAEzhGQSKGWIAIiIAJlTgDDgZm2o0eP2rJly2z+/PnuvQKslXnFD6F4iBM9saR19SZcgMxY4pxIMYRb6ZICEsA4pT8zm44YiccU73t6egomVCBKdHV1WUNDg1VWVlp9fb2b2dfystw2BHi2tra6Oua5Lo+43PLV3URABIJBQCJFMOpBuRABESgzAgwkcb1lWUVjY6N78Z7P+K6/g0FnJBJxRgZbhdbV1Tljo79r0r/DaMFowIOC9I8fP25bt251AgUiBWuY00UKPxtH2s3Nze66pqYmt30pM7MD5Ts9D5zPvRhQY7j4e5FuXzN+XMP3bJnK+eSdgTj3GWz66fnR/wcmwJajda1xFyzzTHPcbT8ajSedR8XAV5f2Gb7P+L5XW1trNTU1593o+/MM4Fr6Le2WaxAK6LfEC8jWiKR9IyogLpw6dcoJicQZoO9yTwSA9H7jr0EQOHjwoK1bt84WL15sS5cudf0dsWIwfYd+Tn8lPZ4Rhw4dcrEOqqqq3LMsU9/11yBMsMXxihUrbOHChS4vR44cceXJlkFpt6D85572wXNxz549tnr1atdG+EyHCIiACJQbAYkU5VajKo8IiEAgCDCYZ2C/ZcsWW7BggXshEiA6DLRuGGMEw2TJkiX21ltv2RdffGEYTOkGSn8FxXBAFMHIwGiZMWOGzZo1y1atWuWMGUSIdMOB/5M3IsQzAJ43b54tWrTI9u7d6wbGmQyU/vJAObgXy0vmzJnj8rF7925XFvKX6SB9yrpr1y5n6MAOwwsefKcjvwTaIgnbeKTHpm/qtGV7InawOmp8hodFuR+IED4IIX3ms88+s08++cS1WwxwBIj0PuOZcC3fswXkpEmT7IMPPrAvv/zSduzY4YRCf15/fxETEBUQGF599VV78MEH7Z577rG///3vNnHiRGeQpvcb+gSCCP3rySeftL/97W92xx132F//+ld77rnn3DMEwYPzsnl+IJDQXyn3448/7u5111132bvvvuuWiiEaUtbUA6N58+bNbhvM22+/3W666SaXd/Lzxhtv2MaNG7NmkHpfvb+QAPWHeLRmzRp755137Nlnn3Vtk+e8DhEQAREoNwISKcqtRlUeERCBohFgEMkAHq8BjPHp06fba6+9ZiNGjHAGxJtvvukGlXyfbjDwf2+gI2Zg6GCcXHPNNc7YOHHixD9dk6mg3lji/JUrV9r48ePtiSeesIceesjdB7GC2VkGtt7g8uIExg7GBmk/88wz9vDDD9tTTz1ln376qZuVxUDx12RKm88oBzN7DKYpx+eff26vvPKKPfroo+5eY8eOdQJI+sAa4wtjZ9++fc7gevvttx23xx57zF544QVjiz1mpilfOru+8qLPsydA3InuaNIqG2I2bVOnvbmgzWZs7rR9p3utrau8RQq8EVL7HuIEBjbGPkb3yy+/7JZJVVRU/JNHE/0BbyWEgPXr19t7773njPTbbrvNRo8e7QzK9LaeXiukjwBIn0WU4zqEgb/85S92yy23uL5LP0Zw5DwO+gDXkS6CyqhRo9y5t956q5H273//e3c91yGUIL7012+4L/2bPvv+++/bI488YjfeeKNdd911rjxjxoxx4gUeG14o4S9eTgiKH374obuG59X111/vxBLyf/PNN9vUqVOdZ1Z6ufX/7An4+t65c6cTfh544AH3TMVjZaD2lX0qOlMEREAEgkNAIkVw6kI5EQERKHECDCQxWPBCYJbryiuvtIsuusj+53/+xy6++GL3YnYSkQADwx9cx4AfDwKMFAyk3/zmN/bDH/7Q/vu//9uJFXgS9Gdk+Hsxm8u5eF8wo/mTn/zEvvvd79p3vvMdu+SSSwyjH4Mf48YbG8zgkjbLQO699177xS9+Yd/+9rfddVyDoYS4gEfFQK7F5BERhnshzvz617+2//qv/3Ll+N///V/398UXX3ReJj7P/MXY2bBhgxuAX3XVVe68H//4x47B97//fZdvjKHBuM+n3l/v+ycQiyettiXuvCjeX9puY+a32eoD3VbfFrdo/FwAzf7vULrf+r7HDPXzzz9vf/jDH1y/pd3SdzG6EdrwQmIpROrhvZ5mzpzp+s7PfvYz+9rXvma//e1vnWCBUckzob8DgQAPhtmzZxsiA8IIosO0adOcF9H27duNZROk7Z8bXtggxsz999/vPBeYXcdope8hTHIfBA/ESu7f3/OD79euXes8txA57rvvPvv444+dVwfeYKSPQEF5fR4wjhFjJ0+e7PJAmgizeF/hRYInCM9ABAwESB1DJ+DrmzaCcITHDNwRrhDYdIiACIhAuRGQSFFuNaryiIAIFIWAN85Zk/3RRx+52U9EAmYj7777bvcXoweDn4E9M7Bcg9HPDCZrjFmOgZs3RsJPf/pTw0jHYMJlGlGhPyODQSyDVYJjYty89NJLbiaY2UyMLGZWL7/8cvcZM6V4LHA++WAJCuIIXh8Mfjn/6quvdq9rr73W/vznPzvhBDdwBI2+Dow93NVZnoGogeBB+nDAbR3x4etf/7ozgFgGwoFnBEtPKD9GER4XnhuzyX/605/se9/7nssXRlQmd/O+8qPPsyOAFwVbi+6q6LUv1nfauKXt9vn6TrfUo7s36Xb3yO5OpXUW/Yk2iwFN22JJAyIi7c57UdB/MfYR9xAivLFP3/GeR3heILxxzS9/+Uv713/9V2ecswSDfjuQsIfxjxcGff+Pf/yje3ZwLX0ZIYA+5/uqJ4zwQb/FUMVbAXFl+fLlzquB5SIIhOSHvs4ziftken7w3CB/CKf0WZ5VvPBkwgOD/sb3cOLln1vkg76OGIGnE8Iq/Ze4GDwn8ChBPGHZCcIFfVzH0AkgUCFIIETxm4CHG15vtEeeoTpEQAREoNwISKQotxpVeURABIpCAAOAGc/XX3/deVHgHo3owGcYG8R3wODG4MEjwA/2GWR6F14Mej+LyYwqRgbGB54PGAuZjAxfWO+uTRwLhAbcgZl1w0AhD7hcs0adz3FfZ4CL1wUGCB4MCAoICaxFx9jhe/6yFh4DDaMHQ46Z1L4O7sdsMwxYLgIDZnbxwMC7g2UkzEyTB1znOTDAEExYFkIavMgrBhLcMHAwwlj6QkA+DEPv8t5XPvT54AjgRdHUnrC527rspZmt9vGqDttyrMca2hPG7h7letCfaLMY1izFuvPOO50RSH/AIKTv0P5ox/QB2iheQhiF9Ef6GgY6Ih5tFCOf/yMu0s8RIxEXvOdBXxxp//RJxBFeGPsEraSv+ecEeU3t/3g+4bHlhRU8pxAa8AYhv8y28yxBfGSZFAJDpsOLhPRbnjl4PowbN849k/Bu4nufbnoeYES/JM/0WcpB/0S44FmH2InwybNkIG+STHnTZ18R4PmJIMXzkXpCCId1av18dbbeiYAIiEDpE5BIUfp1qBKIgAgUmQCGCLOhiAK4OI8cOdK5PDOwZHkCBgIu0zfccMN5kYJrmB1j1pHZMVylmcXF0GH2k1lIXK6JB4GxgzGFkYDRQloYCNwfowlDn78YKFzLfbgn5zCDirGBW/jTTz/tvBTIIy7gxI3AQMOoIC28LzAo+JyZT0QCXLf5HIED443ykBdmUTFK8IjAmCIPBBdE1CCWBYYSIgezvXxHvjHqfvWrX7m164gUfEa+maFG1MDAwxAkT54bwgjGI8tn8NDoz+AqcjMo2eQRKZo7Em55xyerOmzF3m6raopZpIy9KKgsDDz6CAY2nhA+0CRtDPGONk4bJq4D3xHPhb7H53g+8DntllltvJ0QJfEgwECnr9E3ECh40Qe4L4E18RpCZEBso08j4rG8w3sxkBdEB54N9B8M/HShg+vp73g8cB19B3GDdL33B3ni3vRP0qFP07fotzw78CAhXwguPA+4D3nnXqSPwEhe6Ytcn354kQLvMJ439F3/7Lr00kvdc4B4GQQQlrCYTm9w/+fZSvuCLy+ehdSLDhEQAREoVwISKcq1ZlUuERCBghHAGwLvCAbqDNgZRKbPcjEri0jB7CbnIlBgxGDU4OJNoDqMAoLnEbwOIQFXaVy3ub+fUUXcwMuAWTWMe95j6DOLijDATBvGCvfwLt4YObiPM7uLOzr5YN06RgYzxcx2YiQxCMYIwyDCqGBgjLjBfTmHe5IXysYgmbzj5cE15AEhBkGDdDD8+Mznm8rA4LviiitcHrk3hiDGEtewrITZQcSL1NlnZouZpUakwOMEbtxTR+4IxBJJ6+hO2LHamO042Wunm2LWEy3fZR6eHAY6fY4lRggDiIz0P9olB2IdRjZiBH0AwQ5xAPEAMZE2iQcGfYH+x98JEyY4wQ9vBK7nQAyhj9B/uBfCAvdAPKQtIwbS9hEqeT7wPOCFFxX9D1Ek3RPCe2Cx+w/eD4gCvL75zW+6WDLkDcERYcL3F/LIs4HnE4ILggnPCEQKduDAm4O+hmcIXhB4duGpwZKVTDP2eHsQq4PlWXh9sUSM2DfEwPnd737ndjgh76nPAAdE/wyaAIISvxt4xSE00Z7S28Sgb6oLREAERCDABCRSBLhylDUREIHSIIChjWiAoY8XBYYNxjQHg3tmvDBgmKnEy+HAgQNuBpOBJzOyGA4YSwSnw7DBYGA3Drwb+N7PhCIcYPgjLPhlG1yHkYNAgOs1Xgykj5DgZy8RKfCWwIggKCYGBeIHAgeGCcLGlClTnNFCWhwYasy4IjZgkJFHjBpmRfFuwAijPAgzGHbM2LI2n/LDgXx7F28Y8B5PCgwgRAlECsrKbDD/p7y4pmNU+dlnjBuMNFzXmcnGyEoVMFxG9c+wCbC9aG8sac2dCattjVs7W46W8TIPgNHGEAmY/UdUw+sAjyUvHHAO7Zp2jxDhd7ihfSKk0Z9pm/RV+hqCI/2S+2C4I94hJHDQl+ijiIB4OhC/gaVLXnzkOUBfpE8iHuCNRL8i6CWCAuIcgkrqQT+l/7BMgzQRORELfv7zn7v4M9zDx8OgH2HQ4gnll26xrAujF68o+ibn0q9J33tE4FGBEEkf9fdKzQP5RkT0+WW5GCIFQij9le8QQXQMn4D3xEEko91Q/+neNcNPRXcQAREQgeAQkEgRnLpQTkRABEqUAF4SGPq4fmOIeGOa4mBUM8BHOPBu4Rg/GA4MMjFgMBI4j4EnIgDGCsYExgwGSqrYgIGEAcNMJXEkcMtmdg2Dif9j7PN/7ouLNi9EEowtdgxhtpWZYwwPDC0EC9aUM7OLweIHvgyKERoQIzBU8LwgbQQZjBiMIgK4MQON6IIAgWGCgQYDzvP5plwYchhuXtjAjR1hA3GHgIEIIXDkXA74kAeEC7Y1RMiATSa38xJtNkXPNh78CBT89e/9/4ueuTxngLaJkY9nAx4D7EDB7LRvX/xFpKN988KLgn5LP6Vtcj0vjH/6DCIEYgYeDMReQXSgP3FwDYIAaSAu0nfor97Lgeu5D/ej39IH6B+cz3OFtNONffLHdRis5BOBhHzSvxAr6d+kz3m+L9FHETJ83AuWcpCWP4f0ySsv+joCKOIMgoZf6pVaLdyX6+mXeIkglhDwF28Q8szn3FPH4An4+qWOeZ/6f//Z4O+qK0RABESgdAhIpCidulJORUAEAkqAGUiWeSBSIBBgfOA9wIERgcGAOzcBJdl5A+OIgSaHH4DyF6MC4wbDHaP8gw8+cMaPvxeGDDO9GPN4OCB8YPxg7CMiID4gFODx4K/hL8YXIgDboCJUMJvLGnQMJQwWlpYwi4xB4fODJwizqnh+YMiRDuXyRhFLNygLQgazewgQ3Icy8hnr730eeE96MMDTAhEDBpyHYcOLtDD0MNI4MMpYjoIgguHFjDL30ZE7AtFY0joiCRd7AnEiTAf9iH6CCIcHAJ5EtG8O+iZ9AS8JvkMspM9xjW/T6azogwiLiISIAameTFxDH6EPIUDiRYHnBWIA/S394DO8FBAIuCd9iyUZiALpB/2FfoGYh0hB//JBNH1fojw8OxAOuRcCAgJFf0sGSJ8ycy88owj86/n4PJBP8oQIimcUfZWlJyxbgQfPs0x59tfrb98EaDPwgy3thP9nait930HfiIAIiEBpE5BIUdr1p9yLgAgEgAAGOEspmEXF+GBg7gfweFHgxYDrNEY6hg/GTqYBJwIAYgOGPt4SGBMY836g740NjA8GrhhSDGIx7jE+EB+4Fk8Ob0xh7OPpgOiBSME2oLiR4yaOyIH3BUYFBpvPN/dnJhcDDld4jCXWlpMe9yVtvBz4i/HDX9bzI3iwRh4DhXQ5lxdiA2vbMXaYZcb4wehC6MCwoqww9GvvKSfpc0/W73MO5Us3kgJQ9SWZBezieMKspSthJ+ujVtsSNwSLMB0sm2L2nzaOtwLtyy/R8oY/hjmeB3hA4UWRqc/yGf2C+A/EkEHUoH3TP/iOF+2Ze+Ixxeec7/taJuacT/7wYMDrgtgzCBH0pfQ88H/ui0hB/0dQRChFZEh9bpAm/RTPB/5yL9Lp66CvIVyyhAuRBhGHe2Y6KBMiDM8ugtzyDKAvp+c107X6LDMBmPIMpN3xG8Bz3tdn5iv0qQiIgAiUFwGJFOVVnyqNCIhAEQiwbAJjnvgOxJXwxjtGD7EiMHLYrYPglZnWdvssMxjFY4DZWIQNZjsx9r0xwX0RMvgMcQAjgM+4p19ukSpS8D1B1hBHcDMnHgQzs/+fvTuN0qsq08b/sb+8H/p91/vvXtrvcljd2ji03bZDO+NIKyDIoDiAiAKKIjILirYiIKLM8wwyiMxhCPMYIAQIhMiQMAQIkpAEyFjzcP/Xb+PGx6KqUlWpVJ6q5z5rPeuZztnn3tfe55x9X/u6783x4IBQePgdSYHIqI6TwbHy1IeTxFlzXuc0ePZZ3Xy3cYA4SfJhcPqQFP5nG2fHzDE1hHNTnZjBNUsINxJ5ihGEBXk4Z065HD3OIyXHwHwZFa98HxsCVvNY1dEXj/+5O66Z3Rb3PdkZqztai6Tg9LlWEQH6JXUP8tCGEBDqIFkmdZLrhxM+2KaPU03YXw4ZRCVSDglg845EcLzr1DmGczZds64xqgfJai03STWFIKj3gYF2KJ8SyX0DCVjvMZUkUB7SwKtel0OVVcumjFAmwkEIF8K04lP3qe/uB4gRdiIiYem33MaOgPZ2r/TMcC9GIiOYcksEEoFEoFUQSJKiVVo665kIJALrDQF5I2Ti59RIFifrPUfBwF3oBueFsy3vA4eiOg/VIN85LlQY5NocE455lYxzdAxQlcuZN2uLSODoc5LMunL4KQ4QC4gRDgkbqBEQDcgIZbPHvo5nn/h1L7YhSZwTqcBBEjpC5dC4qgdyw/9IBA4P25EUBtQcFCQFGzmA6qNcs7tmpJWnDurqGCQMiTiSQmJPOLKZEsR3uQLgpj6cnur4VdzyfWwIdPf2x4q2vpj7XHdcNqst7pnXWZJljq20yXmU/oeMELKEpKAW0u/0P2FI+jKSjAJI30YMDrb5vV7nyEj9Xz4HJIBrg7MpZwRHk1qjJs1VFhuQePq2+wLiBIFnH6oECgbkns9Dnd+15HjEo/sMosB352aDc7AHiegl5MR17ndkoPtKDStwfse6N1SVEwUYbNSRjYNtyEXEhBwa7HB/UmZuY0egLgurPREVjTlOxl5qHpkIJAKJwORBIEmKydNWaWkikAg0KQJmHQ3SOfRCKaggOD9CLHbfffcyuyqxHQeoqg8aq8KZ4ABQIJiJlcySY8KB8R/nwcyqciWRRDiQgHP4zZIiKhzLseLUcxT8L+EllURdvYDzwGFBanBOEAk12R/yAqGBHEAmIAgQHhLmcZyQF+rIEbPaBueFTZwh5IGy1BFRww7liWfnaAkpgYU6Vck458rssvAX+TKUa1ZbGY43K+zlN04T3Jwrt3VHgMq/rOaxui+eW9oTS1f2BuKilbZ6XVEI6KP6nOvLNaP/C90QPoF01HiPeU8AACAASURBVE8Hu27h5VqiNHId6fscSuSHvqqPc+6pmyztiahzX6iqCI6o6wsJImTLNSwEC0HoHqD/W9LU767xwTb3DWSgFTaQLc6PPLQhIpzDdWfZYS921pAzhIRwArP0CEPnoa5CKrqPUF4hXxGN6jkUBq59YVnqz373haHsHawO+dvrEYCffufZ4rmhzwyF/+uPzl8SgUQgEZj8CCRJMfnbMGuQCCQCGxgBMmizn+TR1AocchJpiSS9kAb+RzZwjgZunHxEAIeFGoKzwTmqM5eVpDBTud1225XQEYQBZ0B4BIcIiUB9wcHh9HtXDrk6myTsQ3pwnNjgGM4UJ40jxDnjwLDdcRwk5VFkGBybfUUgID3qMqIcHGV5cYYoIcy6IjDUn+MnRp9SwywyUqU6L86PYDEIdx7OEIKH3UgYNnAaqTjUP7fxRQAlUVb06Ht1hY/xLX1ylMaJpyzQz/R9q8zoq8KWEBdCJ/TP4RQ8rjtEmj6PKNBfq8KokhQSw8rVgLBEBCIHXDOuKWEiCD0z5q4d+1I+2Z/jj1hEEAxlg2taHdgvJ4xriUPr+nJvcF26xqmzrLrhOq822s99yb0Boej8iFYYuAbZ4d6ljs6vzME2ShFJg90b3AOFu7i2cxs7ArDWR+r92ufcEoFEIBFoJQSSpGil1s66JgKJwHpBgBNP3mzAT8Fg5pQygONgltVMI7m2AedgG2eJw8+ZMBvJUSHvrQ698jnqZjvNxAq3oC6ghqiD1+rwS4hJcs5pMhPMgUIeDObocGKQI5wWDhknjbMhLwaSxAweGwyY1U9+C7+bLW0M9/A/Gzlf7OYoKYsNnCJOEGcP6VLthYPPfuPUmO1Vb2SFdyQM+f3aYvgHwzN/SwRGgoD+h1CgYnDtCTtCknl3HVEdua6Gcs6dQ79GJrjehVO4ZlxXNuW77igUEJA1TKv+7z/XE2JAWAcSAanpHoDUo3BwTbm2hrLB9UuJQfmw+eabl7KQH87t5d4iHENiWioJxKZrSpnqpo5CrpCZFFdIRdeg+wF7HVvvAUNhiiRBalKLUF8JFalqjqGOyd8TgUQgEUgEEoHhEEiSYjh08r9EIBFIBEaIAIeAQ8Gx4MRz1Dk6yAcEw1AEheLNUlIscPw5OuLXOT8cCRsHxfFmTZXHCeHoNDouzu83ThInwYwmwkSZjmMD+3xGDCjbMcqlqOBEIVSQID77rfEc9ufckCB7KafaVyHy3XHyViAdnJ+0nE2NhErd37vzV0cRbtQaHCoEBZvZmNu6IWB50Y6u/nh5dV88u7Qn/vxyb7R398fg8+Lrdq7JdrT+5XpAJHLiEWrCG1yPjf1/qHohGvR1YVIUBQPJSCSBfuza8V9jmX53XgSJBJXITWop168QDv8Pd99gk3KRIIgVRINrroaTVJuRDOx0/bPHfaPeU/ym3tRUzo9UFDKCeHCND6egqOVTSCFGqacoLxCVMM1t5AjAWVu47yOO3EfXRpCNvPTcMxFIBBKByYdAkhSTr83S4kQgEWhSBDgUHALOSCUGOCVrczQ4DJwHx3EmvAZz6pVjv6EcB+UgCqpTxIFRjmMQC5woagizo5QRlQBQHqcCWeAYnweeozo1fvdii98aN9/9Z3CtLrUsNg3ct/E4ZcGpHsM236t9jfvm59EjIP/EslW9Mfe5rrjyvra4aW57LF2h/UZf1lQ8Qj/T3/Q7145rZmD/H6re+jbnkqLBdTPwutDvlV9fjddBPW+97pWBYGCDa9b/jfsPZgM77Y/skGCWg6sujZsy2DXQNvs4Xr2FhTi/d/cB17Dzj2Rzr0NMeiF3lOdcuY0cAXjDTzgQFVklirVPbolAIpAItCICSVK0YqtnnROBRGC9IsApqK+Rnqg6EpwTr3UZ5Ndz13eOFJk3ZYeVPYRXcCwaz1H3re8jtXuw/WoZ9X2wfQb7re7vPbfxQ2Ble1/MXtAZ0+5viwtmrI6b/9RekmVSWOT2VwTG0v8c4zriTI7Uqf/rGV/91Hje+nngPkN9t79zV6JjLARBPefA96HOOfB3pAhyA8GS5OJAdIb/XtsPQUR9J0SPKoaaB6aN9+jhS8p/E4FEIBGYWggkSTG12jNrkwgkAlMAAQPX8dyQFFQUpOBCOoSAGBTnLN14oty8ZS1e3huXzFwTR1+zMs6/c3XMeqIzlreZpW9em9Oy0SHgnjES5cXoSh3Z3vXcG+r8I7OyOfeCHRUFJYx8QFtssUXJi+J+jXAaK/HVnLVNqxKBRCARGDkCSVKMHKvcMxFIBBKBSYmA2TgxzhJ7yvUgW38OgCdlU47K6J4+eSh6Y/aCrjj95lVx7LUr4+a57fHcsp7oyJwUo8Iyd04E1gcCiGI5PeTisaqM5KlWWnGPXluY3PqwJ8tMBBKBRKBZEEiSollaIu1IBBKBRGA9ImBGzoDYK2c81yPQTVQ0ImL+ou64ZnZ7HDd9ZZxxy+p49PnuJCiaqI3SlNZGQHiMMDxhHpZ9lXxUqEcmHm3tfpG1TwQSgYgkKbIXJAKJQCKQCCQCUxCBNZ39cf9TnXHxPWvij3evidsf7QihH70jy4c4BRHJKiUCzYMAspiizYpKln/95S9/WVaGktiYiiK3RCARSARaGYEkKVq59Zuw7h7akgaaRbAygERcNSGX7x7oNet5E5qfJiUCTYmAuGcKCrN2XgbArrXcpjYCazr6476nOuOqB9rinvmd8dyy3mjrktR1atc7a5cITAYE3IOtzGK56D333DPOPvvssgSpe7R7dm6JQCKQCLQyAklStHLrN2HdLf1mCTNrtFs7/uKLLy7rrst67bv1180y2C8f4k3YgGlSUyIgJ4VlEhcsWFAGwZY4lawtr6GmbK5xM6q7tz+WrOiNZ5b2xIsreoOyIlUU4wZvFpQIrBMC7r8I46effjruuuuuki8ocwWtE6R5cCKQCEwhBNaZpHCTrXHOa4t1NlDu6OgoM+FDDY4xy1hk+9l/qP3WZxuwwTrhst/nA2N9Iv36sjlSCIqLLrqoxGjutttu8e1vfzt23333kvn6xBNPLLMO99xzT3mwW3ZttMml9ClKDWSIhFWSCXpfvHhxaW/9LrdEYCoh4Bqx7Cii74477iiZ5CmTsq9PpVYevC6WGUVMeM/J2cExyl8TgQ2JgPuwe/SGGvNuyLrnuROBRCARGAqBdSYp3FjJ1Tj1HEbkwlAy4jpLbhbPcYNtCArO4qJFi4ojuSFu2urAUZ4+fXoZ2Pue28QggDi48cYb45BDDonNN988/v3f/z022mij+NjHPlaW5tp0001jyy23LBmwTzjhhJgzZ04JCxmps4Wg0D+feuqpEgf6m9/8Jvbff/+SrOqKK64oMxkIjKH68MSgkGdJBMYXAaqJ66+/Pn71q1/FaaedVhKzuQ8jlnNLBBKBRCARSAQSgUQgEUgEmgmBdSYpzHxbz/nuu+8ucjWyNURD4yaHgNwCHP8LL7ywOKHyDDQSEJxHxIVll6699tqYNm1acRgRICN1QBvPOZbPbGArGy644IIyc4+oUMd0WseC6OiP4TjNmjUrTj311Nh5553jgx/8YLzlLW+JTTbZJH7wgx+U5FLbb799fO1rX4s99tgjKCtuv/32qMSXNhxs87t+pB8+/PDDpX333Xff+Na3vhU77LBD7LLLLnHAAQfEySefHLfccksJKcm40MGQzN8mIwKIN6FT3//+9+Pwww8v2eSRwZWkcH9z73MPHuoamoz1bkWbV7b3xcJlr4Z3tHe9Gt4x+F2xFdGZOnV2nbp+XbeeVT7ntdv87auNTOhRby5cuLCE3bn/Zts1f9ulhYlAIjCxCKwzSfHEE0/EueeeGwcffHAcdNBBcfXVV5eZ7cZqvPLKK3H//ffHMcccU5zNvfbaKx555JG/UV1wIBES4vJI/Hfaaacwsy3/gIfwRGweEggJTrLZ9S984Qtx/PHHx3PPPZeD94logIjS1h7g8+bNi6uuuqoQE1QU+hYiDMFwww03xFFHHVUIC2304x//uOSqcNxQhJbfDeTktDj00EPjq1/9amy88cbx9a9/vZSNpPjsZz9bFBvCS8ji9duhypsgOPI0icC4IICkEEK16667lv5/6623FrVaJSncY4V/TCQpPC4Vy0L+BgEcrSVHr7ivLe54rDNeeKU3EBVCPXKbWgi4dl3XnlMmfYSm5vOqudvYGBMhYXxz5plnxpVXXlnCTt1/k6Ro7rZL6xKBRGDiEVhnkgL58LOf/ayQCsgFSylx9G31hkxaf8YZZ8Q3v/nNeMc73lFmrakvGm/M5MiY5d///vdF1r/NNtsUNcWLL7742mzf+obHA37+/Plx/vnnlzwIm222WZnRF4KwtlkK/5ulR6p4Hy7sZX3Xo5YPf3Vim/fJ8hBkJ2KIouanP/1pUTqcc845JQwI0WAGeMaMGXHssccWRQWCgfJCXzRQG2yr5BPSSd/64he/GN/73vdKGTJrW6McSfHud787vvSlLxWCzOAvFTSDoZm/TTYEODN/+MMfyr1XKFUlKSgn9PFnn302Lr/88rj55ptfRzJPtrq2sr24iAVLeuL6Oe0x68nOWLqyLzp7cjWPqdgnPJ/kU7rzzjvjpptuiscee6zMyk/Fuk6VOtUxmbYSdueeK7R5bePLqVL/rEcikAgkAqNBYJ1JCoNd5APH7kc/+lEhFszI2dyQDYLvvffeMoP3vve9r5AU++yzT0l62Og0O4bM3jrR//3f/11IDzPnnP3G/UZTudHuy1ZJ5TjGZtg5v5hutq3NBiSLWX75FLwjKhpJmNHaMh77s5lTz0HZ0LaMtj5z584toRwHHnhg/PznPy/qCUoJG8IF3vJRICok1RQCIlQDqTXYZuZC/gn5LBARO+64Y4nRJ7dELFEDafNPfOITpT9TawxFeAxWfv6WCDQzAkORFO4L7nvuvdtuu23Ue3Mz1yVtGx6B5Wv64qkXe2Lx8t7o7E6CYni0Ju+/VuoRwuW5ZqLIWAVxkVvzImBMZvyCFKY6phyWz21t48vmrVFalggkAonA+kNgzCSF2TeDWyEZZqDNTP/2t78Nqy5U506iTCoKs+Cf+9zn4p3vfGd86lOfKkkKOYaNm9lxjqLZ7a985StlZpvawjkmYlMfA3kPffkOOLFCCszOq8faNoMDy2QiOE455ZSCQ827sbZjx/t/dZGjAVlihgVxoh04JM2+eVizH/kl5wSn6ayzzip1QUw0buqIyDJIk7NCTgl9Rnspw+YYqoxLL700vvGNb5R+iFSjvICJ/7WT74i2rbfeuhBl2j0TpjainZ8nMwL6ufw6FEP6upA2/R7x98wzzxQFG3IY0ey6yG3yIoCYQFS0dbqXTt56pOXDI/Dggw+WZ5XwWSGMnvUc3tyaF4E6vjFepKZAVphIyi0RSAQSgUTg9QiMmaRAHohfRkD827/9W5mh5gga8NabrkGwjPL77bdfISis0mDG+7zzzivLe1Zz3Lgd50G71VZblZwUynUDxzqP11YfEBxYnxs39aF+OO644+KjH/1oyXfAdqEeIyFKkCzsrzPxHGuD/ZEc22jHeHx2TioDckK5NagRyLgreTQe51hfZWgb9iN8rOSBqDDLC9+BWJJIIpbE2n/kIx8pSTDtS01hX22sD6q7nBaScCpTSBFlBTLDPsiOI444ohBo1DPK0x8Hnm991TnLTQTWNwLuyRRtZ599dpnBsxwph8a1IvGs/r/FFluU60Tfz23yIOBJ1ri8qO8ebwMecZOnQmnpsAh4Znkh8k2oyKEknFZi8pFMqAxbeP653hCo7eYExjmTLQx3vQGTBScCiUAiMAQCYyYpOLyccHL7//iP/ygPSoNgA183Xw4eR9Dgl4riH/7hH+I///M/y4oZt91222uMPxJCOAUFhszzZvMk4RR2gTSoM+JD2D/in9mkPMSH15IlS/4mlIQze9999xX72CvsxKw8J3gkNqg3VYmZSgoMs5ZWCXHeidw8CNks6SQ8JcrTBmZOJ8MAhu2UD0I3JMVELgzVDuqq/8Cakuc73/lOyC9RFRIcM7MVFD5COSglyGJhYSajto18FVYJ2W677eKwww4ryzPqK+NJkE1kH8hzJQIDEdCXEa7UVZIdu99RCpGMI1QRmXvvvXch8Nwbc5s8CFBOLFnRG8tW9ZXwjkJYTB7z09JRIkAR6fkl/xfS3XMeYTEYkT/KonP39YSA+6+xjXFznUBZT6fKYhOBRCARmDIIjJmkMMgltf/Vr34VH/7wh8uMvQEvx5Hzx2k3Q2eVjje96U3xd3/3d/Hxj3+8hHQYJFcpPUeSUymp25e//OVCaJx++ull8Ow/5dmUycl2k/dq/G+o1qiz8vY3QOecSsYoFhAp4qFeczVI2ilhJumklR/YYLBezz/UOervtR5iDL2sXlIdYbbXF5tGWqay7euh5gEHU4SOz35rJE9qXf0nlMZKKkJrhDiQdz/wwAOFpGGnB2ajDY6Fg2OpY+A8sPxaT/sqY6j/635jfTezKxEYskDoBcJH2zXaO7BspJfwHIlbqSSQGmTs+igJrGVGP/OZzxRFD/JGuzZiB1dhPggRAz95KkbSvwbakd8TgWZGQJ93H3L9++zdtSLni7wuwtQQze4BuTU/Ah6NvX0Ry1b1xuwFXfGnhV2xvK0vevpSRdH8rTd2Cz3bTAB5rpvUQTAaQ7m2h3tOjv2MeeRYEdAe7rXGoNrIONN4w703t0QgEUgEEoHhERgzScGRoxz4yU9+EptvvnkcfvjhRTngdJxd4QYeosI33vKWt8T/+l//q8yMy49g5toD1ebmbRbgF7/4RZnp3mGHHYoKoM5k15s8RxWxIARDGR7S4qyHeij7nbPNYbf/kUceWUIHlI+EqCEQNTSAioIKgqNrSctrrrlmVFnuPYgMHpSH/FBHji4bOcVUFbI4j+YBpQ5wovyAESIHkYL88RucndfmPMpHRgiV2HnnneNd73pXwZx6gDJh2rRpJRs425AMFTs2IY6Uax8kC8m3tqnll5NEFExgT+0A34GER91vrO9WVyFd1T5CPdRZXxhuYzciwowSfBBEMOdwITkky5QUEIHRSJDVMhE0fke6eVfvHERUdPJ9KiKgf7t+Xevf/e53i+IKges+5XrIrfkR6O59NffEQwu64qxbV8el97bF8y/1RndPkhTN33pjt9A1aqKFQvIHP/hBeV4ac9Tn+dhLziPHGwH3WeMJicCtLEZ5bGzcOHYb73NmeYlAIpAITBUExkxSYITlPJDYkFqiKg84tRxEsnuqBJL9f//3f483vvGNRU7Pia7qhbqvOGm5KjiSZrM5l5WAcDP3UJZX4Oijjy6zfnI/KF9cNWXBwBkE3z0YOJzXXXddWHKPlF+CT3kJ3vrWt8anP/3psk41p9g5rOaAwODcm1GcPXt2mVFkh7IQDgMddp3AwEB9DPipQzyU7OflPw62+nCkESHIBWWNZGOX/YUz/PrXvy6znRxxiSKRKIiEek7kCBJHO5gV/eQnPxlvf/vbS0JJzr6kkogaORsQN2xgN4LCQxMZgGhCDsC5ll8dFnVRN3jZF/FjYKSc8RwcSViJJJLAjx1UFWub2VUnihEDNnlR2IhEQVgIdxEKoi/OnDnztX7ViH+tG+JGHcezPo3nyc+JwIZCQJ92LbunuGd4RzQjJd2/99xzz3LP81/2/w3VSqM77+qO/pj3Qndc9UBbHHrZ8jjzltXx7NKe6EqSYnRATqK9XZtCGH/3u9+VJN1yaBlbmCDJrfkQcD+lMDZeFY4qMXwNdx5sPNl8NUiLEoFEIBHYcAiMmaQgE+b8c4g5wFQVHHJOK3KAU73ZZpsVB5GT+F//9V9lptssd3UEOfaIBioKcnwO5QUXXFCWJzWgdhM3ay9mWrw0EsPLoJrTyYnleHK0G2/4wizYx2H3YLCaA6fXefbdd9+SZJETT13AHkQHub/wCEmokAIG8Moh0VMWlQLCovE8mk1dEATqwWnn6DZu7Bd6ASvJQBEVSI+RbMpEBHEgrHhCASKsQVgMh9zMJ7sqU49cUV9YI4aE11AYqLe8DHCcMWNGceDVhd3UA8gL5QuvQNT4rHwED2zUWb2QBWZw7KNM5IbBEQzGa/MAd34Pc0uqPf3002slddgpNpcKhuIEqQV3oUhIMm2qL2jLge0zXnZnOYlAMyPgGqVGcy9D4CEq5f1xz0AKcnaqZLyZ65G2RdREmYte6Y2rH2iPU29aHaffvCpuntsRL61CkCdKUxEBBIUJGGMe6qcf/vCHZazieh7pxMdUxKWZ60S1anwifNVY2USQvEBJBjdzq6VtiUAi0CwIjJmkMOPtIckBJDvkXLohc9SpHszeb7zxxsXx5VhLWij2GYHB6a2DZgoGDjGSQrJKqgPkAAKDIoNTjLwQNiKTNSfcA5pDbfbcrL7BN+fTQ1zZZtIRAh4KNbEUZ9+sIdUG0oJywyoOiACEhP859xxdNrCTMkGIgLAVdaJcYFedafRucEAdcuGFF5b9Oe1+Vz9EAEeAvVaNEMaAFFAOhQQHHLEz0HFWphUn5E/grFOBwBkxU3G1igj54KOPPlpwJyfkiMOEUkRd4IrIgZG6ayP7IzYQDtQiyAtEBmdeOznH5z//+aI0YS9sDYwQQRx/CSaROUgfOT7Uw0yBd6QHfAYSOSPp7M5hdhcxYTlRtiN0nHcoEqQeg2BCOjlGW6gf27Q/nCwLO96JWEdSp9wnEWgWBNxjELKITfdu9wukZU30ayDtfjuWa7dZ6tgqdvT29ceajr54ZGF3nH7z6jh2+sqY/lB7PLGoO9q7Xs3h1CpYtFI9TdwYY7mGJYL2rDZRMNjkSSvh0ox1rWNDimPjNApY41vjMGOqocY0zViXtCkRSAQSgQ2FwJhJCjPyZva9KBI4vBIVcg4pBzjVlrTzv8/IBfF4nFk3cINmDiUnmnPMubY0aSUcOLycaqEdwjSUQb7vJm/2z2w7Z1mZHgSYaTd+5UqWiITYZpttSrJEORo8zJEPHFqstuPYzB7OMKJFeVQhvnOWhbJwmCWnEoZiIM+u+oBRDyoGdnH04YDwYANn3WdECIIGUcFRxqKzD1nC4RcTjjBQVt0QPRQB1CjyKVCRsIfCwwMPofD+97+/2CQcAqGB7EAiYOrlooCP0Ic6c6pM7eNcNXcG29TNOZwLISTnB1KICkPbmF2FLZyUh2gyQKK+UDbS5dxzzy31YR8CRv1Hu8ERacNxQpKY3dWuiIhGbBrLVRf2wR0ZQSWDdGIDgofiQ1gPnBEpOXvRiF5+biUEEJ+uVcSjUC33IuSda939C7HbSMC2EjaTra4dXf3xzJKeuGluRxxz7co47aZVMfe5rljVniqKydaWo7HXc9v4wfPW5IVnvedaEoujQXFi9jVuQfoKxTGONB41cWZMk/fZiWmDPEsikAhMfgRGTVJwGDnpHG0OLoWDQa5ZOo4sRYEHaJUjUi1wFjna9jPL7XgOphARg2T7mNHjcJs550wiFcRdKsv/EiCaAaRokJOBo86R5rRzSg3CvYQncL45p5QXzimGkzrDfqSSyAbn4rj7Tf4F50cmmJ1AIAgV8P3f/u3fytKpFBbIDjLpSlKwExHBNvZQJZBeekAhBDgC/kPUCNlAAlg9AqMu9wV1BaUGGxodaPYiCCgDkDNIGQQEkoUsG/mDUEGsIFoMXjj5whxOOumk+OhHP1rOB0O/s8dAxkv7sU1ZyJoPfOADhSSCCTsQD9qKCgbZhDgwU/Pggw8WjNgkWarzIC3sQ7GAhKpKGPuPdkO0wEt5+ov6I6yG29S3th1MEC0GbdQiBgSIL/1TfzADlYO54dDM/6YyAmZh3aORdwhQs7Hude5riEkkp/tEbs2PQEd3fyxc1hMz53fGpTPb4vo57SH0w0ofuU1dBIxXjJmMizxrPdc4wrk1HwImaoxP3GtNtCGEfR4Ymtx8lqdFiUAikAg0DwKjJik46MgAg11Lj8o3Qd3AieYUe3hSPpjVPuGEE4ojLocCEsBMOweZQ46soGYg0+fgIgDMinOq7aNMIR1yUAjFEHrBeRfSwCF997vfXZYrRUIYYHO+hQtwtO2DpOBsc7o5zQbg7EaOIDI49h4kmO0zzzyzKCjkuqASQG6w2XnM0FNTYMMRDI0khfNSgyA0OMMcd4MGtrBDmIjj2MGx97BCTHzoQx8qOSPghChAnCirkh/UFYgZdiA5qFY88BAJ++23X1lNBTNvwAIrxzkeYUHhYLUV50KYDOaYqzPiA5H0uc99ruSXMJMKl4ceeqiElAi/YT+iQHshhyhTEC7wRSYgWpwLWaQ9hNZcfvnlBePRdnF4UdKwm1pDOeo03KZtYc8OdUH4II0oYfQt7QlvuGn33BKBVkXAPckMnvuua9y9jFrJyj8IS/dI++TW/AggI9Z09seSFb2xYElPPP9yTwnzyOZr/rZbFws9t02EuG6pKTzvjZdyaz4EjDepbt1rEcLGviZ8kMW5JQKJQCKQCIwMgVGTFDUuUp4DIQeIBJI2D0y/mVWnQODEcjQpJXz3cCU3xiRzfCkx9t9//0JoCKXgWFI7cLo57ZxMjr+ZvipPpnCQkwFxsNFGG5VjJdp0nM1A24OBmoPzLGeGlR8MzOvDwUC8vhyD+EAEcGg57BQEwg3EEGK/kSRUEgcffHAJP2FfdfyRANQRnGrOsPNyrP3PgRY6Ah//wUFuCU4+pQCHX9lm/ykI2F1nMhECiBH7wFQIDZIGhsoTnqFsv3E8bJXE4LQjWhBEZl4G26gikCeIGASRAY82UR/KBBhTIQiNgZ1XDQ2BEcLFPggqdYEVUoiyxjEIoNFuZnnZrk8gR/SBoYgF5BJCxQywUCE26C/6F0UGXMw2IS7UU9gQAiu3RKCVEXDfc21SkQmRQpAKr0JQjiVEq5Wx3JB1R0b09EZ0dr+am6K9U46nDWlRnnt9IuC6NX4xCWT1LQooxLtndh3XrM/zZ9mjdaJIvQAAIABJREFUR8AY0PjFuEx+MxNwxix1Imr0JeYRiUAikAi0HgKjJik4xWa9qRve+973FodYnCQpGwfTDD+igvNuMMxB58yaueeIOh6hYYDMueS4UzJw0t3YhYyYqRcewbGnDMBGIyOQFggKLzP3CAUONmLAg9zxHtqScXLU2eJ4zutQMw5sR0BQNfzjP/5jSTpJEUAVoRwOOMJAWAm1CPudy6Y+HGpkhhlJTrMHkQE/Rxkh8Z73vKeQHMp45zvfWXJXUI0on9pEuUgKhEIlKQxAqC2QOz7D0XnkmVBv5IU8CwgW6hCbhyAsEAicc5857INtlBnIDuQLkkT59jWjilySFFM5yCcPWaSGMBMkBGJKqAlSAk7wZSO1CPsstTUWkgIRgzDRX6h09INat4F10JYcK32QEkc/QkQgkAwM1E8oDJIKgUSZUsmcgWXl90SglRAQ9kRFYXUe9xTXRlVjtRIOU6GunkIeRamgmAqtOXQdOLaea65VYytjI5M6jSGiQx+d/2woBIxHtZ3xoLGd77klAolAIpAIjByBUZMUHFDOOaeVI40MoFaQkI0yALHgMyUBx7OuHIGIkCsA+y+XgVAGs/WSP3EqPYTd0KsCwSy/GQPyfwoCD2YKAjkq/EbiX5UIHFRhGGbLPRCQCVQXBuKIE7PqHF+O/EDHV7iGEAp5HN7whjcU55tNSBd2cXQ58+qLeDA4qGSFY+XHoATh3FelCCeaGoK9b37zm18jKjjhCJhGuTWiAlEAn6r6oDJxrJCLShiwA0lg1Q4qBvVR5zoDiq1XNikoYkUYDOJBfTno9qvkClKE0sQ5hFiYoSEl9ZlyRRmOV0/ngK9wHfkr3va2t5V2F46CoIARosf/yCgKDySMczhem9TzDtYttTn7EDxsQiwhRzhTlbSpx9XBmpUJEBSw0w/kr1B/gzbnqySF/BkIJN8HIykMGoTn6JfImJyVqkjn+1RDwLWDCEVIui9WItN149oY7hqdalhMtvogIagmVrb3xYq2vljd0RddPRSBk60mae9YEHB9epaaADCeMcFjgmLg83EsZecx44eAe6j7rHZJUmL8cM2SEoFEoHURGDVJwXlEPiAOKBmQCSTDZIgcfQ9Rzjsyg2KC0ylEQCJDzrBZeY49h1dSSA65wTMHkUONCEBeyHPACfWicjBzT9pfy+FQc+C9EARmGZQj5MO5hS4IlTAzz0ZOPnUHpUPjgJx6gFPP+X/7299e9lM/zjlblL/ZZpsVMkUoAyIAQVDDUszUe8mHwFl3bhiJQ+S0v/GNb4w3velNRTEiZMJgw7HqTa2ArJH7go3yecAI2YGUoRKQuPMjH/lIKQtpIRQF9rBtTMJEWcA2+CMa4CQ/A6KCA84uD1AbAoFtlA/COzj98EM0qCsSiB2OQSqpC6XEv/7rvxbSRbsjVgyUkAKwplxAomhroTOHHHJIwVtdG/EeeKlpc0QBbD72sY8Vm/Qf/aEeVx/+iCxxnWaC9Sv2C/MQGsJW+2l/dWEPRwwBNVi4B4LCvs4lTEcZQ6ltBtqc3xOByYaA60xfR+i511BSuT/W8LTJVp9WshcZgaBYuKy3rOrxwsu9saojV/JolT4gnNUEhhBOIZGe7dSs9XneKjg0ez0RE8YUxhHGKu65dQzT7LanfYlAIpAINCMCoyYpOJ1m4ziywi4QE2bVEQ5mtYUZcPA5mQgJhAPnmrqCs1tzBRgkcyQtGWmmoLLPVvCgvhBKgpzgiHJIhVMgCag42EBxwVnlsJvRl2iTysH/BuOUDOKuySOFJXghM6pjXaV3VA1IBnZ6CUsRasDp5ahzchEmVAcIE2EaZvqRHeqnTCoLxAWigNPuIcXplQ9BOIt3JIZzO86DzL5ydnD2qQ/ggjBAKMCP/Y5xPjYZoFBiUBvUJTUbH4IICSQMnNiq3kgLigMkkno6r62GVlCiIEaqDernu/CNShxVUoodVDNsYAsiwODJQMk+EkMphwoDCQWP2rbDdXx4mc2tS48iFigbavt4yFNIICeoLfQZdWMHIgTh0phzxL76kDbRLxFb+gZblemlr2lj4Tz2Q87AXtvklghMRQRcZ4hAIWgIX/dr16z7XG7NjUBff8TSlb3x6PPd8fCzXTF/UU+8vLovV/No7mYbN+s834wFPNs9r4wNTD7UZ+S4nSgLWicEjB+MXUyKuLcao9Yx1zoVnAcnAolAItCiCIyapPBwxOqTDFvd41/+5V9KOENN1shBrDPSlAUcRTPvHFezeBxjM3lUBEgLDi5H1IvDi2Qg0UdQCCdBUgi/8GBGTnAw7efmbzbhyiuvLAQIh98+wjTIIuusg5AR6gA2cMA56M5ZZyGEOSBQOL+cf04vhYLwCOEh7BbuUckYCg42IlY410JXnJvqAsGAOKjHCjlBMAg38F+NITW4gJHlMiUFVQa75OVwPNuQPPZ3HphTTnCm5aNQbs3DUfut7/aRBBQhQ50hNIaSBPlAuVHbhf1IJo4KJ157IDYMguxXSSZt4vwcerjCRygH3OFfB0lstg8MEAIDy6g2Nr4r2/Ee7AgUdUJyIR7qLBEMtIU20s7sQ9Kon88GAjXhqPJsjkGOGNTpe3BgN8KJjV7aVd+DJxUNlQi7k6RobKH8PJUQcB0hc+XIocxCjFJsub5za24EkBRLVvbG3IXd8eAzXfHYn7vjpVVJUjR3q627dfUZaZxgHEIhaRLI8w3pWJ95636mLGE8EDCxY6xn7IFMQlZQVOSWCCQCiUAiMDYExkxSIBKEIghl+OAHP1jCPQx6OdSIBBtnmBMotEMoAPUEB5PTzMHkMHJw6+ahi0Dg7CIayJE5k5xvTj4H1GY/jnx19J2HI2u23QOcEsBD3XnkJeD8IisoMZyTg10f8Abv2G+qCMx3nZWvDrRwEMchJ8y2U0OwUR0dy+F1Xg8oAwd2OdYMJVvYxpFudOqd2/HsRwg4Hm5Iier4V0x8tw8yA8miPpYede7GzbHK8GBUd+0jISgHncLCOSp+yB4Yw5eCA7FByeBYigz1qHaw04MW/vBR38b/2WBfdRG2AV/7rm0Q5Rht7xhkFmKDMgZJhCxwvLL0EwoNIST6DwWF+tl/YFuyBf4IG0oWeDlGSA3CRh8QvuNzJWgQFfqaMBwY5pYITEUE3C8QsUgKoV7uC+5NjfffqVjvqVAn/GtbZ38sW9UXS1f2FRVFR1fmpJgKbTtcHTwjjRsQ7EhFClMTIpWYH+7Y/G/iETBmMfZxX6XmFQZbx1wTb02eMRFIBBKByY/AqEkKDjoH0ICXOsGsnNl4TryHZ3VuQcOhleQJMUEVgagg58c0u5lzgCtZUKF0PCWCwTOn0U3efn4fuK/vnFL/e3cMWb8HBHUEBYaZeSEZFACc7IEOdiUMlFHPU21RpplGhINBvmPZVutYz2+/gfbV/2qZvg/c/Oa4enytgzrXc/iN3UgE6hX1QSZUVUQts5Ylh4RQDMoDCg0kCwIFltUGNjkecUEVg7Dg8Kuj+tX9BpbtOPYM/N9+9fy1LoPtU8vzbj8DMKQIYgKRgohhC9IC4cV+RAOJOjWLcJy61ChyYyhb2YlsMqATfiLkxvE1Z4ZcH1aKQVjIRzFQGdJoZ35OBKYCApWkeN/73leIPtebe7BrKLfmRKDxieHxQVFRX43/Naf1adW6IuA5ZuJBeCmCnSrSM9I4JLfmQ6COgdxTjUW139rGQc1Xi7QoEUgEEoHmQWDUJAWnHUPsYclhlhOCwkCOhYEz0Wa0hWCYteNsksCZAeccc1DHe+PYe0A4r1AMCSG9KBrYbKDuwTHSrT50ONTV+R7psWPZD34IBWSPh5zzs5cTb8afOkKeicb8EgPPowwDG+oLdYaFsirpYX/lqo/BjnPZR3tM5EO1thUFg34hz4TkplYuob6Rh0QICoLCb0KF5LlA2KgfImeoAYDf4YAAEX5EWSMeX34Oyy4iyZSFEEFQ6NON+AzENL8nApMdgUpSSBBsVtY9BFGZ/b45W7aSEoNw281pcFo17gh4hhm7UHK6ZoU4miDye27Ni4Dxx1Bjk+a1Oi1LBBKBRKD5EBg1ScGRNbgVJ4nhr7kUPDgHDnjrTLlQCvsK26jJFtfnTZwdnHC2elWSYX2eczyaliNBRUAJgsihFhCaQQUizMFSp8JfhpMRqqP6N76GqnfjvkPtMx71GqyMem79CHlA1aCOO+ywQ8lDIvcGBYTEpfJV6GfwqP1sbfbW8hE0lDAUJgZ8SBEEjn7oP31jbWUNZn/+lghMFgQQt5RFVG2SHQufcg+ZSFJysmDVLHYK7/jzy73x/Es9sWxVbwn36OtrFuvSjolAwCQCRaGk1SZ5TPYg6TOEYCLQX/s5jB2McY0lTC7VMOC1H5l7JAKJQCKQCIwEgVGTFBy6xpszx7oxPKHxpBxljqCcBm7g3g2McxscAQ86ORjOP//8EqogrANhIW+EcAUDFfGOBi+wnQobwosKR9iJpGASjXohZhBbBmVIBf2MszXaetf+qo9STHglOTEVek7WYaQIVPLTKkaWMKZcoqBKcm6kCE78fsiJa2e3x7T72+LueZ3x7NKe6OzOII+Jb4kNd0bkukkJSa7lYRL+iNT3HMxtwyOAoBAyZxKOWpNqMxNlbvh2SQsSgURg6iAwapKiVt0At77qb4O9133q+2D75G+vIiDswsyJcASznnJQWBddVm+rnAhVoAhAEk2VrRJeCBoqEsvIUtxQklQCzD76z7putQ+OR1nraksenwhMFALUWHLTUFBIvid/ENI4t+ZDoKevP9Z09sWDCzrj+OtWxuk3r4q753UUVUVXz7rfA5uvxmnRUAhIIC2pszAPq5Uh7ZGLU+n5P1TdJ8Pv2kL4sskVOdBMtOQKYZOh5dLGRCARmCwIjJmkmCwVnEx2mu1HVFBTWH3CqiiWeP3MZz5Tlmz1QOS4T7UNaUBhY2Yi1Q5TrXWzPhsaAWFSYtkplKixrr/++hICtaHtyvO/HoH2rlfDPK57qD1+cuHyOPmGVfHEou5o6xTC9/r985epi4AwArmU5KLiCFNRUleMVk04dRHasDUTPkrlImeW5Z2TpNiw7ZFnTwQSgamHQJIUTdSmBh+ICg+/M888syzruuuuu5YEpZKTWi1FqMJU3aai0kF7mbWWxJM6hBLGQJNkdzhFh74gFIbChMTXy8xNDZka7liEDzLLufQZyUElGxUmtLZZOP3P4FiIjWV9rfpSE6uubXCsrmbt2end+diCeHJ+dgjt0b/zNXEYUCeRjVNiCR0zOytxZrbBxLXByLCeF7MeXhBX3v1inHD1ojjgzCfiuEsfixn3Px6PPNpstqY9I2vT0eHU+Ixwr5eLyfWKZPQscI8d7t4/VccGzVQvz0jPN8njqVytWGc5d8vTm2jJLRFIBBKBRGB8EEiSYnxwHNdSOLAcVMnuJHrk4FYHMwco4wr1ei1MWyEoHn300TLLMm3atJgxY0YhHLTvcE6/PoAoINO3XKSXAau+YCA0XD+QXNRg17ksRUuZM2fOnDLINcAabjMwNvgmLTY4vuGGG4r9BmVryyeD3LCajthc70gSBAXSwvnrKisXXHBB5GviMBDeIfmsBHyWY0ZW+C3bYOLaYCRYn3/BhXHc2dfE3ic+FLsf/3AcdNLtcfQZV8U5512UbdUi9wzPCEuI12WxPfeFEHheuHcP98wY7r6e/40fAp6Rnmfuo9tuu21ZmUzuMM/d4Z7L42dBlpQIJAKJQGsgkCRFE7azB53BiFkTs+4cvRycNGFDrcUk7UgBccUVVxSZvaVVjzrqqEIAmBUbzulHRJgB51ha+cTyrAZFiApkwHD9waBW0lUSVLM8e++9d3Fy5Pww6B1uYxfVjpwoO+20U1n67vLLLy9k2dpmiQysyZMtk+tdbhEqDMlPOWn7779/fO1rXwsrt+Rr4jDYeuutY6uttoovfvGLsemmm8YWW2wRfss2mLg2WDvWX45tv/y12HL7H8Umu5wSn9np+Pjstj+MTb/09dhq622zrVrknrHLLruUPFTuuchtZLNniAmLmqMpHeHhnmDr/z9tQTlhtTXPVquTURyuTaW4/i3LMyQCiUAiMLUQSJKiidvTYKS+mtjMNG0IBLQdYuDYY48tTuJ73/vekmuEA2/gOZyqwcwZBYR41w996EPxwQ9+sAyIEAiIhOEGRJQLF154YVnS9T3veU98/OMfj4MPPrgQF2vLacKuk08+Ob761a/G2972tvjsZz9bZt8RJmwabkNGHH744YWM8C6HiuznFB0SwH7605+ON77xjfH3f//3+UoMsg809IH/83/+b/zff/yn+H//+qF4x6e+G2/7yPbx//2/t8ff/+//E3//9/87sWrAairfPzbaaKPYfPPNS9JsKjh5Du68887yHKGiywmL4Z5AE/MfMv63v/1teTbXiQOTSUkeTQz+eZZEIBFoHQSSpGidts6aTjACBi1yQlx88cUl8SllghUWbr755jIztjYlhThk8nx5SXbeeeeydKTVX4SQDKekoLRAEDjXjjvuGBQc5P6WSlubkkKIBuXH//zP/xSiYs899yz2jyTe1qyf5XOpP7wjNoSJIGqcH+Gy5ZZblmUwLYWZr8Qg+8CrfeALX9g0Nt38i7HFtt+IL39r79h2hx/G5ltsnddIi90nhA9QU1gu+MQTTyyqNKFZwu4kzqSSG+7eP8GPuJY8necr4l2eH7l9TAoMN+HQkiBlpROBRCARGAcEkqQYBxCziERgMASQFFZW4Kxb494yZZQQZLwGm8OpIQx6EBySc51zzjnFyUduSGZJ0TDcrA0iwjmcS+iFJW0NqkhShRANt7FLmAaigqKCIoP9JK5rG4hJjnnPPfeU2T/vVBlsNQPo/EI+qEqEoeQrMcg+8Po+cNRRR8dRRx8bRx19TBx51FF5nbTYvUI4IGL6uOOOK8uOWnpUEm33cmQvB3m458Zw9/b8b3wQgL9nrNwUnqdIo+Gex+Nz1iwlEUgEEoHWQyBJitZr86zxBCIgjwPnncMuCepzzz1XBpoc/uEGNgY+BkHCJZ544omyKkZdGWQ4BYaq+d9gFjngnI4XIoIwWNsAl13ySCA0qCcQJewficxY4jCkDDu9s78mgXV+ZZkNlFQzX4lB9oG58fDcuTHn4bnx0Jy58fDD2SeyT7y+D7gP11WWcnWPCXx4D3Eqz23PUa/hnuFDHJ4/JwKJQCKQCIwQgSQphgHKA4izyNEk6bPaghlls81rcxSHKTb/aiEEah+qg5o6sBnJ4GbgsaOZsXFs4zlHemzjOfVxZYz2WPs3HjOwTOXmKzFo9T7Q2dUTq9q644WXOuO5pZ2xfHVXdHVnv2j1fjFY/UdzH26hx+uEVNXzC0mP+E/1xIRAnidJBBKBRKAgkCTFMB3Bw6kuBUluSXZ/ySWXFPm7h1VuiUAikAgkAonAaBHo649o6+yP55b1xE0Pt8dVD7TFk4u7o6unf7RF5f6JQCKwHhEwBpRvSQgjJSBlYSpa1iPgWXQikAgkAn9BIEmKIbqCmWBEhNh+xMQBBxxQloIURy0pIVZ9NJuHGhm9nAKSLZH9ry3GfzTlT+S+yBvZrGW5Vh9hBVaNMNuTWyKQCCQCicDwCPT3R7R39cfzL/XErX9qj2sfbI+nXuxJkmJ42PLfRGDCETB2mzNnTlhtReJq4YzUtcaIuSUCiUAikAisPwSSpBgE26qg4ITLsP2Vr3wlPvrRj5ZlJH/zm9/E7bffXkI+Bjl0yJ+w77NmzSqJDBEeVnywSsNk3DycxclKqiip12WXXVa+y0mQWyKQCCQCicDaEejte5WoWLKiNxa90hurO/qCwiK3RCARaB4EkBRWxpL8mppC6G8qKZqnfdKSRCARmLoIJEkxSNtSOJD3cb4t37jJJpvEdtttV9YunzZtWklGKEbRS4JASoKaEHEoNYHEiRQZP/nJT2L77bcvZAXiYjJuSBxJEC+//PKyzKXlKq1CQV2RWyKQCCQCicDIEKCo6OmN6OqJQFrklggkAs2FgBwhJqysckU5apzjN+Og3BKBRCARSATWHwJJUgyCrTCPq6++OvbYY4+yTj0lhaUcZR4XskExQE2AUb/33ntj+vTp5UVdMJSaQCyjpcW+973vxQ477BBnnXVWiW0c5PRN/5OHcw2FOeSQQ2KbbbYpy2siXfLB3fTNlwYmAolAIpAIJAKJwAgQMKYxcSXEw7uxX45zRgBc7pIIJAKJwDoikCRFA4AePHJNzJ49Ow477LAS3vGtb30rjj766BKq4T8MOrWEhxXp369+9avYbbfdYu+99y7EhtwMg21Y+P333z+++c1vxu67716kg5M13EP9JJOyPCacPv/5z8exxx5bVj/JGYbBWj9/SwQSgVZHoLevPzq6+2LZqr5Y+FJvvLy6L3p6cza21ftF1r/5EEBEGOPleKb52iYtSgQSgdZBIEmKhrZGPsybNy9+//vfxze+8Y34+Mc/HpQCEl2S+NVQDg6671b7+NCHPhT/8A//EO9+97vjqKOOisWLFzeU+NePt912Wylz2223jZ/97GclPGIoQuOvRw3/CanS+Bp+7/H/l6rkiCOOiM9+9rPlXYhMxmqOP85ZYiKQCEx+BDq7++Ol1b3xp4VdcdujHfH4n7ujoytJisnfslmDqYYAgsJS86tXry5ExVSrX9YnEUgEEoHJgECSFH9pJQSEB9K1115blA5CPOSjkJdi0aJFRTlQJX4UEIiLX/7yl/Ev//Iv8Xd/93fxpje9qeSskKvBA67u613ZljD93Oc+F1tuueVrygznG+vmHPJhyIXx/PPPlyScyJOJ3JAUv/71r+NTn/pU/O53v0slxUSCn+dKBBKBSYXA4uW9MWNeR1ludNr9bTH3ua6ywsekqkQamwhMYQSM16go5s+fH+eee25cccUV5XOuXjaFGz2rlggkAk2LQJIUf2ka8YacfWELnG5KijPOOKOsi+2/xk0SJatz7LLLLvGWt7ylkBRveMMb4sc//nHJW7FmzZrXlqdCUEiw+Yc//CHe+973xuabbx7nnXdeefANlb+i8VxDfabkkHHacqi33HJL/OlPfyoky1D7r4/fly1bFoceemh84hOfKMQL0iS3RCARSAQSgb8iUJJj9vUXBcUZt6yOk29YFZfNWhOPLEyS4q8o5adEYMMjILzDeE2esa9//eux7777xq233vraRNWGtzAtSAQSgUSgdRBIkuIvbY2guP7662O//fYr4QsHHnhgyTlBLeDB1bhZM1suCkSGUIe3ve1t8eY3v7kcS2FBIYGNt3ngUTuccMIJsdFGG4VwDythSLq5LsoHa3VbAtTKGsJHfBZqUhUcjfauj8/qpw7CYTbeeOOSFHSyrlayPvDJMhOBRCARgICQjhdX9MbNc9vj11csj9NvWRUPPN0ZS1f2RnfmpMhOkgg0DQJCPB5++OE4+eSTY+utty5jK9+N6Wq4b9MYm4YkAolAIjDFEUiSIqI49sgF+RV22mmnwqCfeeaZhT33YKqOfw3duP3222PHHXcshIMkmMI43v72txfWnbrByheVpBAaIhEnUsM+jvMdeVH3GUsfQ3yccsopJSSFzRQgfqu2jqXM0RyDYEHsqNdnPvOZOP744yftaiWjqXfumwgkAonAaBCQIPOhZ7rij3evicMuXx6XzFwTQj8kzcxVDEeDZO6bCKwfBIybjMfk1Tr//PPjpz/9aRkLIiuE+07UuGr91C5LTQQSgURgciLQ8iRFfThRN1h5w2oeEmBauQPZ0LhRVGDU5amgHthqq60KOfDtb3+7JM4kDRxIUnjA3XDDDXHAAQeUcI8f/ehH8cQTT6xz1miMv+VPL7roojjppJPiqquuKiTBRDxMnQPJoh6UFFtssUVZopXqJLdEIBFIBBKBvyLw7LKeuOSetjjzltWFqHjg6a5Y3d4fmTLzrxjlp0RgQyJgMkr47d133x0//OEPSyjvcccdV74PHAduSDvz3IlAIpAItBICLU9SWI2Cc40932STTeJ73/teIRUsryk5ZePmYSWhktCN97///UVxcfnll5dcFPJNDEZSyF9xwQUXxB577BGf/OQnS3jGwoULXyuWw+88FBeUCfZHbCABGlUcrx3wlw+OEV7BHmSFnBTyVJgNGC1RQRWBfFGeMBK5Jnz3+2Bl+Q1JQn2CpBC7aUWUybyk6kB883sikAgkAuOBwHPLeuKyWW1xxay2ePDprlj8Sm909yRFMR7YZhmJwHggYKxj/CTHF2WqySS5vozFBo4Dx+N8WUYikAgkAonA2hFoeZICQXHfffeVUA9hG2R+jz/+eGHVB4ZjIBcuueSS2HvvvcvypHvttVfceeedJeThfe9736AkhSVNjz766MLMi3E85phjyoNP03D2nYNzT7khueapp54a06ZNK6Ebwy3n6TgPT0k6X3nllUIa+Oy3wYiF4bqCzNVUERJEUYkIZ7FKSSU9Bh6rfA9v+1nhZOeddy6JRBEXuSUCiUAikAj8FYHVHX3xzJKeeHZpTyxf0xeWIu1LjuKvAOWnRGADI2CsZZJmxowZ8Zvf/KYkTV+wYEFZUn3gOHADm5qnTwQSgUSgZRBoeZKCM37OOefE/vvvHzvssEPJ8zAwAWUlEyRQkqiScuBrX/taIR/uv//+oiYYiqSgNrDqx/bbbx8/+MEPChFBqaBM8sJnn322MPbIC0oMOS4OPvjg+OMf/1iUCnXpq0o8eGBSWfi9khIUFxQQN998c1FVID2EpjQe41xIB+dGaiAzlKOud911V3ko//a3v43DDjssjjzyyKL+ePTRR8s+tZx6VbDhySefLISNpJ3ImquvvrrYVPfJ90QgEUgEEoEIOZQRE109r5ITyU9kr0gEmgsBSgrjIpNK1BSzZs0q46WBY5/msjqtSQQSgURgaiPQ8iQFkoEywnKiQhc8oBAAjRunHNN+2223xZe//OX4whe+EL/4xS9o277ZAAAgAElEQVSK4uGBBx6In//85/Gf//mfgyopKCSQH1b1wNDfcccdrz38EAbW4UZOyG+hXPtZNcRLbgwKBwRDZfPZISzEw9Q74sEDlqIDEWJVEqEfCIh6jP+dS1lUI3Pnzi11RGxUNcR///d/l3OLx9xuu+3K+alGzC4gQRo35SJfhL3ItYG4IY3M2M1GlPJzIpAIJAKvIiBBZibJzN6QCDQnAsgIEzuWm6cINZYZOO5pTsvTqkQgEUgEpi4CLUtS1IcS5xoxIGmmcAvOvwdV4+a7lTPkrbDk6JZbblk+S5JpOVJqAiTFPvvsE0iLShw47rrrrivkAxLC8cqX78HynRQMdSnTXXfd9TWH/7vf/W585CMfKcoLJErjAxOBguigtEBMUGIgJJArX/ziF0vohc81ltKDFtGgnvJGXHrppeUzO4WVHHTQQfGd73ynECkIB0qKr3zlK7HpppvGueeeG0uWLHndw1qZbBAag2CRYAr5wY7cEoFEIBFoZQQoJiw5+ueXe2JFW1909SRB0cr9Ieve3AgYCw72am6r07pEIBFIBKY+Ai1LUnC0KRQ46h/72MeKCoGjLYRiIIMufEKs4qGHHlr2RWiQA3LgH3vsseLoS5wp7MHvmHgEBfUC4uNDH/pQfOlLXyrkgLKcA0nAuRc6giQ544wzAiEhu/Svf/3reNe73hXbbLNNUW/U8A3dUXiGvBXUH6effnpZzrQSFxQbFCHnnXdeUVM4jzoK26D8YLf8GBQSZ599dkkO9Z73vKecx3dEBjx22223smIHUkXOjqrIqJcDfIR3WNVEnSUGrXk86j75nggkAolAKyKAmLjvyc64/dGOeGpxT6xs74+evlZEIuucCDQ3AsgJ4xtjGp9zSwQSgUQgEWgeBFqWpEAiCJfgYAuz2HPPPYuj3ZjLoTaT/agQhEJQK1AQWFWDcsB/yAurfcg5Ifkk8gKxIOzixBNPLMuVcugpL6gshFk4L/WEpJPUC0JJEByIhx133DHe9ra3FeIEceE8HqJe1vGWrBK5YV/KDGQEgqXmtDj22GMLqUJB8cgjjxTSwuoiNSeGEJOf/OQnIcTjn/7pn4pqA+lB1SF0gyJEXgzEjLIbN/hQdsDD0qP77bdfsZ0yxH+5JQKJQCLQygggKR54ujNmPN4ZzyztiTWdfZkos5U7RNa96RBATBgDWsWNKtQEjcToOYZpuqZKgxKBRKCFEWhZkoLaYfbs2UWVIP8DokFIx8ANu46Q4LTL1SA0AjmAaEAaKEfSyw9/+MNFxXDVVVcV4sLD74YbbijHbb755iWUA8Fgfwk45bH49Kc/XZJqSnhJiXDttdcWdcJ//Md/xFvf+tb4/ve/X/JIVLZfPgrEh+WxNttss0IUVHLA7xJfIg0QDZQOkoJefPHFhYCxtKqcGHJkTJ8+veSc2GijjeINb3hDeN94443LEqnCPJAgbBIyMvChXR/sFBmOEeoi1wXbciZiYO/J74lAItBqCKzp6I/Hnu+Kh57pisXLe6Ozh5y81VDI+iYCzYuAsZtEmSZ3KFeNx2bOnFmUp81rdVqWCCQCiUBrIdCyJAXn/sYbbyzhDxQSJ5988mtLg9YugG2nYuDYC6PgwHuYOc4DjlMuv4RQCaoCuSSESCA1OO5nnnlmCYdAbBx//PGFtad8oEJANEh0SWlBfSFEwwoj8l3Ib/HmN7+5KC2U5TzIAsoIiS6pIqwucvnllxfSg50IEOoMBAVyAyEhb4Uwj29961tFrSFXBfJELgs2ya8h1ISK5He/+13BgG3+R9hQUSi7cUPOqL9ykTbs99vA/RqPyc+JQCKQCLQKAt09/bFsVW/JS7Gmoy96//YW2iowZD0TgaZFwHilqmlNyMgdJr+XJOO5JQKJQCKQCDQHAi1LUgjT4MRj0akBLrrookICNDaLZTqRGdQRSAhO/WmnnVZUDx5wNu/IAmEb1ArICGEdXhQJwjyEhwixEAYirEM4BZLA0qTICTkikBbCTuSh8E7d4FhMvxARhAHiw7nkgRC6gXSo4RhyVSAwkBPKkJ8C6cEuBItzVNWFEBLEDPLiiCOOKKoLeSsQE0gMZIiQDvWv6gjvXlQgCA02KF8OC4RNbolAIpAItCoClBL4XO/ls++5okerdoes9yRAoE7+GF9RuKYadBI0WpqYCCQCLYVAy5IUCxYsKMkqEQkce6EW8kg0bggAy3VKVCkXhVUvrrnmmpIQs4ZBSExJWSDMAiGA8EAeYOeRA5YsPeWUU0qiTEkoESO1LOSF3BCUD1/96leLcoKiQ04JOScQGZb5RD6wF2FB6eA4SgZJNitZglR48sknSzJOK4NQY0jWacUOCgsJPqlCPJiRFEgO9iJdyByRNspnHyJE2Y3hHmYekBbXX399CRVhG1yEzFSipBG7/JwIJAKJQCsggJQQ0iH3hJU9fM8tEUgEmh+BSlRQUKQatPnbKy1MBBKB1kKgZUkK+RqEKgjfkFMCqYBNb9yQFmSA9tl6661LmAVHHuNeN447J//www+PnXbaqagf5KywfKdjkBSUGBQKVuE466yzSv6KTTbZpKgZKB6EeCA02CO3BBUGRQaCAflh5Y977723qDCQFM7l/4ceeui1GEp2KP/CCy+Mz33uc2VFESEhQk4oMBAJ9SHsOEk2Je6kirjyyisLKSFshTqCuoRC4plnninEhLoiQ4R1sF8uCgQHcsZvzp1bIpAIJAKthgC1BILihVd6Y94L3a/moOhOoqLV+kHWt/kRQEjUMA9jPZM2dUzU/NanhYlAIpAItB4CLUtSyOFAtSCHw1AkBSUBFYTVNizfeeSRR5ZQj8a4RYoKKgUOvv0kwxT2gWDYaqutimIBiUHpwNGnavjUpz4VkmN+5jOfKXkp2HDppZcWggLRQHFBweE3hMFJJ51Ukl0iUiTERBQIE3HeSph42LILiYJ4OOqoo+Kyyy4rZZIzShRVN3kuLH8qhwYbqTaoORAlbEeyCOvwIK/HwaLmorAqCMWI86tTPugrsvmeCCQCrYQA5cSSlb1x85/a44xbV5VlR5et6ovu3lfDPloJi6xrItDMCBinUL6atKEUNVFVx0/NbHfalggkAolAqyLQsiSFJElUCZb/RARQO9RwD4w7h1+Sy4MOOqispCG5pLwOFBHVcddpfKYmEOKx++67xwc+8IH4xCc+URJSSowp5wNSQHkIDctdyUVBQSFkgipCqAnVggdolR9i+a34IfRCPgvJLIVWUFnIa6EcIRqNhAl7kAlIEfuxi4Ki0V77yE3BXqSLvBc1tESeCfZK5Lls2bJiL5vZIkTECii77bZbeSFJ5Nhgb26JQCKQCLQaAm59L63uLat4/P6O1XHEtBVx3UPthbToSZKi1bpD1rfJETBZIyTWeMtEj4ToGara5I2W5iUCiUBLI9CyJIVEk5bitJSmkIpzzjmnOO96A6eeogHbLqzhk5/8ZHHQZ82aVX5vVA5w0qkJsPMIh4997GNl+dAPfvCDsffee5dQCqSAY+xLJUGBgEQQduGhKVFloyLBfva3cgg7vRzHpqq0QKhUUqOxB5sZoICoiS8bba372QcJgQRBdghpgcVdd91VCBXnEsLBDgSFhJoUIHJpCCGBlbAU/+WWCCQCiUArIoCkEOJx0V2r49SbVsX5M1bHg890xeqO/pI0sxUxyTonAs2KgLGWnFsmW0w+GfMYT+WWCCQCiUAi0JwItCxJ4eEkpIHDTdEgESUSgoOOMODEUy8Ig5CAEvNO7cDB57w3bogApIFQDDkdrK4hP4UQEGEbyIZ6jHckCIWCl8+VwGgs02f7+q/+7/vA12DH1H0G/le/13KRHAgNJAqFiFU6kBPUGWYYkCdz5syJP/zhD3HggQcWRYmVSeTHUF/255YIJAKJQKshIMxjRVtf3PlYZxxz7co469ZVcdfjHfHCyz1hCdLcEoFEoDkQMH4ybpOAXBguxSgVqUkoY7PcEoFEIBFIBJoTgZYlKTji5H+IhZqXQYJKIRUccCSF/A5W/7A86A033FD25+APtimP4sHxQkesAiLMw0PQQ7IZN3WphAn7K2GCpBEqgoywgoeVRzbbbLNC2Jx//vnlPwTFUFg0Y13TpkQgEUgExguBlW198cSi7rhkZlscfOny+OM9bfH8S73RmUkzxwviLCcRGBcETLyYgBHea3l3y6/XpN/GPbklAolAIpAINCcCLUtSIA442tQUliC12gUJoCU55WQQCkEeaMlNeSEQDsOtYlHZeg9D+S6oLqg1OP6TaWOvUBH1JY20somkoXvssUd5yAtRyTjOydSiaWsikAiMNwIr2/vjycU9cfPcjjh/xpq4e35nrGwX0jfeZ8ryEoFEYF0QoBSlipVvy4SLdyG3xjHNOoG0LvXNYxOBRCARmCoItCxJURuQmoJDLhGksA+vQw45pBAVQiHIBIVFjEQ5QFlQ1Qmc/cmoNGA3ckXODKuESAZq9RFJQ+WmqLkqKn75nggkAolAqyGwprM//vxyb8x/oTsefb4rFr3Sm2EerdYJsr6TAoFHHnmkjGWEqgpblYhcWO9kHJ9NCsDTyEQgEUgExgmBlicpyP045XXJz4svvrisfNGqy1OZWUDKCPeQVHPatGmvKUvMPOSDfZyuvCwmEUgEJi0C8k5QTry8ui9eWt0XayTLbM6ovkmLcRqeCIwHAsYywnUtyS4MN5N+jweqWUYikAgkAusfgZYnKUDM8aaU4Jx7UQtMViXEeHQZeCAr4EBJ4n0kSpLxOHeWkQgkAolAMyIglKO8PDPKcyPKKh59f/m9GW1OmxKBVkfAGEaeMYnA5RqTJ8z4LrdEIBFIBBKB5kYgSYrmbp+0LhFIBBKBRGADI4CIsKJHR3d/ee/pe5Ww2MBm5ekTgURgLQg0TrggLHLCZS2A5d+JQCKQCDQJAklSNElDpBmJQCKQCCQCzYlAd29/vLKmL5au6I2XVvXF6o7+6M3wjuZsrLSqpRGgBBXGSwHaqAL1u1duiUAikAgkApMDgSQpJkc7pZWJQCKQCCQCGwgBpIQlR+9/qitmPdkZTy7ujvaudHg2UHPkaROBIRGglrCih1XW5KOQAJ16IrdEIBFIBBKByYVAkhSTq73S2kQgEUgEEoEJRgBJ8fgL3TFzfkfc9XhHPPbn7mjrTJJigpshT5cIrBUBS6hbYnTWrFkxZ86cWLhwYcmttdYDc4dEIBFIBBKBpkIgSYqmao40JhFIBBKBRKDZEOjp7Y8VbX2xbGVvLFnRWz7LS5FbIpAINBcCr7zySsycOTOmT59eViZDWLS1tTWXkWlNIpAIJAKJwFoRSJJirRDlDolAIpAIJAKtjoBwdgk0czWPVu8JWf9mRoCSwpLyd911V9x3332xYMGCsmpbM9uctiUCiUAikAi8HoEkKV6PSf6SCCQCiUAikAgkAolAIjDJEJB/wjKjclGsWLEi2tvby5Lqk6waaW4ikAgkAi2PQJIULd8FEoBEIBFIBBKBRgR6+/pj+Zq+eOGV3li8vLd8tgRpLg7QiFJ+TgSaE4G6kkd9b04r06pEIBFIBBKB4RBIkmI4dPK/RCARSAQSgZZDoKP71USZtz3SETMe7yyJMpe39ZVQj5YDIyucCCQCiUAikAgkAonABCOQJMUEA56nSwQSgUQgEWhOBCglunv7Y+nK3rh5bkecfdvquH5Oezy5uCdWdyRJ0Zytlla1MgJdXV1ludH7778/Zs+eHU8++WSsXLkyQzxauVNk3ROBRGBKIJAkxZRoxqxEIpAIJAKJwLoigKRY3dkfTyzujnNuWx2HXLoirn2wPRYt742unshwj3UFOI9PBMYZAfknbrzxxjjiiCPimGOOiWnTphXSoru7e5zPlMUlAolAIpAITCQCSVJMJNp5rkQgEUgEEoGmRcBSo0+/2B3TH2yP025eFWfcsirue7IzVrb1RW8uOdq07ZaGtR4C8k10dHQUQuKUU06JXXfdNY488si4++67Y9myZdHb29t6oGSNE4FEIBGYQggkSTGFGjOrkggkAolAIjA2BKgo5KK4Z35HnHTDyjj95lVx48Pt8dzSnpA0M7dEIBFoHgT6+voKGTFz5sw48MADY6uttoqTTjqpLDna2dkZSIzcEoFEIBFIBCYvAklSTN62S8sTgUQgEUgExgkBKgqKCckyT7huZVw+qy3mv9BdfutLFcU4oZzFJALjg4ClRuWgOP7442OvvfaK/fbbL6699tp46aWXUkUxPhBnKYlAIpAIbFAEkqTYoPDnyROBRCARSASaAQEJMy07evf8zrjwrjUxc35nrPjLih45J9sMLZQ2JAKvIlBDPaZPnx4/+tGPYv/9949zzjknHnnkkWhvb0+YEoFEIBFIBKYAAklSTIFGzCokAolAIpAIrBsC1BKd3f3x4vLesprHkpV90Z1h7esGah6dCKwHBOSbkDDzqquuin333TdOOOGEeOCBB4qKgsIit0QgEUgEEoHJj0CSFJO/DbMGiUAikAgkAuOAAMVEX3+UJJnec0sEEoHmQ6CSFDNmzAhJM63uIVkmgiJzUTRfe6VFiUAikAiMBYEkKcaCWh6TCCQCiUAikAgkAolAIjDhCCAiEBKIiaeffjqWLFkSXV1dSVBMeEvkCROBRCARWH8IJEmx/rDNkhOBRCARSASaFAFKCat2yEPx7NKeEubRnat4NGlrpVmJwOsRsMIHVYX33BKBRCARSASmFgJJUkyt9szaJAKJQCKQCIwAAYQEgmLuwu64eGZb3PFoR1nJYwSH5i6JQCKQCCQCiUAikAgkAusRgSQp1iO4WXQikAgkAolAcyJgydFVHX3xxKLumP5Qe8x6srN8b05r06pEoHUREN7h9eKLL4Y8FA8++GCsWLGiqCgyB0Xr9ouseSKQCExtBJKkmNrtm7VLBBKBRCARGASB/v6Inr6I5W19sWBJTyx6pbeEfwyya/6UCCQCGxABRISQjnvvvTf22GOPOPzww+OJJ57IPBQbsE3y1IlAIpAIrG8EkqRY3whn+YlAIpAIJAJNh4DFOxAVnT39JcxjTSdHqOnMTIMSgZZHoJIU8+bNi1NPPTUuueSSWLRoUa7m0fI9IwFIBBKBqYxAkhRTuXWzbolAIpAIJAJ/gwBiQtJM77ZKVtTvf7NzfkkEEoGmQWDlypVFQfHcc89FR0dH09iVhiQCiUAikAiMPwJJUow/plliIpAIJAKJQJMhgITo7Yto7+qPl1b1xcur+6KzW6x7kxma5iQCicCgCFhmVC6K1atXl3wUg+6UPyYCiUAikAhMCQSSpJgSzZiVSAQSgUQgERgOAQSFkI7Fy3vj0ee7Y94LPbGyva+oKoY7Lv9LBBKBDYOAMI/u7u6Se0JOCt/ra8NYlGdNBBKBRCARmCgEkqSYKKTzPIlAIpAIJAIbDAEKiicX98Qdj3XEtPva4vZHOmLJit7MQ7HBWiRPnAgMj4CQjoULF8YzzzwTQj16enoKSTH8UflvIpAIJAKJwFRAIEmKqdCKWYdEIBFIBBKBQREQzdHb92qIx+2PdsQ5t6+Os29bHTc93B4vrugtISCDHpg/JgKJwAZBgFpCaIfkmDfddFNcd9118eyzz0ZnZ2eSFBukRfKkiUAikAhMPAJJUkw85nnGRCARSAQSgQlCQJLMtq7+eGpxd5x3x+r43VUr4sr722L+ou4S/pE5KSaoIfI0icAIERDisXTp0rjzzjvjZz/7Wfz0pz+NmTNnxpo1a5KkGCGGuVsikAgkApMdgSQpJnsLpv2JQCKQCCQCQyLQ3dsff365J2Y83hEn3bAqjpu+MmbO74zla/pSRTEkavlHIrDhEJAYc/bs2XHaaafFzjvvHHvttVfcddddSVJsuCbJMycCiUAiMOEIJEkx4ZDnCROBRCARSAQmCoH2zv6478nOOPf21XHGzati2v1t8dSLPdFhZY+JMiLPkwgkAiNGgIri/PPPL+TEPvvsE2eccUZZelQISG6JQCKQCCQCrYFAkhSt0c5Zy0QgEUgEWhKBjq7+mPNMV1x5X1vcMKc95j7XXZYftdpHbolAItA8CFjBY9WqVTFnzpw47LDD4tvf/nYcddRRcffdd8dLL72Uy442T1OlJYlAIpAIrHcEkqRY7xDnCRKBRCARSAQ2FAI9ff1lFQ85KV54uTdWtfdFd2+kimJDNUieNxEYAgG5KJ566qm47LLLYo899igkhc9LlizJlT2GwCx/TgQSgURgqiKQJMVUbdmsVyKQCCQCiUBInGn50ZVtfeWdgiKTZWbHSASaDwFLjD7//PNxxx13xCmnnBInnnhiyU3R3t7efMamRYlAIpAIJALrFYEkKdYrvFl4IpAIJAKJwIZGAClRXhvakDx/IpAIDImAcI+2trZ48cUXY/78+TFv3rx4+eWXM8xjSMTyj0QgEUgEpi4CSVJM3bbNmiUCiUAi0JIIUE4sXdlbVvDo6u4vaopMktmSXSErPYkQ6O/vL2EdlBPLly8vr46Ojlx2dBK1YZqaCCQCicB4IZAkxXghmeUkAolAIpAINAUCL63ujT891xVPvdgdK9v7okcOimQpmqJt0ohEoBEBxIQXFUV91d/qe+P++TkRSAQSgUSgNRBIkqI12jlrmQgkAolAyyCw8KWeuGlue1l6dNmq3ujq4Qi1TPWzoonApEFAHgrKiRUrVpTQjjVr1hSyYtJUIA1NBBKBRCARWC8IJEmxXmDNQhOBRCARSAQ2FALPLu2Ja2e3xd3zOkrYR5IUG6ol8ryJwPAICOewesfTTz8djz/+eCxevDis8pFbIpAIJAKJQGsjkCRFa7d/1j4RSAQSgSmHgJU8nlnSE4te6S0revT1TbkqZoUSgSmBgMSYc+fOjZtuuikuv/zyePDBB0vyzClRuaxEIpAIJAKJwJgRSJJizNDlgYlAIpAIJALNgkBjNIfQDkuNWn608fdmsTXtSAQSgVcReOmll2LOnDlx3XXXxcUXXxz3339/CPnILRFIBBKBRKC1EUiSorXbP2ufCCQCicCkRwApUQiJZCQmfVtmBVoLgc7OzpKL4s9//nM888wzsWzZsrLCR2uhkLVNBBKBRCARGIhAkhQDEcnviUAikAgkApMCgUJO9EWsau+PBUt6Qi6K1R19RUWRfMWkaMI0ssURqCt4WNmjt7c3k2a2eH/I6icCiUAiUBFIkqIike+JQCKQCCQCkwoBJIWkmE8t7onz71wTF929Jp5e0hPt3f1FWTGpKpPGJgKJQCKQCCQCiUAikAgUBJKkyI6QCCQCiUAiMCkR6Ojujz+/3BN3PNoRx127Ms65bXU89WJ3dHbnkqOTskHT6CmPQFdXVwnveO655+LRRx+NZ599NqzwkVsikAgkAolAItCIQJIUjWjk50QgEUgEEoFJg8DyNX1x9/zOOH/G6jjh+pVxxay2WLS8N3oz1mPStGEa2loIrFixIh5++OG46qqr4sQTTyzvkmfmlggkAolAIpAINCKQJEUjGvk5EUgEEoFEoOkRkCSTikIeij/esyZOvH5lXDJzTcxe0Bkr2/tyRY+mb8E0sBURkH+CcuL3v/99/PrXv46jjjqqrOrxyiuvtCIcWedEIBFIBBKBYRBIkmIYcPKvRCARSATGgkBNBjfaY+tx3ofaGvcZ+HmoY8b6e2P5Iy2j8Rifx2trLLentz9eWdMXDzzdGUdfsyJ+c+WKuGd+Zyxf/WrSTOds3L9+Hi9bspxEYCACI+ljdZ+B7wPLGo/v9RyjKWssx4y0fGVLjDl79uzYY489YocddoiTTz45HnjggVi9evXfFFPtqO9/82d+SQQSgUQgEWgJBJKkaIlmzkomAonASBEQM71y5cpYsmRJWBaPFFnMtAG2QfNw25o1a2LRokXxxBNPxGOPPRbirpcvXx7KHO5Yme3JoBcsWBB33313zJgxI55//vnXLcW3atWqss+9994b11xzTVx00UVx3nnnxQUXXBA33nhjLFy4MLq7u4czcUT/sVWdLQl43333xYMPPljOCxe2DrX19PSU+s+dOzdmzZpVZN2WFITdWDf1UW94wHTevHmx4NmF8eTC5THrifa46K41ccnMtnhycU9RV2giWNrv9ttvj0svvbTgBK/HH388tNFwdRirnXnchkVAn9X/9FvLWvo83DXXaK3+0NbWVnIlLF26NMzsK2Mkx7u23StcK14++61u1S5lPvXUU+W6uPnmm8v1e8stt8Sf/vSnePHFF//mmHrsaN/rufT/J598slwDL7/8crknDFcX/yEK2OcaWbx4cblO1uW6VaZrV7nuARQU7gt//OMf4zvf+U784Ac/iOnTp5d7bL0/2h9+clW4x82cObMc49pvb28fUXuMFrPcPxFIBBKBRKA5EUiSojnbJa1KBBKBCUbAgNxAmMNgkGyAzMnloBskc5SHGrRziDi/Tz/9dDnmkksuifPPPz9uuOGG4lhzUAY7tg7kORUccHHav/nNb+KII44ozgx7GjekyU033VRiuffdd9/Yaaed4itf+Upsu+228eMf/7iQG+wcqxPOnloXhAfH/uijj44zzjgjbr311uJQ+L9xc4zzcQ45eHfeeWeceeaZceyxxxbyZP78+WNywJTJaeHgwEa9ETKImenX3xwz7n8iZs1bGXfPa485z3bFy6v7oqu7t9iBoNAGhxxySOy6666x4447xv7771+k5WwcjQPbWNf83FwI1L7HyeUMu3YRfRxijjZSzX+DXQ/1WP2WI8+pN6t/zz33xJw5c0pZ/hvqWNez/53HvYLDjSiUb8F5lW+zH9v0SftQD/ziF78I1+/BBx9crhHndd2OdXOuao/r5ZFHHonLL788LrvssnD9IWCGqkclAdXfMa4v9iAL/DeWzfXlnLBBeiAc1P2ss86KX/3qV7HzzjuXd9e1c7C/3j+Qm3/4wx/ihBNOiOOPP77Y43hk8WB1GIt9eUwikAgkAolA8yOQJAWFxAgAACAASURBVEXzt1FamAgkAhOAAAenEgD77bdf7LnnnsWx/fnPfx7HHHNMIQCQCY0D5erocIoQDIceemh861vfim222Sa+/OUvx3e/+90Sd43oMAhv3BxrMG/28sorrywOyze/+c3YeuutY++99y7OvoF+42ZQb6DPnpNOOinOOeec8m7Qb3aSk0HJUWcmG48dyWekiOPN8CJKSLK33HLL+NnPfvbarOdAksK5kDAciVNOOaXMkG633Xbxwx/+ME4//fTipNhntBunjSKFEoJD941vfCO22mqr8tpl1+/GmedeFA8+8mw8u7gtlq58VUXx4otLSjuddtpp5RjEjXpI0HfhhRcWwomtSVKMtjWac//qYCMGkIKuP9fOj370o0IEXHzxxUWpMPC6VRt9wO+cYv0FieXa1c/22Wef4ihTOeiHrtW61euW00z1hHSgCthtt90KoYfMQ3rYz4uSCumJMJCDwYsD7nXkkUfGL3/5y2I7h77xPPV8I3lHUDgnHBB5BxxwQKmH+9hdd91V6tB431Km71U9ccUVV8T//M//xFe/+tX4/ve/H9dee2288MILYyIXlY3UdS91n9p9991j++23L0TqFltsUT4jaaZNm1aIIHawn+3IUHgceOCB5X6IpEBYUJYhTeyXWyKQCCQCiUBrIJAkRWu0c9YyEUgE1oIAsoCzwtnYdNNN44tf/GIZ6CMNqBU43MI3GgkAknAzlxwTZAYn+v3vf3+8733vi4985CPxX//1X8Fhv/rqq1+bKTUo51xxkMz6+u+ggw6Kz3/+8/Gud72rHIcgMTAfSFKYITWQP/fcc+O2224rDhgnhDNOVWFAz8aRStUrJBy26rCoy29/+9tClrzjHe+IjTbaqBA2nA5ETiUpOAxIDeoOjh6CgpOn7uqBcGEnXEczIwsf9lOlIH5g8+lPf7qU+/73fyDY9IEPfCAOPfSwmPPw3FixclV0dfeUduHoUH5wjNjCab3++utLHLyZbI4gxUuSFLXlJ/e7fkIZc9111xVyghP88Y9/PD784Q+X64mTjqgQhlH7YCUPOPUUE65r184nPvGJ0rfe+ta3xkc/+tH4yU9+Uog55euTNn3eNcmBR8ohGjjg+rvrnnNNTdFIUnCuXR9nn312SRbp+kUKUPpwwl3rVEeu29GSFPZHfjqHXA8Iiu9973ul/u985zvLfYs9jUSLY9zD2Ij0ZAucPvWpT8Vb3vKW2GSTTUpIhjpWzEbaSyph6d6FHER6uB/U+8g///M/l3ahtHI9wrLaDw9kK5IIJsicopqaPj3uv//+VFKMtBFyv0QgEUgEpggCSVJMkYbMaiQCicC6IcABpyAQM+1lpk+4gyz0nBizghQRZkbrjB4HnSPNyfjpT39aZgF9pnA49dRTixIBccFRQkrYqqz5jjvuKAN5M7hmfr/+9a8HJ0t4gpl/hAQnrHHjWJiVNcDneJFls5VDxZlHXAwVWtJYzsDPiBZOFweKLV6ID/YgWw4//PDi0HAqqsOmPqTczs/Jccxee+1VyJ1PfvKTZWaWs6LsitfA8w723TnUzWwu4ocdZpxPO+30OO20M2Kffagqti9khPrDBMHCqdJm8GMLh02dhK2Y9WYvUoXjVesw2Pnzt8mDgOtD2yLqjjvuuHKNuvasHuEa0nfM2gvHqKFT2l4fQBy4tqkOXDvUQj4juKiAhGJQP1AWOYZzL4zDtUeVg5DQ37/97W8XggKRhuSszrf9vZzXvcW1gkhADMjzQgnlvGzQb5Eh9h/pZl/XFRIQ0XDYYYcV5RZSlPpp8803L2qixror23GUDvJiIAIoJ9QBoYDgoZ7y39ryzwxmp3KFdSBv1A2eFBoIC+1AYaZ8xKz7ArLQ9elaF+YGewSpMDmEo7ohb2DjvjkafAazL39LBBKBRCARmDwIJEkxedoqLU0EEoH1iIAZds4xdQPH18t34RUcX46yGT2/mzHkfHCSzdZzWMyKmtEVosBx8m6gLl8ERx554DiDcmSC/c16mjWsMnUziQgBs58IkKpaqNXmLPmNc8bxqYN7x3PKR5v/QTk1ph5BgexAyHhHsnD22c/xqzPKHDwOPyk88oU8W84HRAWChtNTlSewHI1zwQlhDxwpIsjulQnnp599IR6e93yc9vvLYu8Dfhknn3pm3HffqzOs2oQ91BxUMJwuDqbfkBdIDA5dOjm1J02Nd9cClYB+z7HWT5AK8itwljnJiATXG/LL5jrn+Jqld/3p6xRIjkdS+p2T/bvf/a5ctxxvx7jekAyuZeSZPqbPu/YRAkhG53SdN5Jg+pzv+p/rzf9ICrkZEJQID/3UOUayKU9Z+jzCUoiX3CtWzHD/cP26X6k3IgQ54r5jQzxw/Ov15fqmOELKCJNxHSNbkbH1mJHYpB3gixR0L1KG69f9AVGpfhRa8EJEyPVT28O52M/2XXbZpdhM4YLEcO9QdiWJRmJL7pMIJAKJQCIwNRBIkmJqtGPWIhFIBNYRAQN/A2cvA2MkAaelxmpzXKrTbR/OCxWFQbdZWAn3ODL1eP+b3TRzyGHm5HshIDgQHAMDebOKBvLICftWx4Jj3ejs1OpxUjhmZmQRHTX3g8z5o5395NCZxTWLiSzhLMgBwdniYJhN5ryoJwWJjZPFWSNfV3ez1cI6zH4KrTBjKj8GZ4+jMVgdal0a39UL7hwaxIfzKpfj+dJLL8eCxe1x4+yX47DTb43vH3RKnHz2ZfHgQ3OLPeTuZtNhuPHGG5cZYc6aWVlEDseMg5jb1EJA39JnXA/6gD7qRaWEZNCnkQFUExxeG+JRH6ci0L/1U+oHx8st45pHTLo2ERKuY6SGvk0RIByMEy5MRIiC0AU5KRBqclRUxcZgSCMiXKfO6Z7huqN0cE25/4xks59zuN8oAynI+Zcbw31Gn2cLUtU16RqvZbu2KE78775hXyQJQtK9SnnqhWAdTaiHe5V7I7xc+65f9iFk3fPcF9UTaeS82qfihLwQ4iHEhgJLHh+KFPcYZCjb3RtySwQSgUQgEWgtBJKkaK32ztomAonAMAgYDNfZTqtUcEoQChxxZILZS45RlZgbTEvqyEHgzPivlsEx5gRwYDjKjuG0m0WsEmgOEYfASziJPA5UC9QE1bFgrllNzpdBPyfHcRx4g36OGNuU33jMMNV87S/ncSxpPKeOkyMXBGKAZF792cX5qjO97HjooYeKQ8LJ46SxCWnCLsfAy2wt53GkG6cIvma9zfDCFXnDgevu7olFr/TGbQ8vj0NOuSF22e/YOO28K2Pe/KeKSsI+bOBwcdg4bhwxzpK6cYo4S3BMh2ekLTJ59tOm+r5+wBF3XbouXGfINn1a27s+Ob+ccWoI/cWsfSUEXUP6MEddv0HOcfIRGz4jLhzrGqUacC1TMCHmkB7O3ahAYBdn3HVP0eN/+7tuEGpIDgQIomWkm3oiXJAAlFqUHBRErhXKCiSn68d16XyuQfW2CaFgpzq4N7lG1V/SUTYhMBAbA+8/a7PN/shXqieKDvi5H7rmEEDs8D/VinsD2ytp5F6jnZAT7pXqw0b3IiqLsdzX1mZv/p8IJAKJQCLQ/AgkSdH8bZQWJgKJwAQiwFE2cOecf+lLXyrOsoG7QXd1QMy4cgIoDzgFHGuzfjZOhIG1wXd1avzPWXC8/zj0iAmfzTIajCMJzNKa5eVsNTrTiAE5KmrsOTm3MAwSaTOm5OOVRBgNVBwoxAdbzIRyKpTD4TGzypEhJyenr0oEdWAfPBznnYKjkgTqwVnhxFGVjHTjKHKyOJVmqjkqVaoOi87u/nhu8Yo46cw/xM7f3yd+f8HF8eKSpQVvTp7jYUnq7ziOESzV44ILLihl15nZkdqU+00eBFx3rhEqCE660IGauLWqmxBhEsAKR0KCCd9q7BP6v5V2XPuUQohK1yiSATFnf/1Kn0c6UFdw7P//9u7DW7Oqvv/4f/FLskzTJBpNspJlbFkmGGPFWJDEKIIDSFSkg4WOAoKgIFV672XobZih9zLUoc8w1GGY3vvc+f7W68BhPd48t0y/5XPWeuY+5Zxd3mfvM+fz2d+9jz6o3TIzOg0H5gCTQ1+wrzT18TFjxjTvCXj9rbOvD0TcvtKVP/NNhIJ8XbeYMcwP0zYYMMyDzvIoizoxCfQTdXNsG5HFfHFt0pfWpkzqob8yGxhE0pe265LrpHSdC78rn+tdez1x7VBufdb5UyeRJq4h0mKstIbGQGzyewiEQAiEwMghEJNi5JzL1CQEQmA9CBDfzAA31u2ie0YF3WC30zzaEUk35e2cctMl3GS3N9KEEFFP7LjRZmK4KW/Dm9uRUDfpBASRYEST0DGaaSS3dwQC0SAPhoF57AwKq/B7soCQcSKoFRYEGQFDbAhzd9NPmHmJiFAXZVGXtiw+K4vvlN90jzYcnOAg3lqxYx/v8bKvNLw33YKpoR7KycCQrt8IFiKkLY/5/8pDYNmPwCIEmSNEDSFjxJmBIj+CafHiJTX55al16uln1u577l1jr7q6OV/tKW/Fm/Ion7yl71w6h9LGRZmzjSwChK4+R9waiRdNo+9pb/qStqG/aWP6pUUiRT/oU9qK372YD4QxMS3KoTUR9CmCXz9oDQ/vGQGiGUQy6FvS1/7aTduVpj6tHepTnhrk8cTMDdca15y2zSqrNspAYIYQ6P6KyjIdxTVGOW3KwXSQp++ZLfZnyokkaqdotfs7xjVCeZQdD31T2vob41OdpamPeNlfvZWHgSB9L32ZIdheR1zfRC6JktCv5aEuolb0Z+eCYSvKilmhz7f9UPlwaq8j8seS6eEa67qirtlCIARCIARGF4GYFKPrfKe2IRACfRAgdNx8u6m2Or4Rz9aAcDPeebPvRp3gsCYDIdz5u/eMATfZhIjpFIwBgqDdpOXlxlzUhkUr3cS7gfdZGp2b/QgRN+ztQpVWyt9mm20aUUYYMAIILuJB5IaQa2HdFge0n3nf1nlQJ/t0irO2bv4SLxYSNNpMVBByyt7u01mu9r1j1NMItlHo9pGByowrXkaRhdjjau0NCw2ariLUnABiSHiaCmbW/2CUKGdrUhBL9953X51wwol14IEH1c233NKk3Zah91/MWrNIJAXRRhwpa7aRRYDQZlAQyYw7olibIpS1A1vbvxkLRLw2RhDbtG3tjBgnjE07EPnAQPC9l/4irbYfaI/auogNU6NaI7P9vU1XHkw5xomnZ1gzRX9kNjLimJTapD7vvb6r/zE3XROYG8wDhkunCSKftkwEP2OgfXwws9M1qHd0lXrYVz28mBCuN0wZJoX+h5O0HatPMimVx5Q29VUmfdl1j9nh2uC9NWAYFcxReXiJODPNQ6SGMkmDYYNde16aE9Dxj+9NgVFv1wf7965Hx+55GwIhEAIhMEIJxKQYoSc21QqBEBgcATfZpi+YnmFElLAnIISNG0ntFDptikY3CX7rVTiOyHBjLy034ESx392UG2WUfrebciLDTbjpDSIQvCc23OB3bq24IHYIKOaIaRUMFaYDc8WNvP2YFUwCc7rd6HvEoVFjI6xGiUVdGHW1b+9NGoSSdIkOC+qpT7d922PVQf2IP9NP5Ek0Mij8ZhSUOWCqit+Ug2DxFAD5qDMxYwSZSCJocLv2hlvq2cnT6625K2vGvBV1z/0T68QTT24iR5g6Rmn7G2HFmwAjqBg2TAoiNCZFe+aG/1+C2jkVuSOiwZoH2o8pDaJztL/WNLCv6UQEt/Uq2raNgv7GTCDyCXbpGM3v1r6k53t9TgQCE1BfI9h793H7atf6rWvKf/7nfzZGnvarP+iL+qvrhjQJfGlp//q3yCRmhe/06U6TovPsadP6g2sWc9Rf06/0wb42ddbXmYGMGfXujFrAi8lnqpvyuD5JG1/GoiiQ1qRQj/ZpJ86HDQvRH0wO0V4MTBFNzoFral/XFMxcA+XlOqd8zJRsIRACIRACo4tATIrRdb5T2xAIgQ4CbojdMBMHxKzoBOKcKHCDTswTAESEm3o33o6xPzODueBm3U00QWTklTgQgSBygQhvRw0d17n5LF1z2Y3+EiSED7HS+wZevkZarbHwzW9+s4meYI4QOL7vFGOONwIqesFoKuFFtNm/nVph/26byAX7GmU28qtsxF5/m/yYDAwQjzMkwIgT9fNSduU0p99CgwSbchFdGOPDHCF4jLoyigizi6+8ocY/8no99OKSenzygjr9vKtq+x3eeXKA0Wai0jlp82nL6DN+uNjPuiFGgI2MKyfm2YY3gfYcO5/6KoPCFAqGnP7X9lvtQ1vXHlrRLSqBgai9tgac/itSQX9l6InEkE43Q6sV3wQ9cS8tQr6bkJavvqjtMQEYGp6AoZ9JW/nso4zaqz4rKkM0kTLoC8w/Rp5rTl/momNNGROpJNJBP+pmdnaedccwF5g1TAR1F33S1tm1zGcRUowJ5bEPk0d9mA3MSXVwDbTwpak2TAp1wsm1w2/K5brqetJptHTru1iI3sLWMcxF1+hsIRACIRACo4tATIrRdb5T2xAIgXcJuJF2Q04ou1H36LwtttiivvrVrzY324yGdhFII/HEkFFB4likgFFBvxMRxLfoCjfvRhwZGG78ifG+brDlTcyb4jFmzJjGGCBo3KS7ee/c3OyLyFAOkRTESyu4e+9LNMiT6CdUhE57nKq8WvHW+5g2LyYGkaRehL169VX+9hiCy3oPhIxwe6PaxIutFSEEkfzVT7mVy2dCiMmhzEQeIXbNNdfWkUf9pg448vQ64oJJdcxlz9fvzr6lDjzs2Nptj70aoaScjA2GgzTwMWrss3T87lw4h3gxPURV2Jd4yja8CWhPIhQIaKPt1mgxfUgEhCgCYlg7tP4Eo0p/1R+YEkbmTffQxvV97VfbcA3Qfol806f0c32x96aNaafyEElhxJ8QV6bem7bG/JAm0S0PEQ+993Ut0gfasjAPvBiLjAIRD8S9a0a3vqvNuw6ZsqEfMliYMtLta3OMpw61pow6u060ddaf9FHRZOqgPIxG5cFTeeyjjvJjwnjpd47R15krrofOCxNWGvqtTT6uLfq/NNTfdUOdXVtFnjjONdQ+2UIgBEIgBEYXgZgUo+t8p7YhEALvEnBj7EZe5IBRwI9//OP1qU99qj7/+c830QoWuPvCF75QW265ZTOHnIBpw5UJJCOp7WM6jTIaYTSVgVhys94uIOfmu9vGMBA5YUTXCCuzwo1/t40okBfjw2gxodUaAd32J2Ta0Uz19N6rNQ26HeM7AkrkgXqI2iDGeguq3scyBExvIdaMAOPZ29gYTHmIFibCAw8+UgcfenR9Z5ej69u/uKe+e8ittd1uR9bu+xxUR//m2EZ0YidNZWPCEEWEnHUBjPAKpXcOrBfg3BJwBCAWjss2vAkwpQhnJsEnPvGJ+uQnP9mYjKZxtC/rIxjZb9ukPksg67cWxG3XbTCtQ9+1v+lK2rI2RYB3ayvanDbOxNPmmRX6QO8IHcdKg1miHepT8mKWtEZA77Ogj/rNNaN9+dz24W7lcYxrAeNSNImpGQyWgdq6PmRNDIaNY3tPw5CXtKXTWZZu5RH5IMrCtQkT/U00ByPIk0asoyPahAnSXg+ZJK5rIi+UF3NGrOuh8+PpK94zRdrojt688jkEQiAEQmDkEohJMXLPbWoWAiHQDwE3y8SOaAHzpZkRbvK9NwLvBtlNPBFi3QcjskYMGQlusN1YWzDOyC0BQhCZ/kE4CVEmmokiN/rdtjYCgUAQDi0PIr3bZgTTiKfRRaJL5EJvI6DbcWv7nXSNTBv1JaiMpLaioq+0jEIzaVrBRlQMZGx0SwsnQu/5KW/USRfeVj867Jr61oHjasyBV9RPDv5dnX7muXXvvfc1URitIJQPzgwh+TOSiFRrhbSj4kbTmUHrUqZu5cx3m58AsSuyyXlmLlqQUhRBGxUgYsH0LVMriGUCnDlA7DKyTPkQ3WB/05oYFN7ry/oa85I477bp0yIQmGDWWNFn9OXexgODwveuI1tvvXUj4Jlp2mFf14Ru+Q30nSgDdVIW60IwM02vGmhzrVG2dopWOz2kmxEyUFquo6ZviVjy5BRT0hg++iLT0/VQGTuvh/otM0OkhWum6LO27zoXfmNaSLuvczFQufJ7CIRACITA8CUQk2L4nruUPARCYD0IEBVteLFRUaLWYo5u8o22Gh0kVggbL8LYMQRGO8rYLorn5tzxhLI1F9yA9zUS2xaZySGU2Shuu1o+86Pb5mbdvHsmiEXrGAMbIwTadBaizZoURjnVYSBBZR49gaQOjsdkIGOjWx0FOKzuWVNTpy+t8259s/Y/46na/Zg76uATrquzzr+8HnjgwcbEaflLQ/kIVpElBOtWW23VPOKRYCV+hJsTp8qzLuKrWznz3eYnQFCL9GHuWfuFIBYZIRqJYcU8ZDa00w6YbUw9/ddf/dPxDEkj/Z7Uo/0yIQeaEqTfMSnkR0ibMqLf9u4n9hMd4NpgOoprjLa6oQW3axQTTpQXHhafFSUx0GYf1zpRC0yb/iKzBkpL/ZkQTI9Pf/rT9Q//8A/15S9/ublemZLjWtr7eoib6wZjwjmwHpD+yzASzcLs7DQ1BipDfg+BEAiBEBhZBGJSjKzzmdqEQAgMkgBRwXwQGeGG2Eggwe2GmrAlMnoLj95JGxUlyk2LEH5uXYp2IciBjnVjb30Go7zEUX/i3vxuo5GiAhgBxI+yb+hNPsKyzbEn1gaqg/zV11xzxon36zpSzKBYurynJr22vE66aU79+sq36sq7Xq8Hn3y1Xnhp6ntmQ2edCT5CRrlxMR/eAoLC8dtz0UZddB6X98ObgHNOFFu/QCSUaAamRDt1QJ82Ak/A68cEcmtUMSocz6gQLSRCyl/HEu7tfn0R0u+0dX3RNYO4l2ZvE0y7Uwb9lsHYLpipzfbet6+8BvO9uul32r+8XEsGihqSPwaO8ehWJuhAx/RXFoar6waTV9SIaCzmKz4MpW4mDtauu/ibniUyhsGiTK7Bft/Qhk5/dchvIRACIRACQ4tATIqhdT5SmhAIgU1IwM06IU5ktC83xr4bjJBoj3cMcSONwR5rX8LAyK4XsdGXKeB3kQ1GHxkUA432ritC5SF4WuE1mHSUmygkCNVpMNy6pcukWLK8p16YtrIuuW9xXX7/onpp2opavHR1rVr1zjnpdlx7DvAnDL3W9lx0SzffDV0Czrk+p7051+35bvtu2wft1746a9Me3x7rr2N9P9AmT31ElIa/ju22KYO+wfi0LgUTsxXeg8mnW5rdvlMehoMoDUZLf2tetMfLn9niGFEYIk2ks7abdBzHELT+hGim/fbbr5kih43f2nPRO+32WAYGk0O5vdd/B3sueqeZzyEQAiEQAiOHQEyKkXMuU5MQCIFhRMBNuhv4Vmx539fmZt+IMDHCSCCMHL+hN2UhXtYmfccQFsq4PmV6Z7pH1YKlPTV1xqp6ZeaqWrQMow1dy6QXAutOQBvXRwhqf/tq877Xp5l3oqQYf2vTrwZbQvnogwwR1wd9sa8ydaapbI4ZqB6dx/R+r8+rnygK026sbyFihJk62MiMzmtOf9fA3nnncwiEQAiEwMgmEJNiZJ/f1C4EQmCEECA82tfGrNJgBM7GzL9nTdWKVWual/fZQmCoEWj74WD6in2I78Hsuz71bMu0Nmm0x6xr2ZguorruuOOOZn0Pi4maOiLyi/kw2G1d8x9s+tkvBEIgBEJg+BGISTH8zllKHAIhEAIjmoCoio0QKDKimaVyIbCpCbSRFNbksUaHhWpN/WJQxHjY1Gcj+YVACITAyCIQk2Jknc/UJgRCIASGDYGeNWtq2co1NXPB6npzzqpmqsfqTO8YNucvBR3dBNopI4yJl156qVkvxxSSbCEQAiEQAiGwvgRiUqwvwRwfAiEQAiGw1gRESpjWMXtRTz328oq669llzToUvssWAiEwPAiImGBWmPqxvuvSDI8ap5QhEAIhEAKbgkBMik1BOXmEQAiEQAj8AYH3TIqFPfXEKyvqvueX12uzVtXKmBR/wCkfQmCoEWBKWBjTQp0bYzHQoVbflCcEQiAEQmDTE4hJsemZJ8cQCIEQGPUEWpNi7uKeen7aysaomD5vda1anUiKUd84AmDIEhA54akmb7/9dvMIU08HYVpkC4EQCIEQCIENSSAmxYakmbRCIARCIAQGTWB1zztrUsxetLrenr+6Fi3rqTzRY9D4smMIbFICzAjRE1OnTq0bbrihrrzyymYtCo89zRYCIRACIRACG5JATIoNSTNphUAIhEAIDEhAFAUzwt/2fft5wIOzQwiEwGYh4Kkdc+fOrSeeeKJOOeWUOvbYY2vixImVxTI3y+lIpiEQAiEwognEpBjRpzeVC4EQCIGhQ6A1JFauXlNLV6xpFs70XbYQCIGhT0AkBUNixowZ9eSTTzYGhWkfFszMFgIhEAIhEAIbkkBMig1JM2mFQAiEQAj0ScCimAuW9pS1J16ZsapmLcgaFH3Cyg8hMAQJtE/zYEx4ZT2KIXiSUqQQCIEQGAEEYlKMgJOYKoRACITAcCBgkcxnXl9ZE55aVmMfXFyPvry8Fi9PKMVwOHcpYwiEQAiEQAiEQAhsKgIxKTYV6eQTAiEQAqOUgCkdFsmcOmNVXf3wkjrnjkV14d2L6+HJy5vFMkcpllQ7BIY8AZESFsacOXNms2DmrFmzMr1jyJ+1FDAEQiAEhj+BmBTD/xymBiEQAiEwpAm88xSPnsaUOHzsvDr+pgV1z3PL6s05q5p1KYZ04VO4EBjFBBgUFsu855576pxzzql77723PHY0WwiEQAiEQAhsTAIxKTYm3aQdAiEQAiFQC5etqclvr6obHltSh105r869Y1G99NbKWry8p1ZntkdaSAgMWQIWxrz//vvrzDPPrF/96ld1yy231Pz584dseVOwEAiBEAiBkUEgJsXIOI+pRQiEQAgMWQLT5q6umx5fWmffS7JJKgAAIABJREFUvqhOuXVhTXh6ac1Z1FM9PVXxKIbsaUvBQqB5isfvfve72nfffeuXv/xljR8/vhYsWBAyIRACIRACIbBRCcSk2Kh4k3gIhMBoJbB69ermZv6tt96ql19+uZnPbVRy4cKFA87pXrlyZc2bN6+mTJnSjGI+8cQTTVpW1h/s1s4lnzNnTr3yyis1efLk5q/PQri7peU7K/bL+7XXXmvynzp1apmH7tGDa7uSv3oYdX3qhbfq/HFT67Trp9bld75Rj704txYt7f7YQtyWLFnSzIHHzevNN99s0vFbthDY2AT0AVMa9JXZs2c3fXawbW/p0qU1ffr0pv/oQ9KQ3mA2/U8+plfor4899lg99NBD9fTTT9frr79eixcv/j990DH6mTxdJ8aNG1djx45tXnfeeWdznL7brb93K5Oyykd+jzzySJ188sm1zTbb1I9//OMmmkIe+mfn1vLSV++44466+uqr6/LLL28MjUmTJjXXj8Ey6Ew370MgBEIgBEYvgZgUo/fcp+YhEAIbkcDy5cvr1VdfbUyG6667rm644Ybmpt/N/0CigUh46aWX6tprr60DDjigTjjhhEb0DFZoqBbhwhB57rnn6uabb66rrrqqbrrppnr22WffE1290yOQlI1AuvXWW5tjlPupp55qxJY0ex/TH0L1kNb4Ox+uky66q067/L4af8/jNXkqBsu7Hir/VnBdf/31hZ358ASQ37KFwMYmwGjQT/UdBgGzQX8ezMbQe/DBB5v+I+pAGtIbzKZvyef5559v+t4xxxzTRC+ceuqpddttt9W0adP+j+HhGKbBww8/3FwnxowZU5/5zGfq3//932vXXXetCRMmrJVJoI8xVm+//fY64ogj6utf/3r9zd/8Te20007F9LCAZm/DQf5vvPFGXXPNNY2Z8fnPf74+9alP1Q477NAYG64fg2UwGE7ZJwRCIARCYOQTiEkx8s9xahgCIbCJCBAMohQYDAT2b37zm9pjjz2aG/ydd965fvazn9UFF1zQRAb0jkpwLFFP1LjZP/zww5vjttpqq0aoiKqwz0AbkWP0l2g544wzav/992/S+d73vteIltNPP70xS4ipdnTYXyLimWeeqYsuuqgOOeSQ944xgnrsscc2oosQYVQMtBEthBaT5cgjj6wf7bJnfet7u9a239+z9th737rs8itr1qzZf5CM/EV8EGPHHXdc7bPPPvX973+/dtxxx0b4nHvuuY1Y7CsK5A8Sy4cQWAsCbb+dMWNGYypaIFIf2HPPPWu33Xaro48+umn/3Ywyx+oThP1dd91VDIXdd9+9fv7zn9dZZ53V9MOBFpqUhuuB9n/jjTc20Qu/+MUvmn7PqDj77LObqAQRRZ0GgeMYKKInfv/739fBBx9cBx10UGNsut785Cc/afozk4Bhaf++Nv3KdePRRx+t0047rTl22223rS233LI++9nP1oEHHlgPPPDAHxgeyiJd6Vuz4tBDD23ytq+y7LXXXk0/ZnRmHYu+yOf7EAiBEAiBbgRiUnSjku9CIARCYB0IECvEP4PCDfp//Md/1N/93d/V3//939c//uM/Nn9/+MMfNjf1rUFAOLjZJ+yJFGHSRM4nPvGJZgTzk5/8ZCMQRCT0JzL8RugIFX/yyScbsWQUVL4f/OAH6wMf+ED90z/9U/3gBz+oCy+8sDFSWsHPHGFAXHbZZUWYfOxjH2v2f//7398cs/XWW9evf/3revzxx/uNZlAGDIipq666uvbee59mVPfDH/5IfeTv/r55ffBDH2oEnCgTm2OwIBCN+h522GH1hS98oT784Q83r7/6q7+qP/uzPyuia+LEie9FgazD6ckhIdCVgP6n32hfv/3tb4sx+JGPfKT+5E/+pP7f//t/tcUWWzSiW/tsxXbb30Qe6PP33XdfYyx+5Stfqfe97331b//2b3XUUUc1pgch398mfyad6AXm3He/+93GoBPJcMkllzSmpSiGzkgK+TtOlBFTgJnIkLz00kubfmSaBqPjpJNOaow/BoRjum2+V0ZTMxgr//3f/12f/vSn64tf/GJ9+9vfbowahqfpJ+oqX1vnNWu77bZrIieYoDjhofz/9V//1ZiljssWAiEQAiEQAoMlEJNisKSyXwiEQAj0Q8CNfjsSevzxxzcjikSCkdBTTjmlEQxu+n/0ox+9Z1I4hjgh6oWGO64VHIQSk4GpYJTSPn2JDMUi9JkNjIQ2f4LfKDDhRcDssssuzV8jxaIm5O24F198sREnVu8XwUFceBlN/ulPf9oYBN5b5Z8w6WsTxSGt62+4sY753Yl1wMGH1WGHH1EW3jPCLK2Pf/zjzSgtVjZGCfFFbJ144olN+YzIit4gtESf4OZYwqdbuHlf5cn3ITAQAcaeNVgYBNqpCACLRDIL9BfRPAwA/VJkkDUmbK2xIYrg/PPPb6IetFGi/C//8i/rq1/9al1xxRWDmqZEwIt80keYcaIhmJUiF0RWicwSMSEio43A8t56MRdffHFTTotaisByjGldyvK///u/TVQE88Vil92uH75zDZAWg0IEyH777ddEgYn6UmfXJsanNXVcM9oyiB4xjYyBiY8IDJEYIkq8Z9Qqg7owgbKFQAiEQAiEwGAJxKQYLKnsFwIhEAJ9EHDTTqAT2kQ+oSP82uinCAUCgcA2R5vwIWxEHBDo5r5bbM6oK0FkeghDQZg5oWQ9CgLKTT5B4eU4IoVhIN/WoCD8iQZGCLFhRNM0EWW49957m7Bx4l/4uLn2Rk+JLiKEECNshGYbURXabpE8IoUAUidpMEIINCPI6qUM8vdSRqHnhx/x69p7/yPqyOPPrdvveaTemDa9Fi5c1ISyf/nLX34vkkJdlMHigEZgrb9B8BA5BJBRa9M/zK1nXNx9993N99hlC4H1JaD9ac+MNf1VH2DUEdXanXVZvBeNwKRjOjAU9Dlmmf7BJNBnTafSfrXVj370o810KYJdP9U35OU6oe+2fdZ3NiYEg2DvvfduIpn0UdcI/Uk/097bNNo6izxiSLg+MAKUkUFpPQxRDyKivERHiVpq85S/V5umdDHQB11zmCymqbnmOI6Bo487RvnbMrflxstxTAn91vWmvQa5nrke6rc4ZAuBEAiBEAiBwRKISTFYUtkvBEIgBPog4CaeESDUmtBxk08sWACyHXkkWJgURkqJG8LAyKSpIUwJo5ciIJgCVucnWNz8E0lEjHRsRIW8rLxvdJPJQej7zqr6IjcIB2HiRkflQyDYX0SG9R6MkIqkEJ3BPPE9U0PkgoU1CRMGBMFBqInGEFlBFDEOiCdlIj6Uwb7ysT+z4fs/2rN2+vnJddR5D9a9T02vmfOW1cpVPY1pIjpEfQkgdWFGnHfeeY0ho2zEkXIRVUSRPJgujBJME0nRRyPM12tNgNnGoNBvRBtZP8VCrS+88ELTLkUxMO3aSKgrr7yy6dPMQGacvibSR8QSka7fasPauP4sbWaAdqytu05o247Xj3xvM41CnxB9YZrF9ttv3+TZtncGQac54BjRR+36LaaH6aP6vL5vHRfGhfK57uifrRnhOGVgtuizris+u+5861vfqn/+539u/mJhwV39XLm7bfgot0U1GSPqz2xhrpr2go3rh/RjLHYjmO9CIARCIAT6IhCToi8y+T4EQiAEBkmA2UDsm65AMDABfEeEeBEZBAfhYNRVFAPjwM270Vk39UZPCXLiXei3qAaGhygH0Q5ERis05GXk19oS0pWONEUhMBuM7hqJJUKIG6OxjjHaqoxEGUOBiGJQEFkMkjYvxzAJCBQizW+OJaaM4DIyiDkiSPkJHyaJ8hNLP9j1J7XvMWPr/AnT6olXltfsBatq6bKVNX78hGa+u1Fp9SSelFMUCfPGqK+0WlGmHKJMmDtMitYQwSFbCKwPAW2LQNe+GHDaIEPQgq+tscgA1M71Ne1aX9CviXP7apOmOXivH4qkssCraAoRDvqlTXvVhx1nYUyGACOkzaftuyIP/ud//qe5TkjbIrYiHOTZrgPR1rld5FNUlAgO5TBN5Jvf/GZ97nOfaz7rz+2xrkPMEXVgjDIcW4PTX9+ZWmaRzG984xvNoqHqIBpLn3QNaU2VtgyuIa4BDFXXB0YPg+RrX/tas64H09M0FQYF3tlCIARCIARCYLAEYlIMllT2C4EQCIE+CBAfRluZBAQNQ0B0g80NOoEiFJoZQXwQQoS4EUrTKggGUyxEXhAVjjcKaXV+vxEzbvIJBWaAUVuL23n6AIFE5JiKwdiQh7xaY0MZHE9sGB014il9+RD9RkLNHSdSiBjmhE1ewscJJXUySktYKa9wboLIyKs01ad9mogokpNPOaPG3flovfjGwpq7uKcWL11R8+bNb0ZmhcXjxKSQFtFEIAoLNz2GcaGuXkQRoWUhQUaK/Ym1CJ7mFOWf9SCgbYlm0L4JawLb2g2ihFoTTBsVHaX9W8fFmix+F/0jGspnEUr6DcPPmhBMQO2bEWixSlvbl6w5IeqAWWlffdD1QZoim1qjQ/SBqATC30vf6h3NIE3HizxioLgWWLySySCSQ3mVy376jH59yy23vDcNRBmZKhgwM5UfCxzkqR76nOuFa1BrHnYiF43hWiN6gtGjbh49Kn/HMoCkn/7aSS3vQyAEQiAEBkMgJsVgKGWfEAiBEOiHABHRhn0LA+8U+yImRB4Q9m7cGQx+J5LcvDMriAQiojUtjLZaA4KQYEC0odIEB4FEODEWiHv7MhPky6BgOhBQ0rXJh/CXvygLI6/Kw8Ro56ETOASSstrfpkzCyY2UmsJBcLQRE8SO6Ap1ll47LcRCoRYffIfBq7VsuTD1aoSKPEVKGHUVvWH0lij0Xh5ElagKdbThQeQZdSYiRZrIP1sIbAgC2plIB22bccZA0CY7R/2Zb9oz4d459UE/IdCZC/osE8DTd5gZzDYLaTIv7GeTlz6pr+hr+qn0TF2Snz7HGPFev5W2/UUiiJDQ30zBavumNF072nwZIqZ5MAlEYrg26LuMUvs5Tn/ynWgJ06cYEfq/MtpH+q5jymU/pqVrFS76rWuMa0Ln1jJkYogeUzfTRZglTBjTzeSbLQRCIARCIATWlkBMirUllv1DIARCoBcBo4nmkVvckRgnXFpBQXC48Sc4jE6KHBCqTRjYWhHhLzPBDT/BLiKB2GmjB+zbig0RFwQUESCyQiQHUUHQGFX1mYCxET7yM9opnFzaxBgDQLlNPzF/vtMMcZwRUNNGTF8hroy0EimiMtTJKLPvCD37MhPsa06+aSGdkRztehkYMBuILmaLUWBGDC6MjTY0XP6Olw4GIkqE0atHthDYEASIctFLhDhRLyKp92M6GQ3tE3GIdKKfmdAaCvpY28+lpR+JZmrXYWiNQvszNBgZjADrRDDcCPj2OtBZJ+nqH9q+iCV9W9v3fef+3uuP+iCzkmkpsolh4DrUGgT2U055mpLlGsNYxEDZbMwKx/hN+RiIjEvrcDARpa8OnVt7PZKOa4pIjC233LLpr64nndfBzuPyPgRCIARCIAQGIhCTYiBC+T0EQiAEBiBA7Fs3wWimm3/ixM0/kWCKBBHOQHATb4pFO8LZO1kjq9Z4MBpr+ojoBeKkFRJtmtJnPvjcRl947KCpJEZ+5dkKGoaGsG7mgBFco67yYSyYIuI7QohAkR5B4zeiy2grE8NIqnTkKV318vJ+dU9PEzFxzc131a4/P7qOP+3iemLS8zVv/oJauXJVw4LAw0b5hLHLi+AxvYMZY7RWXYmtlp31MFqzRtSG0V3lyhYCG4KA9idyRySP6CMmG7Ft07a1d4aiqAMRUAyGtk915t/2QVM/mHQMNREKraFhX31K39FXGZFe8vB9t833jEDmoP4pCqqbSdGmzTxkjLTTuZTFVBDl7dxEPkhXPeXPZGjL4DNjhCnKgNT/mBX6vr7rusE47LYxSvBipuDlGsSYbA2cbsfkuxAIgRAIgRDoj0BMiv7o5LcQCIEQGAQBazxY5NJIpggHYoTYJoQYBIS+UGwRBL4jbLptRDozwY2+UdR2Zf1WSEiTUDfqSfS0I5kEARFPTDm+06QQjUA0MAiYJUZHCShpGS01BcTUktakkKZ8jaBKj7kiyqEddSVmiCxleEe0VS1bvrquu3ty7fnb8XX8RffVo0+/XHPmLqily5Y19RVJYl0JIk6eRBVGRm2FyIvyEFWhHoSUF24W02zXyyCefJ8tBDYEAf1Imxehw6SzQGZrUoioYOCJsmASMAz7mmrUinttXHtleFhfopuhoR/rX15tn+5WF78R/RauFP3EKFAmx3Xb9Cfmpr4iikJUg3L1zsNn155u+ftNmV0XvKTB+DAdhkmBj2tXtw03kROMDJFRrh3Kmy0EQiAEQiAE1pVATIp1JZfjQiAEQuBdAqIOjPab6mDUkxEgYsJIrO+s3WBeu5Fb4qH3RiAwHYzWWoDuhz/8YZNOOxrqGDf9RkgJJ4tYEvtGVwl3gksYuQgM60IQ/ISSkVDRCOaKmwZi8cxWwBArRBoBQqQRWebBi3qw5gVzwm/emz4iL78bcVYGosV3C5b01OTpK+ui26fVPic9WoecdEtdcNn1df+DD9WjEyc29RAtwahhkhillbf6MkOMvoqk8FJueVgsk3nhKQnK7Tt17D0y3JtjPofAYAnoN0xBfYlRp51rm8wB/ZfZx7zTZrXL1sDonT7DTvsUJbXvvvs21wGGWmsE6CP6lOkS1mlwrWAqtKYAs89nfUL79ll/I/j1QcaDKCntv9smH+aB8lvvhaEhWsL30nTtUB79TJ8V5eEaoP5eDEv528/+oiIYMvogk9IUNo8Ibs3FbmWwvzLaj7nqOiXdbCEQAiEQAiGwrgRiUqwruRwXAiEQAu8ScJNOyBDvHq/JsDBCaxRWBAGhbUqIaRaEQO+NoCBOmBiMBhEHRjF9ZyNQREcwOj7+8Y83j/cj6u0vIoHg8btwb0JFmLj1JERQMAeUQdmUU/72txEvzABizKitlfylKw2PMjQXvY0MIeD8blG8j33sY42RMmnSM/X6rJU14amldfJNM+tnpz9Tu/zi/Prp/r9s8jMKK4LEwoTSF3FC1NnUWb2INr+pM0HIVBEyL5pEuQg73NoyNwfnnxBYTwLaE3HODNDetW1CnEEhsmebbbZpFpkU/cS4YKp127RNBp+2y4wTRWB/6etr+qg+NmbMmNp6660bIc981P7b9ST0S2Uh7PUzxgmDTh9w7WAs6OfdNlEP0tPfmaFM0tZQUWbvlU99LKopPVFKjA3Gp0V8RTB5Lw9lF0WiLl/60pdqt912a/ZXz74YMBtFm+jHoq6YrQyQbCEQAiEQAiGwrgRiUqwruRwXAiEQAu8SYCa42TflgiBhFhiBNBLKWGA4EB9ESTex7ebffHCL2tmfUWEqhP1txAMhI4qBgLcPoeGYVjgQESIlCCzRG8pA5Pvru3Yl/86TRqiIwCCsLGopVFskhhFUgsOaEcSLEV4jwgQIA0bkxVlnn1tTpr5Rj05ZVqfcurBOunlenT/hzTrt4vH129+d2ESEmGJywAEHNMeoGzFEVNlw8J4oMmpL5Jkuo+64tYv1MV9aDp1lz/sQWF8C+o4oCBEA1l/Rb0QyMRq9GGbaHwOBqdBt0y9NsXCcfsaI069ak4LJx3TQF/RHbZ1xIL227TM09T/92n4iO7xcS/RBER9tP+9dhtboY0iaGiKSQV+VvmMYH0wH6VnY07QQEVTWl9D3mTP6nfIzMNrrhj7oWiAyw7VNH+yLgagt/dZUF/mbYoZZthAIgRAIgRBYVwIxKdaVXI4LgRAIgXcJECSEvJt5o5ZCxQkCIoM4J2QI8m4GhST8JqqBmUE0EE1u/NupIdJ202/EkhFCWBE6vm/TJEha04HBwEggeIgSTwFhdPQWGT7LgxATrs6kYCrIn5Bp81BG+RshNdrs9dwLU+qNGYtq3JNL6qBL59bpExbWY1MW1iNPPF9jr7qmET1EGQHGIGnNjra80vRe/sLPLZxJaCk3w4KYI+LUq/OYd5HnTwisNwHtX5/Rn0QQWVNi2223bZ7QISKhfaJN737TmbG2K2KISDedwsK5rRnpOL+7BjAYTYmQZtuv9UtGiCiir33ta7XFFlvUv/7rvzZPCmofEcqE6C9/hgRjRF//zne+01w/XG9cG0RyiGgwfYR54Akm1o5wjOgLfV6U1Wc+85n6l3/5l/rUpz5Vn/3sZ5soKiaNPslYVN7++qBoEQaFJ6EwetS3jZjqZJX3IRACIRACITBYAjEpBksq+4VACITAAASMWjIqrAXhRt26FARDN4OgMyliwsgmE8JjD5kA7XoU9iNSiA6Cxagqwd97ZNU+vnOc442emhsuTZEendM8OvMmPpgRhAwzQYQGg4J46zQI2vzNd5f/mzPm17OvL62bHl9Svx+3sG56bEm9OXtFzZg1tyZPmdKEzSuDtJSpL6Gj3AwQYgg3xxCNxF0r9jrLm/chsKEItCaZNq2vihSyjozoBYac/qbd97fpC4zDdr2JTmNP+q4J+iwTUjSV3/VFm/dMA8Yms4JByUxgZugD+k3vft67LMqojzlO9Ja1L1xL9Cv5K7++rH+7Figvk4KxIIJiq622ahb9ZayasmGqmMgqxodyD3TtUh7pigQR/cSokVein3qfqXwOgRAIgRBYGwIxKdaGVvYNgRAIgX4IEAUECGHhRSC0YqGfw94TE27sCRevbqJe+tLz6mvzm3zbMvRlTnQe34qZ9hjH+6731pn/nEWra9JrK+ruZ5fVuCeW1tOvrajFy5Vt7Rm06XbmP5hy9y5fPofA2hJo2542L6JJv/N3sO2PiGdAiJBgBjiuc2vT933vNP0mX0YGM5N5wLCTv+/76+dtHiIlmBmmh4nWYD70Ngjaa4L8pau8TBVrWFhjhjkimkrkEsOGqakMjlPGgTbTzhg8zBYRYP2tXzFQWvk9BEIgBEIgBBCISZF2EAIhEAJDgAAxQES0Qn0wAmVzFnv5qjU1Z1FPvTV3db0xe1XNXdRTq/5Qn23O4iXvENgkBPRZot70BsJ+MKK+d8GkwWxYl+Mdy5RgcIjUEEXhu742v1nE17Su9qk/7UKaDBrXn7W99jBqREJ5MVjVZW3T6Ku8+T4EQiAEQmB0EohJMTrPe2odAiEQAutFwPhqz5p3Xz3Wl1iv5HJwCAxbAoyJdTEnOiu8Pmk4linAgOivHH5jhJhO4qkdpod4eglzY10Mkrb8bf7K4H1/ZWiPyd8QCIEQCIEQ6I9ATIr+6OS3EAiBEAiBEAiBEBgBBJgYppNYL8citWPHjm3W0BnMuhMjoPqpQgiEQAiEwDAiEJNiGJ2sFDUEQiAENheBVavX1PwlPTVzwermtWBpT60SSpEtBEJgWBBgUpiKYf0Ji31OmjSpWRgzkQ/D4vSlkCEQAiEwqgjEpBhVpzuVDYEQCIF1I7Bo2Zp67s2V9cALy+uBF5fXC9NW1uLlayo2xbrxzFEhsKkJtNMy2gV6RVVk7YhNfRaSXwiEQAiEwGAIxKQYDKXsEwIhEAKjnMCSFWvq5bdX1ROvrKgnpq6oqTNW1dIVsShGebNI9YcBAeaEp3q0a1b43L6GQfFTxBAIgRAIgVFIICbFKDzpqXIIhEAIrC0BUzvmL+2pGQtW19vzVtfcxT21cnVMirXlmP1DYFMTYE6InvD0jkRObGr6yS8EQiAEQmBdCMSkWBdqOSYEQiAERhkBy0+sWLWmiZ4wzWPZyjXN0z1GGYZUNwSGDQHREgyKV155pa688soaN25czZw5s4mq8Fu2EAiBEAiBEBiqBGJSDNUzk3KFQAiEwCYk0E200DHvvaqa9Sc6P2/C4iWrEAiBtSQgamLlypV1zz331I477lgHHHBAPffcc4moWEuO2T0EQiAEQmDTE4hJsemZJ8cQCIEQGFIEWjFj3nprVjAjrDnhiR6e5GFNilU97xgVQ6rwKUwIhEBXAm0kxdSpU+uKK65oIilmzJjx3toUXQ/KlyEQAiEQAiEwBAjEpBgCJyFFCIEQCIHNRYCQWbRoUb322ms1ffr0ZpRVWTxydMb81fXitFXNIpmzFvY0UzyYF9lCIAQ2L4H2caKe0LFgwYLm0aJ9rTchmmLhwoVlX8dlC4EQCIEQCIGhTiAmxVA/QylfCIRACGwkAgwK0RNPPfVUHXXUUXX22WfXtGnTqqdnTS1Z3lOPTFlRl9+/pCY8taxeemtlE1HR07ORCpNkQyAEBk1g/vz59eKLL9a9995bt9xyS02aNKlZHLNbAm1ERV8mRrdj8l0IhEAIhEAIbE4CMSk2J/3kHQIhEAKbkYARVmLnuuuuq6985Su122671QsvvFhLl6+uaXNW17WPLKnfXj+/rnhgST33xspasKSnYlJsxhOWrEPgXQKvv/563XjjjXXqqafWMcccU+PHj2/6sp8ZjyIn5s2b1xgXoicYFdlCIARCIARCYLgQiEkxXM5UyhkCIRACG5iAMPFnn322Tj/99Npyyy1rn332qZcmT6635q6q+15YXufeuahOuGlB3fb00mbqx8pV7yykuYGLkeRCIATWkoDop6OPPrr23XffOvLII//ApNCvJ06c2CyYaT2KTPNYS7jZPQRCIARCYLMTiEmx2U9BChACIRACm4eANShuuummOuKII2q77baro47+TU2Z+no99eqKuvDuRXX6+IV12f2La9LrK5pFNDdPKZNrCIRAS6CdunHXXXfVTjvtVD/84Q+baIpHHnmkWZvC+jLPP/98nX/++Y35+NhjjzXfZy2KlmD+hkAIhEAIDAcCMSmGw1lKGUMgBEJgIxCYMmVKnXDCCU0ExSGHHFJXXHl1TXltZt365NI6bOy8OvP2hTXx5RVl0cxVWW9vI5yBJBkCa0eA2bB06dK65ppr6nOf+1xjVEyYMKHeeuutZoqHPu03UVE/+9nPmjUrGBeZ7rF2nLN3CIRXTPt/AAAPTklEQVRACITA5iUQk2Lz8k/uIRACIbDJCRAs1qMwykrI7LzzznXuuefWxMeeqOmzF9b9Ly6rM25bWLc8saTenLMqT/XY5GcoGYZAdwIMB0bEOeec06wjY7qHRTOXLFlSs2fPrltvvbWZ/rH77rs3fx9//PHmyR/dU8u3IRACIRACITA0CcSkGJrnJaUKgRAIgY1GwGgssXPnnXfWmDFjmtFY7+fMmVvLV6yut+evrmdeX1mvz1pVy1asqZ6subfRzkUSDoG1ISBiYty4cXXsscc25uJpp51Wb775ZmM6Wkzz+OOPr+9973v1i1/8om6++eYmwsJCmtlCIARCIARCYDgRiEkxnM5WyhoCIRACG4CAhfReeOGFuvzyy2vXXXctUz2efvrpWrFiRfWsWdOsPzF3cU8tWr6mVueRoxuAeJIIgQ1DwGNHTdE6+OCDG6PCVI85c+bUrFmz6oEHHmj68vbbb19nnHFGPffcc40ZmUePbhj2SSUEQiAEQmDTEYhJselYJ6cQCIEQGBIECBph4SeeeGIddthhdeGFF5ZR2FbMCJwQPZGnFg6J05VChMB7BB599NHaZZddao899mgWvX311VcbI4IhcfHFF9dPfvKT2muvvZpoC48XzloU76HLmxAIgRAIgWFEICbFMDpZKWoIhEAIbAgCDIlTTz219t13v/r9KafWhDvurcmvza55i1bXqtWZ27EhGCeNENiQBKwhM2/evMZc/P73v9+sJcOw8LhREVBvv/12s8bMddddV9dee22JuFi+fPmGLELSCoEQCIEQCIFNRiAmxSZDnYxCIARCYPMSMKoqWsIjCg844IDaccfv1yWXXVFPPPtqPTllUU19+51FMjdvKZN7CIRAbwLWkGE8XHLJJcWkOPTQQ2vq1KlNpETbr5kVoifmzp3bLJaZKIreFPM5BEIgBEJguBCISTFczlTKGQIhEALrScACeqZ63HPPPbXffvvVbnvsVdfeNKEee3FW3fbU4nrs5RW1aFkWoVhPzDk8BDY4AZESN954Yx133HHNuhMXXXRREz3RmRFTQh8XdWFx3GwhEAIhEAIhMFwJxKQYrmcu5Q6BEAiBtSSwdOnSJopi7NixjdA57Fe/rjvum1hPv7Kobn1yST00eXktXBqTYi2xZvcQ2OgEPHbUkztEQJ155pl1//33NwtmmtKhXzMmEjmx0U9DMgiBEAiBENhEBGJSbCLQySYEQiAENjcB89fvuOOOOvnkk5sR2SuuuLJenDy1Zs5fUa/NWlXT56+uFauyJsXmPk/JPwRaAu1Ujmeeeab233//2nPPPZtHizItPHrUlA/Tt6ZPn94YFe1x+RsCIRACIRACw5lATIrhfPZS9hAIgRAYJAFix1QPc9oPPPCgOuuss8rCex5fuGr16uZRo80TPQaZXnYLgRDY+ARM21i4cGETOeGJHnvvvXc9/PDDNWPGjJo8eXI98sgjdddddzWPFF62bNnGL1ByCIEQCIEQCIFNQCAmxSaAnCxCIARCYHMSYFAQO57qccwxx9QOO+5Y5553Xk195dVatmx5wsQ358lJ3iHQD4ElS5Y0C2ZeddVVzRM9jjjiiHr22Wdr5syZ5bGjd999dxNZ8fTTT5d9s4VACIRACITASCAQk2IknMXUIQRCIAT6IeCJHkZjn3p6Uv3y8F/XNtvvXCedPbaenjyzFi5dXSIosoVACAw9Ah47eueddzaPDD788MPr3HPPbaZ4eIrHq6++Wk8++WQ99NBDzXd55OjQO38pUQiEQAiEwLoRiEmxbtxyVAiEQAgMGwJW/H/ttddq3Pjb65e/Pql22ufYOuj3d9bY+2Y1a1GsWh2XYticzBR0VBHwVI9LL720GBTWkrntttuaKAqPG7VgpnVmGBmiKJiR2UIgBEIgBEJgJBCISTESzmLqEAIhEAL9EDDC+tjjj9dpZ11Y+xx2du18+LV1+AXP1LUPz683Zq+qmBT9wMtPIbCZCJimJVrCY0etR3HeeefVpEmTGmOCIeH3ztdmKmayDYEQCIEQCIENTiAmxQZHmgRDIARCYGgRMOI6bvz4+tnBv67v7XdR7XriU3XWrbPq0SnLau6insoA7NA6XylNCDAfREB5cse+++5b2267bV1xxRX11ltvFdPRGjP2yRYCIRACIRACI5FATIqReFZTpxAIgRDoILB4ybIae8PttdNPjq3vHnB1HXje1Lpp4qJmqseylUZjO3bO2xAIgc1OgEExe/bsuu++++qnP/1pbbfddnX66ac361PcfvvtzVoUixYt2uzlTAFCIARCIARCYGMQiEmxMagmzRAIgRAYQgQWLV5WF1xzf31rr7NqzKHj67hr36jHX15WS5b3VPyJIXSiUpQQeJeAaImXXnqpPNXj5z//ee2000516KGH1m9+85vm85lnntlEVQRYCIRACIRACIxEAjEpRuJZTZ1CIARC4F0Cpnq8+vq0Ou2SO+t7+11cB592f90ycXa9OXtVrcyCmWknITAkCSxevLgefPDB5qkeBx10UO222261ww471K677lpHH3103XLLLTV37twhWfYUKgRCIARCIATWl0BMivUlmONDIARCYAgTmDNnTj3+5KQ6/tybaudDL6+zr32sXn5rUS1d0ZNHjw7h85aijW4Cntpx00031WGHHVaHHHJI7b333vXFL36xvvOd79TFF1/cRFksW7ZsdENK7UMgBEIgBEYsgZgUI/bUpmIhEAIhUDVjxox66KFH6vdnXVIHHnlaXTvu/po5Z1Gt7qlM9UgDCYEhSsBjRa+88srac889a5dddqmdd965vvWtbzXrU9x7771NFIXFM7OFQAiEQAiEwEgkEJNiJJ7V1CkEQiAE3iUwa9asmjhxYl188SV1/Akn1a23Tqg3p02refPn1/y8wiBtYEi2AY8ePffcc+sHP/hBffe7322menj/29/+th5//PFmUU1GRvpwrmMjvQ2Y1mQRWYb722+/3fwVIWjhWGu3eBxvt619Qo4pjwsXLmxe3q9cubLPY9p0HLtixYpasmRJc5y82mMHeqqO8jjWlC0RUW05LYY7mGPVSV4ipZR1oGPaMudvCIw0AjEpRtoZTX1CIARCoIOAmx2PLbz//vubRxhed9115ekAd911V15hkDYwRNuANSdOOumkZi2KbbbZpnkEqSkfxx9/fOnDd955Z87dED13ubZu2P9bbr311rrmmmvqoosuqnPOOaeZ7mQqFPP99ddfb8yAbkaF7xgcFqB99NFH6+GHH64XXnihMTkYAP2Jf+YAU8QjgB3n+ClTpjRmid/626Q9bdq0euaZZ+qBBx6oxx57rJiOzKSBop8YG6+99lpNnjy5pk6d2uTH3MgWAqORQEyK0XjWU+cQCIFRQ8CNGqPCDdPYsWPrhBNOeG+eu7nueYVB2sDQawMHHHBAs0jmt7/97fr85z/fvDyGdK+99iq/HXzwwem7uX6Nijbg6TamPI0ZM6b0h+233755ws1ZZ53VmO8zZ87sKv6Je2L/hhtuqJNPPrmOO+64xuyYNGlSYxh0MzbaGwMRFPbzf6bjHM84fPHFF5voiv4MDhFOjzzySF1yySVN5NNpp53WmIqMClES/W2MkbvvvrtZj+a2225rTBL/f2cLgdFIICbFaDzrqXMIhMCoImBkx0iQmy0L7330ox+tD3/4w3mFQdrAEG0Df/u3f1t//dd/XX/+539ef/RHf9S8/uIv/qI++MEPlt/Sf3P9Gi1tQJv/wAc+0PSFP/3TP23++j/M9Kfzzz+/MSJMr+i9MQTuu+++5tG93/jGN5qFZw888MDGbBBd2F+EAqNBtMa+++5bX/rSl+rrX/96HXXUUY2B4Lf+TApRFJdddlntvvvutcUWWzRryZx66qlN5IepH/1tTJUzzjijjjjiiCZqStSjCIxsITAaCcSkGI1nPXUOgRAYVQTcwJnHbjRo2223rY997GP1kY98JK8wSBsY4m2AEGVKtMZE+m2uW6OtDXzoQx+q97///fW+972v/viP/7gYFWtrUmy11VaN2dBpUvQ39cI0kZtvvrkxKb785S83JoVH/4py8NtgTIo99tijPvOZz6yzSSHqMSbFqLpVS2V7EYhJ0QtIPoZACITASCNgxOjll1+uG2+8sQk/FTL+4x//OK8wSBtIG0gbSBsY0m1ghx12qK233rqZ8vTpT3+6vvCFLzQLyR5zzDE1YcKEZs2lblER1o547rnn6tJLL61f/epXzdSYCy64oIlosPBmfyaFiAdrXpx33nnNcYcffngz9cO0Sb/1Z1JI+5577qnTTz+99t9//yYCg+EhSkJUY3+bCI9x48a9t37UU0891ay50d8x+S0ERiqBmBQj9cymXiEQAiHwLgFzb904WQTMSND1119fV199dV5hkDaQNpA2kDYwpNsAk+Hss8+uE088sRgTFpS9+OKLm3UeLIrpyR3d1pfwnTUennzyySYiwQKcFrF88803B1xXQvThG2+80RgV48ePL+tDPP300zV9+vTmyR393VxYz8Kilw899FATjWGRW//3etJWNzOlMy1PA7HuBXPi2WefbQyYblNZOo/J+xAYqQRiUozUM5t6hUAIhEAHAaNGbnbcQBkJyisM0gbSBtIG0gaGehtgQliXwTQLZru/xLz/y/yf1s2gaP/r8/+etSns68kZIhkYBf1FQjjW7/azv+McLx3pDXSs8oji6DxWOQd7rH3l5TWYsrZ1zd8QGGkEYlKMtDOa+oRACITAAATcZOUVBmkDaQNpA2kDw7UNDPDf3P/5WT2zhUAIDB8CMSmGz7lKSUMgBEIgBEIgBEIgBEIgBEIgBEJgRBOISTGiT28qFwIhEAIhEAIhEAIhEAIhEAIhEALDh0BMiuFzrlLSEAiBEAiBEAiBEAiBEAiBEAiBEBjRBGJSjOjTm8qFQAiEQAiEQAiEQAiEQAiEQAiEwPAhEJNi+JyrlDQEQiAEQiAEQiAEQiAEQiAEQiAERjSBmBQj+vSmciEQAiEQAiEQAiEQAiEQAiEQAiEwfAjEpBg+5yolDYEQCIEQCIEQCIEQCIEQCIEQCIERTSAmxYg+valcCIRACIRACIRACIRACIRACIRACAwfAjEphs+5SklDIARCIARCIARCIARCIARCIARCYEQTiEkxok9vKhcCIRACIRACIRACIRACIRACIRACw4dATIrhc65S0hAIgRAIgRAIgRAIgRAIgRAIgRAY0QT+P3/cgPNwAzyTAAAAAElFTkSuQmCC)"
      ]
    },
    {
      "cell_type": "code",
      "metadata": {
        "colab": {
          "base_uri": "https://localhost:8080/"
        },
        "id": "YKiGdzm2NsBT",
        "outputId": "529e6ba5-d390-4995-da4b-550228d06be7"
      },
      "source": [
        "from datetime import datetime, timezone, timedelta\n",
        "from dateutil import tz\n",
        "\n",
        "eastern = tz.gettz('US/Eastern')\n",
        "\n",
        "for i in range(3, 7):\n",
        "    first_1am = datetime(2017, 11, i, 1, 0, 0, tzinfo = eastern)\n",
        "    if tz.datetime_ambiguous(first_1am):\n",
        "        print(f\"{first_1am.isoformat()} This time could occur twice.\") \n",
        "    else:\n",
        "        print(f\"{first_1am.isoformat()} This time is not ambiguous.\")\n",
        "\n",
        "# 2017-11-05 01:38:00 again\n",
        "first_1am =  datetime(2017, 11, 5, 1, 0, 0, tzinfo = eastern)\n",
        "second_1am = datetime(2017, 11, 5, 1, 0, 0, tzinfo = eastern)\n",
        "second_1am = tz.enfold(second_1am)\n",
        "print(\"\\ntz.datetime_ambiguous(second_1am)\")\n",
        "print(\"\\n\", tz.datetime_ambiguous(second_1am))\n",
        "print(\"\\n(first_1am - second_1am).total_seconds()\")\n",
        "print((first_1am - second_1am).total_seconds())\n",
        "print(\"It seems 'enfold' is just a placeholder for attention\")\n",
        "\n",
        "print(\"\\n\\nYou have no choice but to covert it to UTC to avoid ambiguity.\")\n",
        "print(\"first_1am = first_1am.astimezone(tz.UTC)\")\n",
        "print(\"second_1am = second_1am.astimezone(tz.UTC)\")\n",
        "print(\"(second_1am - first_1am).total_seconds()\")\n",
        "first_1am = first_1am.astimezone(tz.UTC)\n",
        "second_1am = second_1am.astimezone(tz.UTC)\n",
        "(second_1am - first_1am).total_seconds()"
      ],
      "execution_count": 21,
      "outputs": [
        {
          "output_type": "stream",
          "name": "stdout",
          "text": [
            "2017-11-03T01:00:00-04:00 This time is not ambiguous.\n",
            "2017-11-04T01:00:00-04:00 This time is not ambiguous.\n",
            "2017-11-05T01:00:00-04:00 This time could occur twice.\n",
            "2017-11-06T01:00:00-05:00 This time is not ambiguous.\n",
            "\n",
            "tz.datetime_ambiguous(second_1am)\n",
            "\n",
            " True\n",
            "\n",
            "(first_1am - second_1am).total_seconds()\n",
            "0.0\n",
            "It seems 'enfold' is just a placeholder for attention\n",
            "\n",
            "\n",
            "You have no choice but to covert it to UTC to avoid ambiguity.\n",
            "first_1am = first_1am.astimezone(tz.UTC)\n",
            "second_1am = second_1am.astimezone(tz.UTC)\n",
            "(second_1am - first_1am).total_seconds()\n"
          ]
        },
        {
          "output_type": "execute_result",
          "data": {
            "text/plain": [
              "3600.0"
            ]
          },
          "metadata": {},
          "execution_count": 21
        }
      ]
    },
    {
      "cell_type": "markdown",
      "metadata": {
        "id": "mRMe-WjJApAg"
      },
      "source": [
        "# **Finding ambiguous datetimes**\n",
        "\n",
        "At the end of lesson 2, we saw something anomalous in our bike trip duration data. Let's see if we can identify what the problem might be.\n",
        "\n",
        "Loop over the trips in onebike_datetimes:\n",
        "Print any rides whose start is ambiguous.\n",
        "Print any rides whose end is ambiguous.\n",
        "\n",
        "Loop over the trips in `onebike_datetimes`:\n",
        "* Print any rides whose `start` is ambiguous.\n",
        "* Print any rides whose `end` is ambiguous."
      ]
    },
    {
      "cell_type": "code",
      "metadata": {
        "colab": {
          "base_uri": "https://localhost:8080/"
        },
        "id": "KkXzhrLn9AK3",
        "outputId": "e6e8dd0d-4c89-4447-895f-c58b0c6d40c0"
      },
      "source": [
        "import pandas as pd\n",
        "from dateutil import tz\n",
        "\n",
        "df = pd.read_csv(\"capital-onebike.csv\")[[\"End date\", \"Start date\"]].rename(columns={\"End date\":\"end\", \"Start date\":\"start\"})\n",
        "df[\"end\"] = pd.to_datetime(df[\"end\"])\n",
        "df[\"start\"] = pd.to_datetime(df[\"start\"])\n",
        "onebike_datetimes = df.to_dict(\"records\")\n",
        "for trip in onebike_datetimes:\n",
        "    # Update trip['start'] and trip['end']\n",
        "    trip['start'] = trip['start'].replace(tzinfo=tz.gettz('America/New_York'))\n",
        "    trip['end'] = trip['end'].replace(tzinfo=tz.gettz('America/New_York'))\n",
        "\n",
        "# Loop over trips\n",
        "for trip in onebike_datetimes:\n",
        "    # Rides with ambiguous start\n",
        "    if tz.datetime_ambiguous(trip[\"start\"]):\n",
        "        print(\"Ambiguous start at \" + str(trip['start']))\n",
        "    # Rides with ambiguous end\n",
        "    if tz.datetime_ambiguous(trip[\"end\"]):\n",
        "        print(\"Ambiguous end at \" + str(trip['end']))"
      ],
      "execution_count": 24,
      "outputs": [
        {
          "output_type": "stream",
          "name": "stdout",
          "text": [
            "Ambiguous start at 2017-11-05 01:56:50-04:00\n",
            "Ambiguous end at 2017-11-05 01:01:04-04:00\n"
          ]
        }
      ]
    },
    {
      "cell_type": "markdown",
      "metadata": {
        "id": "nrCiq7_RCVJ0"
      },
      "source": [
        "# **Cleaning daylight saving data with fold**\n",
        "\n",
        "As we've just discovered, there is a ride in our data set which is being messed up by a Daylight Savings shift. Let's clean up the data set so we actually have a correct minimum ride length. We can use the fact that we know the end of the ride happened after the beginning to fix up the duration messed up by the shift out of Daylight Savings.\n",
        "\n",
        "Since Python does not handle `tz.enfold()` when doing arithmetic, we must put our datetime objects into UTC, where ambiguities have been resolved.\n",
        "\n",
        "* Complete the `if` statement to be `True` only when a ride's `start` comes after its `end`.\n",
        "* When `start` is after `end`, call `tz.enfold()` on the `end` so you know it refers to the one after the daylight savings time change.\n",
        "* After the `if` statement, convert the `start` and `endv to UTC so you can make a proper comparison."
      ]
    },
    {
      "cell_type": "code",
      "metadata": {
        "colab": {
          "base_uri": "https://localhost:8080/"
        },
        "id": "114QrHP7Bblv",
        "outputId": "3abd8455-41e5-4264-c652-17dfc8d71e37"
      },
      "source": [
        "trip_durations = []\n",
        "for trip in onebike_datetimes:\n",
        "    # When the start is later than the end, set the fold to be 1\n",
        "    if trip['start'] > trip['end']:\n",
        "        trip['end'] = tz.enfold(trip['end'])\n",
        "    # Convert to UTC\n",
        "    start = trip['start'].astimezone(tz.UTC)\n",
        "    end = trip['end'].astimezone(tz.UTC)\n",
        "\n",
        "    # Subtract the difference\n",
        "    trip_length_seconds = (end-start).total_seconds()\n",
        "    trip_durations.append(trip_length_seconds)\n",
        "\n",
        "# Take the shortest trip duration\n",
        "print(\"Shortest trip: \" + str(min(trip_durations)))"
      ],
      "execution_count": 25,
      "outputs": [
        {
          "output_type": "stream",
          "name": "stdout",
          "text": [
            "Shortest trip: 116.0\n"
          ]
        }
      ]
    },
    {
      "cell_type": "markdown",
      "metadata": {
        "id": "FIOi5FbiFw0u"
      },
      "source": [
        "# **Loading a csv file in Pandas**\n",
        "\n",
        "The `capital_onebike.csv` file covers the October, November and December rides of the Capital Bikeshare bike W20529.\n",
        "\n",
        "* Complete the call to `read_csv()` so that it correctly parses the date columns `Start date` and `End date`."
      ]
    },
    {
      "cell_type": "code",
      "metadata": {
        "colab": {
          "base_uri": "https://localhost:8080/"
        },
        "id": "KRx5kgPiDx6x",
        "outputId": "4bc99bb9-f7a1-43fe-d44c-20c359889c71"
      },
      "source": [
        "# Import pandas\n",
        "import pandas as pd\n",
        "\n",
        "# Load CSV into the rides variable\n",
        "rides = pd.read_csv('capital-onebike.csv', parse_dates = [\"Start date\", \"End date\"])\n",
        "\n",
        "# Print the initial (0th) row\n",
        "print(rides.iloc[0])"
      ],
      "execution_count": 26,
      "outputs": [
        {
          "output_type": "stream",
          "name": "stdout",
          "text": [
            "Start date                        2017-10-01 15:23:25\n",
            "End date                          2017-10-01 15:26:26\n",
            "Start station number                            31038\n",
            "Start station                    Glebe Rd & 11th St N\n",
            "End station number                              31036\n",
            "End station             George Mason Dr & Wilson Blvd\n",
            "Bike number                                    W20529\n",
            "Member type                                    Member\n",
            "Name: 0, dtype: object\n"
          ]
        }
      ]
    },
    {
      "cell_type": "markdown",
      "metadata": {
        "id": "aydlO81mGaGE"
      },
      "source": [
        "# **Making timedelta columns**\n",
        "\n",
        "Earlier in this course, you wrote a loop to subtract datetime objects and determine how long our sample bike had been out of the docks. Now you'll do the same thing with Pandas.\n",
        "\n",
        "* Subtract the `Start date` column from the `End date` column to get a Series of `timedelta`s; assign the result to `ride_durations`.\n",
        "* Convert `ride_durations` into seconds and assign the `result` to the `'Duration'` column of rides."
      ]
    },
    {
      "cell_type": "code",
      "metadata": {
        "colab": {
          "base_uri": "https://localhost:8080/"
        },
        "id": "lJyf4ummGPya",
        "outputId": "90f22bec-146d-4a42-b964-ad0c1c75f0b4"
      },
      "source": [
        "import pandas as pd\n",
        "\n",
        "rides = pd.read_csv('capital-onebike.csv', parse_dates = [\"Start date\", \"End date\"])\n",
        "\n",
        "# Subtract the start date from the end date\n",
        "ride_durations = rides[\"End date\"] - rides[\"Start date\"]\n",
        "\n",
        "# Convert the results to seconds\n",
        "rides[\"Duration\"] = ride_durations.dt.total_seconds()\n",
        "\n",
        "print(rides['Duration'].head())"
      ],
      "execution_count": 27,
      "outputs": [
        {
          "output_type": "stream",
          "name": "stdout",
          "text": [
            "0     181.0\n",
            "1    7622.0\n",
            "2     343.0\n",
            "3    1278.0\n",
            "4    1277.0\n",
            "Name: Duration, dtype: float64\n"
          ]
        }
      ]
    },
    {
      "cell_type": "markdown",
      "metadata": {
        "id": "o4pSxvSxYgK-"
      },
      "source": [
        "# **How many joyrides?**\n",
        "\n",
        "Suppose you have a theory that some people take long bike rides before putting their bike back in the same dock. Let's call these rides \"joyrides\".\n",
        "\n",
        "You only have data on one bike, so while you can't draw any bigger conclusions, it's certainly worth a look.\n",
        "\n",
        "Are there many joyrides? How long were they in our data set? Use the median instead of the mean, because we know there are some very long trips in our data set that might skew the answer, and <ins>***the median is less sensitive to outliers***</ins>.\n",
        "\n",
        "\n",
        "* Create a Pandas Series which is `True` when `Start station` and `End station` are the same, and assign the result to `joyrides`.\n",
        "* Calculate the median duration of all rides.\n",
        "* Calculate the median duration of `joyrides`."
      ]
    },
    {
      "cell_type": "code",
      "metadata": {
        "colab": {
          "base_uri": "https://localhost:8080/"
        },
        "id": "lGjhF7e6HZ2_",
        "outputId": "9e23c48f-dfbf-4615-f915-2051f082b53d"
      },
      "source": [
        "import pandas as pd\n",
        "\n",
        "rides = pd.read_csv('capital-onebike.csv', parse_dates = [\"Start date\", \"End date\"])\n",
        "ride_durations = rides[\"End date\"] - rides[\"Start date\"]\n",
        "rides[\"Duration\"] = ride_durations.dt.total_seconds()\n",
        "\n",
        "# Create joyrides\n",
        "joyrides = (rides[\"Start station\"]==rides[\"End station\"])\n",
        "\n",
        "# Total number of joyrides\n",
        "print(\"{} rides were joyrides\".format(joyrides.sum()))\n",
        "\n",
        "# Median of all rides\n",
        "print(\"The median duration overall was {:.1f} seconds\".format(rides['Duration'].median()))\n",
        "\n",
        "# Median of joyrides\n",
        "print(\"The median duration for joyrides was {:.1f} seconds\".format(rides[joyrides]['Duration'].median()))"
      ],
      "execution_count": 4,
      "outputs": [
        {
          "output_type": "stream",
          "name": "stdout",
          "text": [
            "6 rides were joyrides\n",
            "The median duration overall was 660.0 seconds\n",
            "The median duration for joyrides was 2642.5 seconds\n"
          ]
        }
      ]
    },
    {
      "cell_type": "markdown",
      "metadata": {
        "id": "KOmBIgo_akQc"
      },
      "source": [
        "## **It's getting cold outside, W20529**\n",
        "\n",
        "Washington, D.C. has mild weather overall, but the average high temperature in October (68ºF / 20ºC) is certainly higher than the average high temperature in December (47ºF / 8ºC). People also travel more in December, and they work fewer days so they commute less.\n",
        "\n",
        "How might the weather or the season have affected the length of bike trips?\n",
        "\n",
        "* Resample `rides` to the daily level, based on the `Start date` column.\n",
        "* Plot the `.size()` of each result.\n",
        "* Since the daily time series is so noisy for this one bike, change the resampling to be monthly."
      ]
    },
    {
      "cell_type": "code",
      "metadata": {
        "colab": {
          "base_uri": "https://localhost:8080/",
          "height": 1000
        },
        "id": "KWGhAUhXaJAV",
        "outputId": "541bd17c-1390-454c-a005-3b76e2cb556e"
      },
      "source": [
        "# Import matplotlib\n",
        "import matplotlib.pyplot as plt\n",
        "import pandas as pd\n",
        "\n",
        "rides = pd.read_csv('capital-onebike.csv', parse_dates = [\"Start date\", \"End date\"])\n",
        "ride_durations = rides[\"End date\"] - rides[\"Start date\"]\n",
        "rides[\"Duration\"] = ride_durations.dt.total_seconds()\n",
        "\n",
        "print(\"rides.groupby('Start date')['Start date'].count()\")\n",
        "display(rides.groupby('Start date')['Start date'].count().head(10))\n",
        "\n",
        "# Resample rides to daily, take the size, plot the results\n",
        "print(\"\\n\\nrides.resample('D', on='Start date').size()\")\n",
        "display(rides.resample('D', on='Start date').size().head(10))\n",
        "\n",
        "rides.resample('D', on='Start date').size().plot(ylim = [0, 15])\n",
        "plt.ylabel('Number of rides')\n",
        "plt.show()\n",
        "\n",
        "# Resample rides to monthly, take the size, plot the results\n",
        "\n",
        "print(\"\\n\\nrides.resample('M', on='Start date').size()\")\n",
        "display(rides.resample('M', on='Start date').size())\n",
        "\n",
        "rides.resample('M', on = 'Start date').size().plot(ylim = [0, 150])\n",
        "plt.ylabel('Number of rides')\n",
        "plt.show()"
      ],
      "execution_count": 18,
      "outputs": [
        {
          "output_type": "stream",
          "name": "stdout",
          "text": [
            "rides.groupby('Start date')['Start date'].count()\n"
          ]
        },
        {
          "output_type": "display_data",
          "data": {
            "text/plain": [
              "Start date\n",
              "2017-10-01 15:23:25    1\n",
              "2017-10-01 15:42:57    1\n",
              "2017-10-02 06:37:10    1\n",
              "2017-10-02 08:56:45    1\n",
              "2017-10-02 18:23:48    1\n",
              "2017-10-02 18:48:08    1\n",
              "2017-10-02 19:18:10    1\n",
              "2017-10-02 19:37:32    1\n",
              "2017-10-03 08:24:16    1\n",
              "2017-10-03 18:17:07    1\n",
              "Name: Start date, dtype: int64"
            ]
          },
          "metadata": {}
        },
        {
          "output_type": "stream",
          "name": "stdout",
          "text": [
            "\n",
            "\n",
            "rides.resample('D', on='Start date').size()\n"
          ]
        },
        {
          "output_type": "display_data",
          "data": {
            "text/plain": [
              "Start date\n",
              "2017-10-01     2\n",
              "2017-10-02     6\n",
              "2017-10-03     5\n",
              "2017-10-04     8\n",
              "2017-10-05     5\n",
              "2017-10-06     9\n",
              "2017-10-07     4\n",
              "2017-10-08    11\n",
              "2017-10-09     9\n",
              "2017-10-10     9\n",
              "Freq: D, dtype: int64"
            ]
          },
          "metadata": {}
        },
        {
          "output_type": "display_data",
          "data": {
            "image/png": "[encoded data removed]",
            "text/plain": [
              "<Figure size 432x288 with 1 Axes>"
            ]
          },
          "metadata": {
            "needs_background": "light"
          }
        },
        {
          "output_type": "stream",
          "name": "stdout",
          "text": [
            "\n",
            "\n",
            "rides.resample('M', on='Start date').size()\n"
          ]
        },
        {
          "output_type": "display_data",
          "data": {
            "text/plain": [
              "Start date\n",
              "2017-10-31    108\n",
              "2017-11-30    103\n",
              "2017-12-31     79\n",
              "Freq: M, dtype: int64"
            ]
          },
          "metadata": {}
        },
        {
          "output_type": "display_data",
          "data": {
            "image/png": "[encoded data removed]",
            "text/plain": [
              "<Figure size 432x288 with 1 Axes>"
            ]
          },
          "metadata": {
            "needs_background": "light"
          }
        }
      ]
    },
    {
      "cell_type": "markdown",
      "metadata": {
        "id": "3tWsGagtu4zL"
      },
      "source": [
        "# **Members vs casual riders over time**\n",
        "\n",
        "Riders can either be \"Members\", meaning they pay yearly for the ability to take a bike at any time, or \"Casual\", meaning they pay at the kiosk attached to the bike dock.\n",
        "\n",
        "Do members and casual riders drop off at the same rate over October to December, or does one drop off faster than the other?\n",
        "\n",
        "As before, `rides` has been loaded for you. You're going to use the Pandas method `.value_counts()`, which returns the number of instances of each value in a Series. In this case, the counts of `\"Member\"` or `\"Casual\"`.\n",
        "\n",
        "Set `monthly_rides` to be a resampled version of `rides`, by month, based on start date.\n",
        "* Use the method `.value_counts()` to find out how many Member and Casual rides there were, and divide them by the total number of `rides` per month."
      ]
    },
    {
      "cell_type": "code",
      "metadata": {
        "colab": {
          "base_uri": "https://localhost:8080/",
          "height": 901
        },
        "id": "_kGk0A02bae_",
        "outputId": "ccd32721-0d08-4726-c0ba-12d3b25f2567"
      },
      "source": [
        "import pandas as pd\n",
        "\n",
        "rides = pd.read_csv('capital-onebike.csv', parse_dates = [\"Start date\", \"End date\"])\n",
        "\n",
        "print(\"rides['Member type']\")\n",
        "display(rides[['Start date', 'Member type']].head())\n",
        "print(\"\\n\\nrides.groupby('Start date')['Member type'].count().sort_index().head()\")\n",
        "display(rides.groupby(\"Start date\")[\"Member type\"].count().sort_index().head())\n",
        "\n",
        "# Resample rides to be monthly on the basis of Start date\n",
        "monthly_rides = rides.resample('M', on='Start date')['Member type']\n",
        "print(\"\\n\\nrides.resample('M', on='Start date')['Member type'].size()\")\n",
        "display(rides.resample('M', on='Start date')['Member type'].size())\n",
        "\n",
        "print(\"\\n\\nrides.resample('M', on='Start date')['Member type'].value_counts()\")\n",
        "display(rides.resample('M', on='Start date')['Member type'].value_counts())\n",
        "\n",
        "# Take the ratio of the .value_counts() over the total number of rides\n",
        "print(\"\\n\\nmonthly_rides.value_counts() / monthly_rides.size()\")\n",
        "display(monthly_rides.value_counts() / monthly_rides.size())"
      ],
      "execution_count": 38,
      "outputs": [
        {
          "output_type": "stream",
          "name": "stdout",
          "text": [
            "rides['Member type']\n"
          ]
        },
        {
          "output_type": "display_data",
          "data": {
            "text/html": [
              "<div>\n",
              "<style scoped>\n",
              "    .dataframe tbody tr th:only-of-type {\n",
              "        vertical-align: middle;\n",
              "    }\n",
              "\n",
              "    .dataframe tbody tr th {\n",
              "        vertical-align: top;\n",
              "    }\n",
              "\n",
              "    .dataframe thead th {\n",
              "        text-align: right;\n",
              "    }\n",
              "</style>\n",
              "<table border=\"1\" class=\"dataframe\">\n",
              "  <thead>\n",
              "    <tr style=\"text-align: right;\">\n",
              "      <th></th>\n",
              "      <th>Start date</th>\n",
              "      <th>Member type</th>\n",
              "    </tr>\n",
              "  </thead>\n",
              "  <tbody>\n",
              "    <tr>\n",
              "      <th>0</th>\n",
              "      <td>2017-10-01 15:23:25</td>\n",
              "      <td>Member</td>\n",
              "    </tr>\n",
              "    <tr>\n",
              "      <th>1</th>\n",
              "      <td>2017-10-01 15:42:57</td>\n",
              "      <td>Casual</td>\n",
              "    </tr>\n",
              "    <tr>\n",
              "      <th>2</th>\n",
              "      <td>2017-10-02 06:37:10</td>\n",
              "      <td>Member</td>\n",
              "    </tr>\n",
              "    <tr>\n",
              "      <th>3</th>\n",
              "      <td>2017-10-02 08:56:45</td>\n",
              "      <td>Member</td>\n",
              "    </tr>\n",
              "    <tr>\n",
              "      <th>4</th>\n",
              "      <td>2017-10-02 18:23:48</td>\n",
              "      <td>Member</td>\n",
              "    </tr>\n",
              "  </tbody>\n",
              "</table>\n",
              "</div>"
            ],
            "text/plain": [
              "           Start date Member type\n",
              "0 2017-10-01 15:23:25      Member\n",
              "1 2017-10-01 15:42:57      Casual\n",
              "2 2017-10-02 06:37:10      Member\n",
              "3 2017-10-02 08:56:45      Member\n",
              "4 2017-10-02 18:23:48      Member"
            ]
          },
          "metadata": {}
        },
        {
          "output_type": "stream",
          "name": "stdout",
          "text": [
            "\n",
            "\n",
            "rides.groupby('Start date')['Member type'].count().sort_index().head()\n"
          ]
        },
        {
          "output_type": "display_data",
          "data": {
            "text/plain": [
              "Start date\n",
              "2017-10-01 15:23:25    1\n",
              "2017-10-01 15:42:57    1\n",
              "2017-10-02 06:37:10    1\n",
              "2017-10-02 08:56:45    1\n",
              "2017-10-02 18:23:48    1\n",
              "Name: Member type, dtype: int64"
            ]
          },
          "metadata": {}
        },
        {
          "output_type": "stream",
          "name": "stdout",
          "text": [
            "\n",
            "\n",
            "rides.resample('M', on='Start date')['Member type'].size()\n"
          ]
        },
        {
          "output_type": "display_data",
          "data": {
            "text/plain": [
              "Start date\n",
              "2017-10-31    108\n",
              "2017-11-30    103\n",
              "2017-12-31     79\n",
              "Freq: M, Name: Member type, dtype: int64"
            ]
          },
          "metadata": {}
        },
        {
          "output_type": "stream",
          "name": "stdout",
          "text": [
            "\n",
            "\n",
            "rides.resample('M', on='Start date')['Member type'].value_counts()\n"
          ]
        },
        {
          "output_type": "display_data",
          "data": {
            "text/plain": [
              "Start date  Member type\n",
              "2017-10-31  Member         83\n",
              "            Casual         25\n",
              "2017-11-30  Member         85\n",
              "            Casual         18\n",
              "2017-12-31  Member         68\n",
              "            Casual         11\n",
              "Name: Member type, dtype: int64"
            ]
          },
          "metadata": {}
        },
        {
          "output_type": "stream",
          "name": "stdout",
          "text": [
            "\n",
            "\n",
            "monthly_rides.value_counts() / monthly_rides.size()\n"
          ]
        },
        {
          "output_type": "display_data",
          "data": {
            "text/plain": [
              "Start date  Member type\n",
              "2017-10-31  Member         0.768519\n",
              "            Casual         0.231481\n",
              "2017-11-30  Member         0.825243\n",
              "            Casual         0.174757\n",
              "2017-12-31  Member         0.860759\n",
              "            Casual         0.139241\n",
              "Name: Member type, dtype: float64"
            ]
          },
          "metadata": {}
        }
      ]
    },
    {
      "cell_type": "markdown",
      "metadata": {
        "id": "nviifcrk1LuO"
      },
      "source": [
        "### ***Note that by default, `.resample()` labels Monthly resampling with the last day in the month and not the first.*** \n",
        "\n",
        "It certainly looks like the fraction of Casual riders went down as the number of rides dropped.\n",
        "\n",
        "# **Combining groupby() and resample()**\n",
        "\n",
        "A very powerful method in Pandas is `.groupby()`. Whereas `.resample()` groups rows by some time or date information, `.groupby()` groups rows based on the values in one or more columns. For example, `rides.groupby('Member type').size()` would tell us how many rides there were by member type in our entire DataFrame.\n",
        "\n",
        "`.resample()` can be called after `.groupby()`. For example, how long was the median ride by month, and by Membership type?\n",
        "\n",
        "* Complete the `.groupby()` call to group by `'Member type'`, and the `.resample()` call to resample according to `'Start date'`, by month.\n",
        "* Print the median `Duration` for each group.\n",
        "\n"
      ]
    },
    {
      "cell_type": "code",
      "metadata": {
        "colab": {
          "base_uri": "https://localhost:8080/",
          "height": 363
        },
        "id": "yt274uqkzFRN",
        "outputId": "12b906de-eede-4e64-c5d5-9348c12591a3"
      },
      "source": [
        "import pandas as pd\n",
        "\n",
        "rides = pd.read_csv('capital-onebike.csv', parse_dates = [\"Start date\", \"End date\"])\n",
        "ride_durations = rides[\"End date\"] - rides[\"Start date\"]\n",
        "rides[\"Duration\"] = ride_durations.dt.total_seconds()\n",
        "\n",
        "print(\"rides.groupby('Member type')[['Start date', 'Duration']].median()\")\n",
        "display(rides.groupby('Member type')[['Start date', 'Duration']].median())\n",
        "\n",
        "# Group rides by member type, and resample to the month\n",
        "grouped = rides.groupby('Member type').resample('M', on='Start date')\n",
        "\n",
        "# Print the median duration for each group\n",
        "print(\"\\n\\n\\nrides.groupby('Member type').resample('M', on='Start date')['Duration'].median()\")\n",
        "display(rides.groupby('Member type').resample('M', on='Start date')['Duration'].median())"
      ],
      "execution_count": 47,
      "outputs": [
        {
          "output_type": "stream",
          "name": "stdout",
          "text": [
            "rides.groupby('Member type')[['Start date', 'Duration']].median()\n"
          ]
        },
        {
          "output_type": "display_data",
          "data": {
            "text/html": [
              "<div>\n",
              "<style scoped>\n",
              "    .dataframe tbody tr th:only-of-type {\n",
              "        vertical-align: middle;\n",
              "    }\n",
              "\n",
              "    .dataframe tbody tr th {\n",
              "        vertical-align: top;\n",
              "    }\n",
              "\n",
              "    .dataframe thead th {\n",
              "        text-align: right;\n",
              "    }\n",
              "</style>\n",
              "<table border=\"1\" class=\"dataframe\">\n",
              "  <thead>\n",
              "    <tr style=\"text-align: right;\">\n",
              "      <th></th>\n",
              "      <th>Duration</th>\n",
              "    </tr>\n",
              "    <tr>\n",
              "      <th>Member type</th>\n",
              "      <th></th>\n",
              "    </tr>\n",
              "  </thead>\n",
              "  <tbody>\n",
              "    <tr>\n",
              "      <th>Casual</th>\n",
              "      <td>1317.5</td>\n",
              "    </tr>\n",
              "    <tr>\n",
              "      <th>Member</th>\n",
              "      <td>578.5</td>\n",
              "    </tr>\n",
              "  </tbody>\n",
              "</table>\n",
              "</div>"
            ],
            "text/plain": [
              "             Duration\n",
              "Member type          \n",
              "Casual         1317.5\n",
              "Member          578.5"
            ]
          },
          "metadata": {}
        },
        {
          "output_type": "stream",
          "name": "stdout",
          "text": [
            "\n",
            "\n",
            "\n",
            "rides.groupby('Member type').resample('M', on='Start date')['Duration'].median()\n"
          ]
        },
        {
          "output_type": "display_data",
          "data": {
            "text/plain": [
              "Member type  Start date\n",
              "Casual       2017-10-31    1636.0\n",
              "             2017-11-30    1159.5\n",
              "             2017-12-31     850.0\n",
              "Member       2017-10-31     671.0\n",
              "             2017-11-30     655.0\n",
              "             2017-12-31     387.5\n",
              "Name: Duration, dtype: float64"
            ]
          },
          "metadata": {}
        }
      ]
    },
    {
      "cell_type": "markdown",
      "metadata": {
        "id": "2vX9NBnB4d3Y"
      },
      "source": [
        "It looks like casual riders consistently took longer rides, but that both groups took shorter rides as the months went by. Note that, \n",
        "\n",
        "### ***by combining grouping and resampling, you can answer a lot of questions about nearly any data set that includes time as a feature.*** \n",
        "\n",
        "Keep in mind that you can also group by more than one column at once."
      ]
    },
    {
      "cell_type": "markdown",
      "metadata": {
        "id": "XyXU9Jij-o7D"
      },
      "source": [
        "# **Timezones in Pandas**\n",
        "\n",
        "Earlier in this course, you assigned a timezone to each `datetime` in a list. Now with Pandas you can do that with a single method call.\n",
        "\n",
        "(Note that, just as before, your data set actually includes some ambiguous datetimes on account of daylight saving; for now, we'll tell Pandas to not even try on those ones. Figuring them out would require more work.)\n",
        "\n",
        "* Make the `Start date` column timezone aware by localizing it to `'America/New_York'` while ignoring any ambiguous datetimes.\n",
        "* Now switch the `Start date` column to the timezone `'Europe/London'` using the `.dt.tz_convert()` method."
      ]
    },
    {
      "cell_type": "code",
      "metadata": {
        "colab": {
          "base_uri": "https://localhost:8080/"
        },
        "id": "GS7l0lnK9jBM",
        "outputId": "943f5759-ff6f-49b7-9b61-14b86238e3ee"
      },
      "source": [
        "import pandas as pd\n",
        "\n",
        "rides = pd.read_csv('capital-onebike.csv', parse_dates = [\"Start date\", \"End date\"])\n",
        "\n",
        "# Localize the Start date column to America/New_York\n",
        "rides['Start date'] = rides['Start date'].dt.tz_localize('America/New_York', ambiguous='NaT')\n",
        "\n",
        "# Print first value\n",
        "print(rides['Start date'].iloc[0])\n",
        "\n",
        "# Convert the Start date column to Europe/London\n",
        "rides['Start date'] = rides['Start date'].dt.tz_convert('Europe/London')\n",
        "\n",
        "# Print the new value\n",
        "print(rides['Start date'].iloc[0])"
      ],
      "execution_count": 51,
      "outputs": [
        {
          "output_type": "stream",
          "name": "stdout",
          "text": [
            "2017-10-01 15:23:25-04:00\n",
            "2017-10-01 20:23:25+01:00\n"
          ]
        }
      ]
    },
    {
      "cell_type": "markdown",
      "metadata": {
        "id": "O3-PpI7SAi2Z"
      },
      "source": [
        "`dt.tzconvert()` converts to a new timezone, whereas `dt.tzlocalize()` sets a timezone in the first place. \n",
        "\n",
        "# **How long per weekday?**\n",
        "\n",
        "Pandas has a number of datetime-related attributes within the `.dt` accessor. Many of them are ones you've encountered before, like `.dt.month`. Others are convenient and save time compared to standard Python, like `.dt.weekday_name`.\n",
        "\n",
        "* Add a new column to rides called `'Ride start weekday'`, which is the weekday of the `Start date`.\n",
        "* Print the median ride duration for each weekday."
      ]
    },
    {
      "cell_type": "code",
      "metadata": {
        "colab": {
          "base_uri": "https://localhost:8080/"
        },
        "id": "CwqRt5WTAE_4",
        "outputId": "f021cbd3-7bb2-4bc7-dc5b-6e2676a8feba"
      },
      "source": [
        "import pandas as pd\n",
        "\n",
        "rides = pd.read_csv('capital-onebike.csv', parse_dates = [\"Start date\", \"End date\"])\n",
        "ride_durations = rides[\"End date\"] - rides[\"Start date\"]\n",
        "rides[\"Duration\"] = ride_durations.dt.total_seconds()\n",
        "\n",
        "# Add a column for the weekday of the start of the ride\n",
        "rides['Ride start weekday'] = rides['Start date'].dt.day_name() # .weekday_name is obsolete\n",
        "\n",
        "# Print the median trip time per weekday\n",
        "print(rides.groupby('Ride start weekday')['Duration'].median())"
      ],
      "execution_count": 61,
      "outputs": [
        {
          "output_type": "stream",
          "name": "stdout",
          "text": [
            "Ride start weekday\n",
            "Friday       724.5\n",
            "Monday       810.5\n",
            "Saturday     462.0\n",
            "Sunday       902.5\n",
            "Thursday     652.0\n",
            "Tuesday      641.5\n",
            "Wednesday    585.0\n",
            "Name: Duration, dtype: float64\n"
          ]
        }
      ]
    },
    {
      "cell_type": "markdown",
      "metadata": {
        "id": "w3BCXb-_CtGt"
      },
      "source": [
        "# **How long between rides?**\n",
        "\n",
        "Let's take advantage of Pandas indexing to do something interesting. How much time elapsed between rides?\n",
        "\n",
        "* Calculate the difference in the `Start date` of the current row and the `End date` of the previous row and assign it to `rides['Time since']`.\n",
        "* Convert `rides['Time since']` to seconds to make it easier to work with.\n",
        "* Resample `rides` to be in monthly buckets according to the `Start date`.\n",
        "* Divide the average by `(60*60)` to get the number of hours on average that W20529 waited in the dock before being picked up again."
      ]
    },
    {
      "cell_type": "code",
      "metadata": {
        "colab": {
          "base_uri": "https://localhost:8080/"
        },
        "id": "Zn-BB1HxBYJr",
        "outputId": "81327361-008d-462f-91f0-af9708b79b13"
      },
      "source": [
        "import pandas as pd\n",
        "\n",
        "rides = pd.read_csv('capital-onebike.csv', parse_dates = [\"Start date\", \"End date\"])\n",
        "\n",
        "# Shift the index of the end date up one; now subract it from the start date\n",
        "\n",
        "rides['Time since'] = rides['Start date'] - (rides['End date'].shift(1))\n",
        "\n",
        "# Move from a timedelta to a number of seconds, which is easier to work with\n",
        "rides['Time since'] = rides['Time since'].dt.total_seconds()\n",
        "\n",
        "# Resample to the month\n",
        "monthly = rides.resample('M', on='Start date')\n",
        "\n",
        "# Print the average hours between rides each month\n",
        "print(monthly['Time since'].mean()/(60*60))"
      ],
      "execution_count": 1,
      "outputs": [
        {
          "output_type": "stream",
          "name": "stdout",
          "text": [
            "Start date\n",
            "2017-10-31    5.519242\n",
            "2017-11-30    7.256443\n",
            "2017-12-31    9.202380\n",
            "Freq: M, Name: Time since, dtype: float64\n"
          ]
        }
      ]
    }
  ]
}